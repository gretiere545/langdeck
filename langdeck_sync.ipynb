{
  "nbformat": 4,
  "nbformat_minor": 0,
  "metadata": {
    "colab": {
      "provenance": [],
      "collapsed_sections": [],
      "toc_visible": true,
      "authorship_tag": "ABX9TyNRlJHy8vmnD5z2TpnYoehi",
      "include_colab_link": true
    },
    "kernelspec": {
      "name": "python3",
      "display_name": "Python 3"
    },
    "language_info": {
      "name": "python"
    }
  },
  "cells": [
    {
      "cell_type": "markdown",
      "metadata": {
        "id": "view-in-github",
        "colab_type": "text"
      },
      "source": [
        "<a href=\"https://colab.research.google.com/github/gretiere545/langdeck/blob/main/langdeck_sync.ipynb\" target=\"_parent\"><img src=\"https://colab.research.google.com/assets/colab-badge.svg\" alt=\"Open In Colab\"/></a>"
      ]
    },
    {
      "cell_type": "markdown",
      "metadata": {
        "id": "FB29HktrvvBJ"
      },
      "source": [
        "# Langdeck Synchro de bout en bout"
      ]
    },
    {
      "cell_type": "code",
      "metadata": {
        "id": "_5CoZ3ORv3Bh",
        "colab": {
          "base_uri": "https://localhost:8080/"
        },
        "outputId": "6ce12859-8744-4b44-d1ec-72452cc902d2"
      },
      "source": [
        "#!/usr/bin/env python\n",
        "# -*- coding: utf8 -*-\n",
        "!pip install gspread --upgrade\n",
        "# fix here => https://stackoverflow.com/questions/71347973/modulenotfounderror-no-module-named-gspread-models\n",
        "!pip uninstall gspread-dataframe\n",
        "!pip install gspread-dataframe\n",
        "!pip install gspread-formatting\n",
        "!pip install airtable-python-wrapper\n",
        "\n",
        "\n",
        "import pandas as pd\n",
        "import numpy as np\n",
        "import requests\n",
        "import json\n",
        "import uuid\n",
        "from datetime import datetime\n",
        "import datetime\n",
        "pd.set_option(\"display.width\",1000)\n",
        "\n",
        "\n",
        "# Ce bout de code pour pouvoir downloader des fichiers sur le drive\n",
        "from google.colab import drive\n",
        "drive.mount('/content/drive')\n",
        "%cd /content/drive/MyDrive/Trad-Union/Corpus/ASAMLA\n",
        "from google.colab import files\n",
        "\n",
        "# Ce bout de code pour pouvoir downloader des google sheets dans des dataframes\n",
        "from google.colab import auth\n",
        "auth.authenticate_user()\n",
        "\n",
        "\n",
        "#====== GSpread ================\n",
        "import gspread\n",
        "from gspread_dataframe import get_as_dataframe, set_with_dataframe\n",
        "from gspread_formatting import *\n",
        "\n",
        "\n",
        "#====== Google Credentials ================\n",
        "from oauth2client.client import GoogleCredentials\n",
        "# fix here => https://github.com/burnash/gspread/issues/1014\n",
        "from google.auth import default\n",
        "creds, _ = default()\n",
        "gc = gspread.authorize(creds)\n",
        "#gc = gspread.authorize(GoogleCredentials.get_application_default())\n",
        "\n",
        "#====== Airtable ================\n",
        "from airtable import Airtable\n",
        "\n",
        "#====== Deep Translate ================\n",
        "!pip install txtai[pipeline]\n",
        "!pip install sacremoses\n",
        "from txtai.pipeline import Translation\n",
        "translate = Translation()\n",
        "\n",
        "!pip install -U deep-translator\n",
        "!pip install --upgrade deepl\n",
        "\n",
        "\n",
        "#====== MediaWiki ================\n",
        "!pip install pymediawiki\n",
        "# https://github.com/barrust/mediawiki\n",
        "# https://pymediawiki.readthedocs.io/en/latest/code.html\n",
        "from mediawiki import MediaWiki\n",
        "\n",
        "\n",
        "#====== Dictionaries ================\n",
        "# larousse API\n",
        "!pip install larousse-api-sunbro\n",
        "\n",
        "#====== Lemmatizers ================\n",
        "# https://github.com/ClaudeCoulombe/FrenchLefffLemmatizer\n",
        "!pip install git+https://github.com/ClaudeCoulombe/FrenchLefffLemmatizer.git\n",
        "from french_lefff_lemmatizer.french_lefff_lemmatizer import FrenchLefffLemmatizer\n",
        "lemmatizer = FrenchLefffLemmatizer()\n",
        "\n",
        "!export PYTHONIOENCODING=utf8\n"
      ],
      "execution_count": 1,
      "outputs": [
        {
          "output_type": "stream",
          "name": "stdout",
          "text": [
            "Looking in indexes: https://pypi.org/simple, https://us-python.pkg.dev/colab-wheels/public/simple/\n",
            "Requirement already satisfied: gspread in /usr/local/lib/python3.7/dist-packages (3.4.2)\n",
            "Collecting gspread\n",
            "  Downloading gspread-5.5.0-py3-none-any.whl (38 kB)\n",
            "Requirement already satisfied: google-auth-oauthlib>=0.4.1 in /usr/local/lib/python3.7/dist-packages (from gspread) (0.4.6)\n",
            "Requirement already satisfied: google-auth>=1.12.0 in /usr/local/lib/python3.7/dist-packages (from gspread) (1.35.0)\n",
            "Requirement already satisfied: rsa<5,>=3.1.4 in /usr/local/lib/python3.7/dist-packages (from google-auth>=1.12.0->gspread) (4.9)\n",
            "Requirement already satisfied: cachetools<5.0,>=2.0.0 in /usr/local/lib/python3.7/dist-packages (from google-auth>=1.12.0->gspread) (4.2.4)\n",
            "Requirement already satisfied: pyasn1-modules>=0.2.1 in /usr/local/lib/python3.7/dist-packages (from google-auth>=1.12.0->gspread) (0.2.8)\n",
            "Requirement already satisfied: setuptools>=40.3.0 in /usr/local/lib/python3.7/dist-packages (from google-auth>=1.12.0->gspread) (57.4.0)\n",
            "Requirement already satisfied: six>=1.9.0 in /usr/local/lib/python3.7/dist-packages (from google-auth>=1.12.0->gspread) (1.15.0)\n",
            "Requirement already satisfied: requests-oauthlib>=0.7.0 in /usr/local/lib/python3.7/dist-packages (from google-auth-oauthlib>=0.4.1->gspread) (1.3.1)\n",
            "Requirement already satisfied: pyasn1<0.5.0,>=0.4.6 in /usr/local/lib/python3.7/dist-packages (from pyasn1-modules>=0.2.1->google-auth>=1.12.0->gspread) (0.4.8)\n",
            "Requirement already satisfied: requests>=2.0.0 in /usr/local/lib/python3.7/dist-packages (from requests-oauthlib>=0.7.0->google-auth-oauthlib>=0.4.1->gspread) (2.23.0)\n",
            "Requirement already satisfied: oauthlib>=3.0.0 in /usr/local/lib/python3.7/dist-packages (from requests-oauthlib>=0.7.0->google-auth-oauthlib>=0.4.1->gspread) (3.2.0)\n",
            "Requirement already satisfied: urllib3!=1.25.0,!=1.25.1,<1.26,>=1.21.1 in /usr/local/lib/python3.7/dist-packages (from requests>=2.0.0->requests-oauthlib>=0.7.0->google-auth-oauthlib>=0.4.1->gspread) (1.24.3)\n",
            "Requirement already satisfied: certifi>=2017.4.17 in /usr/local/lib/python3.7/dist-packages (from requests>=2.0.0->requests-oauthlib>=0.7.0->google-auth-oauthlib>=0.4.1->gspread) (2022.6.15)\n",
            "Requirement already satisfied: chardet<4,>=3.0.2 in /usr/local/lib/python3.7/dist-packages (from requests>=2.0.0->requests-oauthlib>=0.7.0->google-auth-oauthlib>=0.4.1->gspread) (3.0.4)\n",
            "Requirement already satisfied: idna<3,>=2.5 in /usr/local/lib/python3.7/dist-packages (from requests>=2.0.0->requests-oauthlib>=0.7.0->google-auth-oauthlib>=0.4.1->gspread) (2.10)\n",
            "Installing collected packages: gspread\n",
            "  Attempting uninstall: gspread\n",
            "    Found existing installation: gspread 3.4.2\n",
            "    Uninstalling gspread-3.4.2:\n",
            "      Successfully uninstalled gspread-3.4.2\n",
            "Successfully installed gspread-5.5.0\n",
            "Found existing installation: gspread-dataframe 3.0.8\n",
            "Uninstalling gspread-dataframe-3.0.8:\n",
            "  Would remove:\n",
            "    /usr/local/lib/python3.7/dist-packages/gspread_dataframe-3.0.8.dist-info/*\n",
            "    /usr/local/lib/python3.7/dist-packages/gspread_dataframe.py\n",
            "Proceed (y/n)? y\n",
            "  Successfully uninstalled gspread-dataframe-3.0.8\n",
            "Looking in indexes: https://pypi.org/simple, https://us-python.pkg.dev/colab-wheels/public/simple/\n",
            "Collecting gspread-dataframe\n",
            "  Downloading gspread_dataframe-3.3.0-py2.py3-none-any.whl (7.9 kB)\n",
            "Requirement already satisfied: pandas>=0.24.0 in /usr/local/lib/python3.7/dist-packages (from gspread-dataframe) (1.3.5)\n",
            "Requirement already satisfied: gspread>=3.0.0 in /usr/local/lib/python3.7/dist-packages (from gspread-dataframe) (5.5.0)\n",
            "Requirement already satisfied: six>=1.12.0 in /usr/local/lib/python3.7/dist-packages (from gspread-dataframe) (1.15.0)\n",
            "Requirement already satisfied: google-auth>=1.12.0 in /usr/local/lib/python3.7/dist-packages (from gspread>=3.0.0->gspread-dataframe) (1.35.0)\n",
            "Requirement already satisfied: google-auth-oauthlib>=0.4.1 in /usr/local/lib/python3.7/dist-packages (from gspread>=3.0.0->gspread-dataframe) (0.4.6)\n",
            "Requirement already satisfied: setuptools>=40.3.0 in /usr/local/lib/python3.7/dist-packages (from google-auth>=1.12.0->gspread>=3.0.0->gspread-dataframe) (57.4.0)\n",
            "Requirement already satisfied: pyasn1-modules>=0.2.1 in /usr/local/lib/python3.7/dist-packages (from google-auth>=1.12.0->gspread>=3.0.0->gspread-dataframe) (0.2.8)\n",
            "Requirement already satisfied: rsa<5,>=3.1.4 in /usr/local/lib/python3.7/dist-packages (from google-auth>=1.12.0->gspread>=3.0.0->gspread-dataframe) (4.9)\n",
            "Requirement already satisfied: cachetools<5.0,>=2.0.0 in /usr/local/lib/python3.7/dist-packages (from google-auth>=1.12.0->gspread>=3.0.0->gspread-dataframe) (4.2.4)\n",
            "Requirement already satisfied: requests-oauthlib>=0.7.0 in /usr/local/lib/python3.7/dist-packages (from google-auth-oauthlib>=0.4.1->gspread>=3.0.0->gspread-dataframe) (1.3.1)\n",
            "Requirement already satisfied: python-dateutil>=2.7.3 in /usr/local/lib/python3.7/dist-packages (from pandas>=0.24.0->gspread-dataframe) (2.8.2)\n",
            "Requirement already satisfied: pytz>=2017.3 in /usr/local/lib/python3.7/dist-packages (from pandas>=0.24.0->gspread-dataframe) (2022.2.1)\n",
            "Requirement already satisfied: numpy>=1.17.3 in /usr/local/lib/python3.7/dist-packages (from pandas>=0.24.0->gspread-dataframe) (1.21.6)\n",
            "Requirement already satisfied: pyasn1<0.5.0,>=0.4.6 in /usr/local/lib/python3.7/dist-packages (from pyasn1-modules>=0.2.1->google-auth>=1.12.0->gspread>=3.0.0->gspread-dataframe) (0.4.8)\n",
            "Requirement already satisfied: oauthlib>=3.0.0 in /usr/local/lib/python3.7/dist-packages (from requests-oauthlib>=0.7.0->google-auth-oauthlib>=0.4.1->gspread>=3.0.0->gspread-dataframe) (3.2.0)\n",
            "Requirement already satisfied: requests>=2.0.0 in /usr/local/lib/python3.7/dist-packages (from requests-oauthlib>=0.7.0->google-auth-oauthlib>=0.4.1->gspread>=3.0.0->gspread-dataframe) (2.23.0)\n",
            "Requirement already satisfied: urllib3!=1.25.0,!=1.25.1,<1.26,>=1.21.1 in /usr/local/lib/python3.7/dist-packages (from requests>=2.0.0->requests-oauthlib>=0.7.0->google-auth-oauthlib>=0.4.1->gspread>=3.0.0->gspread-dataframe) (1.24.3)\n",
            "Requirement already satisfied: certifi>=2017.4.17 in /usr/local/lib/python3.7/dist-packages (from requests>=2.0.0->requests-oauthlib>=0.7.0->google-auth-oauthlib>=0.4.1->gspread>=3.0.0->gspread-dataframe) (2022.6.15)\n",
            "Requirement already satisfied: chardet<4,>=3.0.2 in /usr/local/lib/python3.7/dist-packages (from requests>=2.0.0->requests-oauthlib>=0.7.0->google-auth-oauthlib>=0.4.1->gspread>=3.0.0->gspread-dataframe) (3.0.4)\n",
            "Requirement already satisfied: idna<3,>=2.5 in /usr/local/lib/python3.7/dist-packages (from requests>=2.0.0->requests-oauthlib>=0.7.0->google-auth-oauthlib>=0.4.1->gspread>=3.0.0->gspread-dataframe) (2.10)\n",
            "Installing collected packages: gspread-dataframe\n",
            "Successfully installed gspread-dataframe-3.3.0\n",
            "Looking in indexes: https://pypi.org/simple, https://us-python.pkg.dev/colab-wheels/public/simple/\n",
            "Collecting gspread-formatting\n",
            "  Downloading gspread_formatting-1.0.6-py2.py3-none-any.whl (21 kB)\n",
            "Requirement already satisfied: gspread>=3.0.0 in /usr/local/lib/python3.7/dist-packages (from gspread-formatting) (5.5.0)\n",
            "Requirement already satisfied: google-auth>=1.12.0 in /usr/local/lib/python3.7/dist-packages (from gspread>=3.0.0->gspread-formatting) (1.35.0)\n",
            "Requirement already satisfied: google-auth-oauthlib>=0.4.1 in /usr/local/lib/python3.7/dist-packages (from gspread>=3.0.0->gspread-formatting) (0.4.6)\n",
            "Requirement already satisfied: six>=1.9.0 in /usr/local/lib/python3.7/dist-packages (from google-auth>=1.12.0->gspread>=3.0.0->gspread-formatting) (1.15.0)\n",
            "Requirement already satisfied: rsa<5,>=3.1.4 in /usr/local/lib/python3.7/dist-packages (from google-auth>=1.12.0->gspread>=3.0.0->gspread-formatting) (4.9)\n",
            "Requirement already satisfied: pyasn1-modules>=0.2.1 in /usr/local/lib/python3.7/dist-packages (from google-auth>=1.12.0->gspread>=3.0.0->gspread-formatting) (0.2.8)\n",
            "Requirement already satisfied: cachetools<5.0,>=2.0.0 in /usr/local/lib/python3.7/dist-packages (from google-auth>=1.12.0->gspread>=3.0.0->gspread-formatting) (4.2.4)\n",
            "Requirement already satisfied: setuptools>=40.3.0 in /usr/local/lib/python3.7/dist-packages (from google-auth>=1.12.0->gspread>=3.0.0->gspread-formatting) (57.4.0)\n",
            "Requirement already satisfied: requests-oauthlib>=0.7.0 in /usr/local/lib/python3.7/dist-packages (from google-auth-oauthlib>=0.4.1->gspread>=3.0.0->gspread-formatting) (1.3.1)\n",
            "Requirement already satisfied: pyasn1<0.5.0,>=0.4.6 in /usr/local/lib/python3.7/dist-packages (from pyasn1-modules>=0.2.1->google-auth>=1.12.0->gspread>=3.0.0->gspread-formatting) (0.4.8)\n",
            "Requirement already satisfied: oauthlib>=3.0.0 in /usr/local/lib/python3.7/dist-packages (from requests-oauthlib>=0.7.0->google-auth-oauthlib>=0.4.1->gspread>=3.0.0->gspread-formatting) (3.2.0)\n",
            "Requirement already satisfied: requests>=2.0.0 in /usr/local/lib/python3.7/dist-packages (from requests-oauthlib>=0.7.0->google-auth-oauthlib>=0.4.1->gspread>=3.0.0->gspread-formatting) (2.23.0)\n",
            "Requirement already satisfied: idna<3,>=2.5 in /usr/local/lib/python3.7/dist-packages (from requests>=2.0.0->requests-oauthlib>=0.7.0->google-auth-oauthlib>=0.4.1->gspread>=3.0.0->gspread-formatting) (2.10)\n",
            "Requirement already satisfied: certifi>=2017.4.17 in /usr/local/lib/python3.7/dist-packages (from requests>=2.0.0->requests-oauthlib>=0.7.0->google-auth-oauthlib>=0.4.1->gspread>=3.0.0->gspread-formatting) (2022.6.15)\n",
            "Requirement already satisfied: urllib3!=1.25.0,!=1.25.1,<1.26,>=1.21.1 in /usr/local/lib/python3.7/dist-packages (from requests>=2.0.0->requests-oauthlib>=0.7.0->google-auth-oauthlib>=0.4.1->gspread>=3.0.0->gspread-formatting) (1.24.3)\n",
            "Requirement already satisfied: chardet<4,>=3.0.2 in /usr/local/lib/python3.7/dist-packages (from requests>=2.0.0->requests-oauthlib>=0.7.0->google-auth-oauthlib>=0.4.1->gspread>=3.0.0->gspread-formatting) (3.0.4)\n",
            "Installing collected packages: gspread-formatting\n",
            "Successfully installed gspread-formatting-1.0.6\n",
            "Looking in indexes: https://pypi.org/simple, https://us-python.pkg.dev/colab-wheels/public/simple/\n",
            "Collecting airtable-python-wrapper\n",
            "  Downloading airtable_python_wrapper-0.15.3-py2.py3-none-any.whl (12 kB)\n",
            "Requirement already satisfied: requests>=2 in /usr/local/lib/python3.7/dist-packages (from airtable-python-wrapper) (2.23.0)\n",
            "Requirement already satisfied: certifi>=2017.4.17 in /usr/local/lib/python3.7/dist-packages (from requests>=2->airtable-python-wrapper) (2022.6.15)\n",
            "Requirement already satisfied: idna<3,>=2.5 in /usr/local/lib/python3.7/dist-packages (from requests>=2->airtable-python-wrapper) (2.10)\n",
            "Requirement already satisfied: chardet<4,>=3.0.2 in /usr/local/lib/python3.7/dist-packages (from requests>=2->airtable-python-wrapper) (3.0.4)\n",
            "Requirement already satisfied: urllib3!=1.25.0,!=1.25.1,<1.26,>=1.21.1 in /usr/local/lib/python3.7/dist-packages (from requests>=2->airtable-python-wrapper) (1.24.3)\n",
            "Installing collected packages: airtable-python-wrapper\n",
            "Successfully installed airtable-python-wrapper-0.15.3\n",
            "Mounted at /content/drive\n",
            "/content/drive/MyDrive/Trad-Union/Corpus/ASAMLA\n",
            "Looking in indexes: https://pypi.org/simple, https://us-python.pkg.dev/colab-wheels/public/simple/\n",
            "Collecting txtai[pipeline]\n",
            "  Downloading txtai-4.6.0-py3-none-any.whl (135 kB)\n",
            "\u001b[K     |████████████████████████████████| 135 kB 5.1 MB/s \n",
            "\u001b[?25hCollecting transformers>=4.20.1\n",
            "  Downloading transformers-4.21.3-py3-none-any.whl (4.7 MB)\n",
            "\u001b[K     |████████████████████████████████| 4.7 MB 51.6 MB/s \n",
            "\u001b[?25hCollecting faiss-cpu>=1.7.1.post2\n",
            "  Downloading faiss_cpu-1.7.2-cp37-cp37m-manylinux_2_17_x86_64.manylinux2014_x86_64.whl (8.6 MB)\n",
            "\u001b[K     |████████████████████████████████| 8.6 MB 47.0 MB/s \n",
            "\u001b[?25hRequirement already satisfied: torch>=1.6.0 in /usr/local/lib/python3.7/dist-packages (from txtai[pipeline]) (1.12.1+cu113)\n",
            "Requirement already satisfied: pyyaml>=5.3 in /usr/local/lib/python3.7/dist-packages (from txtai[pipeline]) (6.0)\n",
            "Requirement already satisfied: numpy>=1.18.4 in /usr/local/lib/python3.7/dist-packages (from txtai[pipeline]) (1.21.6)\n",
            "Collecting tika>=1.24\n",
            "  Downloading tika-1.24.tar.gz (28 kB)\n",
            "Collecting fasttext>=0.9.2\n",
            "  Downloading fasttext-0.9.2.tar.gz (68 kB)\n",
            "\u001b[K     |████████████████████████████████| 68 kB 7.9 MB/s \n",
            "\u001b[?25hCollecting onnxmltools>=1.9.1\n",
            "  Downloading onnxmltools-1.11.1-py3-none-any.whl (308 kB)\n",
            "\u001b[K     |████████████████████████████████| 308 kB 59.3 MB/s \n",
            "\u001b[?25hCollecting imagehash>=4.2.1\n",
            "  Downloading ImageHash-4.3.0-py2.py3-none-any.whl (296 kB)\n",
            "\u001b[K     |████████████████████████████████| 296 kB 77.1 MB/s \n",
            "\u001b[?25hRequirement already satisfied: pandas>=1.1.0 in /usr/local/lib/python3.7/dist-packages (from txtai[pipeline]) (1.3.5)\n",
            "Collecting beautifulsoup4>=4.9.3\n",
            "  Downloading beautifulsoup4-4.11.1-py3-none-any.whl (128 kB)\n",
            "\u001b[K     |████████████████████████████████| 128 kB 63.0 MB/s \n",
            "\u001b[?25hCollecting sentencepiece>=0.1.91\n",
            "  Downloading sentencepiece-0.1.97-cp37-cp37m-manylinux_2_17_x86_64.manylinux2014_x86_64.whl (1.3 MB)\n",
            "\u001b[K     |████████████████████████████████| 1.3 MB 47.2 MB/s \n",
            "\u001b[?25hRequirement already satisfied: soundfile>=0.10.3.post1 in /usr/local/lib/python3.7/dist-packages (from txtai[pipeline]) (0.10.3.post1)\n",
            "Collecting timm>=0.4.12\n",
            "  Downloading timm-0.6.7-py3-none-any.whl (509 kB)\n",
            "\u001b[K     |████████████████████████████████| 509 kB 54.9 MB/s \n",
            "\u001b[?25hCollecting onnxruntime>=1.8.1\n",
            "  Downloading onnxruntime-1.12.1-cp37-cp37m-manylinux_2_27_x86_64.whl (4.9 MB)\n",
            "\u001b[K     |████████████████████████████████| 4.9 MB 41.1 MB/s \n",
            "\u001b[?25hRequirement already satisfied: nltk>=3.5 in /usr/local/lib/python3.7/dist-packages (from txtai[pipeline]) (3.7)\n",
            "Collecting onnx>=1.10.1\n",
            "  Downloading onnx-1.12.0-cp37-cp37m-manylinux_2_17_x86_64.manylinux2014_x86_64.whl (13.1 MB)\n",
            "\u001b[K     |████████████████████████████████| 13.1 MB 44.1 MB/s \n",
            "\u001b[?25hRequirement already satisfied: pillow>=7.1.2 in /usr/local/lib/python3.7/dist-packages (from txtai[pipeline]) (7.1.2)\n",
            "Collecting soupsieve>1.2\n",
            "  Downloading soupsieve-2.3.2.post1-py3-none-any.whl (37 kB)\n",
            "Collecting pybind11>=2.2\n",
            "  Using cached pybind11-2.10.0-py3-none-any.whl (213 kB)\n",
            "Requirement already satisfied: setuptools>=0.7.0 in /usr/local/lib/python3.7/dist-packages (from fasttext>=0.9.2->txtai[pipeline]) (57.4.0)\n",
            "Requirement already satisfied: scipy in /usr/local/lib/python3.7/dist-packages (from imagehash>=4.2.1->txtai[pipeline]) (1.7.3)\n",
            "Requirement already satisfied: PyWavelets in /usr/local/lib/python3.7/dist-packages (from imagehash>=4.2.1->txtai[pipeline]) (1.3.0)\n",
            "Requirement already satisfied: tqdm in /usr/local/lib/python3.7/dist-packages (from nltk>=3.5->txtai[pipeline]) (4.64.0)\n",
            "Requirement already satisfied: regex>=2021.8.3 in /usr/local/lib/python3.7/dist-packages (from nltk>=3.5->txtai[pipeline]) (2022.6.2)\n",
            "Requirement already satisfied: click in /usr/local/lib/python3.7/dist-packages (from nltk>=3.5->txtai[pipeline]) (7.1.2)\n",
            "Requirement already satisfied: joblib in /usr/local/lib/python3.7/dist-packages (from nltk>=3.5->txtai[pipeline]) (1.1.0)\n",
            "Requirement already satisfied: typing-extensions>=3.6.2.1 in /usr/local/lib/python3.7/dist-packages (from onnx>=1.10.1->txtai[pipeline]) (4.1.1)\n",
            "Requirement already satisfied: protobuf<=3.20.1,>=3.12.2 in /usr/local/lib/python3.7/dist-packages (from onnx>=1.10.1->txtai[pipeline]) (3.17.3)\n",
            "Collecting skl2onnx\n",
            "  Downloading skl2onnx-1.12-py2.py3-none-any.whl (279 kB)\n",
            "\u001b[K     |████████████████████████████████| 279 kB 71.4 MB/s \n",
            "\u001b[?25hRequirement already satisfied: sympy in /usr/local/lib/python3.7/dist-packages (from onnxruntime>=1.8.1->txtai[pipeline]) (1.7.1)\n",
            "Requirement already satisfied: flatbuffers in /usr/local/lib/python3.7/dist-packages (from onnxruntime>=1.8.1->txtai[pipeline]) (2.0.7)\n",
            "Collecting coloredlogs\n",
            "  Downloading coloredlogs-15.0.1-py2.py3-none-any.whl (46 kB)\n",
            "\u001b[K     |████████████████████████████████| 46 kB 4.0 MB/s \n",
            "\u001b[?25hRequirement already satisfied: packaging in /usr/local/lib/python3.7/dist-packages (from onnxruntime>=1.8.1->txtai[pipeline]) (21.3)\n",
            "Requirement already satisfied: pytz>=2017.3 in /usr/local/lib/python3.7/dist-packages (from pandas>=1.1.0->txtai[pipeline]) (2022.2.1)\n",
            "Requirement already satisfied: python-dateutil>=2.7.3 in /usr/local/lib/python3.7/dist-packages (from pandas>=1.1.0->txtai[pipeline]) (2.8.2)\n",
            "Requirement already satisfied: six>=1.9 in /usr/local/lib/python3.7/dist-packages (from protobuf<=3.20.1,>=3.12.2->onnx>=1.10.1->txtai[pipeline]) (1.15.0)\n",
            "Requirement already satisfied: cffi>=1.0 in /usr/local/lib/python3.7/dist-packages (from soundfile>=0.10.3.post1->txtai[pipeline]) (1.15.1)\n",
            "Requirement already satisfied: pycparser in /usr/local/lib/python3.7/dist-packages (from cffi>=1.0->soundfile>=0.10.3.post1->txtai[pipeline]) (2.21)\n",
            "Requirement already satisfied: requests in /usr/local/lib/python3.7/dist-packages (from tika>=1.24->txtai[pipeline]) (2.23.0)\n",
            "Requirement already satisfied: torchvision in /usr/local/lib/python3.7/dist-packages (from timm>=0.4.12->txtai[pipeline]) (0.13.1+cu113)\n",
            "Requirement already satisfied: importlib-metadata in /usr/local/lib/python3.7/dist-packages (from transformers>=4.20.1->txtai[pipeline]) (4.12.0)\n",
            "Requirement already satisfied: filelock in /usr/local/lib/python3.7/dist-packages (from transformers>=4.20.1->txtai[pipeline]) (3.8.0)\n",
            "Collecting huggingface-hub<1.0,>=0.1.0\n",
            "  Downloading huggingface_hub-0.9.1-py3-none-any.whl (120 kB)\n",
            "\u001b[K     |████████████████████████████████| 120 kB 75.1 MB/s \n",
            "\u001b[?25hCollecting tokenizers!=0.11.3,<0.13,>=0.11.1\n",
            "  Downloading tokenizers-0.12.1-cp37-cp37m-manylinux_2_12_x86_64.manylinux2010_x86_64.whl (6.6 MB)\n",
            "\u001b[K     |████████████████████████████████| 6.6 MB 46.9 MB/s \n",
            "\u001b[?25hRequirement already satisfied: pyparsing!=3.0.5,>=2.0.2 in /usr/local/lib/python3.7/dist-packages (from packaging->onnxruntime>=1.8.1->txtai[pipeline]) (3.0.9)\n",
            "Collecting humanfriendly>=9.1\n",
            "  Downloading humanfriendly-10.0-py2.py3-none-any.whl (86 kB)\n",
            "\u001b[K     |████████████████████████████████| 86 kB 6.3 MB/s \n",
            "\u001b[?25hRequirement already satisfied: zipp>=0.5 in /usr/local/lib/python3.7/dist-packages (from importlib-metadata->transformers>=4.20.1->txtai[pipeline]) (3.8.1)\n",
            "Requirement already satisfied: urllib3!=1.25.0,!=1.25.1,<1.26,>=1.21.1 in /usr/local/lib/python3.7/dist-packages (from requests->tika>=1.24->txtai[pipeline]) (1.24.3)\n",
            "Requirement already satisfied: chardet<4,>=3.0.2 in /usr/local/lib/python3.7/dist-packages (from requests->tika>=1.24->txtai[pipeline]) (3.0.4)\n",
            "Requirement already satisfied: idna<3,>=2.5 in /usr/local/lib/python3.7/dist-packages (from requests->tika>=1.24->txtai[pipeline]) (2.10)\n",
            "Requirement already satisfied: certifi>=2017.4.17 in /usr/local/lib/python3.7/dist-packages (from requests->tika>=1.24->txtai[pipeline]) (2022.6.15)\n",
            "Requirement already satisfied: scikit-learn>=0.19 in /usr/local/lib/python3.7/dist-packages (from skl2onnx->onnxmltools>=1.9.1->txtai[pipeline]) (1.0.2)\n",
            "Collecting onnxconverter-common>=1.7.0\n",
            "  Downloading onnxconverter_common-1.12.2-py2.py3-none-any.whl (83 kB)\n",
            "\u001b[K     |████████████████████████████████| 83 kB 2.4 MB/s \n",
            "\u001b[?25hRequirement already satisfied: threadpoolctl>=2.0.0 in /usr/local/lib/python3.7/dist-packages (from scikit-learn>=0.19->skl2onnx->onnxmltools>=1.9.1->txtai[pipeline]) (3.1.0)\n",
            "Requirement already satisfied: mpmath>=0.19 in /usr/local/lib/python3.7/dist-packages (from sympy->onnxruntime>=1.8.1->txtai[pipeline]) (1.2.1)\n",
            "Building wheels for collected packages: fasttext, tika\n",
            "  Building wheel for fasttext (setup.py) ... \u001b[?25l\u001b[?25hdone\n",
            "  Created wheel for fasttext: filename=fasttext-0.9.2-cp37-cp37m-linux_x86_64.whl size=3163116 sha256=5f930c6a0390cd1441a3c129f9cbed667780837e7fe54847d6a09625f8a2530d\n",
            "  Stored in directory: /root/.cache/pip/wheels/4e/ca/bf/b020d2be95f7641801a6597a29c8f4f19e38f9c02a345bab9b\n",
            "  Building wheel for tika (setup.py) ... \u001b[?25l\u001b[?25hdone\n",
            "  Created wheel for tika: filename=tika-1.24-py3-none-any.whl size=32893 sha256=00b892416b4203314972ca5c0e7878f9d7eafb06aac194199335666550aa25a9\n",
            "  Stored in directory: /root/.cache/pip/wheels/ec/2b/38/58ff05467a742e32f67f5d0de048fa046e764e2fbb25ac93f3\n",
            "Successfully built fasttext tika\n",
            "Installing collected packages: onnx, tokenizers, onnxconverter-common, humanfriendly, huggingface-hub, transformers, soupsieve, skl2onnx, pybind11, faiss-cpu, coloredlogs, txtai, timm, tika, sentencepiece, onnxruntime, onnxmltools, imagehash, fasttext, beautifulsoup4\n",
            "  Attempting uninstall: beautifulsoup4\n",
            "    Found existing installation: beautifulsoup4 4.6.3\n",
            "    Uninstalling beautifulsoup4-4.6.3:\n",
            "      Successfully uninstalled beautifulsoup4-4.6.3\n",
            "Successfully installed beautifulsoup4-4.11.1 coloredlogs-15.0.1 faiss-cpu-1.7.2 fasttext-0.9.2 huggingface-hub-0.9.1 humanfriendly-10.0 imagehash-4.3.0 onnx-1.12.0 onnxconverter-common-1.12.2 onnxmltools-1.11.1 onnxruntime-1.12.1 pybind11-2.10.0 sentencepiece-0.1.97 skl2onnx-1.12 soupsieve-2.3.2.post1 tika-1.24 timm-0.6.7 tokenizers-0.12.1 transformers-4.21.3 txtai-4.6.0\n",
            "Looking in indexes: https://pypi.org/simple, https://us-python.pkg.dev/colab-wheels/public/simple/\n",
            "Collecting sacremoses\n",
            "  Downloading sacremoses-0.0.53.tar.gz (880 kB)\n",
            "\u001b[K     |████████████████████████████████| 880 kB 5.4 MB/s \n",
            "\u001b[?25hRequirement already satisfied: regex in /usr/local/lib/python3.7/dist-packages (from sacremoses) (2022.6.2)\n",
            "Requirement already satisfied: six in /usr/local/lib/python3.7/dist-packages (from sacremoses) (1.15.0)\n",
            "Requirement already satisfied: click in /usr/local/lib/python3.7/dist-packages (from sacremoses) (7.1.2)\n",
            "Requirement already satisfied: joblib in /usr/local/lib/python3.7/dist-packages (from sacremoses) (1.1.0)\n",
            "Requirement already satisfied: tqdm in /usr/local/lib/python3.7/dist-packages (from sacremoses) (4.64.0)\n",
            "Building wheels for collected packages: sacremoses\n",
            "  Building wheel for sacremoses (setup.py) ... \u001b[?25l\u001b[?25hdone\n",
            "  Created wheel for sacremoses: filename=sacremoses-0.0.53-py3-none-any.whl size=895260 sha256=03223863b4aa47f21f96785bfe4bf17dc01f15ddbcd41419d4e9b80750f94fde\n",
            "  Stored in directory: /root/.cache/pip/wheels/87/39/dd/a83eeef36d0bf98e7a4d1933a4ad2d660295a40613079bafc9\n",
            "Successfully built sacremoses\n",
            "Installing collected packages: sacremoses\n",
            "Successfully installed sacremoses-0.0.53\n",
            "Looking in indexes: https://pypi.org/simple, https://us-python.pkg.dev/colab-wheels/public/simple/\n",
            "Collecting deep-translator\n",
            "  Downloading deep_translator-1.8.3-py3-none-any.whl (29 kB)\n",
            "Requirement already satisfied: requests<3.0.0,>=2.23.0 in /usr/local/lib/python3.7/dist-packages (from deep-translator) (2.23.0)\n",
            "Requirement already satisfied: beautifulsoup4<5.0.0,>=4.9.1 in /usr/local/lib/python3.7/dist-packages (from deep-translator) (4.11.1)\n",
            "Requirement already satisfied: soupsieve>1.2 in /usr/local/lib/python3.7/dist-packages (from beautifulsoup4<5.0.0,>=4.9.1->deep-translator) (2.3.2.post1)\n",
            "Requirement already satisfied: idna<3,>=2.5 in /usr/local/lib/python3.7/dist-packages (from requests<3.0.0,>=2.23.0->deep-translator) (2.10)\n",
            "Requirement already satisfied: certifi>=2017.4.17 in /usr/local/lib/python3.7/dist-packages (from requests<3.0.0,>=2.23.0->deep-translator) (2022.6.15)\n",
            "Requirement already satisfied: urllib3!=1.25.0,!=1.25.1,<1.26,>=1.21.1 in /usr/local/lib/python3.7/dist-packages (from requests<3.0.0,>=2.23.0->deep-translator) (1.24.3)\n",
            "Requirement already satisfied: chardet<4,>=3.0.2 in /usr/local/lib/python3.7/dist-packages (from requests<3.0.0,>=2.23.0->deep-translator) (3.0.4)\n",
            "Installing collected packages: deep-translator\n",
            "Successfully installed deep-translator-1.8.3\n",
            "Looking in indexes: https://pypi.org/simple, https://us-python.pkg.dev/colab-wheels/public/simple/\n",
            "Collecting deepl\n",
            "  Downloading deepl-1.10.0-py3-none-any.whl (36 kB)\n",
            "Requirement already satisfied: requests<3,>=2 in /usr/local/lib/python3.7/dist-packages (from deepl) (2.23.0)\n",
            "Requirement already satisfied: urllib3!=1.25.0,!=1.25.1,<1.26,>=1.21.1 in /usr/local/lib/python3.7/dist-packages (from requests<3,>=2->deepl) (1.24.3)\n",
            "Requirement already satisfied: idna<3,>=2.5 in /usr/local/lib/python3.7/dist-packages (from requests<3,>=2->deepl) (2.10)\n",
            "Requirement already satisfied: chardet<4,>=3.0.2 in /usr/local/lib/python3.7/dist-packages (from requests<3,>=2->deepl) (3.0.4)\n",
            "Requirement already satisfied: certifi>=2017.4.17 in /usr/local/lib/python3.7/dist-packages (from requests<3,>=2->deepl) (2022.6.15)\n",
            "Installing collected packages: deepl\n",
            "Successfully installed deepl-1.10.0\n",
            "Looking in indexes: https://pypi.org/simple, https://us-python.pkg.dev/colab-wheels/public/simple/\n",
            "Collecting pymediawiki\n",
            "  Downloading pymediawiki-0.7.2-py3-none-any.whl (23 kB)\n",
            "Requirement already satisfied: requests<3.0.0,>=2.0.0 in /usr/local/lib/python3.7/dist-packages (from pymediawiki) (2.23.0)\n",
            "Requirement already satisfied: beautifulsoup4 in /usr/local/lib/python3.7/dist-packages (from pymediawiki) (4.11.1)\n",
            "Requirement already satisfied: idna<3,>=2.5 in /usr/local/lib/python3.7/dist-packages (from requests<3.0.0,>=2.0.0->pymediawiki) (2.10)\n",
            "Requirement already satisfied: urllib3!=1.25.0,!=1.25.1,<1.26,>=1.21.1 in /usr/local/lib/python3.7/dist-packages (from requests<3.0.0,>=2.0.0->pymediawiki) (1.24.3)\n",
            "Requirement already satisfied: chardet<4,>=3.0.2 in /usr/local/lib/python3.7/dist-packages (from requests<3.0.0,>=2.0.0->pymediawiki) (3.0.4)\n",
            "Requirement already satisfied: certifi>=2017.4.17 in /usr/local/lib/python3.7/dist-packages (from requests<3.0.0,>=2.0.0->pymediawiki) (2022.6.15)\n",
            "Requirement already satisfied: soupsieve>1.2 in /usr/local/lib/python3.7/dist-packages (from beautifulsoup4->pymediawiki) (2.3.2.post1)\n",
            "Installing collected packages: pymediawiki\n",
            "Successfully installed pymediawiki-0.7.2\n",
            "Looking in indexes: https://pypi.org/simple, https://us-python.pkg.dev/colab-wheels/public/simple/\n",
            "Collecting larousse-api-sunbro\n",
            "  Downloading larousse_api_sunbro-0.0.5-py3-none-any.whl (3.1 kB)\n",
            "Requirement already satisfied: requests>=2.22.0 in /usr/local/lib/python3.7/dist-packages (from larousse-api-sunbro) (2.23.0)\n",
            "Requirement already satisfied: bs4>=0.0.1 in /usr/local/lib/python3.7/dist-packages (from larousse-api-sunbro) (0.0.1)\n",
            "Requirement already satisfied: beautifulsoup4 in /usr/local/lib/python3.7/dist-packages (from bs4>=0.0.1->larousse-api-sunbro) (4.11.1)\n",
            "Requirement already satisfied: certifi>=2017.4.17 in /usr/local/lib/python3.7/dist-packages (from requests>=2.22.0->larousse-api-sunbro) (2022.6.15)\n",
            "Requirement already satisfied: chardet<4,>=3.0.2 in /usr/local/lib/python3.7/dist-packages (from requests>=2.22.0->larousse-api-sunbro) (3.0.4)\n",
            "Requirement already satisfied: urllib3!=1.25.0,!=1.25.1,<1.26,>=1.21.1 in /usr/local/lib/python3.7/dist-packages (from requests>=2.22.0->larousse-api-sunbro) (1.24.3)\n",
            "Requirement already satisfied: idna<3,>=2.5 in /usr/local/lib/python3.7/dist-packages (from requests>=2.22.0->larousse-api-sunbro) (2.10)\n",
            "Requirement already satisfied: soupsieve>1.2 in /usr/local/lib/python3.7/dist-packages (from beautifulsoup4->bs4>=0.0.1->larousse-api-sunbro) (2.3.2.post1)\n",
            "Installing collected packages: larousse-api-sunbro\n",
            "Successfully installed larousse-api-sunbro-0.0.5\n",
            "Looking in indexes: https://pypi.org/simple, https://us-python.pkg.dev/colab-wheels/public/simple/\n",
            "Collecting git+https://github.com/ClaudeCoulombe/FrenchLefffLemmatizer.git\n",
            "  Cloning https://github.com/ClaudeCoulombe/FrenchLefffLemmatizer.git to /tmp/pip-req-build-wpqr8iem\n",
            "  Running command git clone -q https://github.com/ClaudeCoulombe/FrenchLefffLemmatizer.git /tmp/pip-req-build-wpqr8iem\n",
            "Building wheels for collected packages: FrenchLefffLemmatizer\n",
            "  Building wheel for FrenchLefffLemmatizer (setup.py) ... \u001b[?25l\u001b[?25hdone\n",
            "  Created wheel for FrenchLefffLemmatizer: filename=FrenchLefffLemmatizer-0.3-py3-none-any.whl size=3533528 sha256=efaaf5cfe0397368c8f34481b344097bc86cff55863aa0166484baf912f25cb0\n",
            "  Stored in directory: /tmp/pip-ephem-wheel-cache-7n7mfeow/wheels/ba/24/e1/a774b7bba29a14b3f6b291d16e92563c745aa4f4d6901a0af7\n",
            "Successfully built FrenchLefffLemmatizer\n",
            "Installing collected packages: FrenchLefffLemmatizer\n",
            "Successfully installed FrenchLefffLemmatizer-0.3\n"
          ]
        }
      ]
    },
    {
      "cell_type": "markdown",
      "metadata": {
        "id": "OoQvIFW_zGec"
      },
      "source": [
        "# Configuration"
      ]
    },
    {
      "cell_type": "code",
      "source": [
        "# IA\n",
        "dict_vendor =[\n",
        "    {\"vendor-code\":\"11\", \"vendor-abbv\":\"neuml\",\"vendor-name\":\"txtai(Neuml)\",\"pivot\":\"en\", \"f\":\"fetch_deep_tlr_txtai\"},\n",
        "    {\"vendor-code\":\"12\", \"vendor-abbv\":\"google\",\"vendor-name\":\"GoogleTranslator\",\"pivot\":\"en\", \"f\":\"fetch_deep_tlr_google\"},\n",
        "    {\"vendor-code\":\"13\", \"vendor-abbv\":\"pons\",\"vendor-name\":\"Pons\",\"pivot\":\"fr\", \"f\":\"fetch_deep_tlr_pons\"},   \n",
        "    {\"vendor-code\":\"14\", \"vendor-abbv\":\"deepl\",\"vendor-name\":\"DeepL\",\"pivot\":\"en\", \"f\":\"fetch_deep_tlr_deepl\"}\n",
        "]            \n",
        "\n",
        "dict_lang_vendor = [{\"language\":\"ams\", \"iso-code\":\"ar\", \"vendor-code\":[\"12\"]},\n",
        "            {\"language\":\"rus\", \"iso-code\":\"ru\", \"vendor-code\":[\"12\",\"14\"]},\n",
        "            {\"language\":\"ukr\", \"iso-code\":\"uk\", \"vendor-code\":[\"12\",\"14\"]},\n",
        "            {\"language\":\"rou\", \"iso-code\":\"ro\", \"vendor-code\":[\"12\",\"14\"]},\n",
        "            {\"language\":\"alb\", \"iso-code\":\"sq\", \"vendor-code\":[\"12\"]},\n",
        "            {\"language\":\"eng\", \"iso-code\":\"en\", \"vendor-code\":[\"12\",\"14\"]},\n",
        "            {\"language\":\"tur\", \"iso-code\":\"tr\", \"vendor-code\":[\"12\",\"14\"]},\n",
        "            {\"language\":\"tig\", \"iso-code\":\"ti\", \"vendor-code\":[\"12\"]},\n",
        "            {\"language\":\"geo\", \"iso-code\":\"ka\", \"vendor-code\":[\"12\"]},\n",
        "            {\"language\":\"arm\", \"iso-code\":\"hy\", \"vendor-code\":[\"12\"]},\n",
        "            {\"language\":\"dar\", \"iso-code\":\"fa\", \"vendor-code\":[\"12\"]},\n",
        "            {\"language\":\"prs\", \"iso-code\":\"fa\", \"vendor-code\":[\"12\"]},\n",
        "            {\"language\":\"pst\", \"iso-code\":\"ps\", \"vendor-code\":[\"12\"]},\n",
        "            {\"language\":\"esp\", \"iso-code\":\"es\", \"vendor-code\":[\"12\",\"14\"]},\n",
        "            {\"language\":\"pol\", \"iso-code\":\"pl\", \"vendor-code\":[\"12\",\"14\"]},\n",
        "            {\"language\":\"som\", \"iso-code\":\"so\", \"vendor-code\":[\"12\"]},\n",
        "            {\"language\":\"amh\", \"iso-code\":\"am\", \"vendor-code\":[\"12\"]},\n",
        "            {\"language\":\"all\", \"iso-code\":\"de\", \"vendor-code\":[\"12\",\"14\"]},\n",
        "            {\"language\":\"hun\", \"iso-code\":\"hu\", \"vendor-code\":[\"12\",\"14\"]},\n",
        "            {\"language\":\"por\", \"iso-code\":\"pt\", \"vendor-code\":[\"12\"]},\n",
        "            {\"language\":\"aze\", \"iso-code\":\"az\", \"vendor-code\":[\"12\"]},\n",
        "            {\"language\":\"kin\", \"iso-code\":\"rw\", \"vendor-code\":[\"12\"]},\n",
        "            {\"language\":\"aze\", \"iso-code\":\"zh\", \"vendor-code\":[\"12\"]}]"
      ],
      "metadata": {
        "id": "9uerzglpZ4KH"
      },
      "execution_count": 9,
      "outputs": []
    },
    {
      "cell_type": "code",
      "source": [
        "from IPython.core.debugger import exception_colors\n",
        "def get_cc_config(f):\n",
        "  vk = []\n",
        "  try:\n",
        "    with open(f) as vk_f:\n",
        "        vk = json.load(vk_f)\n",
        "  except BaseException as e:\n",
        "    print(e)\n",
        "  return vk\n",
        "\n",
        "def set_cc_config (vk, f):\n",
        "  # sauvegarde du fichier de paramétrage\n",
        "  with open(f, 'w') as fp:\n",
        "      json.dump(vk, fp)  \n",
        "\n",
        "#\n",
        "# Ouverture de la Sheet Centrale (corpus_central_base)\n",
        "#\n",
        "def get_CCDB_wb(uri):\n",
        "  sheet_central = uri\n",
        "  wb_central = gc.open_by_url(sheet_central)\n",
        "  return wb_central\n",
        "\n",
        "def get_CCDB_data(wb, idx):\n",
        "  t_corpus = wb.get_worksheet(idx)\n",
        "  data_t_corpus = t_corpus.get_all_values()\n",
        "  return data_t_corpus\n",
        "\n",
        "#\n",
        "# DataFrame CC global (toutes les langues)\n",
        "#\n",
        "def get_ccdf_global(CCDB):\n",
        "  return pd.DataFrame(CCDB[1:], columns=CCDB[0])\n",
        "\n",
        "#\n",
        "# DataFrame CC Français (invariable)\n",
        "#\n",
        "def get_ccdf_fr(df_cc):\n",
        "  # on supprime les doublons\n",
        "  return df_cc[['uid','expression','theme','état','date','commentaires','index']]    \n",
        "\n",
        "# Comparaison des versions de référentiels\n",
        "def getLastModifiedTime (wb):\n",
        "  # https://stackoverflow.com/questions/64254039/python-how-to-check-if-a-google-spreadsheets-was-updated\n",
        "  # https://stackoverflow.com/questions/52260789/update-googlesheet-cell-with-timestamp-from-python\n",
        "  revisions_uri = f'https://www.googleapis.com/drive/v3/files/{wb.id}/revisions'\n",
        "  headers = {'Authorization': f'Bearer {GoogleCredentials.get_application_default().get_access_token().access_token}'}\n",
        "  response = requests.get(revisions_uri, headers=headers).json()\n",
        "  return response['revisions'][-1]['modifiedTime']    \n",
        "\n",
        "def txtai_alpha (input, iso_code):\n",
        "  try:\n",
        "    translation = translate(input, iso_code)\n",
        "  except Exception as e:\n",
        "    translation = \"\"\n",
        "    pass\n",
        "  return translation, 2\n",
        "\n",
        "def airtable_fetch_all_records():\n",
        "  vk_at = airtable.get_all(view='Admin',sort='vocabulary_unit')\n",
        "  df_vkat = pd.DataFrame.from_records((r['fields'] for r in vk_at))\n",
        "  return df_vkat\n",
        "\n",
        "def fetch_pivot_en (txt_fr):\n",
        "  try:\n",
        "    translation = translate(txt_fr, \"en\")\n",
        "    print (translation)\n",
        "  except Exception as e:\n",
        "    translation = \"\"\n",
        "    pass  \n",
        "  return translation\n",
        "\n",
        "def make_unique_id():\n",
        "  return str(uuid.uuid4())[:8]  \n",
        "\n",
        "def chk_uid (vk_uid, record):\n",
        "  try:\n",
        "    value = record['fields']['uid']\n",
        "  except KeyError:\n",
        "    # uid manquant\n",
        "    print (\"mssing uid\")\n",
        "    while True:\n",
        "      auid = make_unique_id()\n",
        "      if auid not in vk_uid:\n",
        "        aDict = {}\n",
        "        aDict[\"uid\"] = auid\n",
        "        print (record['id'] + \" \" + aDict[\"uid\"])\n",
        "        airtable.update(record['id'], aDict)\n",
        "        vk_uid.append(auid) \n",
        "        break \n",
        "  finally:\n",
        "    return\n",
        "\n",
        "def airtable_check_missing_uids():\n",
        "  vk_uid = df_vkat['uid'].tolist()\n",
        "  for page in airtable.get_iter(view='Admin',sort='vocabulary_unit'):\n",
        "    for record in page:\n",
        "      chk_uid (vk_uid, record)\n",
        "\n",
        "def compare_langdeck_time(hash, time):\n",
        "  ts1 = time\n",
        "  ts2 = df_langdeck.loc[df_langdeck[\"hash\"]==hash][\"unixtime\"].values[0]\n",
        "  return ts1 > ts2\n",
        "\n",
        "def compare_airtable_time(hash, time):\n",
        "  ts1 = time\n",
        "  ts2 = df_airtable_for_langdeck.loc[df_airtable_for_langdeck[\"hash\"]==hash][\"unixtime\"].values[0]\n",
        "  return ts1 > ts2\n",
        "\n",
        "def get_df_airtable_for_langdeck():\n",
        "  df_vkat = airtable_fetch_all_records()\n",
        "  df_temp = df_vkat.copy()\n",
        "  #df_temp = df_temp[[\"uid\",\"lemma\",\"rank\",\"vocabulary_unit\",\"headword\",\"pivot\",\"pivot_en\",\"alphabet\",\"theme\",\"timestamp\",\"ams\",\"eng\",\"tur\",\"rus\",\"ukr\",\"rou\",\"hun\",\"alb\",\"geo\",\"arm\",\"dar\",\"pst\",\"prs\",\"esp\",\"pol\",\"tig\"]]\n",
        "  df_temp = df_temp[[\"uid\",\"lemma\",\"rank\",\"vocabulary_unit\",\"headword\",\"pivot\",\"pivot_en\",\"alphabet\",\"theme\",\"timestamp\"]]\n",
        "  for iso in dict_lang_vendor:\n",
        "    df_temp[iso[\"language\"]] = np.nan\n",
        "    print (iso[\"language\"])\n",
        "\n",
        "  \n",
        "  #df_temp.rename(columns={\"UID\":\"uid\",\"Proposition\":\"expression\",\"pivot_en\":\"pivot\",\"idx_cor\":\"idx\", \"Maitre\":\"maitre\",\"Ordre\":\"ordre\",\"Thématique\":\"themes\",\"lastModified\":\"timestamp\"}, inplace=True)\n",
        "  # https://stackoverflow.com/questions/28654047/convert-columns-into-rows-with-pandas\n",
        "  df_airtable_for_langdeck = pd.melt(df_temp, id_vars=[\"uid\", \"lemma\",\"rank\",\"vocabulary_unit\",\"headword\",\"pivot\",\"pivot_en\",\"alphabet\",\"timestamp\",\"theme\"], \n",
        "                    var_name=\"language\", value_name=\"translation\")\n",
        "  #https://stackoverflow.com/questions/60393668/pandas-generate-unique-id-based-on-row-values\n",
        "  #https://stackoverflow.com/questions/64604408/transform-dataframe-column-with-a-hash-value\n",
        "  df_airtable_for_langdeck['hash'] = df_airtable_for_langdeck[['uid', 'language']].sum(axis=1).astype(str)\n",
        "  #Fonction lambda pour récupérer le nom long de la langue (https://stackoverflow.com/questions/2191699/find-an-element-in-a-list-of-tuples)\n",
        "  df_airtable_for_langdeck[\"language_fulltext\"] = df_airtable_for_langdeck[\"language\"].apply(lambda x:[item for item in [(a_dict[\"trigramme\"],a_dict[\"language\"]) for a_dict in vk_languages] if item[0] == x][0][1])  \n",
        "  df_airtable_for_langdeck['timestamp'] = df_airtable_for_langdeck['timestamp'].astype('datetime64[s]')\n",
        "  df_airtable_for_langdeck['unixtime'] = df_airtable_for_langdeck['timestamp'].astype('datetime64[s]').astype('int')\n",
        "  # ajout des thématiques  \n",
        "  # on éclate la liste des thèmes en 3 colonnes\n",
        "  df_airtable_for_langdeck[[\"theme_1\",\"theme_2\",\"theme_3\"]] = pd.DataFrame([pd.Series(x) for x in df_airtable_for_langdeck.theme])\n",
        "  return df_airtable_for_langdeck   \n",
        "\n",
        "def is_audio(f):\n",
        "  path = \"/content/drive/My Drive/appsheet/data/langdeck-1629444/\"\n",
        "  f = path + f\n",
        "  result = True\n",
        "  try:\n",
        "    file = open(f, \"r\")\n",
        "  except FileNotFoundError as e:\n",
        "    # do nothing\n",
        "    result = False\n",
        "  return result     \n",
        "\n",
        "def get_df_langdeck(url):\n",
        "  # Ouverture de la Sheet Langdeck (mots à traduire)\n",
        "  sheet = url\n",
        "  wb  = gc.open_by_url(sheet)\n",
        "  t_corpus = wb.worksheet(\"t_corpus_all_entries\")\n",
        "  data_t_corpus = t_corpus.get_all_values()\n",
        "  df_langdeck = pd.DataFrame(data_t_corpus[1:], columns=data_t_corpus[0]).drop_duplicates()  \n",
        "\n",
        "  df_langdeck['uid'] = df_langdeck['hash'].str[:8]\n",
        "\n",
        "  df_langdeck['ordre'] = pd.to_numeric(df_langdeck['ordre'])\n",
        "  df_langdeck['timestamp'] = df_langdeck['timestamp'].astype('datetime64[s]')\n",
        "  df_langdeck['unixtime'] = df_langdeck['timestamp'].astype('datetime64[s]').astype('int')\n",
        "  df_langdeck[\"translation_pivot_fr\"] = df_langdeck[\"hash\"].apply(lambda x:get_translation_pivot_fr(x))\n",
        "  df_langdeck[\"translation_pivot_en\"] = df_langdeck[\"hash\"].apply(lambda x:get_translation_pivot_en(x))  \n",
        "  df_langdeck['is_audio'] = df_langdeck['audio'].apply(lambda x:is_audio(x))  \n",
        "  return df_langdeck\n",
        "\n",
        "def get_translation_pivot_fr (hash):\n",
        "  r = \"\"\n",
        "  try:\n",
        "    r = df_airtable_for_langdeck.loc[df_airtable_for_langdeck[\"hash\"]==hash][\"pivot\"].values.item()\n",
        "  except Exception as e:\n",
        "    #print (e)\n",
        "    pass\n",
        "  return r  \n",
        "\n",
        "def get_translation_pivot_en (hash):\n",
        "  r = \"\"\n",
        "  try:\n",
        "    r = df_airtable_for_langdeck.loc[df_airtable_for_langdeck[\"hash\"]==hash][\"pivot_en\"].values.item()\n",
        "  except Exception as e:\n",
        "    #print (e)\n",
        "    pass\n",
        "  return r   \n",
        "\n",
        "def get_wikipedia(text, language):\n",
        "  wikipedia = MediaWiki(lang=language)  \n",
        "  r = \"\"\n",
        "  try:\n",
        "    p = wikipedia.page(text)\n",
        "    r = p.title + \"\\n\" + p.summary\n",
        "  except Exception as e:\n",
        "    r = str(e)\n",
        "    pass\n",
        "  return r  \n",
        "\n",
        "\n",
        "def get_larousse_lst (text):\n",
        "  from larousse_api import larousse\n",
        "  d = larousse.get_definitions(text)\n",
        "  '''\n",
        "  r = \"\"\n",
        "  for i in d:\n",
        "    i = i.replace(\"\\t\", \"\")\n",
        "    i = i.replace(\":\\n\", \": \")\n",
        "    r = re.compile(r'^\\n')\n",
        "    i = r.sub(\"\",i)\n",
        "    r += str(i)\n",
        "  '''\n",
        "  return d\n",
        "\n",
        "def get_larousse (text):\n",
        "  from larousse_api import larousse\n",
        "  vk = larousse.get_definitions(text)  \n",
        "  s = \"\"\n",
        "  for i in vk:\n",
        "    s += i\n",
        "  if s == \"\":\n",
        "    s = \"à renseigner\"\n",
        "  return s"
      ],
      "metadata": {
        "id": "HkCiMByNk1Me"
      },
      "execution_count": 10,
      "outputs": []
    },
    {
      "cell_type": "code",
      "metadata": {
        "id": "Mi4zCrC54xR-",
        "colab": {
          "base_uri": "https://localhost:8080/"
        },
        "outputId": "94f0f3a2-5d6f-4e7d-cc5e-17f9ed3cacc5"
      },
      "source": [
        "# Config Langues\n",
        "config_languages = 'med_vac_synthese.json'\n",
        "vk_languages = get_cc_config(config_languages)\n",
        "\n",
        "params = ()\n",
        "api_key = \"keyrI98TIqu6mbFcf\" \n",
        "api_key_gmail = \"keysgpJWq3aWwqSZe\"\n",
        "headers = {\"Authorization\": \"Bearer \" + api_key,\"Content-Type\" : \"application/json\"}\n",
        "base_id = \"appawT3gg7cJhPYv0\" # Base Nouvelle HV\n",
        "table_name = 'Corpus'\n",
        "\n",
        "db_langdeck_url = \"https://docs.google.com/spreadsheets/d/1iJLt3qAKq576eNirMwcsdRltg7nerwa9N70dA0vraa8/\" #db-langdeck\n",
        "\n",
        "# Chargement table Airtable\n",
        "airtable = Airtable(base_id, table_name, api_key)\n",
        "# Vers Dataframe\n",
        "df_vkat = airtable_fetch_all_records()\n",
        "\n",
        "# maj des uid manquants\n",
        "airtable_check_missing_uids()\n",
        "\n",
        "# Vérification qu'il n'existe pas des doublons (hash)\n",
        "df_airtable_for_langdeck = get_df_airtable_for_langdeck()\n",
        "df_airtable_for_langdeck[df_airtable_for_langdeck['hash'].duplicated()].sort_values(\"hash\")\n",
        "# on éclate la liste des thèmes en 3 colonnes\n",
        "df_airtable_for_langdeck[[\"theme_1\",\"theme_2\",\"theme_3\"]] = pd.DataFrame([pd.Series(x) for x in df_airtable_for_langdeck.theme])\n",
        "# on ajoute une colonne de translation state (0=VOID; 1=PENDING; 2=OK; 3=KO)\n",
        "df_airtable_for_langdeck[\"translation_state\"] = df_airtable_for_langdeck[\"translation\"].apply(lambda x:0 if pd.isna(x) else 1)\n",
        "\n",
        "# ouverture base Langdeck (t_corpus_all_entries)\n",
        "df_langdeck = get_df_langdeck(db_langdeck_url)\n"
      ],
      "execution_count": 11,
      "outputs": [
        {
          "output_type": "stream",
          "name": "stdout",
          "text": [
            "ams\n",
            "rus\n",
            "ukr\n",
            "rou\n",
            "alb\n",
            "eng\n",
            "tur\n",
            "tig\n",
            "geo\n",
            "arm\n",
            "dar\n",
            "prs\n",
            "pst\n",
            "esp\n",
            "pol\n",
            "som\n",
            "amh\n",
            "all\n",
            "hun\n",
            "por\n",
            "aze\n",
            "kin\n",
            "aze\n"
          ]
        },
        {
          "output_type": "stream",
          "name": "stderr",
          "text": [
            "/usr/local/lib/python3.7/dist-packages/ipykernel_launcher.py:130: FutureWarning: casting datetime64[ns] values to int64 with .astype(...) is deprecated and will raise in a future version. Use .view(...) instead.\n",
            "/usr/local/lib/python3.7/dist-packages/ipykernel_launcher.py:159: FutureWarning: casting datetime64[ns] values to int64 with .astype(...) is deprecated and will raise in a future version. Use .view(...) instead.\n"
          ]
        }
      ]
    },
    {
      "cell_type": "markdown",
      "source": [
        "#### Ajouter des nouveaux enregistrements dans Langdeck"
      ],
      "metadata": {
        "id": "dSbpL-Tf60jE"
      }
    },
    {
      "cell_type": "code",
      "source": [
        "# suppression des enregistrements en double côté GSheet (supprimés dans AT)\n",
        "df_langdeck.drop(df_langdeck[~df_langdeck[\"uid\"].isin(df_airtable_for_langdeck[\"uid\"])].index, inplace=True)\n",
        "# DF des enregistrements dans AT et pas dans GS\n",
        "df_new_in_airtable = df_airtable_for_langdeck[~df_airtable_for_langdeck[\"hash\"].isin(df_langdeck[\"hash\"])]\n",
        "# on ajoute chaque enregistrement en passant par un DICT (pour mieux contrôler)\n",
        "for index, row in df_new_in_airtable.iterrows():\n",
        "  d = {}\n",
        "  d[\"hash\"]=row['hash']\n",
        "  d[\"uid\"]=row['uid']\n",
        "  d[\"maitre\"]=row[\"lemma\"]\n",
        "  d[\"ordre\"]=row[\"rank\"]\n",
        "  d[\"expression\"]=row[\"vocabulary_unit\"]\n",
        "  d[\"idx\"]=row[\"alphabet\"]\n",
        "  d[\"timestamp\"]=str(pd.to_datetime(row['timestamp']))\n",
        "  d[\"language\"]=row[\"language\"]\n",
        "  d[\"translation\"]=row[\"translation\"]\n",
        "  d[\"language_fulltext\"]=row[\"language_fulltext\"]\n",
        "  d[\"audio\"]=\"Files_Files_/Corpus/t_expo_audio/\" + row['uid'] + \"-\" + row['language'] + \".mp3\"\n",
        "  d[\"is_audio\"]=False\n",
        "  d[\"uploaded_file\"]=\"\"\n",
        "  if pd.isna(row['theme_1']):\n",
        "    row['theme_1'] = \"\"\n",
        "  if pd.isna(row['theme_2']):\n",
        "    row['theme_2'] = \"\"\n",
        "  if pd.isna(row['theme_3']):\n",
        "    row['theme_3'] = \"\"    \n",
        "  d[\"theme_1\"]=row['theme_1']\n",
        "  d[\"theme_2\"]=row['theme_2']\n",
        "  d[\"theme_3\"]=row['theme_3']    \n",
        "  d[\"theme_1_svg\"]=\"\"\n",
        "  d[\"theme_2_svg\"]=\"\"\n",
        "  d[\"theme_3_svg\"]=\"\"\n",
        "  d[\"unixtime\"]=str(pd.to_datetime(row['timestamp']))\n",
        "  d[\"translation_state\"]=0\n",
        "  d[\"translation_pivot\"]=row[\"pivot_en\"]\n",
        "  d[\"translation_ai_source\"]=\"\"     \n",
        "  d[\"translation_score\"]=0\n",
        "  d[\"translation_state_txt\"]=\"\"\n",
        "  d[\"translation_pivot_fr\"]=row[\"pivot\"]\n",
        "  d[\"translation_pivot_en\"]=row[\"pivot_en\"]\n",
        "  # ajout dans le DF\n",
        "  df_langdeck = df_langdeck.append(d, ignore_index = True)"
      ],
      "metadata": {
        "id": "ZHYl6aZ1Bk__"
      },
      "execution_count": 12,
      "outputs": []
    },
    {
      "cell_type": "markdown",
      "source": [
        "#### Mise à jour des méta données dans Langdeck"
      ],
      "metadata": {
        "id": "h6SsHbpwcaTG"
      }
    },
    {
      "cell_type": "code",
      "source": [
        "def f_upload_meta(hash):\n",
        "  try:\n",
        "    r1 = df_airtable_for_langdeck.loc[df_airtable_for_langdeck[\"hash\"]==hash][\"theme_1\"].values.item()\n",
        "    r2 = df_airtable_for_langdeck.loc[df_airtable_for_langdeck[\"hash\"]==hash][\"theme_2\"].values.item()\n",
        "    r3 = df_airtable_for_langdeck.loc[df_airtable_for_langdeck[\"hash\"]==hash][\"theme_3\"].values.item()    \n",
        "    r4 = df_airtable_for_langdeck.loc[df_airtable_for_langdeck[\"hash\"]==hash][\"lemma\"].values.item()    \n",
        "    r5 = df_airtable_for_langdeck.loc[df_airtable_for_langdeck[\"hash\"]==hash][\"rank\"].values.item()    \n",
        "    r6 = df_airtable_for_langdeck.loc[df_airtable_for_langdeck[\"hash\"]==hash][\"vocabulary_unit\"].values.item()    \n",
        "    r7 = df_airtable_for_langdeck.loc[df_airtable_for_langdeck[\"hash\"]==hash][\"alphabet\"].values.item()    \n",
        "    r8 = df_airtable_for_langdeck.loc[df_airtable_for_langdeck[\"hash\"]==hash][\"pivot\"].values.item()    \n",
        "    r9 = df_airtable_for_langdeck.loc[df_airtable_for_langdeck[\"hash\"]==hash][\"pivot_en\"].values.item()    \n",
        "  except Exception as e:        \n",
        "    pass  \n",
        "  return pd.Series([r1, r2, r3, r4, r5, r6, r7, r8, r9])"
      ],
      "metadata": {
        "id": "Kz-EP3hOU3TB"
      },
      "execution_count": 13,
      "outputs": []
    },
    {
      "cell_type": "code",
      "source": [
        "df_langdeck[[\"theme_1\",\"theme_2\",\"theme_3\",\"maitre\",\"ordre\",\"expression\",\"idx\",\"translation_pivot_fr\",\"translation_pivot_en\"]] = df_langdeck[\"hash\"].apply(lambda x:f_upload_meta(x))"
      ],
      "metadata": {
        "id": "5dGfI8vxVSit"
      },
      "execution_count": 14,
      "outputs": []
    },
    {
      "cell_type": "code",
      "source": [
        "df_langdeck"
      ],
      "metadata": {
        "colab": {
          "base_uri": "https://localhost:8080/",
          "height": 1000
        },
        "id": "yDdEPzAh9jCr",
        "outputId": "6c45beae-4c5c-4979-f07f-afcd5e01e59e"
      },
      "execution_count": 15,
      "outputs": [
        {
          "output_type": "execute_result",
          "data": {
            "text/plain": [
              "             hash       uid      maitre  ordre                                         expression idx            timestamp language                            translation language_fulltext  ...                                    theme_2_svg  theme_3_svg             unixtime translation_state                                  translation_pivot translation_ai_source translation_score translation_state_txt                               translation_pivot_fr                               translation_pivot_en\n",
              "0     f9bc13efams  f9bc13ef  Médicament      3  À quel moment de la journée vous prenez le méd...   M  2022-04-01 08:15:21      ams      في أي وقت من اليوم تتناول الدواء؟             Arabe  ...                                                              1648800921000000000                 1      At what time of day do you take the medicine?                     2                 1                    OK  À quel moment de la journée vous prenez le méd...      At what time of day do you take the medicine?\n",
              "1     6e65dde7ams  6e65dde7       Abcès      1                                              Abcès   A  2022-03-29 15:58:04      ams                                 خُرّاج             Arabe  ...                                                              1648569484000000000                 1                                          Abscesses                     2                 1                    OK                                              Abcès                                          Abscesses\n",
              "2     80cbaceaams  80cbacea     Abdomen      1                                            Abdomen   A  2022-04-08 14:14:32      ams                                  البطن             Arabe  ...  Files_Files_/misc/Médecine générale-small.png               1649427272000000000                 1                                            Abdomen                     2                 1                    OK                                            Abdomen                                            Abdomen\n",
              "3     95c4a863ams  95c4a863     Fébrile      3  Accès fébrile concomitant chez un autre membre...   F  2022-04-01 08:27:19      ams  نوبة حمى مزامنة عند فرد اخر من الأسرة             Arabe  ...                                                              1648801639000000000                 1  Concomitant febrile attack in an other family ...                     2                 1                    OK  Accès fébrile concomitant chez un autre membre...  Concomitant febrile attack in an other family ...\n",
              "4     30579682ams  30579682    Accident      1                                           Accident   A  2022-03-29 15:58:05      ams                                   حادث             Arabe  ...                                                              1648569485000000000                 1                                           Accident                     2                 1                    OK                                           Accident                                           Accident\n",
              "...           ...       ...         ...    ...                                                ...  ..                  ...      ...                                    ...               ...  ...                                            ...          ...                  ...               ...                                                ...                   ...               ...                   ...                                                ...                                                ...\n",
              "9785  2344ba84kin  2344ba84   Accoucher      3  Vous avez accouché par césarienne ou voie basse ?   A  2022-09-07 13:51:03      kin                                    NaN        Kiyarwanda  ...                                                              2022-09-07 13:51:03                 0       Did you give birth by caesarean or low lane?                                       0                        Vous avez accouché par césarienne ou voie basse ?       Did you give birth by caesarean or low lane?\n",
              "9786  62337faekin  62337fae       Asile      3               Vous avez fait une demande d’asile ?   A  2022-09-07 13:51:03      kin                                    NaN        Kiyarwanda  ...                                                              2022-09-07 13:51:03                 0                       Have you applied for asylum?                                       0                                     Vous avez fait une demande d’asile ?                       Have you applied for asylum?\n",
              "9787  36e66161kin  36e66161  Contagieux      3            Y a-t-il des cas contagieux à l'école ?   C  2022-09-07 13:51:03      kin                                    NaN        Kiyarwanda  ...                                                              2022-09-07 13:51:03                 0             Are there contagious cases at school ?                                       0                                  Y a-t-il des cas contagieux à l'école ?             Are there contagious cases at school ?\n",
              "9788  c32f5fd9kin  c32f5fd9   Chronique      3  Y a-t-il des maladies chroniques dans votre fa...   C  2022-09-07 13:51:03      kin                                    NaN        Kiyarwanda  ...                                                              2022-09-07 13:51:03                 0         Are there chronic diseases in your family?                                       0                        Y a-t-il des maladies chroniques dans votre fa...         Are there chronic diseases in your family?\n",
              "9789  d3dba8e4kin  d3dba8e4        Zona      1                                               Zona   Z  2022-09-07 13:51:03      kin                                    NaN        Kiyarwanda  ...                                                              2022-09-07 13:51:03                 0                                           Shingles                                       0                                                                     Zona                                           Shingles\n",
              "\n",
              "[9790 rows x 27 columns]"
            ],
            "text/html": [
              "\n",
              "  <div id=\"df-15446c39-bd1e-4ea7-874f-6f2720828c31\">\n",
              "    <div class=\"colab-df-container\">\n",
              "      <div>\n",
              "<style scoped>\n",
              "    .dataframe tbody tr th:only-of-type {\n",
              "        vertical-align: middle;\n",
              "    }\n",
              "\n",
              "    .dataframe tbody tr th {\n",
              "        vertical-align: top;\n",
              "    }\n",
              "\n",
              "    .dataframe thead th {\n",
              "        text-align: right;\n",
              "    }\n",
              "</style>\n",
              "<table border=\"1\" class=\"dataframe\">\n",
              "  <thead>\n",
              "    <tr style=\"text-align: right;\">\n",
              "      <th></th>\n",
              "      <th>hash</th>\n",
              "      <th>uid</th>\n",
              "      <th>maitre</th>\n",
              "      <th>ordre</th>\n",
              "      <th>expression</th>\n",
              "      <th>idx</th>\n",
              "      <th>timestamp</th>\n",
              "      <th>language</th>\n",
              "      <th>translation</th>\n",
              "      <th>language_fulltext</th>\n",
              "      <th>...</th>\n",
              "      <th>theme_2_svg</th>\n",
              "      <th>theme_3_svg</th>\n",
              "      <th>unixtime</th>\n",
              "      <th>translation_state</th>\n",
              "      <th>translation_pivot</th>\n",
              "      <th>translation_ai_source</th>\n",
              "      <th>translation_score</th>\n",
              "      <th>translation_state_txt</th>\n",
              "      <th>translation_pivot_fr</th>\n",
              "      <th>translation_pivot_en</th>\n",
              "    </tr>\n",
              "  </thead>\n",
              "  <tbody>\n",
              "    <tr>\n",
              "      <th>0</th>\n",
              "      <td>f9bc13efams</td>\n",
              "      <td>f9bc13ef</td>\n",
              "      <td>Médicament</td>\n",
              "      <td>3</td>\n",
              "      <td>À quel moment de la journée vous prenez le méd...</td>\n",
              "      <td>M</td>\n",
              "      <td>2022-04-01 08:15:21</td>\n",
              "      <td>ams</td>\n",
              "      <td>في أي وقت من اليوم تتناول الدواء؟</td>\n",
              "      <td>Arabe</td>\n",
              "      <td>...</td>\n",
              "      <td></td>\n",
              "      <td></td>\n",
              "      <td>1648800921000000000</td>\n",
              "      <td>1</td>\n",
              "      <td>At what time of day do you take the medicine?</td>\n",
              "      <td>2</td>\n",
              "      <td>1</td>\n",
              "      <td>OK</td>\n",
              "      <td>À quel moment de la journée vous prenez le méd...</td>\n",
              "      <td>At what time of day do you take the medicine?</td>\n",
              "    </tr>\n",
              "    <tr>\n",
              "      <th>1</th>\n",
              "      <td>6e65dde7ams</td>\n",
              "      <td>6e65dde7</td>\n",
              "      <td>Abcès</td>\n",
              "      <td>1</td>\n",
              "      <td>Abcès</td>\n",
              "      <td>A</td>\n",
              "      <td>2022-03-29 15:58:04</td>\n",
              "      <td>ams</td>\n",
              "      <td>خُرّاج</td>\n",
              "      <td>Arabe</td>\n",
              "      <td>...</td>\n",
              "      <td></td>\n",
              "      <td></td>\n",
              "      <td>1648569484000000000</td>\n",
              "      <td>1</td>\n",
              "      <td>Abscesses</td>\n",
              "      <td>2</td>\n",
              "      <td>1</td>\n",
              "      <td>OK</td>\n",
              "      <td>Abcès</td>\n",
              "      <td>Abscesses</td>\n",
              "    </tr>\n",
              "    <tr>\n",
              "      <th>2</th>\n",
              "      <td>80cbaceaams</td>\n",
              "      <td>80cbacea</td>\n",
              "      <td>Abdomen</td>\n",
              "      <td>1</td>\n",
              "      <td>Abdomen</td>\n",
              "      <td>A</td>\n",
              "      <td>2022-04-08 14:14:32</td>\n",
              "      <td>ams</td>\n",
              "      <td>البطن</td>\n",
              "      <td>Arabe</td>\n",
              "      <td>...</td>\n",
              "      <td>Files_Files_/misc/Médecine générale-small.png</td>\n",
              "      <td></td>\n",
              "      <td>1649427272000000000</td>\n",
              "      <td>1</td>\n",
              "      <td>Abdomen</td>\n",
              "      <td>2</td>\n",
              "      <td>1</td>\n",
              "      <td>OK</td>\n",
              "      <td>Abdomen</td>\n",
              "      <td>Abdomen</td>\n",
              "    </tr>\n",
              "    <tr>\n",
              "      <th>3</th>\n",
              "      <td>95c4a863ams</td>\n",
              "      <td>95c4a863</td>\n",
              "      <td>Fébrile</td>\n",
              "      <td>3</td>\n",
              "      <td>Accès fébrile concomitant chez un autre membre...</td>\n",
              "      <td>F</td>\n",
              "      <td>2022-04-01 08:27:19</td>\n",
              "      <td>ams</td>\n",
              "      <td>نوبة حمى مزامنة عند فرد اخر من الأسرة</td>\n",
              "      <td>Arabe</td>\n",
              "      <td>...</td>\n",
              "      <td></td>\n",
              "      <td></td>\n",
              "      <td>1648801639000000000</td>\n",
              "      <td>1</td>\n",
              "      <td>Concomitant febrile attack in an other family ...</td>\n",
              "      <td>2</td>\n",
              "      <td>1</td>\n",
              "      <td>OK</td>\n",
              "      <td>Accès fébrile concomitant chez un autre membre...</td>\n",
              "      <td>Concomitant febrile attack in an other family ...</td>\n",
              "    </tr>\n",
              "    <tr>\n",
              "      <th>4</th>\n",
              "      <td>30579682ams</td>\n",
              "      <td>30579682</td>\n",
              "      <td>Accident</td>\n",
              "      <td>1</td>\n",
              "      <td>Accident</td>\n",
              "      <td>A</td>\n",
              "      <td>2022-03-29 15:58:05</td>\n",
              "      <td>ams</td>\n",
              "      <td>حادث</td>\n",
              "      <td>Arabe</td>\n",
              "      <td>...</td>\n",
              "      <td></td>\n",
              "      <td></td>\n",
              "      <td>1648569485000000000</td>\n",
              "      <td>1</td>\n",
              "      <td>Accident</td>\n",
              "      <td>2</td>\n",
              "      <td>1</td>\n",
              "      <td>OK</td>\n",
              "      <td>Accident</td>\n",
              "      <td>Accident</td>\n",
              "    </tr>\n",
              "    <tr>\n",
              "      <th>...</th>\n",
              "      <td>...</td>\n",
              "      <td>...</td>\n",
              "      <td>...</td>\n",
              "      <td>...</td>\n",
              "      <td>...</td>\n",
              "      <td>...</td>\n",
              "      <td>...</td>\n",
              "      <td>...</td>\n",
              "      <td>...</td>\n",
              "      <td>...</td>\n",
              "      <td>...</td>\n",
              "      <td>...</td>\n",
              "      <td>...</td>\n",
              "      <td>...</td>\n",
              "      <td>...</td>\n",
              "      <td>...</td>\n",
              "      <td>...</td>\n",
              "      <td>...</td>\n",
              "      <td>...</td>\n",
              "      <td>...</td>\n",
              "      <td>...</td>\n",
              "    </tr>\n",
              "    <tr>\n",
              "      <th>9785</th>\n",
              "      <td>2344ba84kin</td>\n",
              "      <td>2344ba84</td>\n",
              "      <td>Accoucher</td>\n",
              "      <td>3</td>\n",
              "      <td>Vous avez accouché par césarienne ou voie basse ?</td>\n",
              "      <td>A</td>\n",
              "      <td>2022-09-07 13:51:03</td>\n",
              "      <td>kin</td>\n",
              "      <td>NaN</td>\n",
              "      <td>Kiyarwanda</td>\n",
              "      <td>...</td>\n",
              "      <td></td>\n",
              "      <td></td>\n",
              "      <td>2022-09-07 13:51:03</td>\n",
              "      <td>0</td>\n",
              "      <td>Did you give birth by caesarean or low lane?</td>\n",
              "      <td></td>\n",
              "      <td>0</td>\n",
              "      <td></td>\n",
              "      <td>Vous avez accouché par césarienne ou voie basse ?</td>\n",
              "      <td>Did you give birth by caesarean or low lane?</td>\n",
              "    </tr>\n",
              "    <tr>\n",
              "      <th>9786</th>\n",
              "      <td>62337faekin</td>\n",
              "      <td>62337fae</td>\n",
              "      <td>Asile</td>\n",
              "      <td>3</td>\n",
              "      <td>Vous avez fait une demande d’asile ?</td>\n",
              "      <td>A</td>\n",
              "      <td>2022-09-07 13:51:03</td>\n",
              "      <td>kin</td>\n",
              "      <td>NaN</td>\n",
              "      <td>Kiyarwanda</td>\n",
              "      <td>...</td>\n",
              "      <td></td>\n",
              "      <td></td>\n",
              "      <td>2022-09-07 13:51:03</td>\n",
              "      <td>0</td>\n",
              "      <td>Have you applied for asylum?</td>\n",
              "      <td></td>\n",
              "      <td>0</td>\n",
              "      <td></td>\n",
              "      <td>Vous avez fait une demande d’asile ?</td>\n",
              "      <td>Have you applied for asylum?</td>\n",
              "    </tr>\n",
              "    <tr>\n",
              "      <th>9787</th>\n",
              "      <td>36e66161kin</td>\n",
              "      <td>36e66161</td>\n",
              "      <td>Contagieux</td>\n",
              "      <td>3</td>\n",
              "      <td>Y a-t-il des cas contagieux à l'école ?</td>\n",
              "      <td>C</td>\n",
              "      <td>2022-09-07 13:51:03</td>\n",
              "      <td>kin</td>\n",
              "      <td>NaN</td>\n",
              "      <td>Kiyarwanda</td>\n",
              "      <td>...</td>\n",
              "      <td></td>\n",
              "      <td></td>\n",
              "      <td>2022-09-07 13:51:03</td>\n",
              "      <td>0</td>\n",
              "      <td>Are there contagious cases at school ?</td>\n",
              "      <td></td>\n",
              "      <td>0</td>\n",
              "      <td></td>\n",
              "      <td>Y a-t-il des cas contagieux à l'école ?</td>\n",
              "      <td>Are there contagious cases at school ?</td>\n",
              "    </tr>\n",
              "    <tr>\n",
              "      <th>9788</th>\n",
              "      <td>c32f5fd9kin</td>\n",
              "      <td>c32f5fd9</td>\n",
              "      <td>Chronique</td>\n",
              "      <td>3</td>\n",
              "      <td>Y a-t-il des maladies chroniques dans votre fa...</td>\n",
              "      <td>C</td>\n",
              "      <td>2022-09-07 13:51:03</td>\n",
              "      <td>kin</td>\n",
              "      <td>NaN</td>\n",
              "      <td>Kiyarwanda</td>\n",
              "      <td>...</td>\n",
              "      <td></td>\n",
              "      <td></td>\n",
              "      <td>2022-09-07 13:51:03</td>\n",
              "      <td>0</td>\n",
              "      <td>Are there chronic diseases in your family?</td>\n",
              "      <td></td>\n",
              "      <td>0</td>\n",
              "      <td></td>\n",
              "      <td>Y a-t-il des maladies chroniques dans votre fa...</td>\n",
              "      <td>Are there chronic diseases in your family?</td>\n",
              "    </tr>\n",
              "    <tr>\n",
              "      <th>9789</th>\n",
              "      <td>d3dba8e4kin</td>\n",
              "      <td>d3dba8e4</td>\n",
              "      <td>Zona</td>\n",
              "      <td>1</td>\n",
              "      <td>Zona</td>\n",
              "      <td>Z</td>\n",
              "      <td>2022-09-07 13:51:03</td>\n",
              "      <td>kin</td>\n",
              "      <td>NaN</td>\n",
              "      <td>Kiyarwanda</td>\n",
              "      <td>...</td>\n",
              "      <td></td>\n",
              "      <td></td>\n",
              "      <td>2022-09-07 13:51:03</td>\n",
              "      <td>0</td>\n",
              "      <td>Shingles</td>\n",
              "      <td></td>\n",
              "      <td>0</td>\n",
              "      <td></td>\n",
              "      <td>Zona</td>\n",
              "      <td>Shingles</td>\n",
              "    </tr>\n",
              "  </tbody>\n",
              "</table>\n",
              "<p>9790 rows × 27 columns</p>\n",
              "</div>\n",
              "      <button class=\"colab-df-convert\" onclick=\"convertToInteractive('df-15446c39-bd1e-4ea7-874f-6f2720828c31')\"\n",
              "              title=\"Convert this dataframe to an interactive table.\"\n",
              "              style=\"display:none;\">\n",
              "        \n",
              "  <svg xmlns=\"http://www.w3.org/2000/svg\" height=\"24px\"viewBox=\"0 0 24 24\"\n",
              "       width=\"24px\">\n",
              "    <path d=\"M0 0h24v24H0V0z\" fill=\"none\"/>\n",
              "    <path d=\"M18.56 5.44l.94 2.06.94-2.06 2.06-.94-2.06-.94-.94-2.06-.94 2.06-2.06.94zm-11 1L8.5 8.5l.94-2.06 2.06-.94-2.06-.94L8.5 2.5l-.94 2.06-2.06.94zm10 10l.94 2.06.94-2.06 2.06-.94-2.06-.94-.94-2.06-.94 2.06-2.06.94z\"/><path d=\"M17.41 7.96l-1.37-1.37c-.4-.4-.92-.59-1.43-.59-.52 0-1.04.2-1.43.59L10.3 9.45l-7.72 7.72c-.78.78-.78 2.05 0 2.83L4 21.41c.39.39.9.59 1.41.59.51 0 1.02-.2 1.41-.59l7.78-7.78 2.81-2.81c.8-.78.8-2.07 0-2.86zM5.41 20L4 18.59l7.72-7.72 1.47 1.35L5.41 20z\"/>\n",
              "  </svg>\n",
              "      </button>\n",
              "      \n",
              "  <style>\n",
              "    .colab-df-container {\n",
              "      display:flex;\n",
              "      flex-wrap:wrap;\n",
              "      gap: 12px;\n",
              "    }\n",
              "\n",
              "    .colab-df-convert {\n",
              "      background-color: #E8F0FE;\n",
              "      border: none;\n",
              "      border-radius: 50%;\n",
              "      cursor: pointer;\n",
              "      display: none;\n",
              "      fill: #1967D2;\n",
              "      height: 32px;\n",
              "      padding: 0 0 0 0;\n",
              "      width: 32px;\n",
              "    }\n",
              "\n",
              "    .colab-df-convert:hover {\n",
              "      background-color: #E2EBFA;\n",
              "      box-shadow: 0px 1px 2px rgba(60, 64, 67, 0.3), 0px 1px 3px 1px rgba(60, 64, 67, 0.15);\n",
              "      fill: #174EA6;\n",
              "    }\n",
              "\n",
              "    [theme=dark] .colab-df-convert {\n",
              "      background-color: #3B4455;\n",
              "      fill: #D2E3FC;\n",
              "    }\n",
              "\n",
              "    [theme=dark] .colab-df-convert:hover {\n",
              "      background-color: #434B5C;\n",
              "      box-shadow: 0px 1px 3px 1px rgba(0, 0, 0, 0.15);\n",
              "      filter: drop-shadow(0px 1px 2px rgba(0, 0, 0, 0.3));\n",
              "      fill: #FFFFFF;\n",
              "    }\n",
              "  </style>\n",
              "\n",
              "      <script>\n",
              "        const buttonEl =\n",
              "          document.querySelector('#df-15446c39-bd1e-4ea7-874f-6f2720828c31 button.colab-df-convert');\n",
              "        buttonEl.style.display =\n",
              "          google.colab.kernel.accessAllowed ? 'block' : 'none';\n",
              "\n",
              "        async function convertToInteractive(key) {\n",
              "          const element = document.querySelector('#df-15446c39-bd1e-4ea7-874f-6f2720828c31');\n",
              "          const dataTable =\n",
              "            await google.colab.kernel.invokeFunction('convertToInteractive',\n",
              "                                                     [key], {});\n",
              "          if (!dataTable) return;\n",
              "\n",
              "          const docLinkHtml = 'Like what you see? Visit the ' +\n",
              "            '<a target=\"_blank\" href=https://colab.research.google.com/notebooks/data_table.ipynb>data table notebook</a>'\n",
              "            + ' to learn more about interactive tables.';\n",
              "          element.innerHTML = '';\n",
              "          dataTable['output_type'] = 'display_data';\n",
              "          await google.colab.output.renderOutput(dataTable, element);\n",
              "          const docLink = document.createElement('div');\n",
              "          docLink.innerHTML = docLinkHtml;\n",
              "          element.appendChild(docLink);\n",
              "        }\n",
              "      </script>\n",
              "    </div>\n",
              "  </div>\n",
              "  "
            ]
          },
          "metadata": {},
          "execution_count": 15
        }
      ]
    },
    {
      "cell_type": "markdown",
      "source": [
        "#### Mise à jour des traductions dans Airtable (en attente)\n",
        "```\n",
        "for index, row in df_newly_updated_in_langdeck.iterrows():\n",
        "  if row[\"uid\"] is not None:\n",
        "    record = airtable.match('uid', row[\"uid\"])\n",
        "    if bool(record) is True:\n",
        "      aDict = {}\n",
        "      aDict[row[\"language\"]] = row[\"translation\"]\n",
        "      airtable.update(record['id'], aDict)\n",
        "      print (\"Updating status for \" + row[\"uid\"])\n",
        "```\n",
        "\n"
      ],
      "metadata": {
        "id": "qTaB3Mv8g44q"
      }
    },
    {
      "cell_type": "code",
      "source": [
        "try:\n",
        "  wb  = gc.open_by_url(db_langdeck_url)\n",
        "  t_corpus = wb.worksheet(\"t_corpus_all_entries\")\n",
        "  wb.del_worksheet(t_corpus)\n",
        "except:\n",
        "  print (\"Onglet inexistant !\")\n",
        "  pass\n",
        "wb.add_worksheet(\"t_corpus_all_entries\", 1, 1)\n",
        "export_sheet = wb.worksheet(\"t_corpus_all_entries\")\n",
        "set_with_dataframe(export_sheet, df_langdeck)"
      ],
      "metadata": {
        "id": "-A1A3qJ_j819"
      },
      "execution_count": 16,
      "outputs": []
    },
    {
      "cell_type": "markdown",
      "source": [
        "# Table Corpus Headword (Lemme)\n",
        "Indexé sur le Lemme"
      ],
      "metadata": {
        "id": "uPPulsgoX73O"
      }
    },
    {
      "cell_type": "markdown",
      "source": [],
      "metadata": {
        "id": "7RQtQItuco0X"
      }
    },
    {
      "cell_type": "code",
      "source": [
        "# table vue Lemme\n",
        "at_lemme = Airtable(base_id, \"Corpus\", api_key)\n",
        "vk_lemme = at_lemme.get_all(view='Lemme',sort=['alphabet', 'rank','vocabulary_unit'])\n",
        "df_vklemme = pd.DataFrame.from_records((r['fields'] for r in vk_lemme))\n",
        "df_vklemme.drop_duplicates(subset=['vocabulary_unit'], inplace=True)"
      ],
      "metadata": {
        "id": "XIv-mLodmAQQ"
      },
      "execution_count": 17,
      "outputs": []
    },
    {
      "cell_type": "code",
      "source": [
        "### on charge la table t_corpus_head\n",
        "sheet = db_langdeck_url\n",
        "wb  = gc.open_by_url(sheet)\n",
        "tbl = wb.worksheet(\"t_corpus_head\")\n",
        "# on recharge avec les nouvelles données\n",
        "data = tbl.get_all_values()\n",
        "df_corpus_head = pd.DataFrame(data[1:], columns=data[0]).drop_duplicates(subset=['terme_pref'])  "
      ],
      "metadata": {
        "id": "VCvjyekgdNJx"
      },
      "execution_count": 18,
      "outputs": []
    },
    {
      "cell_type": "code",
      "source": [
        "# différence dans les deux sens\n",
        "df_diff = df_langdeck[~df_langdeck[\"maitre\"].isin(df_corpus_head[\"terme_pref\"])].drop_duplicates(subset=['maitre'])\n",
        "# on vire ce qui n'est plus dans le ref aiertabel\n",
        "df_corpus_head.drop(df_corpus_head[~df_corpus_head[\"terme_pref\"].isin(df_langdeck[\"maitre\"])].index, inplace=True)"
      ],
      "metadata": {
        "id": "kLP0zmGK79XW"
      },
      "execution_count": 19,
      "outputs": []
    },
    {
      "cell_type": "code",
      "source": [
        "df_head_lines = df_vklemme[(df_vklemme[\"vocabulary_unit\"].isin(df_corpus_head[\"terme_pref\"])) & (df_vklemme[\"headword\"]==True)]"
      ],
      "metadata": {
        "id": "7fUvxrOkgwYx"
      },
      "execution_count": 20,
      "outputs": []
    },
    {
      "cell_type": "code",
      "source": [
        "def f_content_head(lemma):\n",
        "  df_f = df_vklemme.loc[df_vklemme[\"lemma\"]==lemma].sort_values(by=['rank'])\n",
        "  definition = df_corpus_head.loc[df_corpus_head[\"terme_pref\"]==lemma][\"definition\"].values.item()\n",
        "  if len(definition) == 0:\n",
        "    print(\"Appel Larousse \" + lemma)\n",
        "    definition = get_larousse(lemma)\n",
        "    if len(definition) == 0:\n",
        "      definition = \"à renseigner\"\n",
        "  t = \"\"\n",
        "  for index, row in df_f.iterrows():\n",
        "    strng=\"\"\n",
        "    for i in row['category']:\n",
        "      strng +=str(i)    \n",
        "    if row['rank'] == 1:\n",
        "      t = t + \"<b>\"  + row[\"vocabulary_unit\"] + \"</b><br />\"\n",
        "      t = t + \"<i>\" +strng + \"</i>&#9;\"\n",
        "      t = t + definition + \"<br />\"\n",
        "      t += \"<br />\"\n",
        "    elif row['rank'] == 2:\n",
        "      t = t + \"&#9670;&nbsp;\"  + row[\"vocabulary_unit\"] + \"<br />\"\n",
        "    else:\n",
        "      t = t + \"&#9671;&nbsp;\"  + row[\"vocabulary_unit\"] + \"<br />\"  \n",
        "  return t\n"
      ],
      "metadata": {
        "id": "aVDFSSJFIxyd"
      },
      "execution_count": 21,
      "outputs": []
    },
    {
      "cell_type": "code",
      "source": [
        "def f_update_head(lemma):\n",
        "  #print(lemma)\n",
        "  r1 = df_head_lines.loc[df_head_lines[\"vocabulary_unit\"]==lemma][\"uid\"].values.item()\n",
        "  r2 = df_head_lines.loc[df_head_lines[\"vocabulary_unit\"]==lemma][\"pivot_en\"].values.item()\n",
        "  r3 = f_content_head(lemma)\n",
        "\n",
        "  return pd.Series([r1, r2, r3])"
      ],
      "metadata": {
        "id": "eXOB3SRKTYUd"
      },
      "execution_count": 22,
      "outputs": []
    },
    {
      "cell_type": "markdown",
      "source": [
        "### Append : Ajout des nouvelles lignes Head"
      ],
      "metadata": {
        "id": "Adwhny0jdsaS"
      }
    },
    {
      "cell_type": "code",
      "source": [
        "# DF des enregistrements dans AT et pas dans GS\n",
        "df_head_newlines = df_vklemme[(~df_vklemme[\"vocabulary_unit\"].isin(df_corpus_head[\"terme_pref\"])) & (df_vklemme[\"headword\"]==True)]\n",
        "# on ajoute chaque enregistrement en passant par un DICT (pour mieux contrôler)\n",
        "for index, row in df_head_newlines.iterrows():\n",
        "  d = {}\n",
        "  d[\"uid\"]=row['uid']\n",
        "  d[\"terme_pref\"]=row[\"lemma\"]\n",
        "  d[\"idx\"]=row[\"alphabet\"]\n",
        "  d[\"translation_pivot\"]=row[\"pivot\"]  \n",
        "  d[\"translation_pivot_en\"]=row[\"pivot_en\"]    \n",
        "  d[\"wikipedia_fr\"]=\"\"\n",
        "  d[\"wikipedia_en\"]=\"\"\n",
        "  d[\"wiki_search_text_fr\"]=\"\"\n",
        "  d[\"wiki_search_text_en\"]=\"\"\n",
        "  d[\"wikipedia_fr_state\"]=0\n",
        "  d[\"wikipedia_en_state\"]=0 \n",
        "  d[\"definition\"] = get_larousse(row[\"lemma\"])\n",
        "  d[\"content\"]= \"\"\n",
        "  # ajout dans le DF\n",
        "  df_corpus_head = df_corpus_head.append(d, ignore_index = True)"
      ],
      "metadata": {
        "id": "ZSyuTVO5C6DU"
      },
      "execution_count": 23,
      "outputs": []
    },
    {
      "cell_type": "code",
      "source": [
        "# apprès ajout, il faut recharger ce DF\n",
        "df_head_lines = df_vklemme[(df_vklemme[\"vocabulary_unit\"].isin(df_corpus_head[\"terme_pref\"])) & (df_vklemme[\"headword\"]==True)]"
      ],
      "metadata": {
        "id": "mVWij7SrbVgJ"
      },
      "execution_count": 24,
      "outputs": []
    },
    {
      "cell_type": "markdown",
      "source": [
        "### Update"
      ],
      "metadata": {
        "id": "JqL8KRYhn4YM"
      }
    },
    {
      "cell_type": "markdown",
      "source": [
        "#### Appel Larousse si non renseigné\n",
        "https://github.com/quentin-dev/larousse_api\n",
        "\n",
        "https://pypi.org/project/PyDictionary/\n"
      ],
      "metadata": {
        "id": "SjztgJWGlgUZ"
      }
    },
    {
      "cell_type": "code",
      "source": [
        "df_corpus_head[\"definition\"] = df_corpus_head[[\"terme_pref\",\"definition\"]].apply(lambda x:get_larousse(x[0]) if x[1]==\"\" else x[1], axis=1)"
      ],
      "metadata": {
        "id": "MeMBje-blizY"
      },
      "execution_count": 25,
      "outputs": []
    },
    {
      "cell_type": "markdown",
      "source": [
        "#### Mide à jour des lignes existantes Head"
      ],
      "metadata": {
        "id": "BEXNlja3dxCd"
      }
    },
    {
      "cell_type": "code",
      "source": [
        "df_corpus_head[[\"uid\",\"translation_pivot_en\",\"content\"]] = df_corpus_head[\"terme_pref\"].apply(lambda x:f_update_head(x))"
      ],
      "metadata": {
        "id": "mAzezppNUkHc"
      },
      "execution_count": 26,
      "outputs": []
    },
    {
      "cell_type": "markdown",
      "source": [
        "#### Appel MediaWiki (suspendu)\n",
        "\n",
        "\n",
        "```\n",
        "df_corpus_head[\"wikipedia_fr\"] = df_corpus_head[[\"terme_pref\",\"wikipedia_fr\"]].apply(lambda x:get_wikipedia(x[0], \"fr\") if pd.isna(x[1]) else x[1], axis=1)\n",
        "```\n",
        "\n"
      ],
      "metadata": {
        "id": "3Nuz5LrJlaP7"
      }
    },
    {
      "cell_type": "markdown",
      "source": [
        "#### Appels Wiki Head"
      ],
      "metadata": {
        "id": "3RZhYxeyedtl"
      }
    },
    {
      "cell_type": "markdown",
      "source": [
        "Différences entre Langdeck REf et termes_pref"
      ],
      "metadata": {
        "id": "-ujyPyjpf2Kf"
      }
    },
    {
      "cell_type": "code",
      "source": [
        "# traduction en anglais (pivot)\n",
        "from google.colab import output\n",
        "output.enable_custom_widget_manager()\n",
        "\n"
      ],
      "metadata": {
        "id": "NR_vOcruMhfz"
      },
      "execution_count": 27,
      "outputs": []
    },
    {
      "cell_type": "code",
      "source": [
        "'''\n",
        "df_corpus_head[\"wiki_search_text_fr\"] = df_corpus_head[\"translation_pivot\"]\n",
        "df_corpus_head[\"wiki_search_text_en\"] = df_corpus_head[\"translation_pivot_en\"]\n",
        "\n",
        "df_corpus_head[\"wikipedia_fr\"] = df_corpus_head[[\"translation_pivot\",\"wikipedia_fr\"]].apply(lambda x:get_wikipedia(x[0], \"fr\") if pd.isna(x[1]) else x[1], axis=1)\n",
        "df_corpus_head[\"wikipedia_en\"] = df_corpus_head[[\"translation_pivot_en\",\"wikipedia_en\"]].apply(lambda x:get_wikipedia(x[0], \"en\") if pd.isna(x[1]) else x[1], axis=1)\n",
        "\n",
        "df_corpus_head[\"wikipedia_fr_state\"]=df_corpus_head[\"wikipedia_fr\"].apply(lambda x: 1 if (len(x)>0 and x[0]==\"\\n\") else 0)\n",
        "df_corpus_head[\"wikipedia_en_state\"]=df_corpus_head[\"wikipedia_en\"].apply(lambda x: 1 if (len(x)>0 and x[0]==\"\\n\") else 0)\n",
        "'''"
      ],
      "metadata": {
        "id": "NlgNCNUUlbSK",
        "colab": {
          "base_uri": "https://localhost:8080/",
          "height": 91
        },
        "outputId": "f49f37ca-7bb6-47dc-c588-20e7a1bac83e"
      },
      "execution_count": 28,
      "outputs": [
        {
          "output_type": "execute_result",
          "data": {
            "text/plain": [
              "'\\ndf_corpus_head[\"wiki_search_text_fr\"] = df_corpus_head[\"translation_pivot\"]\\ndf_corpus_head[\"wiki_search_text_en\"] = df_corpus_head[\"translation_pivot_en\"]\\n\\ndf_corpus_head[\"wikipedia_fr\"] = df_corpus_head[[\"translation_pivot\",\"wikipedia_fr\"]].apply(lambda x:get_wikipedia(x[0], \"fr\") if pd.isna(x[1]) else x[1], axis=1)\\ndf_corpus_head[\"wikipedia_en\"] = df_corpus_head[[\"translation_pivot_en\",\"wikipedia_en\"]].apply(lambda x:get_wikipedia(x[0], \"en\") if pd.isna(x[1]) else x[1], axis=1)\\n\\ndf_corpus_head[\"wikipedia_fr_state\"]=df_corpus_head[\"wikipedia_fr\"].apply(lambda x: 1 if (len(x)>0 and x[0]==\"\\n\") else 0)\\ndf_corpus_head[\"wikipedia_en_state\"]=df_corpus_head[\"wikipedia_en\"].apply(lambda x: 1 if (len(x)>0 and x[0]==\"\\n\") else 0)\\n'"
            ],
            "application/vnd.google.colaboratory.intrinsic+json": {
              "type": "string"
            }
          },
          "metadata": {},
          "execution_count": 28
        }
      ]
    },
    {
      "cell_type": "code",
      "source": [
        "try:\n",
        "  t_ = wb.worksheet(\"t_corpus_head\")\n",
        "  wb.del_worksheet(t_)\n",
        "except:\n",
        "  print (\"Onglet inexistant !\")\n",
        "\n",
        "wb.add_worksheet(\"t_corpus_head\", 1, 1)\n",
        "export_sheet = wb.worksheet(\"t_corpus_head\")\n",
        "set_with_dataframe(export_sheet, df_corpus_head)"
      ],
      "metadata": {
        "id": "9584TAJaodL7"
      },
      "execution_count": 29,
      "outputs": []
    },
    {
      "cell_type": "code",
      "source": [
        "from google.colab import output\n",
        "output.disable_custom_widget_manager()"
      ],
      "metadata": {
        "id": "2-DT0dAILgEX"
      },
      "execution_count": 30,
      "outputs": []
    },
    {
      "cell_type": "markdown",
      "source": [
        "## Vocabulaire"
      ],
      "metadata": {
        "id": "h_C_bkSkhgHE"
      }
    },
    {
      "cell_type": "markdown",
      "source": [
        "### On recherche les unités de vocabulaire et les headwords dans AT, et si non trouvés, on les créé\n",
        "On cherche dans le DF Langdeck car s'ils s'y trouvent, ils sont aussi dans AT\n",
        "Si pas trouvé on crée dans AT (ils seront créés dans Langdeck ultérieurement (processus))"
      ],
      "metadata": {
        "id": "zL1NTnJo0fz9"
      }
    },
    {
      "cell_type": "code",
      "source": [
        "def f_get_vocab_unit (s):\n",
        "  s = lemmatizer.lemmatize(s).lower()\n",
        "  vu = \"\"\n",
        "  try:\n",
        "    vu = df_langdeck.loc[df_langdeck[\"expression\"].str.lower()==s][\"expression\"].drop_duplicates().values.item()\n",
        "    print(\"Found \" + vu + \" for \" + s)\n",
        "  except Exception as e:\n",
        "    vu = vu.capitalize()\n",
        "    print (\"Unité de vocabulaire / Headword / Lemme introuvable : \" + s)\n",
        "    # création dans le ref\n",
        "    pass\n",
        "  return vu"
      ],
      "metadata": {
        "id": "qQjJtva7OQkj"
      },
      "execution_count": 31,
      "outputs": []
    },
    {
      "cell_type": "code",
      "source": [
        "def f_get_headword (s):\n",
        "  s = lemmatizer.lemmatize(s).lower()\n",
        "  hw = \"\"\n",
        "  try:\n",
        "    hw = df_langdeck.loc[df_langdeck[\"expression\"].str.lower()==s][\"maitre\"].drop_duplicates().values.item()\n",
        "    print(\"Found \" + hw + \" for \" + s)\n",
        "  except Exception as e:\n",
        "    hw = hw.capitalize()\n",
        "    print (\"Unité de vocabulaire / Headword / Lemme introuvable : \" + s.capitalize())\n",
        "    # création dans le ref\n",
        "    pass\n",
        "  return hw"
      ],
      "metadata": {
        "id": "DMcA8dfdTpmy"
      },
      "execution_count": 32,
      "outputs": []
    },
    {
      "cell_type": "code",
      "source": [
        "tbl = wb.worksheet(\"t_ec_vocabulary\")\n",
        "data = tbl.get_all_values()\n",
        "df_vocab = pd.DataFrame(data[1:], columns=data[0])\n",
        "df_vocab[\"b_hw\"]=df_vocab[\"headword\"].apply(lambda x:f_get_headword(x))\n",
        "df_vocab[\"b_vu\"]=df_vocab[\"Vocabulaire\"].apply(lambda x:f_get_vocab_unit(x))"
      ],
      "metadata": {
        "id": "bL4xaJ4yhnlv",
        "colab": {
          "base_uri": "https://localhost:8080/"
        },
        "outputId": "8b769ce8-d50b-4067-c0a6-e5f5fb20a4f2"
      },
      "execution_count": 33,
      "outputs": [
        {
          "output_type": "stream",
          "name": "stdout",
          "text": [
            "Found Asile for asile\n",
            "Found Asile for asile\n",
            "Found Cancer for cancer\n",
            "Found Famille for famille\n",
            "Found Oui for oui\n",
            "Found Enfant for enfant\n",
            "Found Bonjour for bonjour\n",
            "Found Dossier for dossier\n",
            "Found Cancer for cancer\n",
            "Found Diabète for diabète\n",
            "Found Insuffisance for insuffisance\n",
            "Found Chimiothérapie for chimiothérapie\n",
            "Found Opération for opération\n",
            "Found Comment for comment\n",
            "Found Gynécologie for gynécologie\n",
            "Found Cancer for cancer\n",
            "Found Médecine for médecine\n",
            "Found Asile for asile\n",
            "Found Ovaire for ovaire\n",
            "Found Prise en charge for prise en charge\n",
            "Found Médicament for médicament\n",
            "Found Tension for tension\n",
            "Found Bilan for bilan\n",
            "Found Assistance for assistance\n",
            "Found Chimiothérapie for chimiothérapie\n",
            "Found Utérus for utérus\n",
            "Found Ovaire for ovaire\n",
            "Found Cardiaque for cardiaque\n",
            "Found Demande d’asile for demande d’asile\n",
            "Found Vous avez fait une demande d’asile ? for vous avez fait une demande d’asile ?\n",
            "Found Cancer for cancer\n",
            "Found Famille for famille\n",
            "Found Oui for oui\n",
            "Found Enfant for enfant\n",
            "Found Bonjour for bonjour\n",
            "Found Dossier for dossier\n",
            "Found Cancer for cancer\n",
            "Found Diabète for diabète\n",
            "Found Insuffisance cardiaque for insuffisance cardiaque\n",
            "Found Chimiothérapie for chimiothérapie\n",
            "Found Opération for opération\n",
            "Found Comment for comment\n",
            "Found Gynécologie for gynécologie\n",
            "Found Cancer for cancer\n",
            "Found Médecine for médecine\n",
            "Found Asile for asile\n",
            "Found Ovaire for ovaire\n",
            "Found Prise en charge for prise en charge\n",
            "Found Médicament for médicament\n",
            "Found Tension for tension\n",
            "Found Bilan biologique for bilan biologique\n",
            "Found Assistance sociale for assistance sociale\n",
            "Found Chimiothérapie for chimiothérapie\n",
            "Found Utérus for utérus\n",
            "Found Cancer des ovaires for cancer des ovaires\n",
            "Found Problèmes cardiaques for problèmes cardiaques\n"
          ]
        }
      ]
    },
    {
      "cell_type": "markdown",
      "source": [
        "### Ajout des Lemmes (Headword)"
      ],
      "metadata": {
        "id": "9FF_ejkqqBJD"
      }
    },
    {
      "cell_type": "code",
      "source": [
        "for index, row in df_vocab.iterrows():\n",
        "  # si b_hw est vide : on créé la ligne\n",
        "  if row[\"b_hw\"] == \"\":\n",
        "    print (row[\"headword\"])\n",
        "    record = at_lemme.match('lemma', row[\"headword\"])\n",
        "    if record:\n",
        "      print (\"Found lemma : \" + row[\"headword\"] + \" \" + record['fields']['lemma'])\n",
        "    else:\n",
        "      # on crée une nouvelle ligne\n",
        "      fields = {\"lemma\": row[\"headword\"], \"alphabet\": row[\"headword\"][0], \"headword\":True, \"b_appended\":True}\n",
        "      at_lemme.insert(fields, typecast=True)\n",
        "      print (\"New lemma :\" + str(fields))      "
      ],
      "metadata": {
        "id": "B0Txj-9ZX70K"
      },
      "execution_count": 34,
      "outputs": []
    },
    {
      "cell_type": "markdown",
      "source": [
        "### Ajout des Unités de vocabulaire"
      ],
      "metadata": {
        "id": "V14Ym87hqE4a"
      }
    },
    {
      "cell_type": "code",
      "source": [
        "for index, row in df_vocab.iterrows():\n",
        "  # si b_hw est vide : on créé la ligne\n",
        "  if row[\"b_vu\"] == \"\":\n",
        "    print (row[\"Vocabulaire\"])\n",
        "    record = at_lemme.match('vocabulary_unit', row[\"Vocabulaire\"])\n",
        "    if record:\n",
        "      print (\"Found vocabulary_unit : \" + row[\"Vocabulaire\"] + \" \" + record['fields']['vocabulary_unit'])\n",
        "    else:\n",
        "      # on crée une nouvelle ligne\n",
        "      fields = {\"vocabulary_unit\":row[\"Vocabulaire\"], \"lemma\": row[\"headword\"], \"alphabet\": row[\"headword\"][0], \"headword\":False, \"b_appended\":True}\n",
        "      at_lemme.insert(fields, typecast=True)\n",
        "      print (\"New vocabulary_unit :\" + str(fields))   "
      ],
      "metadata": {
        "id": "74fW7xVgYoed"
      },
      "execution_count": 35,
      "outputs": []
    },
    {
      "cell_type": "code",
      "source": [
        "# On recharge si besoin la table vue Lemme\n",
        "at_lemme = Airtable(base_id, \"Corpus\", api_key)\n",
        "vk_lemme = at_lemme.get_all(view='Lemme',sort=['alphabet', 'rank','vocabulary_unit'])\n",
        "df_vklemme = pd.DataFrame.from_records((r['fields'] for r in vk_lemme))\n",
        "df_vklemme.drop_duplicates(subset=['vocabulary_unit'], inplace=True)"
      ],
      "metadata": {
        "id": "XV5R2FIVxDdV"
      },
      "execution_count": 36,
      "outputs": []
    },
    {
      "cell_type": "code",
      "source": [
        "# on enregistre dans GSheet\n",
        "df_vocab.drop(['b_hw', 'b_vu'], axis=1, inplace=True)\n",
        "try:\n",
        "  t_ = wb.worksheet(\"t_ec_vocabulary\")\n",
        "  wb.del_worksheet(t_)\n",
        "except:\n",
        "  print (\"Onglet inexistant !\")\n",
        "\n",
        "wb.add_worksheet(\"t_ec_vocabulary\", 1, 1)\n",
        "export_sheet = wb.worksheet(\"t_ec_vocabulary\")\n",
        "set_with_dataframe(export_sheet, df_vocab)"
      ],
      "metadata": {
        "id": "wsB-Ge4HkrLo"
      },
      "execution_count": 37,
      "outputs": []
    },
    {
      "cell_type": "markdown",
      "source": [
        "#Table Traduction Corpus IA"
      ],
      "metadata": {
        "id": "seTQr_K4sOM-"
      }
    },
    {
      "cell_type": "code",
      "source": [
        "df_lang_vendor = pd.DataFrame(dict_lang_vendor)"
      ],
      "metadata": {
        "id": "N_f_OAWI8j8-"
      },
      "execution_count": 38,
      "outputs": []
    },
    {
      "cell_type": "code",
      "source": [
        "df_lang_vendor.loc[df_lang_vendor[\"language\"]==\"rou\"][\"iso-code\"].values.item()"
      ],
      "metadata": {
        "colab": {
          "base_uri": "https://localhost:8080/",
          "height": 36
        },
        "id": "G9oqunfe8ueM",
        "outputId": "806d8f2e-4a1b-480a-9dcc-44495841c852"
      },
      "execution_count": 32,
      "outputs": [
        {
          "output_type": "execute_result",
          "data": {
            "text/plain": [
              "'ro'"
            ],
            "application/vnd.google.colaboratory.intrinsic+json": {
              "type": "string"
            }
          },
          "metadata": {},
          "execution_count": 32
        }
      ]
    },
    {
      "cell_type": "code",
      "source": [
        "language=\"rou\"\n",
        "iso_code = df_lang_vendor.loc[df_lang_vendor[\"language\"]==\"rou\"][\"iso-code\"].values.item()"
      ],
      "metadata": {
        "id": "bW67J_Y09FBd"
      },
      "execution_count": 33,
      "outputs": []
    },
    {
      "cell_type": "code",
      "source": [
        "from deep_translator import GoogleTranslator\n",
        "input=\"Bonjour\"\n",
        "translation = GoogleTranslator(source='auto', target=iso_code).translate(input)\n",
        "translation"
      ],
      "metadata": {
        "id": "TGWlGG1LEg_-",
        "colab": {
          "base_uri": "https://localhost:8080/",
          "height": 36
        },
        "outputId": "6881df20-a78b-4402-c2f2-06cd92670e78"
      },
      "execution_count": null,
      "outputs": [
        {
          "output_type": "execute_result",
          "data": {
            "text/plain": [
              "'Bun ziua'"
            ],
            "application/vnd.google.colaboratory.intrinsic+json": {
              "type": "string"
            }
          },
          "metadata": {},
          "execution_count": 101
        }
      ]
    },
    {
      "cell_type": "code",
      "source": [
        "from deep_translator import DeeplTranslator\n",
        "text = 'Quand avez-vous pris vos médicaments ?'\n",
        "translated = DeeplTranslator(api_key=\"ea9751e0-a036-d65e-14af-3169e96b11e4:fx\", source=\"fr\", target=iso_code, use_free_api=True).translate(text)\n",
        "translated"
      ],
      "metadata": {
        "colab": {
          "base_uri": "https://localhost:8080/",
          "height": 36
        },
        "id": "ZKwArkTbCKzW",
        "outputId": "06fbe18a-c9eb-4a8f-87c2-158bc004c93b"
      },
      "execution_count": null,
      "outputs": [
        {
          "output_type": "execute_result",
          "data": {
            "text/plain": [
              "'Când v-ați luat medicamentele?'"
            ],
            "application/vnd.google.colaboratory.intrinsic+json": {
              "type": "string"
            }
          },
          "metadata": {},
          "execution_count": 102
        }
      ]
    },
    {
      "cell_type": "code",
      "source": [
        "def translation_deepl (input, language, language_filter, iso_code, ai_code,langue_pivot):\n",
        "  from deep_translator import DeeplTranslator\n",
        "  translation = input\n",
        "  state = 0 #par défaut\n",
        "\n",
        "  if language == language_filter:\n",
        "    translation = \"\"\n",
        "    try:\n",
        "      translation = DeeplTranslator(api_key=\"ea9751e0-a036-d65e-14af-3169e96b11e4:fx\", source=langue_pivot, target=iso_code, use_free_api=True).translate(input)\n",
        "      if translation != \"\":\n",
        "        print (input + \"(\"+ langue_pivot +\") \"+ \" : \" + translation)\n",
        "        state = 2 #found\n",
        "    except Exception as e:\n",
        "      print (e)\n",
        "      translation = \"\"\n",
        "      pass\n",
        "  else:\n",
        "    ai_code = 0\n",
        "\n",
        "  return translation, state, ai_code"
      ],
      "metadata": {
        "id": "lanwAd97E4Rj"
      },
      "execution_count": 39,
      "outputs": []
    },
    {
      "cell_type": "code",
      "source": [
        "def translation_google (input, language, language_filter, iso_code, ai_code,langue_pivot):\n",
        "  from deep_translator import GoogleTranslator\n",
        "  translation = input\n",
        "  state = 0 #par défaut\n",
        "  if language == language_filter:\n",
        "    translation = \"\"\n",
        "    try:\n",
        "      translation = GoogleTranslator(source=langue_pivot, target=iso_code).translate(input)\n",
        "      if translation != \"\":\n",
        "        print (input + \"(\"+ langue_pivot +\") \"+ \" : \" + translation)\n",
        "        state = 2 #found\n",
        "    except Exception as e:\n",
        "      print (e)\n",
        "      translation = \"\"\n",
        "      pass\n",
        "  else:\n",
        "    ai_code = 0\n",
        "\n",
        "  return translation, state, ai_code"
      ],
      "metadata": {
        "id": "iuGdfd5-HpHa"
      },
      "execution_count": 40,
      "outputs": []
    },
    {
      "cell_type": "code",
      "source": [
        "def translation_pons (input, language, language_filter, iso_code, ai_code):\n",
        "\n",
        "  translation = input\n",
        "  state = 0 #par défaut\n",
        "\n",
        "  if language == language_filter:\n",
        "    translation = \"\"\n",
        "    try:\n",
        "      translation = PonsTranslator(source='fr', target=iso_code).translate(input)\n",
        "      if translation != \"\":\n",
        "        print (input + \" : \" + translation)\n",
        "        state = 2 #found\n",
        "    except Exception as e:\n",
        "      translation = \"\"\n",
        "      pass\n",
        "  else:\n",
        "    ai_code = 0\n",
        "\n",
        "  return translation, state, ai_code"
      ],
      "metadata": {
        "id": "b5rM4fGMX0IG"
      },
      "execution_count": 41,
      "outputs": []
    },
    {
      "cell_type": "code",
      "source": [
        "def translation_txtai (input, language, language_filter, iso_code, ai_cod):\n",
        "\n",
        "  translation = input\n",
        "  state = 0 #par défaut\n",
        "\n",
        "  if language == language_filter:\n",
        "    translation = \"\"\n",
        "    try:\n",
        "      translation = translate(input, iso_code)\n",
        "      if translation != \"\":\n",
        "        print (input + \" : \" + translation)\n",
        "        state = 2 #found\n",
        "    except Exception as e:\n",
        "      translation = \"\"\n",
        "      pass\n",
        "  else:\n",
        "    ai_code = 0\n",
        "\n",
        "  return translation, state, ai_code"
      ],
      "metadata": {
        "id": "5yBa0wYetY_-"
      },
      "execution_count": 42,
      "outputs": []
    },
    {
      "cell_type": "markdown",
      "source": [
        "1. On charge la base des traductions"
      ],
      "metadata": {
        "id": "n_1wdl0Lidi1"
      }
    },
    {
      "cell_type": "markdown",
      "source": [
        "### Appel de l'IA Google (12)"
      ],
      "metadata": {
        "id": "bPEpVSIuKhuY"
      }
    },
    {
      "cell_type": "code",
      "source": [
        "def call_nlp_google (language, iso_code, vc, langue_pivot, df_langdeck_ai_temp):\n",
        "  from deep_translator import GoogleTranslator\n",
        "  if len(df_langdeck_ai_temp) > 0:\n",
        "    df_langdeck_ai_temp[[\"translation_ai\",\"translation_state\",\"translation_ai_source\"]] = df_langdeck_ai_temp[[\"translation_pivot\",\"expression\",\"language\",\"translation_state\"]].apply(\n",
        "        lambda x:translation_google(x[0],x[2],language, iso_code, vc, langue_pivot), \n",
        "        axis=1, \n",
        "        result_type=\"expand\")\n",
        "  df_google = df_langdeck_ai_temp.copy()   \n",
        "  return df_google   "
      ],
      "metadata": {
        "id": "CmQCyTj910SQ"
      },
      "execution_count": 43,
      "outputs": []
    },
    {
      "cell_type": "code",
      "source": [
        "def call_nlp_deepl (language, iso_code, vc, langue_pivot, df_langdeck_ai_temp):\n",
        "  from deep_translator import DeeplTranslator\n",
        "  if len(df_langdeck_ai_temp) > 0:\n",
        "    df_langdeck_ai_temp[[\"translation_ai\",\"translation_state\",\"translation_ai_source\"]] = df_langdeck_ai_temp[[\"translation_pivot\",\"expression\",\"language\",\"translation_state\"]].apply(\n",
        "        lambda x:translation_deepl(x[0],x[2], language, iso_code, vc, langue_pivot), \n",
        "        axis=1, \n",
        "        result_type=\"expand\")\n",
        "  df_deepl = df_langdeck_ai_temp.copy()\n",
        "  return df_deepl\n"
      ],
      "metadata": {
        "id": "BbzjdlBe2QIu"
      },
      "execution_count": 44,
      "outputs": []
    },
    {
      "cell_type": "code",
      "source": [
        "def call_nlp_language_vendor (language, iso_code, vc, langue_pivot):\n",
        "  # dataframe temporaire pour chaque appel IA\n",
        "  df_langdeck_ai_temp = df_langdeck.copy()\n",
        "  df_langdeck_ai_temp[\"translation_pivot\"]=df_langdeck_ai_temp[[\"translation_pivot_fr\",\"translation_pivot_en\"]].apply(lambda x:x[0] if langue_pivot==\"fr\" else x[1] , axis=1)  \n",
        "  # ajout d'un uid par concaténation des 3 clés\n",
        "  df_langdeck_ai_temp[\"uid\"] = df_langdeck_ai_temp[\"hash\"].map(str) + vc \n",
        "  df_langdeck_ai_temp = df_langdeck_ai_temp [[\"uid\",\"hash\",\"maitre\",\"expression\",\"language\",\"translation\",\"translation_pivot\",\"translation_state\",\"translation_ai_source\"]]\n",
        "  df_langdeck_ai_temp[\"translation_ai\"]=\"\"\n",
        "  df_langdeck_ai_temp[\"tr_pivot_lang\"]=langue_pivot\n",
        "\n",
        "  # on exclut les entrées déjà renseignées par l'iA\n",
        "  df_langdeck_ai_temp = df_langdeck_ai_temp.loc[(~df_langdeck_ai_temp[\"uid\"].isin(df_corpus_nlp[\"uid\"])) & (df_langdeck_ai_temp[\"language\"]==language)]\n",
        "  # on appelle la traduction IA si :\n",
        "  # - le uid n'existe pas dans la DF IA df_corpus_nlp\n",
        "  # - le filtre est positionné  \n",
        "  #df_langdeck_ai_temp = df_langdeck_ai_temp.head()\n",
        "  for dic in dict_vendor:\n",
        "    if dic[\"vendor-code\"]==vc:\n",
        "      if dic[\"vendor-abbv\"]==\"google\":\n",
        "        df_google = call_nlp_google (language, iso_code, vc, langue_pivot, df_langdeck_ai_temp)\n",
        "        df_return = df_google\n",
        "      elif dic[\"vendor-abbv\"]==\"deepl\":\n",
        "        df_deepl = call_nlp_deepl (language, iso_code, vc, langue_pivot, df_langdeck_ai_temp)\n",
        "        df_return = df_deepl\n",
        "  return df_return"
      ],
      "metadata": {
        "id": "M4HaHDI3wmu-"
      },
      "execution_count": 45,
      "outputs": []
    },
    {
      "cell_type": "code",
      "source": [
        "sheet = db_langdeck_url\n",
        "wb  = gc.open_by_url(sheet)\n",
        "t_corpus = wb.worksheet(\"t_corpus_nlp\")\n",
        "data_t_corpus = t_corpus.get_all_values()\n",
        "# on recharge avec les nouvelles données\n",
        "df_corpus_nlp =  pd.DataFrame(data_t_corpus[1:], columns=data_t_corpus[0]).drop_duplicates()  \n",
        "df_corpus_nlp = df_corpus_nlp[[\"uid\",\"hash\",\"maitre\",\"expression\",\"language\",\"translation\",\"translation_pivot\",\"tr_pivot_lang\",\"translation_state\",\"translation_ai_source\",\"translation_ai\"]]\t\t\t\t\t\t\t\t\t"
      ],
      "metadata": {
        "id": "ul2wxIRxig-b"
      },
      "execution_count": 46,
      "outputs": []
    },
    {
      "cell_type": "code",
      "source": [
        "df_langdeck_ai_temp = df_langdeck.copy()\n",
        "FILTER_PIVOT = \"en\"\n",
        "df_langdeck_ai_temp[\"translation_pivot\"]=df_langdeck_ai_temp[[\"translation_pivot_fr\",\"translation_pivot_en\"]].apply(lambda x:x[0] if FILTER_PIVOT==\"fr\" else x[1] , axis=1)"
      ],
      "metadata": {
        "id": "i7_wAY8f5euG"
      },
      "execution_count": 47,
      "outputs": []
    },
    {
      "cell_type": "code",
      "source": [
        "# concaténation des dataframes\n",
        "frames =[]\n",
        "frames.append(df_corpus_nlp)\n",
        "\n",
        "# on fait une passe par langue et par langue pivot\n",
        "vk_filter = [\"kin\",\"tur\"]\n",
        "for FILTER_LANG in vk_filter:\n",
        "  for dic in dict_lang_vendor:\n",
        "    language = dic[\"language\"]\n",
        "    iso_code = dic[\"iso-code\"]\n",
        "    # Si la langue est celle du filtre ?\n",
        "    if language == FILTER_LANG:\n",
        "      # Pour chaque code vendor qui gère la langue \n",
        "      for vc in dic[\"vendor-code\"]:\n",
        "        df_return = call_nlp_language_vendor (FILTER_LANG, iso_code, vc, FILTER_PIVOT)\n",
        "        frames.append(df_return)\n",
        "\n"
      ],
      "metadata": {
        "id": "-MeL5LNUv14m"
      },
      "execution_count": null,
      "outputs": []
    },
    {
      "cell_type": "code",
      "source": [
        "# quand tout a été itéré, on concatène    \n",
        "df_langdeck_ai = pd.concat(frames)\n",
        "print (len(df_langdeck_ai))\n",
        "# on uniformise le type\n",
        "df_langdeck_ai['translation_ai_source'] = df_langdeck_ai['translation_ai_source'].astype(str)\n",
        "# on supprime les doublons\n",
        "df_langdeck_ai = df_langdeck_ai.drop_duplicates(subset=['uid'], keep='last')\n",
        "# on supprime les codes ai == 0\n",
        "df_langdeck_ai = df_langdeck_ai.loc[df_langdeck_ai[\"translation_ai_source\"]!=\"0\"]\n",
        "# on enregistre dans GSheet\n",
        "try:\n",
        "  t_data = wb.worksheet(\"t_corpus_nlp\")\n",
        "  wb.del_worksheet(t_data)\n",
        "except:\n",
        "  print (\"Onglet inexistant !\")\n",
        "\n",
        "wb.add_worksheet(\"t_corpus_nlp\", 1, 1)\n",
        "export_sheet = wb.worksheet(\"t_corpus_nlp\")\n",
        "set_with_dataframe(export_sheet, df_langdeck_ai)\n"
      ],
      "metadata": {
        "colab": {
          "base_uri": "https://localhost:8080/"
        },
        "id": "QwzfMLmCxzUI",
        "outputId": "07bdaf47-fcbf-49c2-a08d-cc1141ab9bfc"
      },
      "execution_count": 49,
      "outputs": [
        {
          "output_type": "stream",
          "name": "stdout",
          "text": [
            "7744\n"
          ]
        }
      ]
    },
    {
      "cell_type": "code",
      "source": [
        "# on positionne cette variable si une traduction pat l'AI est disponible\n",
        "df_langdeck[\"translation_ai_source\"]=df_langdeck[\"hash\"].apply(lambda x: len(df_langdeck_ai.loc[df_langdeck_ai[\"hash\"]==x]))"
      ],
      "metadata": {
        "id": "T8YEkpP0L_wD"
      },
      "execution_count": 50,
      "outputs": []
    },
    {
      "cell_type": "code",
      "source": [
        "# on enregistre dans GSheet\n",
        "try:\n",
        "  t_corpus = wb.worksheet(\"t_corpus_all_entries\")\n",
        "  wb.del_worksheet(t_corpus)\n",
        "except:\n",
        "  print (\"Onglet inexistant !\")\n",
        "  pass\n",
        "wb.add_worksheet(\"t_corpus_all_entries\", 1, 1)\n",
        "export_sheet = wb.worksheet(\"t_corpus_all_entries\")\n",
        "set_with_dataframe(export_sheet, df_langdeck)"
      ],
      "metadata": {
        "id": "aiYjH1zoOWgg"
      },
      "execution_count": 51,
      "outputs": []
    },
    {
      "cell_type": "markdown",
      "source": [
        "### Traductions IA pour les EDC\n",
        "\n",
        "On charge la table t_ec_content_trad et on créé une table des propositions  comme t_corpus_nlp"
      ],
      "metadata": {
        "id": "vr6jpGc_b7h2"
      }
    },
    {
      "cell_type": "code",
      "source": [
        "tbl = wb.worksheet(\"t_ec_content_trad\")\n",
        "data = tbl.get_all_values()\n",
        "df_ec_trad = pd.DataFrame(data[1:], columns=data[0])\n",
        "df_ec_trad[\"translation_pivot_fr\"]=pd.NA\n",
        "df_ec_trad[\"translation_pivot_en\"]=pd.NA\n",
        "df_ec_trad[\"translation_pivot\"]=pd.NA\n",
        "df_ec_trad[\"translation_ai_source\"]=0\n",
        "df_ec_trad[\"translation_ai\"]=pd.NA"
      ],
      "metadata": {
        "id": "WdPqYe1JcBgo"
      },
      "execution_count": 102,
      "outputs": []
    },
    {
      "cell_type": "code",
      "source": [
        "tbl = wb.worksheet(\"t_ec_content_fr\")\n",
        "data = tbl.get_all_values()\n",
        "df_ec_fr = pd.DataFrame(data[1:], columns=data[0])\n",
        "df_ec_fr[\"translation_pivot_fr\"]=df_ec_fr[\"PhraseFR\"]\n",
        "df_ec_fr[\"translation_pivot_en\"]=pd.NA\n",
        "df_ec_fr[\"translation_pivot\"]=df_ec_fr[[\"translation_pivot_fr\",\"translation_pivot_en\"]].apply(lambda x:x[0] if FILTER_PIVOT==\"fr\" else x[1] , axis=1)"
      ],
      "metadata": {
        "id": "3Nb9ownIfr3T"
      },
      "execution_count": 80,
      "outputs": []
    },
    {
      "cell_type": "code",
      "source": [
        "FILTER_PIVOT = \"fr\"\n",
        "# on créé une table des propositions comme t_corpus_nlp\n",
        "df_ec_nlp = df_langdeck_ai.copy()\n",
        "df_ec_nlp.drop(df_ec_nlp.index,inplace=True) \n"
      ],
      "metadata": {
        "id": "R0QeOlhfdGQE"
      },
      "execution_count": 81,
      "outputs": []
    },
    {
      "cell_type": "code",
      "source": [
        "# clé EDC+TRAD\n",
        "df_ec_fr[\"id_trad\"]=df_ec_fr[\"ID\"].apply(lambda x:x[:5] + FILTER_LANG.upper() + \"-\" + x[9:])\n",
        "# nombre de trad IA disponibles pour chaque clé\n",
        "df_ec_fr[\"translation_ai_source\"]=df_ec_fr[\"id_trad\"].apply(lambda x:len(df_ec_nlp.loc[df_ec_nlp[\"uid\"]==x]))\n"
      ],
      "metadata": {
        "id": "f7n3XK9ye68G"
      },
      "execution_count": 88,
      "outputs": []
    },
    {
      "cell_type": "code",
      "source": [
        "df_ec_fr[\"PhraseTR\"]=pd.NA\n",
        "df_ec_fr[\"AudioTR\"]=pd.NA\n",
        "df_ec_fr[\"AudioTR_AI\"]=pd.NA"
      ],
      "metadata": {
        "id": "0V8h3wqzroYO"
      },
      "execution_count": 104,
      "outputs": []
    },
    {
      "cell_type": "code",
      "source": [
        "df_ec_fr.dtypes"
      ],
      "metadata": {
        "colab": {
          "base_uri": "https://localhost:8080/"
        },
        "id": "OhznsM9wmyIj",
        "outputId": "56f0913d-c035-4da0-a565-6ddb248fc34b"
      },
      "execution_count": 105,
      "outputs": [
        {
          "output_type": "execute_result",
          "data": {
            "text/plain": [
              "EC_KeyFR                 object\n",
              "PhraseFR                 object\n",
              "AudioFR                  object\n",
              "EC_Key                   object\n",
              "Locuteur                 object\n",
              "Sens                     object\n",
              "translation_pivot_fr     object\n",
              "translation_pivot_en     object\n",
              "translation_pivot        object\n",
              "ID                       object\n",
              "translation_ai_source     int64\n",
              "translation_ai           object\n",
              "PhraseTR                 object\n",
              "AudioTR                  object\n",
              "AudioTR_AI               object\n",
              "dtype: object"
            ]
          },
          "metadata": {},
          "execution_count": 105
        }
      ]
    },
    {
      "cell_type": "code",
      "source": [
        "from deep_translator import GoogleTranslator"
      ],
      "metadata": {
        "id": "sOD0DuvdmCLC"
      },
      "execution_count": 85,
      "outputs": []
    },
    {
      "cell_type": "code",
      "source": [
        "df_ec_fr[\"translation_ai\"]=df_ec_fr[\"translation_pivot\"].apply(lambda x:GoogleTranslator(source=FILTER_PIVOT, target=iso_code).translate(x))"
      ],
      "metadata": {
        "id": "jAbK-b-1mM5h"
      },
      "execution_count": 91,
      "outputs": []
    },
    {
      "cell_type": "code",
      "source": [],
      "metadata": {
        "id": "JUVimzEzscqk"
      },
      "execution_count": null,
      "outputs": []
    },
    {
      "cell_type": "code",
      "source": [
        "df_ec_trad.dtypes"
      ],
      "metadata": {
        "colab": {
          "base_uri": "https://localhost:8080/"
        },
        "id": "N7C95h9Jpag6",
        "outputId": "ae6ce7a9-fdcf-4ca7-9699-cd95b72fb9ec"
      },
      "execution_count": 103,
      "outputs": [
        {
          "output_type": "execute_result",
          "data": {
            "text/plain": [
              "ID                       object\n",
              "EC_KeyFR                 object\n",
              "PhraseFR                 object\n",
              "PhraseTR                 object\n",
              "AudioFR                  object\n",
              "AudioTR                  object\n",
              "AudioTR_AI               object\n",
              "EC_Key                   object\n",
              "Locuteur                 object\n",
              "Sens                     object\n",
              "translation_pivot_fr     object\n",
              "translation_pivot_en     object\n",
              "translation_pivot        object\n",
              "translation_ai_source     int64\n",
              "translation_ai           object\n",
              "dtype: object"
            ]
          },
          "metadata": {},
          "execution_count": 103
        }
      ]
    },
    {
      "cell_type": "code",
      "source": [
        "df_ec_fr.rename(columns={\"ID\":\"EC_KeyFR\",\"id_trad\":\"ID\"}, inplace=True)"
      ],
      "metadata": {
        "id": "JIG5kodypW31"
      },
      "execution_count": 100,
      "outputs": []
    },
    {
      "cell_type": "code",
      "source": [
        "# DF des enregistrements dans AT et pas dans GS\n",
        "df_newlines = df_ec_fr[~df_ec_fr[\"ID\"].isin(df_ec_trad[\"ID\"])]"
      ],
      "metadata": {
        "id": "OnffoNzwq_li"
      },
      "execution_count": 106,
      "outputs": []
    },
    {
      "cell_type": "code",
      "source": [
        "len(df_ec_trad)"
      ],
      "metadata": {
        "colab": {
          "base_uri": "https://localhost:8080/"
        },
        "id": "mudQ9lRZtg9i",
        "outputId": "ef4e4009-1ff1-413c-b5d6-cb623aabec0c"
      },
      "execution_count": 110,
      "outputs": [
        {
          "output_type": "execute_result",
          "data": {
            "text/plain": [
              "196"
            ]
          },
          "metadata": {},
          "execution_count": 110
        }
      ]
    },
    {
      "cell_type": "code",
      "source": [
        "df_newlines\n",
        "# on ajoute les lignes absentes dans TRD\n",
        "frames =[]\n",
        "frames.append(df_ec_trad)\n",
        "frames.append(df_newlines)\n",
        "df_ec_trad_def = pd.concat(frames)"
      ],
      "metadata": {
        "id": "-zigSgnzs8UI"
      },
      "execution_count": 111,
      "outputs": []
    },
    {
      "cell_type": "code",
      "source": [
        "# DF des enregistrements dans AT et pas dans GS\n",
        "df_oldlines = df_ec_fr[df_ec_fr[\"ID\"].isin(df_ec_trad[\"ID\"])]"
      ],
      "metadata": {
        "id": "pSMMzNm7wkiA"
      },
      "execution_count": 119,
      "outputs": []
    },
    {
      "cell_type": "code",
      "source": [
        "df_oldlines"
      ],
      "metadata": {
        "id": "fu0SL2Dbwpcs"
      },
      "execution_count": null,
      "outputs": []
    },
    {
      "cell_type": "code",
      "source": [
        "df_oldlines.loc[df_oldlines[\"ID\"]==\"EC03-RUS-001_01\"][\"translation_ai\"].values.item()"
      ],
      "metadata": {
        "colab": {
          "base_uri": "https://localhost:8080/",
          "height": 36
        },
        "id": "ZiqqUz2Zw1p2",
        "outputId": "c5b0cb81-298d-402c-fe5c-922bbcd25dd4"
      },
      "execution_count": 124,
      "outputs": [
        {
          "output_type": "execute_result",
          "data": {
            "text/plain": [
              "'Здравствуйте, я доктор С., и меня сопровождает студент-медик.'"
            ],
            "application/vnd.google.colaboratory.intrinsic+json": {
              "type": "string"
            }
          },
          "metadata": {},
          "execution_count": 124
        }
      ]
    },
    {
      "cell_type": "code",
      "source": [
        "df_ec_trad_def"
      ],
      "metadata": {
        "id": "6PHVfE9_w9UP"
      },
      "execution_count": null,
      "outputs": []
    },
    {
      "cell_type": "code",
      "source": [
        "df_ec_trad_def.loc[df_ec_trad_def[\"ID\"]==\"EC03-RUS-001_38\"][\"translation_ai\"]"
      ],
      "metadata": {
        "colab": {
          "base_uri": "https://localhost:8080/"
        },
        "id": "ikmOgKg3zd-B",
        "outputId": "7ab3e2f5-caa0-4e05-9fbd-7f5875d351ed"
      },
      "execution_count": 134,
      "outputs": [
        {
          "output_type": "execute_result",
          "data": {
            "text/plain": [
              "37    NaN\n",
              "Name: translation_ai, dtype: object"
            ]
          },
          "metadata": {},
          "execution_count": 134
        }
      ]
    },
    {
      "cell_type": "code",
      "source": [
        "for index, row in df_oldlines.iterrows():\n",
        "  key_a = row[\"ID\"]\n",
        "  print(row[\"translation_ai\"])\n",
        "  df_ec_trad_def.loc[df_ec_trad_def[\"ID\"]==row[\"ID\"]][\"translation_ai\"]=row[\"translation_ai\"]\n"
      ],
      "metadata": {
        "colab": {
          "base_uri": "https://localhost:8080/"
        },
        "id": "6BQ9xR0rx5OO",
        "outputId": "e4e8b3a8-7266-4e6b-f7b1-23f015980ae9"
      },
      "execution_count": 133,
      "outputs": [
        {
          "output_type": "stream",
          "name": "stdout",
          "text": [
            "Здравствуйте, я доктор С., и меня сопровождает студент-медик.\n",
            "Поскольку мы встречаемся впервые, я задам вам несколько вопросов, чтобы подготовить ваше дело.\n",
            "Вы из Грузии? из России?\n",
            "Из России\n",
            "Когда вы приехали во Францию?\n",
            "В ноябре 2021 г.\n",
            "Как ты пришел?\n",
            "На автобусе через Грецию\n",
            "Вы долго оставались в Греции?\n",
            "12 дней.\n",
            "Вы пришли один или с другими членами семьи?\n",
            "Я пошел, чтобы найти ее.\n",
            "Вы живете со своими детьми?\n",
            "Да\n",
            "Вы ходатайствовали о предоставлении убежища?\n",
            "Нет. У меня назначена встреча на 9 февраля с социальным работником в этом районе.\n",
            "Вы следите за конкретными проблемами со здоровьем?\n",
            "У нее рак.\n",
            "Достаточно для ?\n",
            "Гинекология. Ей удалили матку и яичники.\n",
            "Итак, рак яичников.\n",
            "Это было когда?\n",
            "6 августа 2021. После операции болела. С ней был ее сын. В сентябре она поехала с дочерью, а в ноябре нам удалось приехать во Францию.\n",
            "Она прошла химиотерапию?\n",
            "Она начала химиотерапию, но только три раза после операции.\n",
            "Ты знаешь название химиотерапии?\n",
            "Неа\n",
            "Кроме рака есть еще диабет и сердечная недостаточность?\n",
            "Да. От диабета она ничего не принимает. При проблемах с сердцем она принимает лекарства от кровяного давления.\n",
            "В ЧУ нет онкологии. Пока нет поддержки, не видно решения.\n",
            "Химиотерапия проводится в Годюшо.\n",
            "У вас есть подтверждение прибытия во Францию ​​в ноябре?\n",
            "Да, у нас есть проездной на его имя.\n",
            "Через три месяца будет возможно лечение в Годюшо с AME.\n",
            "Мы можем провести биологическое обследование и дать лекарства от давления, но не более того.\n",
            "Будем ждать до февраля.\n",
            "Мы можем сделать назначенный анализ крови, выписать рецепт на лекарства.\n",
            "Можно записаться на 5 февраля, сказав, что будет медицинская страховка, она будет иметь обратную силу.\n",
            "Вы можете начать собирать файл с социальным работником.\n",
            "Вы согласны пройти обследование?\n",
            "Да\n",
            "Поверхностный клинический осмотр\n",
            "Мы выходим.\n",
            "У вас болят кости?\n",
            "Да\n",
            "Какие кости?\n",
            "у меня плохой аппетит я не могу много ходить\n",
            "Я верну вам документы.\n",
            "Вас направляет врач.\n"
          ]
        },
        {
          "output_type": "stream",
          "name": "stderr",
          "text": [
            "/usr/local/lib/python3.7/dist-packages/ipykernel_launcher.py:4: SettingWithCopyWarning: \n",
            "A value is trying to be set on a copy of a slice from a DataFrame.\n",
            "Try using .loc[row_indexer,col_indexer] = value instead\n",
            "\n",
            "See the caveats in the documentation: https://pandas.pydata.org/pandas-docs/stable/user_guide/indexing.html#returning-a-view-versus-a-copy\n",
            "  after removing the cwd from sys.path.\n"
          ]
        }
      ]
    },
    {
      "cell_type": "code",
      "source": [
        "# on maj les lignes existantes\n",
        "df_ec_trad_def[\"translation_ai\"]=df_ec_trad_def[[\"ID\",\"translation_ai\"]].apply(lambda x:df_oldlines.loc[df_oldlines[\"ID\"]==x[0]][\"translation_ai\"], axis=1)"
      ],
      "metadata": {
        "colab": {
          "base_uri": "https://localhost:8080/",
          "height": 288
        },
        "id": "BSElLzzvuzDK",
        "outputId": "94c5c4c3-d1c3-4210-ec10-ff1aa065a8c1"
      },
      "execution_count": 125,
      "outputs": [
        {
          "output_type": "error",
          "ename": "ValueError",
          "evalue": "ignored",
          "traceback": [
            "\u001b[0;31m---------------------------------------------------------------------------\u001b[0m",
            "\u001b[0;31mValueError\u001b[0m                                Traceback (most recent call last)",
            "\u001b[0;32m<ipython-input-125-342d07dac7af>\u001b[0m in \u001b[0;36m<module>\u001b[0;34m\u001b[0m\n\u001b[1;32m      1\u001b[0m \u001b[0;31m# on maj les lignes existantes\u001b[0m\u001b[0;34m\u001b[0m\u001b[0;34m\u001b[0m\u001b[0;34m\u001b[0m\u001b[0m\n\u001b[0;32m----> 2\u001b[0;31m \u001b[0mdf_ec_trad_def\u001b[0m\u001b[0;34m[\u001b[0m\u001b[0;34m\"translation_ai\"\u001b[0m\u001b[0;34m]\u001b[0m\u001b[0;34m=\u001b[0m\u001b[0mdf_ec_trad_def\u001b[0m\u001b[0;34m[\u001b[0m\u001b[0;34m[\u001b[0m\u001b[0;34m\"ID\"\u001b[0m\u001b[0;34m,\u001b[0m\u001b[0;34m\"translation_ai\"\u001b[0m\u001b[0;34m]\u001b[0m\u001b[0;34m]\u001b[0m\u001b[0;34m.\u001b[0m\u001b[0mapply\u001b[0m\u001b[0;34m(\u001b[0m\u001b[0;32mlambda\u001b[0m \u001b[0mx\u001b[0m\u001b[0;34m:\u001b[0m\u001b[0mdf_oldlines\u001b[0m\u001b[0;34m.\u001b[0m\u001b[0mloc\u001b[0m\u001b[0;34m[\u001b[0m\u001b[0mdf_oldlines\u001b[0m\u001b[0;34m[\u001b[0m\u001b[0;34m\"ID\"\u001b[0m\u001b[0;34m]\u001b[0m\u001b[0;34m.\u001b[0m\u001b[0mvalues\u001b[0m\u001b[0;34m.\u001b[0m\u001b[0mitem\u001b[0m\u001b[0;34m(\u001b[0m\u001b[0;34m)\u001b[0m\u001b[0;34m==\u001b[0m\u001b[0mx\u001b[0m\u001b[0;34m[\u001b[0m\u001b[0;36m0\u001b[0m\u001b[0;34m]\u001b[0m\u001b[0;34m]\u001b[0m\u001b[0;34m[\u001b[0m\u001b[0;34m\"translation_ai\"\u001b[0m\u001b[0;34m]\u001b[0m\u001b[0;34m,\u001b[0m \u001b[0maxis\u001b[0m\u001b[0;34m=\u001b[0m\u001b[0;36m1\u001b[0m\u001b[0;34m)\u001b[0m\u001b[0;34m\u001b[0m\u001b[0;34m\u001b[0m\u001b[0m\n\u001b[0m",
            "\u001b[0;32m/usr/local/lib/python3.7/dist-packages/pandas/core/frame.py\u001b[0m in \u001b[0;36mapply\u001b[0;34m(self, func, axis, raw, result_type, args, **kwargs)\u001b[0m\n\u001b[1;32m   8738\u001b[0m             \u001b[0mkwargs\u001b[0m\u001b[0;34m=\u001b[0m\u001b[0mkwargs\u001b[0m\u001b[0;34m,\u001b[0m\u001b[0;34m\u001b[0m\u001b[0;34m\u001b[0m\u001b[0m\n\u001b[1;32m   8739\u001b[0m         )\n\u001b[0;32m-> 8740\u001b[0;31m         \u001b[0;32mreturn\u001b[0m \u001b[0mop\u001b[0m\u001b[0;34m.\u001b[0m\u001b[0mapply\u001b[0m\u001b[0;34m(\u001b[0m\u001b[0;34m)\u001b[0m\u001b[0;34m\u001b[0m\u001b[0;34m\u001b[0m\u001b[0m\n\u001b[0m\u001b[1;32m   8741\u001b[0m \u001b[0;34m\u001b[0m\u001b[0m\n\u001b[1;32m   8742\u001b[0m     def applymap(\n",
            "\u001b[0;32m/usr/local/lib/python3.7/dist-packages/pandas/core/apply.py\u001b[0m in \u001b[0;36mapply\u001b[0;34m(self)\u001b[0m\n\u001b[1;32m    686\u001b[0m             \u001b[0;32mreturn\u001b[0m \u001b[0mself\u001b[0m\u001b[0;34m.\u001b[0m\u001b[0mapply_raw\u001b[0m\u001b[0;34m(\u001b[0m\u001b[0;34m)\u001b[0m\u001b[0;34m\u001b[0m\u001b[0;34m\u001b[0m\u001b[0m\n\u001b[1;32m    687\u001b[0m \u001b[0;34m\u001b[0m\u001b[0m\n\u001b[0;32m--> 688\u001b[0;31m         \u001b[0;32mreturn\u001b[0m \u001b[0mself\u001b[0m\u001b[0;34m.\u001b[0m\u001b[0mapply_standard\u001b[0m\u001b[0;34m(\u001b[0m\u001b[0;34m)\u001b[0m\u001b[0;34m\u001b[0m\u001b[0;34m\u001b[0m\u001b[0m\n\u001b[0m\u001b[1;32m    689\u001b[0m \u001b[0;34m\u001b[0m\u001b[0m\n\u001b[1;32m    690\u001b[0m     \u001b[0;32mdef\u001b[0m \u001b[0magg\u001b[0m\u001b[0;34m(\u001b[0m\u001b[0mself\u001b[0m\u001b[0;34m)\u001b[0m\u001b[0;34m:\u001b[0m\u001b[0;34m\u001b[0m\u001b[0;34m\u001b[0m\u001b[0m\n",
            "\u001b[0;32m/usr/local/lib/python3.7/dist-packages/pandas/core/apply.py\u001b[0m in \u001b[0;36mapply_standard\u001b[0;34m(self)\u001b[0m\n\u001b[1;32m    810\u001b[0m \u001b[0;34m\u001b[0m\u001b[0m\n\u001b[1;32m    811\u001b[0m     \u001b[0;32mdef\u001b[0m \u001b[0mapply_standard\u001b[0m\u001b[0;34m(\u001b[0m\u001b[0mself\u001b[0m\u001b[0;34m)\u001b[0m\u001b[0;34m:\u001b[0m\u001b[0;34m\u001b[0m\u001b[0;34m\u001b[0m\u001b[0m\n\u001b[0;32m--> 812\u001b[0;31m         \u001b[0mresults\u001b[0m\u001b[0;34m,\u001b[0m \u001b[0mres_index\u001b[0m \u001b[0;34m=\u001b[0m \u001b[0mself\u001b[0m\u001b[0;34m.\u001b[0m\u001b[0mapply_series_generator\u001b[0m\u001b[0;34m(\u001b[0m\u001b[0;34m)\u001b[0m\u001b[0;34m\u001b[0m\u001b[0;34m\u001b[0m\u001b[0m\n\u001b[0m\u001b[1;32m    813\u001b[0m \u001b[0;34m\u001b[0m\u001b[0m\n\u001b[1;32m    814\u001b[0m         \u001b[0;31m# wrap results\u001b[0m\u001b[0;34m\u001b[0m\u001b[0;34m\u001b[0m\u001b[0;34m\u001b[0m\u001b[0m\n",
            "\u001b[0;32m/usr/local/lib/python3.7/dist-packages/pandas/core/apply.py\u001b[0m in \u001b[0;36mapply_series_generator\u001b[0;34m(self)\u001b[0m\n\u001b[1;32m    826\u001b[0m             \u001b[0;32mfor\u001b[0m \u001b[0mi\u001b[0m\u001b[0;34m,\u001b[0m \u001b[0mv\u001b[0m \u001b[0;32min\u001b[0m \u001b[0menumerate\u001b[0m\u001b[0;34m(\u001b[0m\u001b[0mseries_gen\u001b[0m\u001b[0;34m)\u001b[0m\u001b[0;34m:\u001b[0m\u001b[0;34m\u001b[0m\u001b[0;34m\u001b[0m\u001b[0m\n\u001b[1;32m    827\u001b[0m                 \u001b[0;31m# ignore SettingWithCopy here in case the user mutates\u001b[0m\u001b[0;34m\u001b[0m\u001b[0;34m\u001b[0m\u001b[0;34m\u001b[0m\u001b[0m\n\u001b[0;32m--> 828\u001b[0;31m                 \u001b[0mresults\u001b[0m\u001b[0;34m[\u001b[0m\u001b[0mi\u001b[0m\u001b[0;34m]\u001b[0m \u001b[0;34m=\u001b[0m \u001b[0mself\u001b[0m\u001b[0;34m.\u001b[0m\u001b[0mf\u001b[0m\u001b[0;34m(\u001b[0m\u001b[0mv\u001b[0m\u001b[0;34m)\u001b[0m\u001b[0;34m\u001b[0m\u001b[0;34m\u001b[0m\u001b[0m\n\u001b[0m\u001b[1;32m    829\u001b[0m                 \u001b[0;32mif\u001b[0m \u001b[0misinstance\u001b[0m\u001b[0;34m(\u001b[0m\u001b[0mresults\u001b[0m\u001b[0;34m[\u001b[0m\u001b[0mi\u001b[0m\u001b[0;34m]\u001b[0m\u001b[0;34m,\u001b[0m \u001b[0mABCSeries\u001b[0m\u001b[0;34m)\u001b[0m\u001b[0;34m:\u001b[0m\u001b[0;34m\u001b[0m\u001b[0;34m\u001b[0m\u001b[0m\n\u001b[1;32m    830\u001b[0m                     \u001b[0;31m# If we have a view on v, we need to make a copy because\u001b[0m\u001b[0;34m\u001b[0m\u001b[0;34m\u001b[0m\u001b[0;34m\u001b[0m\u001b[0m\n",
            "\u001b[0;32m<ipython-input-125-342d07dac7af>\u001b[0m in \u001b[0;36m<lambda>\u001b[0;34m(x)\u001b[0m\n\u001b[1;32m      1\u001b[0m \u001b[0;31m# on maj les lignes existantes\u001b[0m\u001b[0;34m\u001b[0m\u001b[0;34m\u001b[0m\u001b[0;34m\u001b[0m\u001b[0m\n\u001b[0;32m----> 2\u001b[0;31m \u001b[0mdf_ec_trad_def\u001b[0m\u001b[0;34m[\u001b[0m\u001b[0;34m\"translation_ai\"\u001b[0m\u001b[0;34m]\u001b[0m\u001b[0;34m=\u001b[0m\u001b[0mdf_ec_trad_def\u001b[0m\u001b[0;34m[\u001b[0m\u001b[0;34m[\u001b[0m\u001b[0;34m\"ID\"\u001b[0m\u001b[0;34m,\u001b[0m\u001b[0;34m\"translation_ai\"\u001b[0m\u001b[0;34m]\u001b[0m\u001b[0;34m]\u001b[0m\u001b[0;34m.\u001b[0m\u001b[0mapply\u001b[0m\u001b[0;34m(\u001b[0m\u001b[0;32mlambda\u001b[0m \u001b[0mx\u001b[0m\u001b[0;34m:\u001b[0m\u001b[0mdf_oldlines\u001b[0m\u001b[0;34m.\u001b[0m\u001b[0mloc\u001b[0m\u001b[0;34m[\u001b[0m\u001b[0mdf_oldlines\u001b[0m\u001b[0;34m[\u001b[0m\u001b[0;34m\"ID\"\u001b[0m\u001b[0;34m]\u001b[0m\u001b[0;34m.\u001b[0m\u001b[0mvalues\u001b[0m\u001b[0;34m.\u001b[0m\u001b[0mitem\u001b[0m\u001b[0;34m(\u001b[0m\u001b[0;34m)\u001b[0m\u001b[0;34m==\u001b[0m\u001b[0mx\u001b[0m\u001b[0;34m[\u001b[0m\u001b[0;36m0\u001b[0m\u001b[0;34m]\u001b[0m\u001b[0;34m]\u001b[0m\u001b[0;34m[\u001b[0m\u001b[0;34m\"translation_ai\"\u001b[0m\u001b[0;34m]\u001b[0m\u001b[0;34m,\u001b[0m \u001b[0maxis\u001b[0m\u001b[0;34m=\u001b[0m\u001b[0;36m1\u001b[0m\u001b[0;34m)\u001b[0m\u001b[0;34m\u001b[0m\u001b[0;34m\u001b[0m\u001b[0m\n\u001b[0m",
            "\u001b[0;31mValueError\u001b[0m: can only convert an array of size 1 to a Python scalar"
          ]
        }
      ]
    },
    {
      "cell_type": "code",
      "source": [
        "# on enregistre dans GSheet\n",
        "try:\n",
        "  t_ = wb.worksheet(\"t_ec_content_trad2\")\n",
        "  wb.del_worksheet(t_)\n",
        "except:\n",
        "  print (\"Onglet inexistant !\")\n",
        "  pass\n",
        "wb.add_worksheet(\"t_ec_content_trad2\", 1, 1)\n",
        "export_sheet = wb.worksheet(\"t_ec_content_trad2\")\n",
        "set_with_dataframe(export_sheet, df_ec_trad_def)"
      ],
      "metadata": {
        "colab": {
          "base_uri": "https://localhost:8080/"
        },
        "id": "J3d2Bb8duJTE",
        "outputId": "abe29f6c-a8ef-4ed6-a8e3-a0ba40b3853c"
      },
      "execution_count": 112,
      "outputs": [
        {
          "output_type": "stream",
          "name": "stdout",
          "text": [
            "Onglet inexistant !\n"
          ]
        }
      ]
    },
    {
      "cell_type": "code",
      "source": [
        "vk_filter = [\"rus\"]\n",
        "# on itère sur les langues choisies pour le run\n",
        "for FILTER_LANG in vk_filter:\n",
        "  # on itère sur le panier de phrases en français\n",
        "  for index, row in df_ec_fr.iterrows():\n",
        "    key_a = row[\"ID\"]\n",
        "    key_b = key_a[:5] + FILTER_LANG.upper() + \"-\" + key_a[9:]\n",
        "    # on cherche si une traduction IA est déjà faite pour cette langue\n",
        "    \n",
        "\n",
        "    print (key_b)"
      ],
      "metadata": {
        "id": "tQMqkOPyd9hf"
      },
      "execution_count": null,
      "outputs": []
    },
    {
      "cell_type": "code",
      "source": [
        "# concaténation des dataframes\n",
        "frames =[]\n",
        "frames.append(df_ec_nlp)\n",
        "\n",
        "# on fait une passe par langue et par langue pivot\n",
        "vk_filter = [\"eng\"]\n",
        "for FILTER_LANG in vk_filter:\n",
        "  for dic in dict_lang_vendor:\n",
        "    language = dic[\"language\"]\n",
        "    iso_code = dic[\"iso-code\"]\n",
        "    # Si la langue est celle du filtre ?\n",
        "    if language == FILTER_LANG:\n",
        "      # Pour chaque code vendor qui gère la langue \n",
        "      for vc in dic[\"vendor-code\"]:\n",
        "        df_return = call_nlp_language_vendor (FILTER_LANG, iso_code, vc, FILTER_PIVOT)\n",
        "        frames.append(df_return)"
      ],
      "metadata": {
        "colab": {
          "base_uri": "https://localhost:8080/",
          "height": 423
        },
        "id": "6vgZpiwaf6Ht",
        "outputId": "21bf01b9-f8eb-4faa-add8-60d7f37c0259"
      },
      "execution_count": 58,
      "outputs": [
        {
          "output_type": "execute_result",
          "data": {
            "text/plain": [
              "                 ID                                           PhraseFR                                        AudioFR EC_Key Locuteur Sens                                  translation_pivot\n",
              "0   EC03-FRA-001_01  Bonjour je suis le Médecin S.  et je suis acco...  Files_Files_/assets/audio/EC03-FRA-001_01.mp3   EC03  Médecin    A  Bonjour je suis le Médecin S.  et je suis acco...\n",
              "1   EC03-FRA-001_02  Comme c’est la première fois qu’on se rencontr...  Files_Files_/assets/audio/EC03-FRA-001_02.mp3   EC03  Médecin    A  Comme c’est la première fois qu’on se rencontr...\n",
              "2   EC03-FRA-001_03      Vous êtes originaire de Géorgie ? de Russie ?  Files_Files_/assets/audio/EC03-FRA-001_03.mp3   EC03  Médecin    A      Vous êtes originaire de Géorgie ? de Russie ?\n",
              "3   EC03-FRA-001_04                                          De Russie  Files_Files_/assets/audio/EC03-FRA-001_04.mp3   EC03  Patient    B                                          De Russie\n",
              "4   EC03-FRA-001_05                Quand êtes-vous arrivée en France ?  Files_Files_/assets/audio/EC03-FRA-001_05.mp3   EC03  Médecin    A                Quand êtes-vous arrivée en France ?\n",
              "..              ...                                                ...                                            ...    ...      ...  ...                                                ...\n",
              "95  EC01-FRA-001_47  C’est quoi comme type de douleur ? Poignard ? ...                                                  EC01  Médecin    A  C’est quoi comme type de douleur ? Poignard ? ...\n",
              "96  EC01-FRA-001_48         C’est comme une douleur de faim en continu                                                  EC01  Médecin    A         C’est comme une douleur de faim en continu\n",
              "97  EC01-FRA-001_49  Ce pourrait être un ulcère de l’estomac ou de ...                                                  EC01  Médecin    A  Ce pourrait être un ulcère de l’estomac ou de ...\n",
              "98  EC01-FRA-001_50                          Avez-vous des questions ?                                                  EC01  Médecin    A                          Avez-vous des questions ?\n",
              "99  EC01-FRA-001_51  Nous allons voir avec la secrétaire pour prend...                                                  EC01  Médecin    A  Nous allons voir avec la secrétaire pour prend...\n",
              "\n",
              "[100 rows x 7 columns]"
            ],
            "text/html": [
              "\n",
              "  <div id=\"df-ee2d5896-f0e2-431c-9e74-276d566c4fd7\">\n",
              "    <div class=\"colab-df-container\">\n",
              "      <div>\n",
              "<style scoped>\n",
              "    .dataframe tbody tr th:only-of-type {\n",
              "        vertical-align: middle;\n",
              "    }\n",
              "\n",
              "    .dataframe tbody tr th {\n",
              "        vertical-align: top;\n",
              "    }\n",
              "\n",
              "    .dataframe thead th {\n",
              "        text-align: right;\n",
              "    }\n",
              "</style>\n",
              "<table border=\"1\" class=\"dataframe\">\n",
              "  <thead>\n",
              "    <tr style=\"text-align: right;\">\n",
              "      <th></th>\n",
              "      <th>ID</th>\n",
              "      <th>PhraseFR</th>\n",
              "      <th>AudioFR</th>\n",
              "      <th>EC_Key</th>\n",
              "      <th>Locuteur</th>\n",
              "      <th>Sens</th>\n",
              "      <th>translation_pivot</th>\n",
              "    </tr>\n",
              "  </thead>\n",
              "  <tbody>\n",
              "    <tr>\n",
              "      <th>0</th>\n",
              "      <td>EC03-FRA-001_01</td>\n",
              "      <td>Bonjour je suis le Médecin S.  et je suis acco...</td>\n",
              "      <td>Files_Files_/assets/audio/EC03-FRA-001_01.mp3</td>\n",
              "      <td>EC03</td>\n",
              "      <td>Médecin</td>\n",
              "      <td>A</td>\n",
              "      <td>Bonjour je suis le Médecin S.  et je suis acco...</td>\n",
              "    </tr>\n",
              "    <tr>\n",
              "      <th>1</th>\n",
              "      <td>EC03-FRA-001_02</td>\n",
              "      <td>Comme c’est la première fois qu’on se rencontr...</td>\n",
              "      <td>Files_Files_/assets/audio/EC03-FRA-001_02.mp3</td>\n",
              "      <td>EC03</td>\n",
              "      <td>Médecin</td>\n",
              "      <td>A</td>\n",
              "      <td>Comme c’est la première fois qu’on se rencontr...</td>\n",
              "    </tr>\n",
              "    <tr>\n",
              "      <th>2</th>\n",
              "      <td>EC03-FRA-001_03</td>\n",
              "      <td>Vous êtes originaire de Géorgie ? de Russie ?</td>\n",
              "      <td>Files_Files_/assets/audio/EC03-FRA-001_03.mp3</td>\n",
              "      <td>EC03</td>\n",
              "      <td>Médecin</td>\n",
              "      <td>A</td>\n",
              "      <td>Vous êtes originaire de Géorgie ? de Russie ?</td>\n",
              "    </tr>\n",
              "    <tr>\n",
              "      <th>3</th>\n",
              "      <td>EC03-FRA-001_04</td>\n",
              "      <td>De Russie</td>\n",
              "      <td>Files_Files_/assets/audio/EC03-FRA-001_04.mp3</td>\n",
              "      <td>EC03</td>\n",
              "      <td>Patient</td>\n",
              "      <td>B</td>\n",
              "      <td>De Russie</td>\n",
              "    </tr>\n",
              "    <tr>\n",
              "      <th>4</th>\n",
              "      <td>EC03-FRA-001_05</td>\n",
              "      <td>Quand êtes-vous arrivée en France ?</td>\n",
              "      <td>Files_Files_/assets/audio/EC03-FRA-001_05.mp3</td>\n",
              "      <td>EC03</td>\n",
              "      <td>Médecin</td>\n",
              "      <td>A</td>\n",
              "      <td>Quand êtes-vous arrivée en France ?</td>\n",
              "    </tr>\n",
              "    <tr>\n",
              "      <th>...</th>\n",
              "      <td>...</td>\n",
              "      <td>...</td>\n",
              "      <td>...</td>\n",
              "      <td>...</td>\n",
              "      <td>...</td>\n",
              "      <td>...</td>\n",
              "      <td>...</td>\n",
              "    </tr>\n",
              "    <tr>\n",
              "      <th>95</th>\n",
              "      <td>EC01-FRA-001_47</td>\n",
              "      <td>C’est quoi comme type de douleur ? Poignard ? ...</td>\n",
              "      <td></td>\n",
              "      <td>EC01</td>\n",
              "      <td>Médecin</td>\n",
              "      <td>A</td>\n",
              "      <td>C’est quoi comme type de douleur ? Poignard ? ...</td>\n",
              "    </tr>\n",
              "    <tr>\n",
              "      <th>96</th>\n",
              "      <td>EC01-FRA-001_48</td>\n",
              "      <td>C’est comme une douleur de faim en continu</td>\n",
              "      <td></td>\n",
              "      <td>EC01</td>\n",
              "      <td>Médecin</td>\n",
              "      <td>A</td>\n",
              "      <td>C’est comme une douleur de faim en continu</td>\n",
              "    </tr>\n",
              "    <tr>\n",
              "      <th>97</th>\n",
              "      <td>EC01-FRA-001_49</td>\n",
              "      <td>Ce pourrait être un ulcère de l’estomac ou de ...</td>\n",
              "      <td></td>\n",
              "      <td>EC01</td>\n",
              "      <td>Médecin</td>\n",
              "      <td>A</td>\n",
              "      <td>Ce pourrait être un ulcère de l’estomac ou de ...</td>\n",
              "    </tr>\n",
              "    <tr>\n",
              "      <th>98</th>\n",
              "      <td>EC01-FRA-001_50</td>\n",
              "      <td>Avez-vous des questions ?</td>\n",
              "      <td></td>\n",
              "      <td>EC01</td>\n",
              "      <td>Médecin</td>\n",
              "      <td>A</td>\n",
              "      <td>Avez-vous des questions ?</td>\n",
              "    </tr>\n",
              "    <tr>\n",
              "      <th>99</th>\n",
              "      <td>EC01-FRA-001_51</td>\n",
              "      <td>Nous allons voir avec la secrétaire pour prend...</td>\n",
              "      <td></td>\n",
              "      <td>EC01</td>\n",
              "      <td>Médecin</td>\n",
              "      <td>A</td>\n",
              "      <td>Nous allons voir avec la secrétaire pour prend...</td>\n",
              "    </tr>\n",
              "  </tbody>\n",
              "</table>\n",
              "<p>100 rows × 7 columns</p>\n",
              "</div>\n",
              "      <button class=\"colab-df-convert\" onclick=\"convertToInteractive('df-ee2d5896-f0e2-431c-9e74-276d566c4fd7')\"\n",
              "              title=\"Convert this dataframe to an interactive table.\"\n",
              "              style=\"display:none;\">\n",
              "        \n",
              "  <svg xmlns=\"http://www.w3.org/2000/svg\" height=\"24px\"viewBox=\"0 0 24 24\"\n",
              "       width=\"24px\">\n",
              "    <path d=\"M0 0h24v24H0V0z\" fill=\"none\"/>\n",
              "    <path d=\"M18.56 5.44l.94 2.06.94-2.06 2.06-.94-2.06-.94-.94-2.06-.94 2.06-2.06.94zm-11 1L8.5 8.5l.94-2.06 2.06-.94-2.06-.94L8.5 2.5l-.94 2.06-2.06.94zm10 10l.94 2.06.94-2.06 2.06-.94-2.06-.94-.94-2.06-.94 2.06-2.06.94z\"/><path d=\"M17.41 7.96l-1.37-1.37c-.4-.4-.92-.59-1.43-.59-.52 0-1.04.2-1.43.59L10.3 9.45l-7.72 7.72c-.78.78-.78 2.05 0 2.83L4 21.41c.39.39.9.59 1.41.59.51 0 1.02-.2 1.41-.59l7.78-7.78 2.81-2.81c.8-.78.8-2.07 0-2.86zM5.41 20L4 18.59l7.72-7.72 1.47 1.35L5.41 20z\"/>\n",
              "  </svg>\n",
              "      </button>\n",
              "      \n",
              "  <style>\n",
              "    .colab-df-container {\n",
              "      display:flex;\n",
              "      flex-wrap:wrap;\n",
              "      gap: 12px;\n",
              "    }\n",
              "\n",
              "    .colab-df-convert {\n",
              "      background-color: #E8F0FE;\n",
              "      border: none;\n",
              "      border-radius: 50%;\n",
              "      cursor: pointer;\n",
              "      display: none;\n",
              "      fill: #1967D2;\n",
              "      height: 32px;\n",
              "      padding: 0 0 0 0;\n",
              "      width: 32px;\n",
              "    }\n",
              "\n",
              "    .colab-df-convert:hover {\n",
              "      background-color: #E2EBFA;\n",
              "      box-shadow: 0px 1px 2px rgba(60, 64, 67, 0.3), 0px 1px 3px 1px rgba(60, 64, 67, 0.15);\n",
              "      fill: #174EA6;\n",
              "    }\n",
              "\n",
              "    [theme=dark] .colab-df-convert {\n",
              "      background-color: #3B4455;\n",
              "      fill: #D2E3FC;\n",
              "    }\n",
              "\n",
              "    [theme=dark] .colab-df-convert:hover {\n",
              "      background-color: #434B5C;\n",
              "      box-shadow: 0px 1px 3px 1px rgba(0, 0, 0, 0.15);\n",
              "      filter: drop-shadow(0px 1px 2px rgba(0, 0, 0, 0.3));\n",
              "      fill: #FFFFFF;\n",
              "    }\n",
              "  </style>\n",
              "\n",
              "      <script>\n",
              "        const buttonEl =\n",
              "          document.querySelector('#df-ee2d5896-f0e2-431c-9e74-276d566c4fd7 button.colab-df-convert');\n",
              "        buttonEl.style.display =\n",
              "          google.colab.kernel.accessAllowed ? 'block' : 'none';\n",
              "\n",
              "        async function convertToInteractive(key) {\n",
              "          const element = document.querySelector('#df-ee2d5896-f0e2-431c-9e74-276d566c4fd7');\n",
              "          const dataTable =\n",
              "            await google.colab.kernel.invokeFunction('convertToInteractive',\n",
              "                                                     [key], {});\n",
              "          if (!dataTable) return;\n",
              "\n",
              "          const docLinkHtml = 'Like what you see? Visit the ' +\n",
              "            '<a target=\"_blank\" href=https://colab.research.google.com/notebooks/data_table.ipynb>data table notebook</a>'\n",
              "            + ' to learn more about interactive tables.';\n",
              "          element.innerHTML = '';\n",
              "          dataTable['output_type'] = 'display_data';\n",
              "          await google.colab.output.renderOutput(dataTable, element);\n",
              "          const docLink = document.createElement('div');\n",
              "          docLink.innerHTML = docLinkHtml;\n",
              "          element.appendChild(docLink);\n",
              "        }\n",
              "      </script>\n",
              "    </div>\n",
              "  </div>\n",
              "  "
            ]
          },
          "metadata": {},
          "execution_count": 58
        }
      ]
    },
    {
      "cell_type": "markdown",
      "source": [
        "# FIN IA"
      ],
      "metadata": {
        "id": "ubOcjXAHSz43"
      }
    },
    {
      "cell_type": "code",
      "source": [
        "# concaténation des dataframes\n",
        "frames =[]\n",
        "frames.append(df_corpus_nlp)\n",
        "frames.append(df_return)\n",
        "#frames.append(df_deepl)\n",
        "df_langdeck_ai = pd.concat(frames)\n",
        "# on uniformise le type\n",
        "df_langdeck_ai['translation_ai_source'] = df_langdeck_ai['translation_ai_source'].astype(str)\n",
        "# on supprime les doublons\n",
        "df_langdeck_ai = df_langdeck_ai.drop_duplicates(subset=['uid'], keep='last')\n",
        "# on supprime les codes ai == 0\n",
        "df_langdeck_ai = df_langdeck_ai.loc[df_langdeck_ai[\"translation_ai_source\"]!=\"0\"]\n"
      ],
      "metadata": {
        "id": "9Nu66qtCDhhC",
        "colab": {
          "base_uri": "https://localhost:8080/",
          "height": 397
        },
        "outputId": "c9cb9f16-de0c-499e-a93a-268f898c42f8"
      },
      "execution_count": null,
      "outputs": [
        {
          "output_type": "stream",
          "name": "stdout",
          "text": [
            "Onglet inexistant !\n"
          ]
        },
        {
          "output_type": "error",
          "ename": "APIError",
          "evalue": "ignored",
          "traceback": [
            "\u001b[0;31m---------------------------------------------------------------------------\u001b[0m",
            "\u001b[0;31mAPIError\u001b[0m                                  Traceback (most recent call last)",
            "\u001b[0;32m<ipython-input-93-ee19978f1635>\u001b[0m in \u001b[0;36m<module>\u001b[0;34m\u001b[0m\n\u001b[1;32m     18\u001b[0m   \u001b[0mprint\u001b[0m \u001b[0;34m(\u001b[0m\u001b[0;34m\"Onglet inexistant !\"\u001b[0m\u001b[0;34m)\u001b[0m\u001b[0;34m\u001b[0m\u001b[0;34m\u001b[0m\u001b[0m\n\u001b[1;32m     19\u001b[0m \u001b[0;34m\u001b[0m\u001b[0m\n\u001b[0;32m---> 20\u001b[0;31m \u001b[0mwb\u001b[0m\u001b[0;34m.\u001b[0m\u001b[0madd_worksheet\u001b[0m\u001b[0;34m(\u001b[0m\u001b[0;34m\"t_corpus_nlp\"\u001b[0m\u001b[0;34m,\u001b[0m \u001b[0;36m1\u001b[0m\u001b[0;34m,\u001b[0m \u001b[0;36m1\u001b[0m\u001b[0;34m)\u001b[0m\u001b[0;34m\u001b[0m\u001b[0;34m\u001b[0m\u001b[0m\n\u001b[0m\u001b[1;32m     21\u001b[0m \u001b[0mexport_sheet\u001b[0m \u001b[0;34m=\u001b[0m \u001b[0mwb\u001b[0m\u001b[0;34m.\u001b[0m\u001b[0mworksheet\u001b[0m\u001b[0;34m(\u001b[0m\u001b[0;34m\"t_corpus_nlp\"\u001b[0m\u001b[0;34m)\u001b[0m\u001b[0;34m\u001b[0m\u001b[0;34m\u001b[0m\u001b[0m\n\u001b[1;32m     22\u001b[0m \u001b[0mset_with_dataframe\u001b[0m\u001b[0;34m(\u001b[0m\u001b[0mexport_sheet\u001b[0m\u001b[0;34m,\u001b[0m \u001b[0mdf_langdeck_ai\u001b[0m\u001b[0;34m)\u001b[0m\u001b[0;34m\u001b[0m\u001b[0;34m\u001b[0m\u001b[0m\n",
            "\u001b[0;32m/usr/local/lib/python3.7/dist-packages/gspread/spreadsheet.py\u001b[0m in \u001b[0;36madd_worksheet\u001b[0;34m(self, title, rows, cols, index)\u001b[0m\n\u001b[1;32m    374\u001b[0m             \u001b[0mbody\u001b[0m\u001b[0;34m[\u001b[0m\u001b[0;34m\"requests\"\u001b[0m\u001b[0;34m]\u001b[0m\u001b[0;34m[\u001b[0m\u001b[0;36m0\u001b[0m\u001b[0;34m]\u001b[0m\u001b[0;34m[\u001b[0m\u001b[0;34m\"addSheet\"\u001b[0m\u001b[0;34m]\u001b[0m\u001b[0;34m[\u001b[0m\u001b[0;34m\"properties\"\u001b[0m\u001b[0;34m]\u001b[0m\u001b[0;34m[\u001b[0m\u001b[0;34m\"index\"\u001b[0m\u001b[0;34m]\u001b[0m \u001b[0;34m=\u001b[0m \u001b[0mindex\u001b[0m\u001b[0;34m\u001b[0m\u001b[0;34m\u001b[0m\u001b[0m\n\u001b[1;32m    375\u001b[0m \u001b[0;34m\u001b[0m\u001b[0m\n\u001b[0;32m--> 376\u001b[0;31m         \u001b[0mdata\u001b[0m \u001b[0;34m=\u001b[0m \u001b[0mself\u001b[0m\u001b[0;34m.\u001b[0m\u001b[0mbatch_update\u001b[0m\u001b[0;34m(\u001b[0m\u001b[0mbody\u001b[0m\u001b[0;34m)\u001b[0m\u001b[0;34m\u001b[0m\u001b[0;34m\u001b[0m\u001b[0m\n\u001b[0m\u001b[1;32m    377\u001b[0m \u001b[0;34m\u001b[0m\u001b[0m\n\u001b[1;32m    378\u001b[0m         \u001b[0mproperties\u001b[0m \u001b[0;34m=\u001b[0m \u001b[0mdata\u001b[0m\u001b[0;34m[\u001b[0m\u001b[0;34m\"replies\"\u001b[0m\u001b[0;34m]\u001b[0m\u001b[0;34m[\u001b[0m\u001b[0;36m0\u001b[0m\u001b[0;34m]\u001b[0m\u001b[0;34m[\u001b[0m\u001b[0;34m\"addSheet\"\u001b[0m\u001b[0;34m]\u001b[0m\u001b[0;34m[\u001b[0m\u001b[0;34m\"properties\"\u001b[0m\u001b[0;34m]\u001b[0m\u001b[0;34m\u001b[0m\u001b[0;34m\u001b[0m\u001b[0m\n",
            "\u001b[0;32m/usr/local/lib/python3.7/dist-packages/gspread/spreadsheet.py\u001b[0m in \u001b[0;36mbatch_update\u001b[0;34m(self, body)\u001b[0m\n\u001b[1;32m    129\u001b[0m         \"\"\"\n\u001b[1;32m    130\u001b[0m         r = self.client.request(\n\u001b[0;32m--> 131\u001b[0;31m             \u001b[0;34m\"post\"\u001b[0m\u001b[0;34m,\u001b[0m \u001b[0mSPREADSHEET_BATCH_UPDATE_URL\u001b[0m \u001b[0;34m%\u001b[0m \u001b[0mself\u001b[0m\u001b[0;34m.\u001b[0m\u001b[0mid\u001b[0m\u001b[0;34m,\u001b[0m \u001b[0mjson\u001b[0m\u001b[0;34m=\u001b[0m\u001b[0mbody\u001b[0m\u001b[0;34m\u001b[0m\u001b[0;34m\u001b[0m\u001b[0m\n\u001b[0m\u001b[1;32m    132\u001b[0m         )\n\u001b[1;32m    133\u001b[0m \u001b[0;34m\u001b[0m\u001b[0m\n",
            "\u001b[0;32m/usr/local/lib/python3.7/dist-packages/gspread/client.py\u001b[0m in \u001b[0;36mrequest\u001b[0;34m(self, method, endpoint, params, data, json, files, headers)\u001b[0m\n\u001b[1;32m     84\u001b[0m             \u001b[0;32mreturn\u001b[0m \u001b[0mresponse\u001b[0m\u001b[0;34m\u001b[0m\u001b[0;34m\u001b[0m\u001b[0m\n\u001b[1;32m     85\u001b[0m         \u001b[0;32melse\u001b[0m\u001b[0;34m:\u001b[0m\u001b[0;34m\u001b[0m\u001b[0;34m\u001b[0m\u001b[0m\n\u001b[0;32m---> 86\u001b[0;31m             \u001b[0;32mraise\u001b[0m \u001b[0mAPIError\u001b[0m\u001b[0;34m(\u001b[0m\u001b[0mresponse\u001b[0m\u001b[0;34m)\u001b[0m\u001b[0;34m\u001b[0m\u001b[0;34m\u001b[0m\u001b[0m\n\u001b[0m\u001b[1;32m     87\u001b[0m \u001b[0;34m\u001b[0m\u001b[0m\n\u001b[1;32m     88\u001b[0m     \u001b[0;32mdef\u001b[0m \u001b[0mlist_spreadsheet_files\u001b[0m\u001b[0;34m(\u001b[0m\u001b[0mself\u001b[0m\u001b[0;34m,\u001b[0m \u001b[0mtitle\u001b[0m\u001b[0;34m=\u001b[0m\u001b[0;32mNone\u001b[0m\u001b[0;34m,\u001b[0m \u001b[0mfolder_id\u001b[0m\u001b[0;34m=\u001b[0m\u001b[0;32mNone\u001b[0m\u001b[0;34m)\u001b[0m\u001b[0;34m:\u001b[0m\u001b[0;34m\u001b[0m\u001b[0;34m\u001b[0m\u001b[0m\n",
            "\u001b[0;31mAPIError\u001b[0m: {'code': 400, 'message': 'Invalid requests[0].addSheet: A sheet with the name \"t_corpus_nlp\" already exists. Please enter another name.', 'status': 'INVALID_ARGUMENT'}"
          ]
        }
      ]
    },
    {
      "cell_type": "code",
      "source": [
        "# dataframe temporaire pour chaque appel IA\n",
        "ai = \"12\"\n",
        "df_langdeck_ai_temp = df_langdeck.copy()\n",
        "\n",
        "# ajout d'un uid par concaténation des 3 clés\n",
        "df_langdeck_ai_temp[\"uid\"] = df_langdeck_ai_temp[\"hash\"].map(str) + ai \n",
        "df_langdeck_ai_temp = df_langdeck_ai_temp [[\"uid\",\"hash\",\"maitre\",\"expression\",\"language\",\"translation\",\"translation_pivot\",\"translation_state\",\"translation_ai_source\"]]\n",
        "df_langdeck_ai_temp[\"translation_ai\"]=\"\"\n",
        "\n",
        "# on exclut les entrées déjà renseignées par l'iA\n",
        "df_langdeck_ai_temp = df_langdeck_ai_temp.loc[(~df_langdeck_ai_temp[\"uid\"].isin(df_corpus_nlp[\"uid\"])) & (df_langdeck_ai_temp[\"language\"]==filter)]\n",
        "# on appelle la traduction IA si :\n",
        "# - le uid n'existe pas dans la DF IA df_corpus_nlp\n",
        "# - le filtre est positionné\n"
      ],
      "metadata": {
        "id": "alRbAFmQKg0m"
      },
      "execution_count": null,
      "outputs": []
    },
    {
      "cell_type": "code",
      "source": [
        "df_langdeck_ai_temp"
      ],
      "metadata": {
        "id": "HwQZ6c6tH0xs"
      },
      "execution_count": null,
      "outputs": []
    },
    {
      "cell_type": "code",
      "source": [
        "# on appelle la traduction IA si :\n",
        "# - le uid n'existe pas dans la DF IA df_corpus_nlp\n",
        "# - le filtre est positionné\n",
        "if len(df_langdeck_ai_temp) > 0:\n",
        "  from deep_translator import GoogleTranslator\n",
        "  df_langdeck_ai_temp[[\"translation_ai\",\"translation_state\",\"translation_ai_source\"]] = df_langdeck_ai_temp[[\"translation\",\"translation_pivot\",\"language\",\"translation_state\"]].apply(\n",
        "      lambda x:translation_google(x[1],x[2], filter, ai), \n",
        "      axis=1, \n",
        "      result_type=\"expand\")\n",
        "df_google = df_langdeck_ai_temp.copy()"
      ],
      "metadata": {
        "id": "ghitlUJ7Huuq"
      },
      "execution_count": null,
      "outputs": []
    },
    {
      "cell_type": "markdown",
      "source": [
        "## Appel DeepL"
      ],
      "metadata": {
        "id": "cj3YN8qcFpuT"
      }
    },
    {
      "cell_type": "code",
      "source": [
        "# dataframe temporaire pour chaque appel IA\n",
        "df_langdeck_ai_temp = df_langdeck.copy()\n",
        "ai = \"14\"\n",
        "# ajout d'un uid par concaténation des 3 clés\n",
        "df_langdeck_ai_temp[\"uid\"] = df_langdeck_ai_temp[\"hash\"].map(str) + ai \n",
        "df_langdeck_ai_temp = df_langdeck_ai_temp [[\"uid\",\"hash\",\"maitre\",\"expression\",\"language\",\"translation\",\"translation_pivot\",\"translation_state\",\"translation_ai_source\"]]\n",
        "df_langdeck_ai_temp[\"translation_ai\"]=\"\"\n",
        "\n",
        "# on exclut les entrées déjà renseignées par l'iA\n",
        "df_langdeck_ai_temp = df_langdeck_ai_temp.loc[(~df_langdeck_ai_temp[\"uid\"].isin(df_corpus_nlp[\"uid\"])) & (df_langdeck_ai_temp[\"language\"]==filter)]\n",
        "# on appelle la traduction IA si :\n",
        "# - le uid n'existe pas dans la DF IA df_corpus_nlp\n",
        "# - le filtre est positionné\n"
      ],
      "metadata": {
        "id": "GX-G-vRVQupB"
      },
      "execution_count": null,
      "outputs": []
    },
    {
      "cell_type": "code",
      "source": [
        "df_langdeck_ai_temp"
      ],
      "metadata": {
        "id": "nZU1cNulJQJQ"
      },
      "execution_count": null,
      "outputs": []
    },
    {
      "cell_type": "code",
      "source": [
        "from deep_translator import DeeplTranslator\n",
        "df_langdeck_ai_temp[[\"translation_ai\",\"translation_state\",\"translation_ai_source\"]] = df_langdeck_ai_temp[[\"translation\",\"translation_pivot\",\"language\",\"translation_state\"]].apply(\n",
        "    lambda x:translation_deepl(x[1],x[2], filter, ai), \n",
        "    axis=1, \n",
        "    result_type=\"expand\")\n",
        "df_deepl = df_langdeck_ai_temp.copy()"
      ],
      "metadata": {
        "id": "c5U1dpSAJN6l"
      },
      "execution_count": null,
      "outputs": []
    },
    {
      "cell_type": "markdown",
      "source": [
        "## On sauvegarde"
      ],
      "metadata": {
        "id": "BCMhWkI-BDCL"
      }
    },
    {
      "cell_type": "code",
      "source": [
        "from deep_translator import PonsTranslator\n",
        "filter = \"hun\"\n",
        "ai = 13\n",
        "df_langdeck_ai_temp[[\"translation_ai\",\"translation_state\",\"translation_ai_source\"]] = df_langdeck_ai_temp[[\"translation\",\"translation_pivot\",\"language\",\"translation_state\"]].apply(\n",
        "    lambda x:translation_pons(x[1],x[2], filter, ai), \n",
        "    axis=1, \n",
        "    result_type=\"expand\")\n",
        "df_pons = df_langdeck_ai_temp.copy()"
      ],
      "metadata": {
        "id": "o9fbZ0KqIEuU"
      },
      "execution_count": null,
      "outputs": []
    },
    {
      "cell_type": "markdown",
      "source": [
        "### Ajout du dataset Google dans le dataset global IA"
      ],
      "metadata": {
        "id": "wn0uwH-VKoNT"
      }
    },
    {
      "cell_type": "code",
      "source": [
        "frames =[]\n",
        "frames.append(df_google)\n",
        "frames.append(df_pons)\n",
        "df_langdeck_ai = pd.concat(frames)"
      ],
      "metadata": {
        "id": "ycG10uIcK3TX"
      },
      "execution_count": null,
      "outputs": []
    },
    {
      "cell_type": "code",
      "source": [
        "# ajout d'un uid par concaténation des 3 clés\n",
        "df_langdeck_ai[\"uid\"] = df_langdeck_ai[\"hash\"].map(str) + df_langdeck_ai[\"translation_ai_source\"].map(str) "
      ],
      "metadata": {
        "id": "GUDH9RdqHVRo"
      },
      "execution_count": null,
      "outputs": []
    },
    {
      "cell_type": "code",
      "source": [
        "df_langdeck_ai.loc[(df_langdeck_ai[\"language\"]==\"hun\") & (df_langdeck_ai[\"hash\"]==\"30579682hun\")]"
      ],
      "metadata": {
        "colab": {
          "base_uri": "https://localhost:8080/",
          "height": 171
        },
        "id": "TxggPYnaPGa-",
        "outputId": "e5ae8e2f-6494-4d66-f23f-a03ad66b6b6c"
      },
      "execution_count": null,
      "outputs": [
        {
          "output_type": "error",
          "ename": "NameError",
          "evalue": "ignored",
          "traceback": [
            "\u001b[0;31m---------------------------------------------------------------------------\u001b[0m",
            "\u001b[0;31mNameError\u001b[0m                                 Traceback (most recent call last)",
            "\u001b[0;32m<ipython-input-29-4abf6281924c>\u001b[0m in \u001b[0;36m<module>\u001b[0;34m\u001b[0m\n\u001b[0;32m----> 1\u001b[0;31m \u001b[0mdf_langdeck_ai\u001b[0m\u001b[0;34m.\u001b[0m\u001b[0mloc\u001b[0m\u001b[0;34m[\u001b[0m\u001b[0;34m(\u001b[0m\u001b[0mdf_langdeck_ai\u001b[0m\u001b[0;34m[\u001b[0m\u001b[0;34m\"language\"\u001b[0m\u001b[0;34m]\u001b[0m\u001b[0;34m==\u001b[0m\u001b[0;34m\"hun\"\u001b[0m\u001b[0;34m)\u001b[0m \u001b[0;34m&\u001b[0m \u001b[0;34m(\u001b[0m\u001b[0mdf_langdeck_ai\u001b[0m\u001b[0;34m[\u001b[0m\u001b[0;34m\"hash\"\u001b[0m\u001b[0;34m]\u001b[0m\u001b[0;34m==\u001b[0m\u001b[0;34m\"30579682hun\"\u001b[0m\u001b[0;34m)\u001b[0m\u001b[0;34m]\u001b[0m\u001b[0;34m\u001b[0m\u001b[0;34m\u001b[0m\u001b[0m\n\u001b[0m",
            "\u001b[0;31mNameError\u001b[0m: name 'df_langdeck_ai' is not defined"
          ]
        }
      ]
    },
    {
      "cell_type": "code",
      "source": [
        "def fetch_deep_translator(hashid, language, vendor-name_code, row):\n",
        "  iso_code = iso_codes[language]\n",
        "  ai_dict = next(filter(lambda x: x.get('vendor-code') == vendor-name_code,deep_translator_vendor-name_codes))\n",
        "  vendor-name = ai_dict[\"vendor-name\"]\n",
        "  pivot = ai_dict[\"pivot\"]\n",
        "  if pivot == \"en\":\n",
        "    pivot_expr = row[\"translation_pivot\"]\n",
        "  else:\n",
        "    pivot_expr = row[\"expression\"]\n",
        "  message = \"Appel de l'IA Deep \" + vendor-name + \" pour la langue \" + iso_code + \" pour l'expression \" + pivot_expr\n",
        "\n",
        "\n",
        "  df_langdeck_ai_temp[[\"translation_ai\",\"translation_state\",\"translation_ai_source\"]] = df_langdeck_ai_temp[[\"translation\",\"translation_pivot\",\"language\",\"translation_state\"]].apply(\n",
        "      lambda x:translation_google(x[1],x[2], filter, ai), \n",
        "      axis=1, \n",
        "      result_type=\"expand\")\n",
        "\n",
        "  return message"
      ],
      "metadata": {
        "id": "H4CBhiz9eC_L"
      },
      "execution_count": null,
      "outputs": []
    },
    {
      "cell_type": "code",
      "source": [
        "hash_ai = \"7c15835bukr12\"\n",
        "len(df_corpus_nlp.loc[df_corpus_nlp[\"hash_ai\"]==hash_ai])"
      ],
      "metadata": {
        "colab": {
          "base_uri": "https://localhost:8080/"
        },
        "id": "1UP5M7QYjgIo",
        "outputId": "e23bf040-3366-4e63-d794-50d5603f98ec"
      },
      "execution_count": null,
      "outputs": [
        {
          "output_type": "execute_result",
          "data": {
            "text/plain": [
              "0"
            ]
          },
          "metadata": {},
          "execution_count": 27
        }
      ]
    },
    {
      "cell_type": "code",
      "source": [
        "filtre = \"ams\"\n",
        "vc = \"11\"\n",
        "for key, value in df_langdeck.iterrows():\n",
        "  if value[\"language\"]==filtre:\n",
        "    # on recherche la clé hash+ia dana la table deep\n",
        "    hash_ai = value[\"hash\"]+vc\n",
        "    found = df_corpus_nlp.loc[df_corpus_nlp[\"hash_ai\"]==hash_ai]\n",
        "    # pas trouvé, on passe la ligne pour appel ia\n",
        "    if len(found)==0:\n",
        "      print (\"Recherche de \" +hash_ai)\n",
        "      print (fetch_deep_translator(value[\"hash\"], value[\"language\"], vc, value))\n"
      ],
      "metadata": {
        "id": "44uNkrK4dzVi"
      },
      "execution_count": null,
      "outputs": []
    },
    {
      "cell_type": "code",
      "source": [],
      "metadata": {
        "colab": {
          "base_uri": "https://localhost:8080/"
        },
        "id": "IxeOiZStIVL6",
        "outputId": "cb89ab44-8e55-487f-b2b9-73b8da72d798"
      },
      "execution_count": null,
      "outputs": [
        {
          "output_type": "stream",
          "name": "stdout",
          "text": [
            "Collecting deep-translator\n",
            "  Downloading deep_translator-1.8.3-py3-none-any.whl (29 kB)\n",
            "Requirement already satisfied: requests<3.0.0,>=2.23.0 in /usr/local/lib/python3.7/dist-packages (from deep-translator) (2.23.0)\n",
            "Requirement already satisfied: beautifulsoup4<5.0.0,>=4.9.1 in /usr/local/lib/python3.7/dist-packages (from deep-translator) (4.11.1)\n",
            "Requirement already satisfied: soupsieve>1.2 in /usr/local/lib/python3.7/dist-packages (from beautifulsoup4<5.0.0,>=4.9.1->deep-translator) (2.3.2.post1)\n",
            "Requirement already satisfied: chardet<4,>=3.0.2 in /usr/local/lib/python3.7/dist-packages (from requests<3.0.0,>=2.23.0->deep-translator) (3.0.4)\n",
            "Requirement already satisfied: urllib3!=1.25.0,!=1.25.1,<1.26,>=1.21.1 in /usr/local/lib/python3.7/dist-packages (from requests<3.0.0,>=2.23.0->deep-translator) (1.24.3)\n",
            "Requirement already satisfied: idna<3,>=2.5 in /usr/local/lib/python3.7/dist-packages (from requests<3.0.0,>=2.23.0->deep-translator) (2.10)\n",
            "Requirement already satisfied: certifi>=2017.4.17 in /usr/local/lib/python3.7/dist-packages (from requests<3.0.0,>=2.23.0->deep-translator) (2021.10.8)\n",
            "Installing collected packages: deep-translator\n",
            "Successfully installed deep-translator-1.8.3\n"
          ]
        }
      ]
    },
    {
      "cell_type": "code",
      "source": [
        "\n",
        "translated = GoogleTranslator(source='auto', target='de').translate(\"keep it up, you are awesome\")  # output -> Weiter so, du bist großartig"
      ],
      "metadata": {
        "id": "2HdZFXRNIfWk",
        "colab": {
          "base_uri": "https://localhost:8080/",
          "height": 171
        },
        "outputId": "da9ab2ab-ee1c-4614-cc47-41135cd4f6fc"
      },
      "execution_count": null,
      "outputs": [
        {
          "output_type": "error",
          "ename": "NameError",
          "evalue": "ignored",
          "traceback": [
            "\u001b[0;31m---------------------------------------------------------------------------\u001b[0m",
            "\u001b[0;31mNameError\u001b[0m                                 Traceback (most recent call last)",
            "\u001b[0;32m<ipython-input-29-5f491294c6d1>\u001b[0m in \u001b[0;36m<module>\u001b[0;34m\u001b[0m\n\u001b[0;32m----> 1\u001b[0;31m \u001b[0mtranslated\u001b[0m \u001b[0;34m=\u001b[0m \u001b[0mGoogleTranslator\u001b[0m\u001b[0;34m(\u001b[0m\u001b[0msource\u001b[0m\u001b[0;34m=\u001b[0m\u001b[0;34m'auto'\u001b[0m\u001b[0;34m,\u001b[0m \u001b[0mtarget\u001b[0m\u001b[0;34m=\u001b[0m\u001b[0;34m'de'\u001b[0m\u001b[0;34m)\u001b[0m\u001b[0;34m.\u001b[0m\u001b[0mtranslate\u001b[0m\u001b[0;34m(\u001b[0m\u001b[0;34m\"keep it up, you are awesome\"\u001b[0m\u001b[0;34m)\u001b[0m  \u001b[0;31m# output -> Weiter so, du bist großartig\u001b[0m\u001b[0;34m\u001b[0m\u001b[0;34m\u001b[0m\u001b[0m\n\u001b[0m",
            "\u001b[0;31mNameError\u001b[0m: name 'GoogleTranslator' is not defined"
          ]
        }
      ]
    },
    {
      "cell_type": "code",
      "source": [],
      "metadata": {
        "id": "kCQiIqD7Iimm"
      },
      "execution_count": null,
      "outputs": []
    },
    {
      "cell_type": "code",
      "source": [],
      "metadata": {
        "id": "iJP_15m8KlZ9"
      },
      "execution_count": null,
      "outputs": []
    },
    {
      "cell_type": "code",
      "source": [],
      "metadata": {
        "id": "LXAi2ptXNCFc"
      },
      "execution_count": null,
      "outputs": []
    },
    {
      "cell_type": "markdown",
      "source": [
        "Google Translator"
      ],
      "metadata": {
        "id": "-6UTqvHhY8EM"
      }
    },
    {
      "cell_type": "markdown",
      "source": [
        "Pons"
      ],
      "metadata": {
        "id": "DYLgReUEZJCs"
      }
    },
    {
      "cell_type": "code",
      "source": [
        "'''\n",
        "filter = \"rou\"\n",
        "ai = 11\n",
        "# algorithme :\n",
        "# si state==1(pending) ou 2(validé) => pas d'appel IA\n",
        "# si state==0 => appel ia\n",
        "df_langdeck[[\"translation\",\"translation_state\",\"translation_ai_source\"]] = df_langdeck[[\"translation\",\"translation_pivot\",\"language\",\"translation_state\"]].apply(\n",
        "    lambda x:fetch_deep_tlr_txtai(x[1],x[2], filter, ai) \n",
        "    if x[3]==0 \n",
        "    else (x[0],x[3],0), \n",
        "    axis=1, \n",
        "    result_type=\"expand\")\n",
        "'''"
      ],
      "metadata": {
        "id": "tKWh8cWfv4bK",
        "colab": {
          "base_uri": "https://localhost:8080/",
          "height": 72
        },
        "outputId": "b6772545-c21d-4034-bc9f-422bb6d1fb02"
      },
      "execution_count": null,
      "outputs": [
        {
          "output_type": "execute_result",
          "data": {
            "text/plain": [
              "'\\nfilter = \"rou\"\\nai = 11\\n# algorithme :\\n# si state==1(pending) ou 2(validé) => pas d\\'appel IA\\n# si state==0 => appel ia\\ndf_langdeck[[\"translation\",\"translation_state\",\"translation_ai_source\"]] = df_langdeck[[\"translation\",\"translation_pivot\",\"language\",\"translation_state\"]].apply(\\n    lambda x:fetch_translation_ia_txtai(x[1],x[2], filter, ai) \\n    if x[3]==0 \\n    else (x[0],x[3],0), \\n    axis=1, \\n    result_type=\"expand\")\\n'"
            ],
            "application/vnd.google.colaboratory.intrinsic+json": {
              "type": "string"
            }
          },
          "metadata": {},
          "execution_count": 107
        }
      ]
    },
    {
      "cell_type": "code",
      "source": [
        "df_langdeck_ai_temp[\"hash_ai\"]=df_langdeck_ai_temp[[\"hash\",\"translation_ai_source\"]].apply(lambda x:x[0]+str(x[1]), axis=1)"
      ],
      "metadata": {
        "id": "5N-u5iIJZa7s"
      },
      "execution_count": null,
      "outputs": []
    },
    {
      "cell_type": "code",
      "source": [
        "df_langdeck_ai_temp = df_langdeck_ai_temp.drop(df_langdeck_ai_temp[df_langdeck_ai_temp[\"translation_ai_source\"]==0].index)"
      ],
      "metadata": {
        "id": "hds0XOyiMPBA"
      },
      "execution_count": null,
      "outputs": []
    },
    {
      "cell_type": "code",
      "source": [
        "frames = [df_langdeck_ai, df_langdeck_ai_temp]\n",
        "df_langdeck_ai = pd.concat(frames)"
      ],
      "metadata": {
        "id": "_rZ80I_qdv9A"
      },
      "execution_count": null,
      "outputs": []
    },
    {
      "cell_type": "code",
      "source": [
        "df_langdeck_ai.loc[df_langdeck_ai[\"translation_ai_source\"]==13]"
      ],
      "metadata": {
        "colab": {
          "base_uri": "https://localhost:8080/",
          "height": 502
        },
        "id": "eXLFrJBdGQQ2",
        "outputId": "de0a8eb0-e95b-4d99-a103-3ea62f828cc2"
      },
      "execution_count": null,
      "outputs": [
        {
          "output_type": "execute_result",
          "data": {
            "text/plain": [
              "             hash      maitre                                         expression language                            translation                                  translation_pivot  translation_state  translation_ai_source       translation_ai        hash_ai\n",
              "0     f9bc13efams  Médicament  À quel moment de la journée vous prenez le méd...      ams      في أي وقت من اليوم تتناول الدواء؟      At what time of day do you take the medicine?                  2                     13             أثْناءَ   f9bc13efams13\n",
              "1     6e65dde7ams       Abcès                                              Abcès      ams                                 خُرّاج                                          Abscesses                  2                     13   خُرَاج <خُرَاجات>   6e65dde7ams13\n",
              "2     80cbaceaams     Abdomen                                            Abdomen      ams                                  البطن                                            Abdomen                  2                     13             البَطْن   80cbaceaams13\n",
              "3     95c4a863ams     Fébrile  Accès fébrile concomitant chez un autre membre...      ams  نوبة حمى مزامنة عند فرد اخر من الأسرة  Concomitant febrile attack in an other family ...                  0                     13                       95c4a863ams13\n",
              "4     30579682ams    Accident                                           Accident      ams                                   حادث                                           Accident                  2                     13          مُصَادَفَة   30579682ams13\n",
              "...           ...         ...                                                ...      ...                                    ...                                                ...                ...                    ...                  ...            ...\n",
              "5529  e352c9c7ams    Sinusite                                           Sinusite      ams                            أضف تعليقًا                                           Sine [K]                  2                     13          جيب الزاية   e352c9c7ams13\n",
              "5530  be431a55ams      Ulcère                                             Ulcère      ams                                  Ulcer                                              Ulcer                  2                     13   قَرْحَة <قَرْحات>   be431a55ams13\n",
              "5531  7019983eams      Ulcère                                Ulcère de l'estomac      ams                              مُلْسَكَر                                      Stomach ulcer                  2                     13  قَرْحَةُ المَعِدَة   7019983eams13\n",
              "5532  a2e70804ams      Ulcère                         Ulcère de l'intestin grêle      ams                  أُجُزأة صغيرة من الأم                       Ulcer of the small intestine                  2                     13    المِعَى الدَّقيق   a2e70804ams13\n",
              "5533  cd6176c4ams      Ventre                                             Ventre      ams                            اذهب اليها.                                         Go for it.                  2                     13               أيّدَ   cd6176c4ams13\n",
              "\n",
              "[374 rows x 10 columns]"
            ],
            "text/html": [
              "\n",
              "  <div id=\"df-d9fc2fe8-01a6-4ad2-be28-fbeee18df666\">\n",
              "    <div class=\"colab-df-container\">\n",
              "      <div>\n",
              "<style scoped>\n",
              "    .dataframe tbody tr th:only-of-type {\n",
              "        vertical-align: middle;\n",
              "    }\n",
              "\n",
              "    .dataframe tbody tr th {\n",
              "        vertical-align: top;\n",
              "    }\n",
              "\n",
              "    .dataframe thead th {\n",
              "        text-align: right;\n",
              "    }\n",
              "</style>\n",
              "<table border=\"1\" class=\"dataframe\">\n",
              "  <thead>\n",
              "    <tr style=\"text-align: right;\">\n",
              "      <th></th>\n",
              "      <th>hash</th>\n",
              "      <th>maitre</th>\n",
              "      <th>expression</th>\n",
              "      <th>language</th>\n",
              "      <th>translation</th>\n",
              "      <th>translation_pivot</th>\n",
              "      <th>translation_state</th>\n",
              "      <th>translation_ai_source</th>\n",
              "      <th>translation_ai</th>\n",
              "      <th>hash_ai</th>\n",
              "    </tr>\n",
              "  </thead>\n",
              "  <tbody>\n",
              "    <tr>\n",
              "      <th>0</th>\n",
              "      <td>f9bc13efams</td>\n",
              "      <td>Médicament</td>\n",
              "      <td>À quel moment de la journée vous prenez le méd...</td>\n",
              "      <td>ams</td>\n",
              "      <td>في أي وقت من اليوم تتناول الدواء؟</td>\n",
              "      <td>At what time of day do you take the medicine?</td>\n",
              "      <td>2</td>\n",
              "      <td>13</td>\n",
              "      <td>أثْناءَ</td>\n",
              "      <td>f9bc13efams13</td>\n",
              "    </tr>\n",
              "    <tr>\n",
              "      <th>1</th>\n",
              "      <td>6e65dde7ams</td>\n",
              "      <td>Abcès</td>\n",
              "      <td>Abcès</td>\n",
              "      <td>ams</td>\n",
              "      <td>خُرّاج</td>\n",
              "      <td>Abscesses</td>\n",
              "      <td>2</td>\n",
              "      <td>13</td>\n",
              "      <td>خُرَاج &lt;خُرَاجات&gt;</td>\n",
              "      <td>6e65dde7ams13</td>\n",
              "    </tr>\n",
              "    <tr>\n",
              "      <th>2</th>\n",
              "      <td>80cbaceaams</td>\n",
              "      <td>Abdomen</td>\n",
              "      <td>Abdomen</td>\n",
              "      <td>ams</td>\n",
              "      <td>البطن</td>\n",
              "      <td>Abdomen</td>\n",
              "      <td>2</td>\n",
              "      <td>13</td>\n",
              "      <td>البَطْن</td>\n",
              "      <td>80cbaceaams13</td>\n",
              "    </tr>\n",
              "    <tr>\n",
              "      <th>3</th>\n",
              "      <td>95c4a863ams</td>\n",
              "      <td>Fébrile</td>\n",
              "      <td>Accès fébrile concomitant chez un autre membre...</td>\n",
              "      <td>ams</td>\n",
              "      <td>نوبة حمى مزامنة عند فرد اخر من الأسرة</td>\n",
              "      <td>Concomitant febrile attack in an other family ...</td>\n",
              "      <td>0</td>\n",
              "      <td>13</td>\n",
              "      <td></td>\n",
              "      <td>95c4a863ams13</td>\n",
              "    </tr>\n",
              "    <tr>\n",
              "      <th>4</th>\n",
              "      <td>30579682ams</td>\n",
              "      <td>Accident</td>\n",
              "      <td>Accident</td>\n",
              "      <td>ams</td>\n",
              "      <td>حادث</td>\n",
              "      <td>Accident</td>\n",
              "      <td>2</td>\n",
              "      <td>13</td>\n",
              "      <td>مُصَادَفَة</td>\n",
              "      <td>30579682ams13</td>\n",
              "    </tr>\n",
              "    <tr>\n",
              "      <th>...</th>\n",
              "      <td>...</td>\n",
              "      <td>...</td>\n",
              "      <td>...</td>\n",
              "      <td>...</td>\n",
              "      <td>...</td>\n",
              "      <td>...</td>\n",
              "      <td>...</td>\n",
              "      <td>...</td>\n",
              "      <td>...</td>\n",
              "      <td>...</td>\n",
              "    </tr>\n",
              "    <tr>\n",
              "      <th>5529</th>\n",
              "      <td>e352c9c7ams</td>\n",
              "      <td>Sinusite</td>\n",
              "      <td>Sinusite</td>\n",
              "      <td>ams</td>\n",
              "      <td>أضف تعليقًا</td>\n",
              "      <td>Sine [K]</td>\n",
              "      <td>2</td>\n",
              "      <td>13</td>\n",
              "      <td>جيب الزاية</td>\n",
              "      <td>e352c9c7ams13</td>\n",
              "    </tr>\n",
              "    <tr>\n",
              "      <th>5530</th>\n",
              "      <td>be431a55ams</td>\n",
              "      <td>Ulcère</td>\n",
              "      <td>Ulcère</td>\n",
              "      <td>ams</td>\n",
              "      <td>Ulcer</td>\n",
              "      <td>Ulcer</td>\n",
              "      <td>2</td>\n",
              "      <td>13</td>\n",
              "      <td>قَرْحَة &lt;قَرْحات&gt;</td>\n",
              "      <td>be431a55ams13</td>\n",
              "    </tr>\n",
              "    <tr>\n",
              "      <th>5531</th>\n",
              "      <td>7019983eams</td>\n",
              "      <td>Ulcère</td>\n",
              "      <td>Ulcère de l'estomac</td>\n",
              "      <td>ams</td>\n",
              "      <td>مُلْسَكَر</td>\n",
              "      <td>Stomach ulcer</td>\n",
              "      <td>2</td>\n",
              "      <td>13</td>\n",
              "      <td>قَرْحَةُ المَعِدَة</td>\n",
              "      <td>7019983eams13</td>\n",
              "    </tr>\n",
              "    <tr>\n",
              "      <th>5532</th>\n",
              "      <td>a2e70804ams</td>\n",
              "      <td>Ulcère</td>\n",
              "      <td>Ulcère de l'intestin grêle</td>\n",
              "      <td>ams</td>\n",
              "      <td>أُجُزأة صغيرة من الأم</td>\n",
              "      <td>Ulcer of the small intestine</td>\n",
              "      <td>2</td>\n",
              "      <td>13</td>\n",
              "      <td>المِعَى الدَّقيق</td>\n",
              "      <td>a2e70804ams13</td>\n",
              "    </tr>\n",
              "    <tr>\n",
              "      <th>5533</th>\n",
              "      <td>cd6176c4ams</td>\n",
              "      <td>Ventre</td>\n",
              "      <td>Ventre</td>\n",
              "      <td>ams</td>\n",
              "      <td>اذهب اليها.</td>\n",
              "      <td>Go for it.</td>\n",
              "      <td>2</td>\n",
              "      <td>13</td>\n",
              "      <td>أيّدَ</td>\n",
              "      <td>cd6176c4ams13</td>\n",
              "    </tr>\n",
              "  </tbody>\n",
              "</table>\n",
              "<p>374 rows × 10 columns</p>\n",
              "</div>\n",
              "      <button class=\"colab-df-convert\" onclick=\"convertToInteractive('df-d9fc2fe8-01a6-4ad2-be28-fbeee18df666')\"\n",
              "              title=\"Convert this dataframe to an interactive table.\"\n",
              "              style=\"display:none;\">\n",
              "        \n",
              "  <svg xmlns=\"http://www.w3.org/2000/svg\" height=\"24px\"viewBox=\"0 0 24 24\"\n",
              "       width=\"24px\">\n",
              "    <path d=\"M0 0h24v24H0V0z\" fill=\"none\"/>\n",
              "    <path d=\"M18.56 5.44l.94 2.06.94-2.06 2.06-.94-2.06-.94-.94-2.06-.94 2.06-2.06.94zm-11 1L8.5 8.5l.94-2.06 2.06-.94-2.06-.94L8.5 2.5l-.94 2.06-2.06.94zm10 10l.94 2.06.94-2.06 2.06-.94-2.06-.94-.94-2.06-.94 2.06-2.06.94z\"/><path d=\"M17.41 7.96l-1.37-1.37c-.4-.4-.92-.59-1.43-.59-.52 0-1.04.2-1.43.59L10.3 9.45l-7.72 7.72c-.78.78-.78 2.05 0 2.83L4 21.41c.39.39.9.59 1.41.59.51 0 1.02-.2 1.41-.59l7.78-7.78 2.81-2.81c.8-.78.8-2.07 0-2.86zM5.41 20L4 18.59l7.72-7.72 1.47 1.35L5.41 20z\"/>\n",
              "  </svg>\n",
              "      </button>\n",
              "      \n",
              "  <style>\n",
              "    .colab-df-container {\n",
              "      display:flex;\n",
              "      flex-wrap:wrap;\n",
              "      gap: 12px;\n",
              "    }\n",
              "\n",
              "    .colab-df-convert {\n",
              "      background-color: #E8F0FE;\n",
              "      border: none;\n",
              "      border-radius: 50%;\n",
              "      cursor: pointer;\n",
              "      display: none;\n",
              "      fill: #1967D2;\n",
              "      height: 32px;\n",
              "      padding: 0 0 0 0;\n",
              "      width: 32px;\n",
              "    }\n",
              "\n",
              "    .colab-df-convert:hover {\n",
              "      background-color: #E2EBFA;\n",
              "      box-shadow: 0px 1px 2px rgba(60, 64, 67, 0.3), 0px 1px 3px 1px rgba(60, 64, 67, 0.15);\n",
              "      fill: #174EA6;\n",
              "    }\n",
              "\n",
              "    [theme=dark] .colab-df-convert {\n",
              "      background-color: #3B4455;\n",
              "      fill: #D2E3FC;\n",
              "    }\n",
              "\n",
              "    [theme=dark] .colab-df-convert:hover {\n",
              "      background-color: #434B5C;\n",
              "      box-shadow: 0px 1px 3px 1px rgba(0, 0, 0, 0.15);\n",
              "      filter: drop-shadow(0px 1px 2px rgba(0, 0, 0, 0.3));\n",
              "      fill: #FFFFFF;\n",
              "    }\n",
              "  </style>\n",
              "\n",
              "      <script>\n",
              "        const buttonEl =\n",
              "          document.querySelector('#df-d9fc2fe8-01a6-4ad2-be28-fbeee18df666 button.colab-df-convert');\n",
              "        buttonEl.style.display =\n",
              "          google.colab.kernel.accessAllowed ? 'block' : 'none';\n",
              "\n",
              "        async function convertToInteractive(key) {\n",
              "          const element = document.querySelector('#df-d9fc2fe8-01a6-4ad2-be28-fbeee18df666');\n",
              "          const dataTable =\n",
              "            await google.colab.kernel.invokeFunction('convertToInteractive',\n",
              "                                                     [key], {});\n",
              "          if (!dataTable) return;\n",
              "\n",
              "          const docLinkHtml = 'Like what you see? Visit the ' +\n",
              "            '<a target=\"_blank\" href=https://colab.research.google.com/notebooks/data_table.ipynb>data table notebook</a>'\n",
              "            + ' to learn more about interactive tables.';\n",
              "          element.innerHTML = '';\n",
              "          dataTable['output_type'] = 'display_data';\n",
              "          await google.colab.output.renderOutput(dataTable, element);\n",
              "          const docLink = document.createElement('div');\n",
              "          docLink.innerHTML = docLinkHtml;\n",
              "          element.appendChild(docLink);\n",
              "        }\n",
              "      </script>\n",
              "    </div>\n",
              "  </div>\n",
              "  "
            ]
          },
          "metadata": {},
          "execution_count": 140
        }
      ]
    },
    {
      "cell_type": "code",
      "source": [
        "try:\n",
        "  t_corpus_all_entries = wb.worksheet(\"t_translate_deep\")\n",
        "  wb.del_worksheet(t_corpus_all_entries)\n",
        "except:\n",
        "  print (\"Onglet inexistant !\")\n",
        "\n",
        "wb.add_worksheet(\"t_translate_deep\", 1, 1)\n",
        "export_sheet = wb.worksheet(\"t_translate_deep\")\n",
        "set_with_dataframe(export_sheet, df_langdeck_ai)"
      ],
      "metadata": {
        "colab": {
          "base_uri": "https://localhost:8080/"
        },
        "id": "3fhM_O4jhgql",
        "outputId": "9abc9b7f-5640-4209-cd23-c6a859eaabb3"
      },
      "execution_count": null,
      "outputs": [
        {
          "output_type": "stream",
          "name": "stdout",
          "text": [
            "Onglet inexistant !\n"
          ]
        }
      ]
    },
    {
      "cell_type": "code",
      "source": [
        "\n",
        "#df_langdeck[\"translation_ai_source\"] = np.nan\n",
        "df_langdeck[\"translation_score\"] = df_langdeck[\"translation_state\"].apply(lambda x: (1.0 if x==1 else 0.5 if x==2 else 0.0))\n",
        "df_langdeck[\"translation_state_txt\"] = df_langdeck[\"translation_state\"].apply(lambda x: (\"OK\" if x==1 else \"Pending\" if x==2 else \"Reject\"))"
      ],
      "metadata": {
        "id": "_eY3Ujk-yzqS"
      },
      "execution_count": null,
      "outputs": []
    },
    {
      "cell_type": "code",
      "source": [
        "try:\n",
        "  t_corpus_all_entries = wb.worksheet(\"t_corpus_all_entries\")\n",
        "  wb.del_worksheet(t_corpus_all_entries)\n",
        "except:\n",
        "  print (\"Onglet inexistant !\")\n",
        "\n",
        "wb.add_worksheet(\"t_corpus_all_entries\", 1, 1)\n",
        "export_sheet = wb.worksheet(\"t_corpus_all_entries\")\n",
        "set_with_dataframe(export_sheet, df_langdeck)"
      ],
      "metadata": {
        "id": "jovn4_URZlYF"
      },
      "execution_count": null,
      "outputs": []
    },
    {
      "cell_type": "markdown",
      "source": [
        "# Vue Lexique (deprecated)"
      ],
      "metadata": {
        "id": "Ir-IVRoHBzNM"
      }
    },
    {
      "cell_type": "code",
      "source": [
        "t_lexique = wb.worksheet(\"t_lexicon\")\n",
        "# on recharge avec les nouvelles données"
      ],
      "metadata": {
        "id": "5NQSoutoCfO_"
      },
      "execution_count": null,
      "outputs": []
    },
    {
      "cell_type": "markdown",
      "source": [
        "### nouvelles colonnes Thèmes"
      ],
      "metadata": {
        "id": "Sd5ifS4CHtYv"
      }
    },
    {
      "cell_type": "code",
      "source": [
        "# on crée une liste des valeurs uniques des 3 colonnes de thèmes\n",
        "frames = [df_langdeck[\"theme_1\"],df_langdeck[\"theme_2\"],df_langdeck[\"theme_3\"]]\n",
        "vk_theme = list(set(pd.concat(frames).to_list()))\n",
        "vk_theme.remove('')"
      ],
      "metadata": {
        "id": "mgpUaOFoHBC_"
      },
      "execution_count": null,
      "outputs": []
    },
    {
      "cell_type": "code",
      "source": [
        "# on ajoute les colonnes à partir de la liste et on valorise T/F\n",
        "df_lexique = df_langdeck[[\"hash\",\"maitre\",\"ordre\",\"expression\",\"language\",\"language_fulltext\",\"theme_1\",\"theme_2\",\"theme_3\"]].copy()\n",
        "df_lexique = pd.concat([df_lexique, pd.DataFrame(columns = vk_theme)])\n",
        "for item in vk_theme:\n",
        "  df_lexique[item] = df_lexique[[\"theme_1\",\"theme_2\",\"theme_3\"]].apply(lambda x:True if (x[0]==item or x[1]==item or x[2]==item) else False, axis=1)"
      ],
      "metadata": {
        "id": "3TBJdhyPPGnd"
      },
      "execution_count": null,
      "outputs": []
    },
    {
      "cell_type": "code",
      "source": [
        "frames=[]\n",
        "df=pd.DataFrame()\n",
        "frames.append(df)\n",
        "# pour chaque thème on ajoute les expressions trouvées\n",
        "for item in vk_theme:\n",
        "  df_temp = df_lexique.loc[df_lexique[item] == True]\n",
        "  df_temp.insert(0,'theme', item)\n",
        "  df_temp.insert(0,'section', df_temp[\"ordre\"].apply(lambda x:(\"Vocabulaire\" if x==1 else \"Expression\" if x==2 else \"Phrase\" if x>=3 else \"NONE\")))\n",
        "  df_temp.insert(0,'theme_hash', df_temp[\"hash\"].apply(lambda x:\"\".join(item.split())+x))\n",
        "  frames.append(df_temp)\n",
        "  # on concatène le tout dans un new dataframe\n",
        "  df_langdeck_theme = pd.concat(frames)"
      ],
      "metadata": {
        "id": "Q0wzscMluZ1Y"
      },
      "execution_count": null,
      "outputs": []
    },
    {
      "cell_type": "code",
      "source": [
        "len(df_langdeck_theme)"
      ],
      "metadata": {
        "colab": {
          "base_uri": "https://localhost:8080/"
        },
        "id": "o-A-XSOIvaz0",
        "outputId": "e3642f20-f2ff-4ccd-db2a-de44f25d3e8b"
      },
      "execution_count": null,
      "outputs": [
        {
          "output_type": "execute_result",
          "data": {
            "text/plain": [
              "7280"
            ]
          },
          "metadata": {},
          "execution_count": 27
        }
      ]
    },
    {
      "cell_type": "code",
      "source": [
        "df_langdeck_theme.iloc[1]"
      ],
      "metadata": {
        "colab": {
          "base_uri": "https://localhost:8080/"
        },
        "id": "WX3YYEdGvAeb",
        "outputId": "f8e4d256-7cc7-40f8-b29d-a29bb9bdc3c1"
      },
      "execution_count": null,
      "outputs": [
        {
          "output_type": "execute_result",
          "data": {
            "text/plain": [
              "theme_hash                  Médecinegénérale6e65dde7ams\n",
              "section                                     Vocabulaire\n",
              "theme                                 Médecine générale\n",
              "hash                                        6e65dde7ams\n",
              "maitre                                            Abcès\n",
              "ordre                                               1.0\n",
              "expression                                        Abcès\n",
              "language                                            ams\n",
              "language_fulltext                                 Arabe\n",
              "theme_1                               Médecine générale\n",
              "theme_2                                                \n",
              "theme_3                                                \n",
              "Médecine générale                                  True\n",
              "Etat civil                                        False\n",
              "Vaccination                                       False\n",
              "Hépato-Gastroentérologie                          False\n",
              "Douleur                                           False\n",
              "Nourriture                                        False\n",
              "Ophtalmologie                                     False\n",
              "Examen du patient                                 False\n",
              "Corps humain                                      False\n",
              "Maladie                                           False\n",
              "Dossier du patient                                False\n",
              "Name: 1, dtype: object"
            ]
          },
          "metadata": {},
          "execution_count": 28
        }
      ]
    },
    {
      "cell_type": "code",
      "source": [
        "try:\n",
        "  tbl = wb.worksheet(\"t_voc_synth\")\n",
        "  wb.del_worksheet(tbl)\n",
        "except:\n",
        "  print (\"Onglet inexistant !\")\n",
        "\n",
        "wb.add_worksheet(\"t_voc_synth\", 1, 1)\n",
        "export_sheet = wb.worksheet(\"t_voc_synth\")\n",
        "set_with_dataframe(export_sheet, df_langdeck)"
      ],
      "metadata": {
        "id": "bkhhHzyUR7kC"
      },
      "execution_count": null,
      "outputs": []
    },
    {
      "cell_type": "code",
      "source": [
        "try:\n",
        "  t_lexique = wb.worksheet(\"t_lexicon\")\n",
        "  wb.del_worksheet(t_lexique)\n",
        "except:\n",
        "  print (\"Onglet inexistant !\")\n",
        "\n",
        "wb.add_worksheet(\"t_lexicon\", 1, 1)\n",
        "export_sheet = wb.worksheet(\"t_lexicon\")\n",
        "set_with_dataframe(export_sheet, df_langdeck_theme)"
      ],
      "metadata": {
        "id": "V-JgUPX1qnOo"
      },
      "execution_count": null,
      "outputs": []
    },
    {
      "cell_type": "markdown",
      "source": [
        "# FIN pour l'instant"
      ],
      "metadata": {
        "id": "QPYy0V1g8Fq8"
      }
    },
    {
      "cell_type": "markdown",
      "source": [
        "# Appel IA Google Translate"
      ],
      "metadata": {
        "id": "mAMwNbxDr4LA"
      }
    },
    {
      "cell_type": "code",
      "source": [],
      "metadata": {
        "id": "WA76ThQgsMFQ"
      },
      "execution_count": null,
      "outputs": []
    },
    {
      "cell_type": "code",
      "source": [
        "# txtAI\n",
        "translation = translate(\"Forearm\", \"ar\")\n",
        "translation"
      ],
      "metadata": {
        "colab": {
          "base_uri": "https://localhost:8080/",
          "height": 36
        },
        "id": "zBg0AoDKwI_V",
        "outputId": "2d412e61-ba38-4747-d3f9-7e2c7a6fa432"
      },
      "execution_count": null,
      "outputs": [
        {
          "output_type": "execute_result",
          "data": {
            "text/plain": [
              "'لـ مُرْرْم'"
            ],
            "application/vnd.google.colaboratory.intrinsic+json": {
              "type": "string"
            }
          },
          "metadata": {},
          "execution_count": 31
        }
      ]
    },
    {
      "cell_type": "code",
      "source": [
        "def txtai_alpha (input, iso_code):\n",
        "  try:\n",
        "    translation = translate(input, \"ar\")\n",
        "  except Exception as e:\n",
        "    translation = \"\"\n",
        "    pass\n",
        "  return translation, 2\n"
      ],
      "metadata": {
        "id": "2O-27iacec86"
      },
      "execution_count": null,
      "outputs": []
    },
    {
      "cell_type": "code",
      "source": [
        "df_txtai = df_langdeck.loc[(df_langdeck[\"language\"]==\"ams\") & (df_langdeck[\"translation_state\"]==0) & (df_langdeck[\"idx\"]==\"B\")]"
      ],
      "metadata": {
        "id": "Rb8_7yp4dY1b"
      },
      "execution_count": null,
      "outputs": []
    },
    {
      "cell_type": "code",
      "source": [
        "df_txtai"
      ],
      "metadata": {
        "colab": {
          "base_uri": "https://localhost:8080/",
          "height": 309
        },
        "id": "ZEApvzNzh8C5",
        "outputId": "72538fd2-cfb8-4a4c-f1c5-5cd19d902537"
      },
      "execution_count": null,
      "outputs": [
        {
          "output_type": "execute_result",
          "data": {
            "text/plain": [
              "           hash       uid   maitre  ordre expression idx           timestamp language translation language_fulltext  ... translation_state Corps humain Etat civil Hépato-Gastroentérologie Examen du patient Vaccination Maladie Dossier du patient Douleur  Médecine générale\n",
              "56  f3bff76cams  f3bff76c  Bonjour    1.0    Bonjour   B 2022-03-31 14:33:26      ams                         Arabe  ...               0.0        False      False                    False             False       False   False               True   False               True\n",
              "58  b80ffb21ams  b80ffb21   Bouche    1.0     Bouche   B 2022-03-31 15:25:18      ams                         Arabe  ...               0.0         True      False                    False             False       False   False              False   False              False\n",
              "\n",
              "[2 rows x 30 columns]"
            ],
            "text/html": [
              "\n",
              "  <div id=\"df-b80230e8-9af6-4292-9daa-915fb11cda71\">\n",
              "    <div class=\"colab-df-container\">\n",
              "      <div>\n",
              "<style scoped>\n",
              "    .dataframe tbody tr th:only-of-type {\n",
              "        vertical-align: middle;\n",
              "    }\n",
              "\n",
              "    .dataframe tbody tr th {\n",
              "        vertical-align: top;\n",
              "    }\n",
              "\n",
              "    .dataframe thead th {\n",
              "        text-align: right;\n",
              "    }\n",
              "</style>\n",
              "<table border=\"1\" class=\"dataframe\">\n",
              "  <thead>\n",
              "    <tr style=\"text-align: right;\">\n",
              "      <th></th>\n",
              "      <th>hash</th>\n",
              "      <th>uid</th>\n",
              "      <th>maitre</th>\n",
              "      <th>ordre</th>\n",
              "      <th>expression</th>\n",
              "      <th>idx</th>\n",
              "      <th>timestamp</th>\n",
              "      <th>language</th>\n",
              "      <th>translation</th>\n",
              "      <th>language_fulltext</th>\n",
              "      <th>...</th>\n",
              "      <th>translation_state</th>\n",
              "      <th>Corps humain</th>\n",
              "      <th>Etat civil</th>\n",
              "      <th>Hépato-Gastroentérologie</th>\n",
              "      <th>Examen du patient</th>\n",
              "      <th>Vaccination</th>\n",
              "      <th>Maladie</th>\n",
              "      <th>Dossier du patient</th>\n",
              "      <th>Douleur</th>\n",
              "      <th>Médecine générale</th>\n",
              "    </tr>\n",
              "  </thead>\n",
              "  <tbody>\n",
              "    <tr>\n",
              "      <th>56</th>\n",
              "      <td>f3bff76cams</td>\n",
              "      <td>f3bff76c</td>\n",
              "      <td>Bonjour</td>\n",
              "      <td>1.0</td>\n",
              "      <td>Bonjour</td>\n",
              "      <td>B</td>\n",
              "      <td>2022-03-31 14:33:26</td>\n",
              "      <td>ams</td>\n",
              "      <td></td>\n",
              "      <td>Arabe</td>\n",
              "      <td>...</td>\n",
              "      <td>0.0</td>\n",
              "      <td>False</td>\n",
              "      <td>False</td>\n",
              "      <td>False</td>\n",
              "      <td>False</td>\n",
              "      <td>False</td>\n",
              "      <td>False</td>\n",
              "      <td>True</td>\n",
              "      <td>False</td>\n",
              "      <td>True</td>\n",
              "    </tr>\n",
              "    <tr>\n",
              "      <th>58</th>\n",
              "      <td>b80ffb21ams</td>\n",
              "      <td>b80ffb21</td>\n",
              "      <td>Bouche</td>\n",
              "      <td>1.0</td>\n",
              "      <td>Bouche</td>\n",
              "      <td>B</td>\n",
              "      <td>2022-03-31 15:25:18</td>\n",
              "      <td>ams</td>\n",
              "      <td></td>\n",
              "      <td>Arabe</td>\n",
              "      <td>...</td>\n",
              "      <td>0.0</td>\n",
              "      <td>True</td>\n",
              "      <td>False</td>\n",
              "      <td>False</td>\n",
              "      <td>False</td>\n",
              "      <td>False</td>\n",
              "      <td>False</td>\n",
              "      <td>False</td>\n",
              "      <td>False</td>\n",
              "      <td>False</td>\n",
              "    </tr>\n",
              "  </tbody>\n",
              "</table>\n",
              "<p>2 rows × 30 columns</p>\n",
              "</div>\n",
              "      <button class=\"colab-df-convert\" onclick=\"convertToInteractive('df-b80230e8-9af6-4292-9daa-915fb11cda71')\"\n",
              "              title=\"Convert this dataframe to an interactive table.\"\n",
              "              style=\"display:none;\">\n",
              "        \n",
              "  <svg xmlns=\"http://www.w3.org/2000/svg\" height=\"24px\"viewBox=\"0 0 24 24\"\n",
              "       width=\"24px\">\n",
              "    <path d=\"M0 0h24v24H0V0z\" fill=\"none\"/>\n",
              "    <path d=\"M18.56 5.44l.94 2.06.94-2.06 2.06-.94-2.06-.94-.94-2.06-.94 2.06-2.06.94zm-11 1L8.5 8.5l.94-2.06 2.06-.94-2.06-.94L8.5 2.5l-.94 2.06-2.06.94zm10 10l.94 2.06.94-2.06 2.06-.94-2.06-.94-.94-2.06-.94 2.06-2.06.94z\"/><path d=\"M17.41 7.96l-1.37-1.37c-.4-.4-.92-.59-1.43-.59-.52 0-1.04.2-1.43.59L10.3 9.45l-7.72 7.72c-.78.78-.78 2.05 0 2.83L4 21.41c.39.39.9.59 1.41.59.51 0 1.02-.2 1.41-.59l7.78-7.78 2.81-2.81c.8-.78.8-2.07 0-2.86zM5.41 20L4 18.59l7.72-7.72 1.47 1.35L5.41 20z\"/>\n",
              "  </svg>\n",
              "      </button>\n",
              "      \n",
              "  <style>\n",
              "    .colab-df-container {\n",
              "      display:flex;\n",
              "      flex-wrap:wrap;\n",
              "      gap: 12px;\n",
              "    }\n",
              "\n",
              "    .colab-df-convert {\n",
              "      background-color: #E8F0FE;\n",
              "      border: none;\n",
              "      border-radius: 50%;\n",
              "      cursor: pointer;\n",
              "      display: none;\n",
              "      fill: #1967D2;\n",
              "      height: 32px;\n",
              "      padding: 0 0 0 0;\n",
              "      width: 32px;\n",
              "    }\n",
              "\n",
              "    .colab-df-convert:hover {\n",
              "      background-color: #E2EBFA;\n",
              "      box-shadow: 0px 1px 2px rgba(60, 64, 67, 0.3), 0px 1px 3px 1px rgba(60, 64, 67, 0.15);\n",
              "      fill: #174EA6;\n",
              "    }\n",
              "\n",
              "    [theme=dark] .colab-df-convert {\n",
              "      background-color: #3B4455;\n",
              "      fill: #D2E3FC;\n",
              "    }\n",
              "\n",
              "    [theme=dark] .colab-df-convert:hover {\n",
              "      background-color: #434B5C;\n",
              "      box-shadow: 0px 1px 3px 1px rgba(0, 0, 0, 0.15);\n",
              "      filter: drop-shadow(0px 1px 2px rgba(0, 0, 0, 0.3));\n",
              "      fill: #FFFFFF;\n",
              "    }\n",
              "  </style>\n",
              "\n",
              "      <script>\n",
              "        const buttonEl =\n",
              "          document.querySelector('#df-b80230e8-9af6-4292-9daa-915fb11cda71 button.colab-df-convert');\n",
              "        buttonEl.style.display =\n",
              "          google.colab.kernel.accessAllowed ? 'block' : 'none';\n",
              "\n",
              "        async function convertToInteractive(key) {\n",
              "          const element = document.querySelector('#df-b80230e8-9af6-4292-9daa-915fb11cda71');\n",
              "          const dataTable =\n",
              "            await google.colab.kernel.invokeFunction('convertToInteractive',\n",
              "                                                     [key], {});\n",
              "          if (!dataTable) return;\n",
              "\n",
              "          const docLinkHtml = 'Like what you see? Visit the ' +\n",
              "            '<a target=\"_blank\" href=https://colab.research.google.com/notebooks/data_table.ipynb>data table notebook</a>'\n",
              "            + ' to learn more about interactive tables.';\n",
              "          element.innerHTML = '';\n",
              "          dataTable['output_type'] = 'display_data';\n",
              "          await google.colab.output.renderOutput(dataTable, element);\n",
              "          const docLink = document.createElement('div');\n",
              "          docLink.innerHTML = docLinkHtml;\n",
              "          element.appendChild(docLink);\n",
              "        }\n",
              "      </script>\n",
              "    </div>\n",
              "  </div>\n",
              "  "
            ]
          },
          "metadata": {},
          "execution_count": 110
        }
      ]
    },
    {
      "cell_type": "code",
      "source": [
        "df_txtai[[\"translation\",\"translation_state\"]]=df_txtai[[\"expression\",\"translation_state\"]].apply(lambda x: txtai_alpha(x[0], \"ar\") if x[1]==0 else \"\", axis=1, result_type=\"expand\")"
      ],
      "metadata": {
        "colab": {
          "base_uri": "https://localhost:8080/"
        },
        "id": "SfW1iuNBfnYC",
        "outputId": "57a3a260-c65f-4f9b-a907-4e12385a3017"
      },
      "execution_count": null,
      "outputs": [
        {
          "output_type": "stream",
          "name": "stderr",
          "text": [
            "/usr/local/lib/python3.7/dist-packages/pandas/core/frame.py:3641: SettingWithCopyWarning: \n",
            "A value is trying to be set on a copy of a slice from a DataFrame.\n",
            "Try using .loc[row_indexer,col_indexer] = value instead\n",
            "\n",
            "See the caveats in the documentation: https://pandas.pydata.org/pandas-docs/stable/user_guide/indexing.html#returning-a-view-versus-a-copy\n",
            "  self[k1] = value[k2]\n"
          ]
        }
      ]
    },
    {
      "cell_type": "code",
      "source": [
        "df_txtai"
      ],
      "metadata": {
        "colab": {
          "base_uri": "https://localhost:8080/",
          "height": 309
        },
        "id": "M_d22c-AgudT",
        "outputId": "c12bef21-f7f8-4a8f-e1d2-a03377031678"
      },
      "execution_count": null,
      "outputs": [
        {
          "output_type": "execute_result",
          "data": {
            "text/plain": [
              "           hash       uid   maitre  ordre expression idx           timestamp language                                        translation language_fulltext  ... translation_state Corps humain Etat civil Hépato-Gastroentérologie Examen du patient Vaccination Maladie Dossier du patient Douleur  Médecine générale\n",
              "56  f3bff76cams  f3bff76c  Bonjour    1.0    Bonjour   B 2022-03-31 14:33:26      ams  مرحباً، مرحباً، مرحباً، مرحباً، مرحباً، مرحباً...             Arabe  ...                 2        False      False                    False             False       False   False               True   False               True\n",
              "58  b80ffb21ams  b80ffb21   Bouche    1.0     Bouche   B 2022-03-31 15:25:18      ams                                  لاشتششششششششششششش             Arabe  ...                 2         True      False                    False             False       False   False              False   False              False\n",
              "\n",
              "[2 rows x 30 columns]"
            ],
            "text/html": [
              "\n",
              "  <div id=\"df-012d4183-01fc-4919-8964-9671cfadb2ac\">\n",
              "    <div class=\"colab-df-container\">\n",
              "      <div>\n",
              "<style scoped>\n",
              "    .dataframe tbody tr th:only-of-type {\n",
              "        vertical-align: middle;\n",
              "    }\n",
              "\n",
              "    .dataframe tbody tr th {\n",
              "        vertical-align: top;\n",
              "    }\n",
              "\n",
              "    .dataframe thead th {\n",
              "        text-align: right;\n",
              "    }\n",
              "</style>\n",
              "<table border=\"1\" class=\"dataframe\">\n",
              "  <thead>\n",
              "    <tr style=\"text-align: right;\">\n",
              "      <th></th>\n",
              "      <th>hash</th>\n",
              "      <th>uid</th>\n",
              "      <th>maitre</th>\n",
              "      <th>ordre</th>\n",
              "      <th>expression</th>\n",
              "      <th>idx</th>\n",
              "      <th>timestamp</th>\n",
              "      <th>language</th>\n",
              "      <th>translation</th>\n",
              "      <th>language_fulltext</th>\n",
              "      <th>...</th>\n",
              "      <th>translation_state</th>\n",
              "      <th>Corps humain</th>\n",
              "      <th>Etat civil</th>\n",
              "      <th>Hépato-Gastroentérologie</th>\n",
              "      <th>Examen du patient</th>\n",
              "      <th>Vaccination</th>\n",
              "      <th>Maladie</th>\n",
              "      <th>Dossier du patient</th>\n",
              "      <th>Douleur</th>\n",
              "      <th>Médecine générale</th>\n",
              "    </tr>\n",
              "  </thead>\n",
              "  <tbody>\n",
              "    <tr>\n",
              "      <th>56</th>\n",
              "      <td>f3bff76cams</td>\n",
              "      <td>f3bff76c</td>\n",
              "      <td>Bonjour</td>\n",
              "      <td>1.0</td>\n",
              "      <td>Bonjour</td>\n",
              "      <td>B</td>\n",
              "      <td>2022-03-31 14:33:26</td>\n",
              "      <td>ams</td>\n",
              "      <td>مرحباً، مرحباً، مرحباً، مرحباً، مرحباً، مرحباً...</td>\n",
              "      <td>Arabe</td>\n",
              "      <td>...</td>\n",
              "      <td>2</td>\n",
              "      <td>False</td>\n",
              "      <td>False</td>\n",
              "      <td>False</td>\n",
              "      <td>False</td>\n",
              "      <td>False</td>\n",
              "      <td>False</td>\n",
              "      <td>True</td>\n",
              "      <td>False</td>\n",
              "      <td>True</td>\n",
              "    </tr>\n",
              "    <tr>\n",
              "      <th>58</th>\n",
              "      <td>b80ffb21ams</td>\n",
              "      <td>b80ffb21</td>\n",
              "      <td>Bouche</td>\n",
              "      <td>1.0</td>\n",
              "      <td>Bouche</td>\n",
              "      <td>B</td>\n",
              "      <td>2022-03-31 15:25:18</td>\n",
              "      <td>ams</td>\n",
              "      <td>لاشتششششششششششششش</td>\n",
              "      <td>Arabe</td>\n",
              "      <td>...</td>\n",
              "      <td>2</td>\n",
              "      <td>True</td>\n",
              "      <td>False</td>\n",
              "      <td>False</td>\n",
              "      <td>False</td>\n",
              "      <td>False</td>\n",
              "      <td>False</td>\n",
              "      <td>False</td>\n",
              "      <td>False</td>\n",
              "      <td>False</td>\n",
              "    </tr>\n",
              "  </tbody>\n",
              "</table>\n",
              "<p>2 rows × 30 columns</p>\n",
              "</div>\n",
              "      <button class=\"colab-df-convert\" onclick=\"convertToInteractive('df-012d4183-01fc-4919-8964-9671cfadb2ac')\"\n",
              "              title=\"Convert this dataframe to an interactive table.\"\n",
              "              style=\"display:none;\">\n",
              "        \n",
              "  <svg xmlns=\"http://www.w3.org/2000/svg\" height=\"24px\"viewBox=\"0 0 24 24\"\n",
              "       width=\"24px\">\n",
              "    <path d=\"M0 0h24v24H0V0z\" fill=\"none\"/>\n",
              "    <path d=\"M18.56 5.44l.94 2.06.94-2.06 2.06-.94-2.06-.94-.94-2.06-.94 2.06-2.06.94zm-11 1L8.5 8.5l.94-2.06 2.06-.94-2.06-.94L8.5 2.5l-.94 2.06-2.06.94zm10 10l.94 2.06.94-2.06 2.06-.94-2.06-.94-.94-2.06-.94 2.06-2.06.94z\"/><path d=\"M17.41 7.96l-1.37-1.37c-.4-.4-.92-.59-1.43-.59-.52 0-1.04.2-1.43.59L10.3 9.45l-7.72 7.72c-.78.78-.78 2.05 0 2.83L4 21.41c.39.39.9.59 1.41.59.51 0 1.02-.2 1.41-.59l7.78-7.78 2.81-2.81c.8-.78.8-2.07 0-2.86zM5.41 20L4 18.59l7.72-7.72 1.47 1.35L5.41 20z\"/>\n",
              "  </svg>\n",
              "      </button>\n",
              "      \n",
              "  <style>\n",
              "    .colab-df-container {\n",
              "      display:flex;\n",
              "      flex-wrap:wrap;\n",
              "      gap: 12px;\n",
              "    }\n",
              "\n",
              "    .colab-df-convert {\n",
              "      background-color: #E8F0FE;\n",
              "      border: none;\n",
              "      border-radius: 50%;\n",
              "      cursor: pointer;\n",
              "      display: none;\n",
              "      fill: #1967D2;\n",
              "      height: 32px;\n",
              "      padding: 0 0 0 0;\n",
              "      width: 32px;\n",
              "    }\n",
              "\n",
              "    .colab-df-convert:hover {\n",
              "      background-color: #E2EBFA;\n",
              "      box-shadow: 0px 1px 2px rgba(60, 64, 67, 0.3), 0px 1px 3px 1px rgba(60, 64, 67, 0.15);\n",
              "      fill: #174EA6;\n",
              "    }\n",
              "\n",
              "    [theme=dark] .colab-df-convert {\n",
              "      background-color: #3B4455;\n",
              "      fill: #D2E3FC;\n",
              "    }\n",
              "\n",
              "    [theme=dark] .colab-df-convert:hover {\n",
              "      background-color: #434B5C;\n",
              "      box-shadow: 0px 1px 3px 1px rgba(0, 0, 0, 0.15);\n",
              "      filter: drop-shadow(0px 1px 2px rgba(0, 0, 0, 0.3));\n",
              "      fill: #FFFFFF;\n",
              "    }\n",
              "  </style>\n",
              "\n",
              "      <script>\n",
              "        const buttonEl =\n",
              "          document.querySelector('#df-012d4183-01fc-4919-8964-9671cfadb2ac button.colab-df-convert');\n",
              "        buttonEl.style.display =\n",
              "          google.colab.kernel.accessAllowed ? 'block' : 'none';\n",
              "\n",
              "        async function convertToInteractive(key) {\n",
              "          const element = document.querySelector('#df-012d4183-01fc-4919-8964-9671cfadb2ac');\n",
              "          const dataTable =\n",
              "            await google.colab.kernel.invokeFunction('convertToInteractive',\n",
              "                                                     [key], {});\n",
              "          if (!dataTable) return;\n",
              "\n",
              "          const docLinkHtml = 'Like what you see? Visit the ' +\n",
              "            '<a target=\"_blank\" href=https://colab.research.google.com/notebooks/data_table.ipynb>data table notebook</a>'\n",
              "            + ' to learn more about interactive tables.';\n",
              "          element.innerHTML = '';\n",
              "          dataTable['output_type'] = 'display_data';\n",
              "          await google.colab.output.renderOutput(dataTable, element);\n",
              "          const docLink = document.createElement('div');\n",
              "          docLink.innerHTML = docLinkHtml;\n",
              "          element.appendChild(docLink);\n",
              "        }\n",
              "      </script>\n",
              "    </div>\n",
              "  </div>\n",
              "  "
            ]
          },
          "metadata": {},
          "execution_count": 112
        }
      ]
    },
    {
      "cell_type": "markdown",
      "source": [
        "## Mise à jour inutile dans Langdeck !!"
      ],
      "metadata": {
        "id": "RqdCS-uf8K04"
      }
    },
    {
      "cell_type": "code",
      "source": [
        "df_airtable_for_langdeck = get_df_airtable_for_langdeck()\n",
        "df_airtable_for_langdeck[\"last_updated\"] = df_airtable_for_langdeck[[\"hash\",\"unixtime\"]].apply(lambda x:compare_langdeck_time(x[0],x[1]), axis=1) \n",
        "df_newly_updated_in_airtable = df_airtable_for_langdeck.loc[df_airtable_for_langdeck[\"last_updated\"]]\n"
      ],
      "metadata": {
        "colab": {
          "base_uri": "https://localhost:8080/"
        },
        "id": "KQmaIp8Y1kDA",
        "outputId": "f25d7d6f-2811-43eb-c23a-ba9fbf2dbd0a"
      },
      "execution_count": null,
      "outputs": [
        {
          "output_type": "stream",
          "name": "stderr",
          "text": [
            "/usr/local/lib/python3.7/dist-packages/ipykernel_launcher.py:15: FutureWarning: casting datetime64[ns] values to int64 with .astype(...) is deprecated and will raise in a future version. Use .view(...) instead.\n",
            "  from ipykernel import kernelapp as app\n"
          ]
        }
      ]
    },
    {
      "cell_type": "markdown",
      "source": [
        "### Récupération des audios"
      ],
      "metadata": {
        "id": "FF4BrmOs8RvT"
      }
    },
    {
      "cell_type": "code",
      "source": [
        "df_newly_updated_in_airtable\n"
      ],
      "metadata": {
        "colab": {
          "base_uri": "https://localhost:8080/",
          "height": 424
        },
        "id": "OWxPy-9-4r3L",
        "outputId": "a6b0191f-6f96-423f-d7bd-e18d6c3084af"
      },
      "execution_count": null,
      "outputs": [
        {
          "output_type": "execute_result",
          "data": {
            "text/plain": [
              "           uid      maitre  ordre            expression idx           timestamp language     translation         hash language_fulltext             unixtime  last_updated\n",
              "78    8745562b     Comment      3  Comment allez-vous ?   C 2022-04-11 13:41:03      ams             NaN  8745562bams             Arabe  1649684463000000000          True\n",
              "187   2bd46073        Main      1                  Main   M 2022-04-11 13:41:01      ams             NaN  2bd46073ams             Arabe  1649684461000000000          True\n",
              "201   80e0c323  Médicament      1         Médicament(s)   M 2022-04-11 13:41:02      ams         تَورُّم  80e0c323ams             Arabe  1649684462000000000          True\n",
              "257   ba312208         Âge      3  Quel âge avez-vous ?   A 2022-04-11 13:41:02      ams  ما سبب زيارتك؟  ba312208ams             Arabe  1649684462000000000          True\n",
              "529   2bd46073        Main      1                  Main   M 2022-04-11 13:41:01      eng            Hand  2bd46073eng           Anglais  1649684461000000000          True\n",
              "...        ...         ...    ...                   ...  ..                 ...      ...             ...          ...               ...                  ...           ...\n",
              "5045  ba312208         Âge      3  Quel âge avez-vous ?   A 2022-04-11 13:41:02      pol  Ile masz lat ?  ba312208pol          Polonais  1649684462000000000          True\n",
              "5208  8745562b     Comment      3  Comment allez-vous ?   C 2022-04-11 13:41:03      tig             NaN  8745562btig          Tigrinya  1649684463000000000          True\n",
              "5317  2bd46073        Main      1                  Main   M 2022-04-11 13:41:01      tig             NaN  2bd46073tig          Tigrinya  1649684461000000000          True\n",
              "5331  80e0c323  Médicament      1         Médicament(s)   M 2022-04-11 13:41:02      tig             ከኒና  80e0c323tig          Tigrinya  1649684462000000000          True\n",
              "5387  ba312208         Âge      3  Quel âge avez-vous ?   A 2022-04-11 13:41:02      tig     ክንደይ ዕድሜኻ ?  ba312208tig          Tigrinya  1649684462000000000          True\n",
              "\n",
              "[63 rows x 12 columns]"
            ],
            "text/html": [
              "\n",
              "  <div id=\"df-0a400336-6d82-4fa3-aa8f-9bc7ac5b776a\">\n",
              "    <div class=\"colab-df-container\">\n",
              "      <div>\n",
              "<style scoped>\n",
              "    .dataframe tbody tr th:only-of-type {\n",
              "        vertical-align: middle;\n",
              "    }\n",
              "\n",
              "    .dataframe tbody tr th {\n",
              "        vertical-align: top;\n",
              "    }\n",
              "\n",
              "    .dataframe thead th {\n",
              "        text-align: right;\n",
              "    }\n",
              "</style>\n",
              "<table border=\"1\" class=\"dataframe\">\n",
              "  <thead>\n",
              "    <tr style=\"text-align: right;\">\n",
              "      <th></th>\n",
              "      <th>uid</th>\n",
              "      <th>maitre</th>\n",
              "      <th>ordre</th>\n",
              "      <th>expression</th>\n",
              "      <th>idx</th>\n",
              "      <th>timestamp</th>\n",
              "      <th>language</th>\n",
              "      <th>translation</th>\n",
              "      <th>hash</th>\n",
              "      <th>language_fulltext</th>\n",
              "      <th>unixtime</th>\n",
              "      <th>last_updated</th>\n",
              "    </tr>\n",
              "  </thead>\n",
              "  <tbody>\n",
              "    <tr>\n",
              "      <th>78</th>\n",
              "      <td>8745562b</td>\n",
              "      <td>Comment</td>\n",
              "      <td>3</td>\n",
              "      <td>Comment allez-vous ?</td>\n",
              "      <td>C</td>\n",
              "      <td>2022-04-11 13:41:03</td>\n",
              "      <td>ams</td>\n",
              "      <td>NaN</td>\n",
              "      <td>8745562bams</td>\n",
              "      <td>Arabe</td>\n",
              "      <td>1649684463000000000</td>\n",
              "      <td>True</td>\n",
              "    </tr>\n",
              "    <tr>\n",
              "      <th>187</th>\n",
              "      <td>2bd46073</td>\n",
              "      <td>Main</td>\n",
              "      <td>1</td>\n",
              "      <td>Main</td>\n",
              "      <td>M</td>\n",
              "      <td>2022-04-11 13:41:01</td>\n",
              "      <td>ams</td>\n",
              "      <td>NaN</td>\n",
              "      <td>2bd46073ams</td>\n",
              "      <td>Arabe</td>\n",
              "      <td>1649684461000000000</td>\n",
              "      <td>True</td>\n",
              "    </tr>\n",
              "    <tr>\n",
              "      <th>201</th>\n",
              "      <td>80e0c323</td>\n",
              "      <td>Médicament</td>\n",
              "      <td>1</td>\n",
              "      <td>Médicament(s)</td>\n",
              "      <td>M</td>\n",
              "      <td>2022-04-11 13:41:02</td>\n",
              "      <td>ams</td>\n",
              "      <td>تَورُّم</td>\n",
              "      <td>80e0c323ams</td>\n",
              "      <td>Arabe</td>\n",
              "      <td>1649684462000000000</td>\n",
              "      <td>True</td>\n",
              "    </tr>\n",
              "    <tr>\n",
              "      <th>257</th>\n",
              "      <td>ba312208</td>\n",
              "      <td>Âge</td>\n",
              "      <td>3</td>\n",
              "      <td>Quel âge avez-vous ?</td>\n",
              "      <td>A</td>\n",
              "      <td>2022-04-11 13:41:02</td>\n",
              "      <td>ams</td>\n",
              "      <td>ما سبب زيارتك؟</td>\n",
              "      <td>ba312208ams</td>\n",
              "      <td>Arabe</td>\n",
              "      <td>1649684462000000000</td>\n",
              "      <td>True</td>\n",
              "    </tr>\n",
              "    <tr>\n",
              "      <th>529</th>\n",
              "      <td>2bd46073</td>\n",
              "      <td>Main</td>\n",
              "      <td>1</td>\n",
              "      <td>Main</td>\n",
              "      <td>M</td>\n",
              "      <td>2022-04-11 13:41:01</td>\n",
              "      <td>eng</td>\n",
              "      <td>Hand</td>\n",
              "      <td>2bd46073eng</td>\n",
              "      <td>Anglais</td>\n",
              "      <td>1649684461000000000</td>\n",
              "      <td>True</td>\n",
              "    </tr>\n",
              "    <tr>\n",
              "      <th>...</th>\n",
              "      <td>...</td>\n",
              "      <td>...</td>\n",
              "      <td>...</td>\n",
              "      <td>...</td>\n",
              "      <td>...</td>\n",
              "      <td>...</td>\n",
              "      <td>...</td>\n",
              "      <td>...</td>\n",
              "      <td>...</td>\n",
              "      <td>...</td>\n",
              "      <td>...</td>\n",
              "      <td>...</td>\n",
              "    </tr>\n",
              "    <tr>\n",
              "      <th>5045</th>\n",
              "      <td>ba312208</td>\n",
              "      <td>Âge</td>\n",
              "      <td>3</td>\n",
              "      <td>Quel âge avez-vous ?</td>\n",
              "      <td>A</td>\n",
              "      <td>2022-04-11 13:41:02</td>\n",
              "      <td>pol</td>\n",
              "      <td>Ile masz lat ?</td>\n",
              "      <td>ba312208pol</td>\n",
              "      <td>Polonais</td>\n",
              "      <td>1649684462000000000</td>\n",
              "      <td>True</td>\n",
              "    </tr>\n",
              "    <tr>\n",
              "      <th>5208</th>\n",
              "      <td>8745562b</td>\n",
              "      <td>Comment</td>\n",
              "      <td>3</td>\n",
              "      <td>Comment allez-vous ?</td>\n",
              "      <td>C</td>\n",
              "      <td>2022-04-11 13:41:03</td>\n",
              "      <td>tig</td>\n",
              "      <td>NaN</td>\n",
              "      <td>8745562btig</td>\n",
              "      <td>Tigrinya</td>\n",
              "      <td>1649684463000000000</td>\n",
              "      <td>True</td>\n",
              "    </tr>\n",
              "    <tr>\n",
              "      <th>5317</th>\n",
              "      <td>2bd46073</td>\n",
              "      <td>Main</td>\n",
              "      <td>1</td>\n",
              "      <td>Main</td>\n",
              "      <td>M</td>\n",
              "      <td>2022-04-11 13:41:01</td>\n",
              "      <td>tig</td>\n",
              "      <td>NaN</td>\n",
              "      <td>2bd46073tig</td>\n",
              "      <td>Tigrinya</td>\n",
              "      <td>1649684461000000000</td>\n",
              "      <td>True</td>\n",
              "    </tr>\n",
              "    <tr>\n",
              "      <th>5331</th>\n",
              "      <td>80e0c323</td>\n",
              "      <td>Médicament</td>\n",
              "      <td>1</td>\n",
              "      <td>Médicament(s)</td>\n",
              "      <td>M</td>\n",
              "      <td>2022-04-11 13:41:02</td>\n",
              "      <td>tig</td>\n",
              "      <td>ከኒና</td>\n",
              "      <td>80e0c323tig</td>\n",
              "      <td>Tigrinya</td>\n",
              "      <td>1649684462000000000</td>\n",
              "      <td>True</td>\n",
              "    </tr>\n",
              "    <tr>\n",
              "      <th>5387</th>\n",
              "      <td>ba312208</td>\n",
              "      <td>Âge</td>\n",
              "      <td>3</td>\n",
              "      <td>Quel âge avez-vous ?</td>\n",
              "      <td>A</td>\n",
              "      <td>2022-04-11 13:41:02</td>\n",
              "      <td>tig</td>\n",
              "      <td>ክንደይ ዕድሜኻ ?</td>\n",
              "      <td>ba312208tig</td>\n",
              "      <td>Tigrinya</td>\n",
              "      <td>1649684462000000000</td>\n",
              "      <td>True</td>\n",
              "    </tr>\n",
              "  </tbody>\n",
              "</table>\n",
              "<p>63 rows × 12 columns</p>\n",
              "</div>\n",
              "      <button class=\"colab-df-convert\" onclick=\"convertToInteractive('df-0a400336-6d82-4fa3-aa8f-9bc7ac5b776a')\"\n",
              "              title=\"Convert this dataframe to an interactive table.\"\n",
              "              style=\"display:none;\">\n",
              "        \n",
              "  <svg xmlns=\"http://www.w3.org/2000/svg\" height=\"24px\"viewBox=\"0 0 24 24\"\n",
              "       width=\"24px\">\n",
              "    <path d=\"M0 0h24v24H0V0z\" fill=\"none\"/>\n",
              "    <path d=\"M18.56 5.44l.94 2.06.94-2.06 2.06-.94-2.06-.94-.94-2.06-.94 2.06-2.06.94zm-11 1L8.5 8.5l.94-2.06 2.06-.94-2.06-.94L8.5 2.5l-.94 2.06-2.06.94zm10 10l.94 2.06.94-2.06 2.06-.94-2.06-.94-.94-2.06-.94 2.06-2.06.94z\"/><path d=\"M17.41 7.96l-1.37-1.37c-.4-.4-.92-.59-1.43-.59-.52 0-1.04.2-1.43.59L10.3 9.45l-7.72 7.72c-.78.78-.78 2.05 0 2.83L4 21.41c.39.39.9.59 1.41.59.51 0 1.02-.2 1.41-.59l7.78-7.78 2.81-2.81c.8-.78.8-2.07 0-2.86zM5.41 20L4 18.59l7.72-7.72 1.47 1.35L5.41 20z\"/>\n",
              "  </svg>\n",
              "      </button>\n",
              "      \n",
              "  <style>\n",
              "    .colab-df-container {\n",
              "      display:flex;\n",
              "      flex-wrap:wrap;\n",
              "      gap: 12px;\n",
              "    }\n",
              "\n",
              "    .colab-df-convert {\n",
              "      background-color: #E8F0FE;\n",
              "      border: none;\n",
              "      border-radius: 50%;\n",
              "      cursor: pointer;\n",
              "      display: none;\n",
              "      fill: #1967D2;\n",
              "      height: 32px;\n",
              "      padding: 0 0 0 0;\n",
              "      width: 32px;\n",
              "    }\n",
              "\n",
              "    .colab-df-convert:hover {\n",
              "      background-color: #E2EBFA;\n",
              "      box-shadow: 0px 1px 2px rgba(60, 64, 67, 0.3), 0px 1px 3px 1px rgba(60, 64, 67, 0.15);\n",
              "      fill: #174EA6;\n",
              "    }\n",
              "\n",
              "    [theme=dark] .colab-df-convert {\n",
              "      background-color: #3B4455;\n",
              "      fill: #D2E3FC;\n",
              "    }\n",
              "\n",
              "    [theme=dark] .colab-df-convert:hover {\n",
              "      background-color: #434B5C;\n",
              "      box-shadow: 0px 1px 3px 1px rgba(0, 0, 0, 0.15);\n",
              "      filter: drop-shadow(0px 1px 2px rgba(0, 0, 0, 0.3));\n",
              "      fill: #FFFFFF;\n",
              "    }\n",
              "  </style>\n",
              "\n",
              "      <script>\n",
              "        const buttonEl =\n",
              "          document.querySelector('#df-0a400336-6d82-4fa3-aa8f-9bc7ac5b776a button.colab-df-convert');\n",
              "        buttonEl.style.display =\n",
              "          google.colab.kernel.accessAllowed ? 'block' : 'none';\n",
              "\n",
              "        async function convertToInteractive(key) {\n",
              "          const element = document.querySelector('#df-0a400336-6d82-4fa3-aa8f-9bc7ac5b776a');\n",
              "          const dataTable =\n",
              "            await google.colab.kernel.invokeFunction('convertToInteractive',\n",
              "                                                     [key], {});\n",
              "          if (!dataTable) return;\n",
              "\n",
              "          const docLinkHtml = 'Like what you see? Visit the ' +\n",
              "            '<a target=\"_blank\" href=https://colab.research.google.com/notebooks/data_table.ipynb>data table notebook</a>'\n",
              "            + ' to learn more about interactive tables.';\n",
              "          element.innerHTML = '';\n",
              "          dataTable['output_type'] = 'display_data';\n",
              "          await google.colab.output.renderOutput(dataTable, element);\n",
              "          const docLink = document.createElement('div');\n",
              "          docLink.innerHTML = docLinkHtml;\n",
              "          element.appendChild(docLink);\n",
              "        }\n",
              "      </script>\n",
              "    </div>\n",
              "  </div>\n",
              "  "
            ]
          },
          "metadata": {},
          "execution_count": 78
        }
      ]
    },
    {
      "cell_type": "markdown",
      "source": [
        "## Mise à jour dans Langdeck"
      ],
      "metadata": {
        "id": "pMLrUAzMA4Uj"
      }
    },
    {
      "cell_type": "code",
      "source": [
        "l = len(df_newly_updated_in_airtable)\n",
        "# on parcoure la table cible\n",
        "for i in range (2, l):\n",
        "  # un enregistrement\n",
        "  tuple_list = t_corpus.row_values(i)\n",
        "  # on recherche la clé dans le dataframe source\n",
        "  t_ = df_airtable_for_langdeck.loc[(df_airtable_for_langdeck['uid']==tuple_list[0]) & (df_airtable_for_langdeck['language']==tuple_list[6])]\n",
        "  # verification du hash\n",
        "  if len(t_)==1:\n",
        "    t_corpus.update_cell(i, 9, t_[\"hash\"].values[0])\n",
        "  # comparaison des ts (A=AT;B=GG)\n",
        "  ts_a = pd.to_datetime(t_[\"timestamp\"].values[0], \"%Y-%m-%d %H:%M:%S\")\n",
        "  ts_b = datetime.datetime.strptime(tuple_list[5], \"%Y-%m-%d %H:%M:%S\")\n",
        "  # print (t_[\"hash\"].values[0] + \": Airtable ts \" + str(ts_a) + \" GG ts \" + str(ts_b))\n",
        "  if ts_a > ts_b:\n",
        "    # cas Airtable + récent => update dans Langdeck\n",
        "    t_corpus.update_cell(i, 2, t_[\"maitre\"].values[0])\n",
        "    t_corpus.update_cell(i, 3, int(t_[\"ordre\"].values[0]))\n",
        "    t_corpus.update_cell(i, 4, t_[\"expression\"].values[0])\n",
        "    t_corpus.update_cell(i, 5, t_[\"idx\"].values[0])\n",
        "    if not pd.isnull(t_[\"translation\"].values[0]):\n",
        "      t_corpus.update_cell(i, 8, t_[\"translation\"].values[0])    \n",
        "  elif ts_b > ts_a:\n",
        "    # cas Langdeck + récent => update translation dans AT uniqumeent !\n",
        "    record = airtable.match('UID', tuple_list[0])\n",
        "    if bool(record) is True:\n",
        "      if not pd.isnull(tuple_list[7]):\n",
        "        aDict = {}\n",
        "        aDict[tuple_list[6]] = tuple_list[7]\n",
        "        airtable.update(record['id'], aDict)\n",
        "        print (record['id'])\n",
        "\n",
        "\n",
        "    \n"
      ],
      "metadata": {
        "id": "xn9fdIUFAcjP"
      },
      "execution_count": null,
      "outputs": []
    },
    {
      "cell_type": "code",
      "source": [
        "frames = [df_airtable_for_langdeck, df_langdeck]\n",
        "result = pd.concat(frames, keys=[\"hash\"])\n",
        "result.drop_duplicates(subset=['hash'], inplace=True, keep='last')"
      ],
      "metadata": {
        "id": "vb9vcmtSlVFi"
      },
      "execution_count": null,
      "outputs": []
    },
    {
      "cell_type": "code",
      "source": [
        "result"
      ],
      "metadata": {
        "colab": {
          "base_uri": "https://localhost:8080/",
          "height": 424
        },
        "id": "cz2-ChfMxnyu",
        "outputId": "b4967cd3-36fa-4b64-f15a-2bcfbebfbd97"
      },
      "execution_count": null,
      "outputs": [
        {
          "output_type": "execute_result",
          "data": {
            "text/plain": [
              "                uid      maitre  ordre                                         expression idx           timestamp language                                        translation         hash language_fulltext\n",
              "hash 0     f9bc13ef  Médicament      3  À quel moment de la journée vous prenez le méd...   M 2022-04-01 08:15:21      ams                  في أي وقت من اليوم تتناول الدواء؟  f9bc13efams             Arabe\n",
              "     1     6e65dde7       Abcès      1                                              Abcès   A 2022-03-29 15:58:04      ams                                             خُرّاج  6e65dde7ams             Arabe\n",
              "     2     80cbacea     Abdomen      1                                            Abdomen   A 2022-04-07 08:42:16      ams                                              البطن  80cbaceaams             Arabe\n",
              "     3     95c4a863     Fébrile      3  Accès fébrile concomitant chez un autre membre...   F 2022-04-01 08:27:19      ams              نوبة حمى مزامنة عند فرد اخر من الأسرة  95c4a863ams             Arabe\n",
              "     4     30579682    Accident      1                                           Accident   A 2022-03-29 15:58:05      ams                                               حادث  30579682ams             Arabe\n",
              "...             ...         ...    ...                                                ...  ..                 ...      ...                                                ...          ...               ...\n",
              "     5451  d112f379       Poids      3                        Votre poids est-il stable ?   P 2022-03-31 14:33:52      tig                                                NaN  d112f379tig          Tigrinya\n",
              "     5452  2344ba84   Accoucher      3  Vous avez accouché par césarienne ou voie basse ?   A 2022-03-29 16:00:33      tig                             ብኦፕረሽን ወይ ብኖርማር ወሊድኪ ?  2344ba84tig          Tigrinya\n",
              "     5453  36e66161  Contagieux      3            Y a-t-il des cas contagieux à l'école ?   C 2022-03-29 16:00:33      tig                                 አብ ትምህርቲ ዲዩ ለጊብካ ?  36e66161tig          Tigrinya\n",
              "     5454  c32f5fd9   Chronique      3  Y a-t-il des maladies chroniques dans votre fa...   C 2022-04-01 08:23:46      tig                      ካብ በተሰብካ ሕዱር ሕማሕ ዘለዎ አለካ ዲዩ ?  c32f5fd9tig          Tigrinya\n",
              "     5455  d3dba8e4        Zona      1                                               Zona   Z 2022-03-29 16:00:34      tig  ዞና ዝብሃል ሕማም ኣብ ቖርበት ማለት ብደገ ዝቖስል ብርቱዕ ቓንዛ ዘለዎ ...  d3dba8e4tig          Tigrinya\n",
              "\n",
              "[5456 rows x 10 columns]"
            ],
            "text/html": [
              "\n",
              "  <div id=\"df-5da7e4fd-5e50-4328-9ca7-5a5fb1f63014\">\n",
              "    <div class=\"colab-df-container\">\n",
              "      <div>\n",
              "<style scoped>\n",
              "    .dataframe tbody tr th:only-of-type {\n",
              "        vertical-align: middle;\n",
              "    }\n",
              "\n",
              "    .dataframe tbody tr th {\n",
              "        vertical-align: top;\n",
              "    }\n",
              "\n",
              "    .dataframe thead th {\n",
              "        text-align: right;\n",
              "    }\n",
              "</style>\n",
              "<table border=\"1\" class=\"dataframe\">\n",
              "  <thead>\n",
              "    <tr style=\"text-align: right;\">\n",
              "      <th></th>\n",
              "      <th></th>\n",
              "      <th>uid</th>\n",
              "      <th>maitre</th>\n",
              "      <th>ordre</th>\n",
              "      <th>expression</th>\n",
              "      <th>idx</th>\n",
              "      <th>timestamp</th>\n",
              "      <th>language</th>\n",
              "      <th>translation</th>\n",
              "      <th>hash</th>\n",
              "      <th>language_fulltext</th>\n",
              "    </tr>\n",
              "  </thead>\n",
              "  <tbody>\n",
              "    <tr>\n",
              "      <th rowspan=\"11\" valign=\"top\">hash</th>\n",
              "      <th>0</th>\n",
              "      <td>f9bc13ef</td>\n",
              "      <td>Médicament</td>\n",
              "      <td>3</td>\n",
              "      <td>À quel moment de la journée vous prenez le méd...</td>\n",
              "      <td>M</td>\n",
              "      <td>2022-04-01 08:15:21</td>\n",
              "      <td>ams</td>\n",
              "      <td>في أي وقت من اليوم تتناول الدواء؟</td>\n",
              "      <td>f9bc13efams</td>\n",
              "      <td>Arabe</td>\n",
              "    </tr>\n",
              "    <tr>\n",
              "      <th>1</th>\n",
              "      <td>6e65dde7</td>\n",
              "      <td>Abcès</td>\n",
              "      <td>1</td>\n",
              "      <td>Abcès</td>\n",
              "      <td>A</td>\n",
              "      <td>2022-03-29 15:58:04</td>\n",
              "      <td>ams</td>\n",
              "      <td>خُرّاج</td>\n",
              "      <td>6e65dde7ams</td>\n",
              "      <td>Arabe</td>\n",
              "    </tr>\n",
              "    <tr>\n",
              "      <th>2</th>\n",
              "      <td>80cbacea</td>\n",
              "      <td>Abdomen</td>\n",
              "      <td>1</td>\n",
              "      <td>Abdomen</td>\n",
              "      <td>A</td>\n",
              "      <td>2022-04-07 08:42:16</td>\n",
              "      <td>ams</td>\n",
              "      <td>البطن</td>\n",
              "      <td>80cbaceaams</td>\n",
              "      <td>Arabe</td>\n",
              "    </tr>\n",
              "    <tr>\n",
              "      <th>3</th>\n",
              "      <td>95c4a863</td>\n",
              "      <td>Fébrile</td>\n",
              "      <td>3</td>\n",
              "      <td>Accès fébrile concomitant chez un autre membre...</td>\n",
              "      <td>F</td>\n",
              "      <td>2022-04-01 08:27:19</td>\n",
              "      <td>ams</td>\n",
              "      <td>نوبة حمى مزامنة عند فرد اخر من الأسرة</td>\n",
              "      <td>95c4a863ams</td>\n",
              "      <td>Arabe</td>\n",
              "    </tr>\n",
              "    <tr>\n",
              "      <th>4</th>\n",
              "      <td>30579682</td>\n",
              "      <td>Accident</td>\n",
              "      <td>1</td>\n",
              "      <td>Accident</td>\n",
              "      <td>A</td>\n",
              "      <td>2022-03-29 15:58:05</td>\n",
              "      <td>ams</td>\n",
              "      <td>حادث</td>\n",
              "      <td>30579682ams</td>\n",
              "      <td>Arabe</td>\n",
              "    </tr>\n",
              "    <tr>\n",
              "      <th>...</th>\n",
              "      <td>...</td>\n",
              "      <td>...</td>\n",
              "      <td>...</td>\n",
              "      <td>...</td>\n",
              "      <td>...</td>\n",
              "      <td>...</td>\n",
              "      <td>...</td>\n",
              "      <td>...</td>\n",
              "      <td>...</td>\n",
              "      <td>...</td>\n",
              "    </tr>\n",
              "    <tr>\n",
              "      <th>5451</th>\n",
              "      <td>d112f379</td>\n",
              "      <td>Poids</td>\n",
              "      <td>3</td>\n",
              "      <td>Votre poids est-il stable ?</td>\n",
              "      <td>P</td>\n",
              "      <td>2022-03-31 14:33:52</td>\n",
              "      <td>tig</td>\n",
              "      <td>NaN</td>\n",
              "      <td>d112f379tig</td>\n",
              "      <td>Tigrinya</td>\n",
              "    </tr>\n",
              "    <tr>\n",
              "      <th>5452</th>\n",
              "      <td>2344ba84</td>\n",
              "      <td>Accoucher</td>\n",
              "      <td>3</td>\n",
              "      <td>Vous avez accouché par césarienne ou voie basse ?</td>\n",
              "      <td>A</td>\n",
              "      <td>2022-03-29 16:00:33</td>\n",
              "      <td>tig</td>\n",
              "      <td>ብኦፕረሽን ወይ ብኖርማር ወሊድኪ ?</td>\n",
              "      <td>2344ba84tig</td>\n",
              "      <td>Tigrinya</td>\n",
              "    </tr>\n",
              "    <tr>\n",
              "      <th>5453</th>\n",
              "      <td>36e66161</td>\n",
              "      <td>Contagieux</td>\n",
              "      <td>3</td>\n",
              "      <td>Y a-t-il des cas contagieux à l'école ?</td>\n",
              "      <td>C</td>\n",
              "      <td>2022-03-29 16:00:33</td>\n",
              "      <td>tig</td>\n",
              "      <td>አብ ትምህርቲ ዲዩ ለጊብካ ?</td>\n",
              "      <td>36e66161tig</td>\n",
              "      <td>Tigrinya</td>\n",
              "    </tr>\n",
              "    <tr>\n",
              "      <th>5454</th>\n",
              "      <td>c32f5fd9</td>\n",
              "      <td>Chronique</td>\n",
              "      <td>3</td>\n",
              "      <td>Y a-t-il des maladies chroniques dans votre fa...</td>\n",
              "      <td>C</td>\n",
              "      <td>2022-04-01 08:23:46</td>\n",
              "      <td>tig</td>\n",
              "      <td>ካብ በተሰብካ ሕዱር ሕማሕ ዘለዎ አለካ ዲዩ ?</td>\n",
              "      <td>c32f5fd9tig</td>\n",
              "      <td>Tigrinya</td>\n",
              "    </tr>\n",
              "    <tr>\n",
              "      <th>5455</th>\n",
              "      <td>d3dba8e4</td>\n",
              "      <td>Zona</td>\n",
              "      <td>1</td>\n",
              "      <td>Zona</td>\n",
              "      <td>Z</td>\n",
              "      <td>2022-03-29 16:00:34</td>\n",
              "      <td>tig</td>\n",
              "      <td>ዞና ዝብሃል ሕማም ኣብ ቖርበት ማለት ብደገ ዝቖስል ብርቱዕ ቓንዛ ዘለዎ ...</td>\n",
              "      <td>d3dba8e4tig</td>\n",
              "      <td>Tigrinya</td>\n",
              "    </tr>\n",
              "  </tbody>\n",
              "</table>\n",
              "<p>5456 rows × 10 columns</p>\n",
              "</div>\n",
              "      <button class=\"colab-df-convert\" onclick=\"convertToInteractive('df-5da7e4fd-5e50-4328-9ca7-5a5fb1f63014')\"\n",
              "              title=\"Convert this dataframe to an interactive table.\"\n",
              "              style=\"display:none;\">\n",
              "        \n",
              "  <svg xmlns=\"http://www.w3.org/2000/svg\" height=\"24px\"viewBox=\"0 0 24 24\"\n",
              "       width=\"24px\">\n",
              "    <path d=\"M0 0h24v24H0V0z\" fill=\"none\"/>\n",
              "    <path d=\"M18.56 5.44l.94 2.06.94-2.06 2.06-.94-2.06-.94-.94-2.06-.94 2.06-2.06.94zm-11 1L8.5 8.5l.94-2.06 2.06-.94-2.06-.94L8.5 2.5l-.94 2.06-2.06.94zm10 10l.94 2.06.94-2.06 2.06-.94-2.06-.94-.94-2.06-.94 2.06-2.06.94z\"/><path d=\"M17.41 7.96l-1.37-1.37c-.4-.4-.92-.59-1.43-.59-.52 0-1.04.2-1.43.59L10.3 9.45l-7.72 7.72c-.78.78-.78 2.05 0 2.83L4 21.41c.39.39.9.59 1.41.59.51 0 1.02-.2 1.41-.59l7.78-7.78 2.81-2.81c.8-.78.8-2.07 0-2.86zM5.41 20L4 18.59l7.72-7.72 1.47 1.35L5.41 20z\"/>\n",
              "  </svg>\n",
              "      </button>\n",
              "      \n",
              "  <style>\n",
              "    .colab-df-container {\n",
              "      display:flex;\n",
              "      flex-wrap:wrap;\n",
              "      gap: 12px;\n",
              "    }\n",
              "\n",
              "    .colab-df-convert {\n",
              "      background-color: #E8F0FE;\n",
              "      border: none;\n",
              "      border-radius: 50%;\n",
              "      cursor: pointer;\n",
              "      display: none;\n",
              "      fill: #1967D2;\n",
              "      height: 32px;\n",
              "      padding: 0 0 0 0;\n",
              "      width: 32px;\n",
              "    }\n",
              "\n",
              "    .colab-df-convert:hover {\n",
              "      background-color: #E2EBFA;\n",
              "      box-shadow: 0px 1px 2px rgba(60, 64, 67, 0.3), 0px 1px 3px 1px rgba(60, 64, 67, 0.15);\n",
              "      fill: #174EA6;\n",
              "    }\n",
              "\n",
              "    [theme=dark] .colab-df-convert {\n",
              "      background-color: #3B4455;\n",
              "      fill: #D2E3FC;\n",
              "    }\n",
              "\n",
              "    [theme=dark] .colab-df-convert:hover {\n",
              "      background-color: #434B5C;\n",
              "      box-shadow: 0px 1px 3px 1px rgba(0, 0, 0, 0.15);\n",
              "      filter: drop-shadow(0px 1px 2px rgba(0, 0, 0, 0.3));\n",
              "      fill: #FFFFFF;\n",
              "    }\n",
              "  </style>\n",
              "\n",
              "      <script>\n",
              "        const buttonEl =\n",
              "          document.querySelector('#df-5da7e4fd-5e50-4328-9ca7-5a5fb1f63014 button.colab-df-convert');\n",
              "        buttonEl.style.display =\n",
              "          google.colab.kernel.accessAllowed ? 'block' : 'none';\n",
              "\n",
              "        async function convertToInteractive(key) {\n",
              "          const element = document.querySelector('#df-5da7e4fd-5e50-4328-9ca7-5a5fb1f63014');\n",
              "          const dataTable =\n",
              "            await google.colab.kernel.invokeFunction('convertToInteractive',\n",
              "                                                     [key], {});\n",
              "          if (!dataTable) return;\n",
              "\n",
              "          const docLinkHtml = 'Like what you see? Visit the ' +\n",
              "            '<a target=\"_blank\" href=https://colab.research.google.com/notebooks/data_table.ipynb>data table notebook</a>'\n",
              "            + ' to learn more about interactive tables.';\n",
              "          element.innerHTML = '';\n",
              "          dataTable['output_type'] = 'display_data';\n",
              "          await google.colab.output.renderOutput(dataTable, element);\n",
              "          const docLink = document.createElement('div');\n",
              "          docLink.innerHTML = docLinkHtml;\n",
              "          element.appendChild(docLink);\n",
              "        }\n",
              "      </script>\n",
              "    </div>\n",
              "  </div>\n",
              "  "
            ]
          },
          "metadata": {},
          "execution_count": 103
        }
      ]
    },
    {
      "cell_type": "code",
      "source": [
        "df_airtable_for_langdeck[(df_airtable_for_langdeck['hash'].isin(df_langdeck['hash']) & ~df_airtable_for_langdeck['timestamp'].isin(df_langdeck['timestamp']) )]"
      ],
      "metadata": {
        "colab": {
          "base_uri": "https://localhost:8080/",
          "height": 81
        },
        "id": "DkOO4NF0ZwY6",
        "outputId": "0eba439b-7e3c-49eb-c236-3f3556968c94"
      },
      "execution_count": null,
      "outputs": [
        {
          "output_type": "execute_result",
          "data": {
            "text/plain": [
              "        uid   maitre  ordre expression idx           timestamp language translation         hash language_fulltext\n",
              "2  80cbacea  Abdomen      1    Abdomen   A 2022-04-07 08:42:16      ams       البطن  80cbaceaams             Arabe"
            ],
            "text/html": [
              "\n",
              "  <div id=\"df-23f0fca1-481b-4a31-8380-1271bdd44c0a\">\n",
              "    <div class=\"colab-df-container\">\n",
              "      <div>\n",
              "<style scoped>\n",
              "    .dataframe tbody tr th:only-of-type {\n",
              "        vertical-align: middle;\n",
              "    }\n",
              "\n",
              "    .dataframe tbody tr th {\n",
              "        vertical-align: top;\n",
              "    }\n",
              "\n",
              "    .dataframe thead th {\n",
              "        text-align: right;\n",
              "    }\n",
              "</style>\n",
              "<table border=\"1\" class=\"dataframe\">\n",
              "  <thead>\n",
              "    <tr style=\"text-align: right;\">\n",
              "      <th></th>\n",
              "      <th>uid</th>\n",
              "      <th>maitre</th>\n",
              "      <th>ordre</th>\n",
              "      <th>expression</th>\n",
              "      <th>idx</th>\n",
              "      <th>timestamp</th>\n",
              "      <th>language</th>\n",
              "      <th>translation</th>\n",
              "      <th>hash</th>\n",
              "      <th>language_fulltext</th>\n",
              "    </tr>\n",
              "  </thead>\n",
              "  <tbody>\n",
              "    <tr>\n",
              "      <th>2</th>\n",
              "      <td>80cbacea</td>\n",
              "      <td>Abdomen</td>\n",
              "      <td>1</td>\n",
              "      <td>Abdomen</td>\n",
              "      <td>A</td>\n",
              "      <td>2022-04-07 08:42:16</td>\n",
              "      <td>ams</td>\n",
              "      <td>البطن</td>\n",
              "      <td>80cbaceaams</td>\n",
              "      <td>Arabe</td>\n",
              "    </tr>\n",
              "  </tbody>\n",
              "</table>\n",
              "</div>\n",
              "      <button class=\"colab-df-convert\" onclick=\"convertToInteractive('df-23f0fca1-481b-4a31-8380-1271bdd44c0a')\"\n",
              "              title=\"Convert this dataframe to an interactive table.\"\n",
              "              style=\"display:none;\">\n",
              "        \n",
              "  <svg xmlns=\"http://www.w3.org/2000/svg\" height=\"24px\"viewBox=\"0 0 24 24\"\n",
              "       width=\"24px\">\n",
              "    <path d=\"M0 0h24v24H0V0z\" fill=\"none\"/>\n",
              "    <path d=\"M18.56 5.44l.94 2.06.94-2.06 2.06-.94-2.06-.94-.94-2.06-.94 2.06-2.06.94zm-11 1L8.5 8.5l.94-2.06 2.06-.94-2.06-.94L8.5 2.5l-.94 2.06-2.06.94zm10 10l.94 2.06.94-2.06 2.06-.94-2.06-.94-.94-2.06-.94 2.06-2.06.94z\"/><path d=\"M17.41 7.96l-1.37-1.37c-.4-.4-.92-.59-1.43-.59-.52 0-1.04.2-1.43.59L10.3 9.45l-7.72 7.72c-.78.78-.78 2.05 0 2.83L4 21.41c.39.39.9.59 1.41.59.51 0 1.02-.2 1.41-.59l7.78-7.78 2.81-2.81c.8-.78.8-2.07 0-2.86zM5.41 20L4 18.59l7.72-7.72 1.47 1.35L5.41 20z\"/>\n",
              "  </svg>\n",
              "      </button>\n",
              "      \n",
              "  <style>\n",
              "    .colab-df-container {\n",
              "      display:flex;\n",
              "      flex-wrap:wrap;\n",
              "      gap: 12px;\n",
              "    }\n",
              "\n",
              "    .colab-df-convert {\n",
              "      background-color: #E8F0FE;\n",
              "      border: none;\n",
              "      border-radius: 50%;\n",
              "      cursor: pointer;\n",
              "      display: none;\n",
              "      fill: #1967D2;\n",
              "      height: 32px;\n",
              "      padding: 0 0 0 0;\n",
              "      width: 32px;\n",
              "    }\n",
              "\n",
              "    .colab-df-convert:hover {\n",
              "      background-color: #E2EBFA;\n",
              "      box-shadow: 0px 1px 2px rgba(60, 64, 67, 0.3), 0px 1px 3px 1px rgba(60, 64, 67, 0.15);\n",
              "      fill: #174EA6;\n",
              "    }\n",
              "\n",
              "    [theme=dark] .colab-df-convert {\n",
              "      background-color: #3B4455;\n",
              "      fill: #D2E3FC;\n",
              "    }\n",
              "\n",
              "    [theme=dark] .colab-df-convert:hover {\n",
              "      background-color: #434B5C;\n",
              "      box-shadow: 0px 1px 3px 1px rgba(0, 0, 0, 0.15);\n",
              "      filter: drop-shadow(0px 1px 2px rgba(0, 0, 0, 0.3));\n",
              "      fill: #FFFFFF;\n",
              "    }\n",
              "  </style>\n",
              "\n",
              "      <script>\n",
              "        const buttonEl =\n",
              "          document.querySelector('#df-23f0fca1-481b-4a31-8380-1271bdd44c0a button.colab-df-convert');\n",
              "        buttonEl.style.display =\n",
              "          google.colab.kernel.accessAllowed ? 'block' : 'none';\n",
              "\n",
              "        async function convertToInteractive(key) {\n",
              "          const element = document.querySelector('#df-23f0fca1-481b-4a31-8380-1271bdd44c0a');\n",
              "          const dataTable =\n",
              "            await google.colab.kernel.invokeFunction('convertToInteractive',\n",
              "                                                     [key], {});\n",
              "          if (!dataTable) return;\n",
              "\n",
              "          const docLinkHtml = 'Like what you see? Visit the ' +\n",
              "            '<a target=\"_blank\" href=https://colab.research.google.com/notebooks/data_table.ipynb>data table notebook</a>'\n",
              "            + ' to learn more about interactive tables.';\n",
              "          element.innerHTML = '';\n",
              "          dataTable['output_type'] = 'display_data';\n",
              "          await google.colab.output.renderOutput(dataTable, element);\n",
              "          const docLink = document.createElement('div');\n",
              "          docLink.innerHTML = docLinkHtml;\n",
              "          element.appendChild(docLink);\n",
              "        }\n",
              "      </script>\n",
              "    </div>\n",
              "  </div>\n",
              "  "
            ]
          },
          "metadata": {},
          "execution_count": 104
        }
      ]
    },
    {
      "cell_type": "code",
      "source": [
        "set_with_dataframe(t_corpus, result)"
      ],
      "metadata": {
        "id": "zfEj1MtIa-4F"
      },
      "execution_count": null,
      "outputs": []
    },
    {
      "cell_type": "code",
      "source": [],
      "metadata": {
        "id": "BNF489BlYtIv"
      },
      "execution_count": null,
      "outputs": []
    },
    {
      "cell_type": "markdown",
      "source": [
        "END"
      ],
      "metadata": {
        "id": "NK0L2hYqdsjX"
      }
    },
    {
      "cell_type": "markdown",
      "source": [
        "### Vocabulaire avec groupement :\n",
        "\n",
        "\n",
        "1.   Index alpha\n",
        "2.   Mot clé\n",
        "3.   Ordre\n",
        "\n"
      ],
      "metadata": {
        "id": "cdPFqRRaPQgp"
      }
    },
    {
      "cell_type": "code",
      "source": [
        "vk_voc = airtable.get_all(view='Vocabulary', sort=['idx_cor','Maitre','Ordre'])\n",
        "df_voc = pd.DataFrame.from_records((r['fields'] for r in vk_voc))\n",
        "df_voc = df_voc[['idx_cor','Maitre','Ordre','Proposition','CATEGRAM','TYPE','Thématique']]"
      ],
      "metadata": {
        "id": "cHRm0SL0HVip"
      },
      "execution_count": null,
      "outputs": []
    },
    {
      "cell_type": "markdown",
      "source": [
        "### Traductions avec groupement :\n",
        "\n",
        "\n",
        "1.   Index alpha\n",
        "2.   Mot clé\n",
        "3.   Ordre"
      ],
      "metadata": {
        "id": "2wcUjGFBSkCa"
      }
    },
    {
      "cell_type": "code",
      "source": [
        "df_voc_trad = airtable.get_all(view='Traductions', sort=['idx_cor','Maitre','Ordre'])\n",
        "df_voc_trad = pd.DataFrame.from_records((r['fields'] for r in df_voc_trad))\n",
        "df_voc_trad = df_voc_trad[['idx_cor','Maitre','Ordre','Proposition','CATEGRAM','TYPE','Thématique',\n",
        "             'eng','ams','tur','rus','ukr','rou','hun','tig','alb','geo','arm',\n",
        "             'dar','pst','esp','pol']]"
      ],
      "metadata": {
        "id": "Bgg44ROuR4hL"
      },
      "execution_count": null,
      "outputs": []
    },
    {
      "cell_type": "code",
      "source": [
        "# Corpus_consolidation\n",
        "uri = \"https://docs.google.com/spreadsheets/d/1cSnSnnQunL-I7hpyYkIqbtuGr55unVJ3Qe8URSrjTr8/edit?usp=sharing\"\n",
        "\n",
        "wb = get_CCDB_wb(uri)\n",
        "db_cc = get_CCDB_data (wb, 0)\n",
        "\n",
        "nom_onglet = 'Lexique'\n",
        "# si l'onglet existe déjà\n",
        "try:\n",
        "  ws = wb.worksheet(nom_onglet)\n",
        "  wb.del_worksheet(ws)\n",
        "except:\n",
        "  print (\"Onglet inexistant !\")\n",
        "\n",
        "wb.add_worksheet(nom_onglet, 1, 1)\n",
        "export_sheet = wb.worksheet(nom_onglet)\n",
        "set_with_dataframe(export_sheet, df_voc_trad)"
      ],
      "metadata": {
        "colab": {
          "base_uri": "https://localhost:8080/"
        },
        "id": "WT5hbTFFSxNt",
        "outputId": "ed9bc995-068c-4756-bfe7-9017c5340e54"
      },
      "execution_count": null,
      "outputs": [
        {
          "output_type": "stream",
          "name": "stdout",
          "text": [
            "Onglet inexistant !\n"
          ]
        }
      ]
    },
    {
      "cell_type": "code",
      "source": [
        "grouped = df_voc.groupby(['idx_cor','Maitre'])\n",
        "'''\n",
        "for name, group in grouped:\n",
        "  print (name)\n",
        "  print (group[\"Proposition\"])\n",
        "'''"
      ],
      "metadata": {
        "colab": {
          "base_uri": "https://localhost:8080/",
          "height": 35
        },
        "id": "evgY7mxqP7WE",
        "outputId": "75660d4f-af74-4aa8-cd47-d511f4d308fa"
      },
      "execution_count": null,
      "outputs": [
        {
          "output_type": "execute_result",
          "data": {
            "text/plain": [
              "'\\nfor name, group in grouped:\\n  print (name)\\n  print (group[\"Proposition\"])\\n'"
            ],
            "application/vnd.google.colaboratory.intrinsic+json": {
              "type": "string"
            }
          },
          "metadata": {},
          "execution_count": 23
        }
      ]
    },
    {
      "cell_type": "markdown",
      "source": [
        "Recherche des UID manquants dans Airtable"
      ],
      "metadata": {
        "id": "U-7k2nzJUsid"
      }
    },
    {
      "cell_type": "code",
      "source": [
        "def airtable_get_missing_uids(df):\n",
        "  return df.loc[pd.isna(df[\"UID\"])]\n"
      ],
      "metadata": {
        "id": "Gtod6pghUwQi"
      },
      "execution_count": null,
      "outputs": []
    },
    {
      "cell_type": "markdown",
      "source": [
        "Recherche dans Airtable par Séquence"
      ],
      "metadata": {
        "id": "5SKRdfNJVJsK"
      }
    },
    {
      "cell_type": "code",
      "source": [
        "def airtable_get_records_by_sequence(df, sequence):\n",
        "  return df.loc[df[\"Séquence\"]==sequence]\n"
      ],
      "metadata": {
        "id": "vSn5dpoYVi4M"
      },
      "execution_count": null,
      "outputs": []
    },
    {
      "cell_type": "code",
      "source": [
        "#df_vkat.loc[df_vkat[\"Séquence\"]==\"1. Présentation + antécédents\"]"
      ],
      "metadata": {
        "id": "fcJHEddUWLWs"
      },
      "execution_count": null,
      "outputs": []
    },
    {
      "cell_type": "code",
      "source": [
        "airtable_get_missing_uids(df_vkat)"
      ],
      "metadata": {
        "id": "57wH5iFxREtI",
        "colab": {
          "base_uri": "https://localhost:8080/",
          "height": 468
        },
        "outputId": "f6fedb58-76d3-4a76-b039-3b113a31dc32"
      },
      "execution_count": null,
      "outputs": [
        {
          "output_type": "execute_result",
          "data": {
            "text/plain": [
              "                       Proposition  CATEGRAM           DEPENDANCE idx_cor         TYPE  UID VOCABULAIRE           Thématique  idx  Ordre  ... Updates Séquence MedGen Statut Fiche Phrase Assoc Définition Corpus copy DOMAINE Exp Assoc\n",
              "6                  ~ chirurgicale      [exp]  [reco8iFRctnJgMJCl]       I   expression  NaN         NaN        [Vaccination]    I      2  ...     NaN      NaN    NaN    NaN   NaN          NaN        NaN         NaN     NaN       NaN\n",
              "26                    Accouchement      [nm]                  NaN       A  vocabulaire  NaN         NaN  [Médecine générale]  NaN      1  ...     NaN      NaN    NaN    NaN   NaN          NaN        NaN         NaN     NaN       NaN\n",
              "27                       Accoucher      [vi]                  NaN       A  vocabulaire  NaN         NaN  [Médecine générale]  NaN      1  ...     NaN      NaN    NaN    NaN   NaN          NaN        NaN         NaN     NaN       NaN\n",
              "40                      Appareil ~     [exp]                  NaN       D   expression  NaN         NaN  [Médecine générale]  NaN      2  ...     NaN      NaN    NaN    NaN   NaN          NaN        NaN         NaN     NaN       NaN\n",
              "41                       Assurance      [nf]                  NaN       A  vocabulaire  NaN     Général  [Médecine générale]  NaN      1  ...     NaN      NaN    NaN    NaN   NaN          NaN        NaN         NaN     NaN       NaN\n",
              "..                             ...       ...                  ...     ...          ...  ...         ...                  ...  ...    ...  ...     ...      ...    ...    ...   ...          ...        ...         ...     ...       ...\n",
              "304                          Urine      [nf]                  NaN       U  vocabulaire  NaN         NaN                  NaN  NaN      1  ...     NaN      NaN    NaN    NaN   NaN          NaN        NaN         NaN     NaN       NaN\n",
              "306                       Vaccinal     [adj]                  NaN       V  vocabulaire  NaN         NaN                  NaN  NaN      1  ...     NaN      NaN    NaN    NaN   NaN          NaN        NaN         NaN     NaN       NaN\n",
              "308                    Vacciné, -e     [adj]                  NaN       V  vocabulaire  NaN         NaN                  NaN  NaN      1  ...     NaN      NaN    NaN    NaN   NaN          NaN        NaN         NaN     NaN       NaN\n",
              "317  Votre poids a-t-il augmenté ?  [phrase]  [recnFsFSoE1DCjYqt]       P       phrase  NaN         NaN  [Médecine générale]  NaN      3  ...     NaN      NaN    NaN    NaN   NaN          NaN        NaN         NaN     NaN       NaN\n",
              "319    Votre poids est-il stable ?  [phrase]  [recnFsFSoE1DCjYqt]       P       phrase  NaN         NaN  [Médecine générale]  NaN      3  ...     NaN      NaN    NaN    NaN   NaN          NaN        NaN         NaN     NaN       NaN\n",
              "\n",
              "[64 rows x 39 columns]"
            ],
            "text/html": [
              "\n",
              "  <div id=\"df-f55aeecb-91ff-4920-b2ea-8a4d69a74e8c\">\n",
              "    <div class=\"colab-df-container\">\n",
              "      <div>\n",
              "<style scoped>\n",
              "    .dataframe tbody tr th:only-of-type {\n",
              "        vertical-align: middle;\n",
              "    }\n",
              "\n",
              "    .dataframe tbody tr th {\n",
              "        vertical-align: top;\n",
              "    }\n",
              "\n",
              "    .dataframe thead th {\n",
              "        text-align: right;\n",
              "    }\n",
              "</style>\n",
              "<table border=\"1\" class=\"dataframe\">\n",
              "  <thead>\n",
              "    <tr style=\"text-align: right;\">\n",
              "      <th></th>\n",
              "      <th>Proposition</th>\n",
              "      <th>CATEGRAM</th>\n",
              "      <th>DEPENDANCE</th>\n",
              "      <th>idx_cor</th>\n",
              "      <th>TYPE</th>\n",
              "      <th>UID</th>\n",
              "      <th>VOCABULAIRE</th>\n",
              "      <th>Thématique</th>\n",
              "      <th>idx</th>\n",
              "      <th>Ordre</th>\n",
              "      <th>...</th>\n",
              "      <th>Updates</th>\n",
              "      <th>Séquence</th>\n",
              "      <th>MedGen</th>\n",
              "      <th>Statut</th>\n",
              "      <th>Fiche</th>\n",
              "      <th>Phrase Assoc</th>\n",
              "      <th>Définition</th>\n",
              "      <th>Corpus copy</th>\n",
              "      <th>DOMAINE</th>\n",
              "      <th>Exp Assoc</th>\n",
              "    </tr>\n",
              "  </thead>\n",
              "  <tbody>\n",
              "    <tr>\n",
              "      <th>6</th>\n",
              "      <td>~ chirurgicale</td>\n",
              "      <td>[exp]</td>\n",
              "      <td>[reco8iFRctnJgMJCl]</td>\n",
              "      <td>I</td>\n",
              "      <td>expression</td>\n",
              "      <td>NaN</td>\n",
              "      <td>NaN</td>\n",
              "      <td>[Vaccination]</td>\n",
              "      <td>I</td>\n",
              "      <td>2</td>\n",
              "      <td>...</td>\n",
              "      <td>NaN</td>\n",
              "      <td>NaN</td>\n",
              "      <td>NaN</td>\n",
              "      <td>NaN</td>\n",
              "      <td>NaN</td>\n",
              "      <td>NaN</td>\n",
              "      <td>NaN</td>\n",
              "      <td>NaN</td>\n",
              "      <td>NaN</td>\n",
              "      <td>NaN</td>\n",
              "    </tr>\n",
              "    <tr>\n",
              "      <th>26</th>\n",
              "      <td>Accouchement</td>\n",
              "      <td>[nm]</td>\n",
              "      <td>NaN</td>\n",
              "      <td>A</td>\n",
              "      <td>vocabulaire</td>\n",
              "      <td>NaN</td>\n",
              "      <td>NaN</td>\n",
              "      <td>[Médecine générale]</td>\n",
              "      <td>NaN</td>\n",
              "      <td>1</td>\n",
              "      <td>...</td>\n",
              "      <td>NaN</td>\n",
              "      <td>NaN</td>\n",
              "      <td>NaN</td>\n",
              "      <td>NaN</td>\n",
              "      <td>NaN</td>\n",
              "      <td>NaN</td>\n",
              "      <td>NaN</td>\n",
              "      <td>NaN</td>\n",
              "      <td>NaN</td>\n",
              "      <td>NaN</td>\n",
              "    </tr>\n",
              "    <tr>\n",
              "      <th>27</th>\n",
              "      <td>Accoucher</td>\n",
              "      <td>[vi]</td>\n",
              "      <td>NaN</td>\n",
              "      <td>A</td>\n",
              "      <td>vocabulaire</td>\n",
              "      <td>NaN</td>\n",
              "      <td>NaN</td>\n",
              "      <td>[Médecine générale]</td>\n",
              "      <td>NaN</td>\n",
              "      <td>1</td>\n",
              "      <td>...</td>\n",
              "      <td>NaN</td>\n",
              "      <td>NaN</td>\n",
              "      <td>NaN</td>\n",
              "      <td>NaN</td>\n",
              "      <td>NaN</td>\n",
              "      <td>NaN</td>\n",
              "      <td>NaN</td>\n",
              "      <td>NaN</td>\n",
              "      <td>NaN</td>\n",
              "      <td>NaN</td>\n",
              "    </tr>\n",
              "    <tr>\n",
              "      <th>40</th>\n",
              "      <td>Appareil ~</td>\n",
              "      <td>[exp]</td>\n",
              "      <td>NaN</td>\n",
              "      <td>D</td>\n",
              "      <td>expression</td>\n",
              "      <td>NaN</td>\n",
              "      <td>NaN</td>\n",
              "      <td>[Médecine générale]</td>\n",
              "      <td>NaN</td>\n",
              "      <td>2</td>\n",
              "      <td>...</td>\n",
              "      <td>NaN</td>\n",
              "      <td>NaN</td>\n",
              "      <td>NaN</td>\n",
              "      <td>NaN</td>\n",
              "      <td>NaN</td>\n",
              "      <td>NaN</td>\n",
              "      <td>NaN</td>\n",
              "      <td>NaN</td>\n",
              "      <td>NaN</td>\n",
              "      <td>NaN</td>\n",
              "    </tr>\n",
              "    <tr>\n",
              "      <th>41</th>\n",
              "      <td>Assurance</td>\n",
              "      <td>[nf]</td>\n",
              "      <td>NaN</td>\n",
              "      <td>A</td>\n",
              "      <td>vocabulaire</td>\n",
              "      <td>NaN</td>\n",
              "      <td>Général</td>\n",
              "      <td>[Médecine générale]</td>\n",
              "      <td>NaN</td>\n",
              "      <td>1</td>\n",
              "      <td>...</td>\n",
              "      <td>NaN</td>\n",
              "      <td>NaN</td>\n",
              "      <td>NaN</td>\n",
              "      <td>NaN</td>\n",
              "      <td>NaN</td>\n",
              "      <td>NaN</td>\n",
              "      <td>NaN</td>\n",
              "      <td>NaN</td>\n",
              "      <td>NaN</td>\n",
              "      <td>NaN</td>\n",
              "    </tr>\n",
              "    <tr>\n",
              "      <th>...</th>\n",
              "      <td>...</td>\n",
              "      <td>...</td>\n",
              "      <td>...</td>\n",
              "      <td>...</td>\n",
              "      <td>...</td>\n",
              "      <td>...</td>\n",
              "      <td>...</td>\n",
              "      <td>...</td>\n",
              "      <td>...</td>\n",
              "      <td>...</td>\n",
              "      <td>...</td>\n",
              "      <td>...</td>\n",
              "      <td>...</td>\n",
              "      <td>...</td>\n",
              "      <td>...</td>\n",
              "      <td>...</td>\n",
              "      <td>...</td>\n",
              "      <td>...</td>\n",
              "      <td>...</td>\n",
              "      <td>...</td>\n",
              "      <td>...</td>\n",
              "    </tr>\n",
              "    <tr>\n",
              "      <th>304</th>\n",
              "      <td>Urine</td>\n",
              "      <td>[nf]</td>\n",
              "      <td>NaN</td>\n",
              "      <td>U</td>\n",
              "      <td>vocabulaire</td>\n",
              "      <td>NaN</td>\n",
              "      <td>NaN</td>\n",
              "      <td>NaN</td>\n",
              "      <td>NaN</td>\n",
              "      <td>1</td>\n",
              "      <td>...</td>\n",
              "      <td>NaN</td>\n",
              "      <td>NaN</td>\n",
              "      <td>NaN</td>\n",
              "      <td>NaN</td>\n",
              "      <td>NaN</td>\n",
              "      <td>NaN</td>\n",
              "      <td>NaN</td>\n",
              "      <td>NaN</td>\n",
              "      <td>NaN</td>\n",
              "      <td>NaN</td>\n",
              "    </tr>\n",
              "    <tr>\n",
              "      <th>306</th>\n",
              "      <td>Vaccinal</td>\n",
              "      <td>[adj]</td>\n",
              "      <td>NaN</td>\n",
              "      <td>V</td>\n",
              "      <td>vocabulaire</td>\n",
              "      <td>NaN</td>\n",
              "      <td>NaN</td>\n",
              "      <td>NaN</td>\n",
              "      <td>NaN</td>\n",
              "      <td>1</td>\n",
              "      <td>...</td>\n",
              "      <td>NaN</td>\n",
              "      <td>NaN</td>\n",
              "      <td>NaN</td>\n",
              "      <td>NaN</td>\n",
              "      <td>NaN</td>\n",
              "      <td>NaN</td>\n",
              "      <td>NaN</td>\n",
              "      <td>NaN</td>\n",
              "      <td>NaN</td>\n",
              "      <td>NaN</td>\n",
              "    </tr>\n",
              "    <tr>\n",
              "      <th>308</th>\n",
              "      <td>Vacciné, -e</td>\n",
              "      <td>[adj]</td>\n",
              "      <td>NaN</td>\n",
              "      <td>V</td>\n",
              "      <td>vocabulaire</td>\n",
              "      <td>NaN</td>\n",
              "      <td>NaN</td>\n",
              "      <td>NaN</td>\n",
              "      <td>NaN</td>\n",
              "      <td>1</td>\n",
              "      <td>...</td>\n",
              "      <td>NaN</td>\n",
              "      <td>NaN</td>\n",
              "      <td>NaN</td>\n",
              "      <td>NaN</td>\n",
              "      <td>NaN</td>\n",
              "      <td>NaN</td>\n",
              "      <td>NaN</td>\n",
              "      <td>NaN</td>\n",
              "      <td>NaN</td>\n",
              "      <td>NaN</td>\n",
              "    </tr>\n",
              "    <tr>\n",
              "      <th>317</th>\n",
              "      <td>Votre poids a-t-il augmenté ?</td>\n",
              "      <td>[phrase]</td>\n",
              "      <td>[recnFsFSoE1DCjYqt]</td>\n",
              "      <td>P</td>\n",
              "      <td>phrase</td>\n",
              "      <td>NaN</td>\n",
              "      <td>NaN</td>\n",
              "      <td>[Médecine générale]</td>\n",
              "      <td>NaN</td>\n",
              "      <td>3</td>\n",
              "      <td>...</td>\n",
              "      <td>NaN</td>\n",
              "      <td>NaN</td>\n",
              "      <td>NaN</td>\n",
              "      <td>NaN</td>\n",
              "      <td>NaN</td>\n",
              "      <td>NaN</td>\n",
              "      <td>NaN</td>\n",
              "      <td>NaN</td>\n",
              "      <td>NaN</td>\n",
              "      <td>NaN</td>\n",
              "    </tr>\n",
              "    <tr>\n",
              "      <th>319</th>\n",
              "      <td>Votre poids est-il stable ?</td>\n",
              "      <td>[phrase]</td>\n",
              "      <td>[recnFsFSoE1DCjYqt]</td>\n",
              "      <td>P</td>\n",
              "      <td>phrase</td>\n",
              "      <td>NaN</td>\n",
              "      <td>NaN</td>\n",
              "      <td>[Médecine générale]</td>\n",
              "      <td>NaN</td>\n",
              "      <td>3</td>\n",
              "      <td>...</td>\n",
              "      <td>NaN</td>\n",
              "      <td>NaN</td>\n",
              "      <td>NaN</td>\n",
              "      <td>NaN</td>\n",
              "      <td>NaN</td>\n",
              "      <td>NaN</td>\n",
              "      <td>NaN</td>\n",
              "      <td>NaN</td>\n",
              "      <td>NaN</td>\n",
              "      <td>NaN</td>\n",
              "    </tr>\n",
              "  </tbody>\n",
              "</table>\n",
              "<p>64 rows × 39 columns</p>\n",
              "</div>\n",
              "      <button class=\"colab-df-convert\" onclick=\"convertToInteractive('df-f55aeecb-91ff-4920-b2ea-8a4d69a74e8c')\"\n",
              "              title=\"Convert this dataframe to an interactive table.\"\n",
              "              style=\"display:none;\">\n",
              "        \n",
              "  <svg xmlns=\"http://www.w3.org/2000/svg\" height=\"24px\"viewBox=\"0 0 24 24\"\n",
              "       width=\"24px\">\n",
              "    <path d=\"M0 0h24v24H0V0z\" fill=\"none\"/>\n",
              "    <path d=\"M18.56 5.44l.94 2.06.94-2.06 2.06-.94-2.06-.94-.94-2.06-.94 2.06-2.06.94zm-11 1L8.5 8.5l.94-2.06 2.06-.94-2.06-.94L8.5 2.5l-.94 2.06-2.06.94zm10 10l.94 2.06.94-2.06 2.06-.94-2.06-.94-.94-2.06-.94 2.06-2.06.94z\"/><path d=\"M17.41 7.96l-1.37-1.37c-.4-.4-.92-.59-1.43-.59-.52 0-1.04.2-1.43.59L10.3 9.45l-7.72 7.72c-.78.78-.78 2.05 0 2.83L4 21.41c.39.39.9.59 1.41.59.51 0 1.02-.2 1.41-.59l7.78-7.78 2.81-2.81c.8-.78.8-2.07 0-2.86zM5.41 20L4 18.59l7.72-7.72 1.47 1.35L5.41 20z\"/>\n",
              "  </svg>\n",
              "      </button>\n",
              "      \n",
              "  <style>\n",
              "    .colab-df-container {\n",
              "      display:flex;\n",
              "      flex-wrap:wrap;\n",
              "      gap: 12px;\n",
              "    }\n",
              "\n",
              "    .colab-df-convert {\n",
              "      background-color: #E8F0FE;\n",
              "      border: none;\n",
              "      border-radius: 50%;\n",
              "      cursor: pointer;\n",
              "      display: none;\n",
              "      fill: #1967D2;\n",
              "      height: 32px;\n",
              "      padding: 0 0 0 0;\n",
              "      width: 32px;\n",
              "    }\n",
              "\n",
              "    .colab-df-convert:hover {\n",
              "      background-color: #E2EBFA;\n",
              "      box-shadow: 0px 1px 2px rgba(60, 64, 67, 0.3), 0px 1px 3px 1px rgba(60, 64, 67, 0.15);\n",
              "      fill: #174EA6;\n",
              "    }\n",
              "\n",
              "    [theme=dark] .colab-df-convert {\n",
              "      background-color: #3B4455;\n",
              "      fill: #D2E3FC;\n",
              "    }\n",
              "\n",
              "    [theme=dark] .colab-df-convert:hover {\n",
              "      background-color: #434B5C;\n",
              "      box-shadow: 0px 1px 3px 1px rgba(0, 0, 0, 0.15);\n",
              "      filter: drop-shadow(0px 1px 2px rgba(0, 0, 0, 0.3));\n",
              "      fill: #FFFFFF;\n",
              "    }\n",
              "  </style>\n",
              "\n",
              "      <script>\n",
              "        const buttonEl =\n",
              "          document.querySelector('#df-f55aeecb-91ff-4920-b2ea-8a4d69a74e8c button.colab-df-convert');\n",
              "        buttonEl.style.display =\n",
              "          google.colab.kernel.accessAllowed ? 'block' : 'none';\n",
              "\n",
              "        async function convertToInteractive(key) {\n",
              "          const element = document.querySelector('#df-f55aeecb-91ff-4920-b2ea-8a4d69a74e8c');\n",
              "          const dataTable =\n",
              "            await google.colab.kernel.invokeFunction('convertToInteractive',\n",
              "                                                     [key], {});\n",
              "          if (!dataTable) return;\n",
              "\n",
              "          const docLinkHtml = 'Like what you see? Visit the ' +\n",
              "            '<a target=\"_blank\" href=https://colab.research.google.com/notebooks/data_table.ipynb>data table notebook</a>'\n",
              "            + ' to learn more about interactive tables.';\n",
              "          element.innerHTML = '';\n",
              "          dataTable['output_type'] = 'display_data';\n",
              "          await google.colab.output.renderOutput(dataTable, element);\n",
              "          const docLink = document.createElement('div');\n",
              "          docLink.innerHTML = docLinkHtml;\n",
              "          element.appendChild(docLink);\n",
              "        }\n",
              "      </script>\n",
              "    </div>\n",
              "  </div>\n",
              "  "
            ]
          },
          "metadata": {},
          "execution_count": 21
        }
      ]
    },
    {
      "cell_type": "markdown",
      "source": [
        "Rceherche des termes présents dans Central, présents dans AIRTBL mais sans UID"
      ],
      "metadata": {
        "id": "fXlfUrfdYIbI"
      }
    },
    {
      "cell_type": "code",
      "source": [
        "vk_at_trad = airtable.get_all(view='Traductions',sort='Proposition')\n",
        "df_vk_at_trad = pd.DataFrame.from_records((r['fields'] for r in vk_at_trad))\n",
        "df_vk_at_trad = df_vk_at_trad[[\"Proposition\",\"idx_cor\",\"UID\"]]\n",
        "df_vk_at_trad_notna = df_vk_at_trad.loc[pd.notna(df_vk_at_trad[\"UID\"])]\n",
        "df_vk_at_trad_na = df_vk_at_trad.loc[pd.isna(df_vk_at_trad[\"UID\"])]"
      ],
      "metadata": {
        "id": "K3gKCepieMIQ"
      },
      "execution_count": null,
      "outputs": []
    },
    {
      "cell_type": "markdown",
      "source": [
        "### merge côté AT : avec les UID présents "
      ],
      "metadata": {
        "id": "INb1Du8CtbBR"
      }
    },
    {
      "cell_type": "code",
      "source": [
        "df_merged = pd.merge(df_cc_global, df_vk_at_trad_notna, how=\"right\", left_on='uid', right_on='UID')"
      ],
      "metadata": {
        "id": "WmQoZ0pvgZtQ"
      },
      "execution_count": null,
      "outputs": []
    },
    {
      "cell_type": "markdown",
      "source": [
        "## On complète avec les traductions"
      ],
      "metadata": {
        "id": "ldztSIEztkja"
      }
    },
    {
      "cell_type": "code",
      "source": [
        "for index, row in df_merged.iterrows():\n",
        "  if row[\"uid\"] is not None:\n",
        "    record = airtable.match('UID', row[\"uid\"])\n",
        "    aDict = {}\n",
        "    for i in vk_languages:\n",
        "      key = i[\"trigramme\"]\n",
        "      aDict[key] = row[key]\n",
        "      #print (record['id'] +\" \" + row[\"eng\"])\n",
        "    airtable.update(record['id'], aDict)\n"
      ],
      "metadata": {
        "id": "--ive2GSiBtb"
      },
      "execution_count": null,
      "outputs": []
    },
    {
      "cell_type": "markdown",
      "source": [
        "## On complète avec les UID manquants"
      ],
      "metadata": {
        "id": "TDC5UPAZtj7e"
      }
    },
    {
      "cell_type": "code",
      "source": [
        "df_vk_at_trad_na"
      ],
      "metadata": {
        "id": "AcFNN2eIuIog"
      },
      "execution_count": null,
      "outputs": []
    },
    {
      "cell_type": "code",
      "source": [
        "df_merged = pd.merge(df_cc_global, df_vk_at_trad_na, how=\"right\", left_on='expression', right_on='Proposition')"
      ],
      "metadata": {
        "id": "8t7rvIBUtvJu"
      },
      "execution_count": null,
      "outputs": []
    },
    {
      "cell_type": "code",
      "source": [
        "df_merged = df_merged.loc[pd.notna(df_merged[\"uid\"])]"
      ],
      "metadata": {
        "id": "6ahCm4WCufpQ"
      },
      "execution_count": null,
      "outputs": []
    },
    {
      "cell_type": "code",
      "source": [
        "for index, row in df_merged.iterrows():\n",
        "  if row[\"uid\"] is not None:\n",
        "    record = airtable.match('Proposition', row[\"expression\"])\n",
        "    aDict = {}\n",
        "    key = \"UID\"\n",
        "    aDict[key] = row[\"uid\"]\n",
        "    for i in vk_languages:\n",
        "      key = i[\"trigramme\"]\n",
        "      aDict[key] = row[key]\n",
        "      #print (record['id'] +\" \" + row[\"eng\"])\n",
        "    airtable.update(record['id'], aDict)"
      ],
      "metadata": {
        "id": "cOtC1mTRvf4b"
      },
      "execution_count": null,
      "outputs": []
    },
    {
      "cell_type": "markdown",
      "source": [
        "## On vide toute la base AT dans Central Consolidation"
      ],
      "metadata": {
        "id": "DS-bEnO8wWdd"
      }
    },
    {
      "cell_type": "code",
      "source": [
        "vk_at = airtable.get_all(view='Admin',sort='Proposition')\n",
        "df_vkat = pd.DataFrame.from_records((r['fields'] for r in vk_at))"
      ],
      "metadata": {
        "id": "E0Ohsqdnyic-"
      },
      "execution_count": null,
      "outputs": []
    },
    {
      "cell_type": "code",
      "source": [
        "# Corpus_consolidation\n",
        "uri = \"https://docs.google.com/spreadsheets/d/1cSnSnnQunL-I7hpyYkIqbtuGr55unVJ3Qe8URSrjTr8/edit?usp=sharing\"\n",
        "\n",
        "wb = get_CCDB_wb(uri)\n",
        "db_cc = get_CCDB_data (wb, 0)\n",
        "\n",
        "nom_onglet = 'Termes'\n",
        "# si l'onglet existe déjà\n",
        "try:\n",
        "  ws = wb.worksheet(nom_onglet)\n",
        "  wb.del_worksheet(ws)\n",
        "except:\n",
        "  print (\"Onglet inexistant !\")\n",
        "\n",
        "wb.add_worksheet(nom_onglet, 1, 1)\n",
        "export_sheet = wb.worksheet(nom_onglet)\n",
        "set_with_dataframe(export_sheet, df_vkat)\n",
        "\n"
      ],
      "metadata": {
        "id": "jwPPFWmSxrsj"
      },
      "execution_count": null,
      "outputs": []
    },
    {
      "cell_type": "markdown",
      "source": [
        "END"
      ],
      "metadata": {
        "id": "GrpHI9nesnIY"
      }
    },
    {
      "cell_type": "code",
      "source": [
        "record = airtable.match('UID', '30579682')\n",
        "fields = {'eng': 'Accident'}\n",
        "airtable.update(record['id'], fields)"
      ],
      "metadata": {
        "colab": {
          "base_uri": "https://localhost:8080/"
        },
        "id": "i4bxE6U-dJLn",
        "outputId": "2d304bb3-bd16-4af0-e266-ea21e647b4bf"
      },
      "execution_count": null,
      "outputs": [
        {
          "output_type": "execute_result",
          "data": {
            "text/plain": [
              "{'createdTime': '2021-12-10T08:47:48.000Z',\n",
              " 'fields': {'CATEGRAM': ['nm'],\n",
              "  'Name ID': 'recGaRQGjV5qN3QBN',\n",
              "  'Proposition': 'Accident',\n",
              "  'TYPE': 'vocabulaire',\n",
              "  'Thématique': 'Vaccination',\n",
              "  'UID': '30579682',\n",
              "  'VOCABULAIRE': 'Général',\n",
              "  'eng': 'Accident',\n",
              "  'idx': 'A',\n",
              "  'idx_cor': 'A'},\n",
              " 'id': 'recGaRQGjV5qN3QBN'}"
            ]
          },
          "metadata": {},
          "execution_count": 39
        }
      ]
    },
    {
      "cell_type": "code",
      "source": [
        "record"
      ],
      "metadata": {
        "colab": {
          "base_uri": "https://localhost:8080/"
        },
        "id": "FVhleF-qdP8m",
        "outputId": "6842713c-df5e-40c3-d9ac-94d4b4bb4b4c"
      },
      "execution_count": null,
      "outputs": [
        {
          "output_type": "execute_result",
          "data": {
            "text/plain": [
              "{'createdTime': '2021-12-10T08:47:48.000Z',\n",
              " 'fields': {'CATEGRAM': ['nm'],\n",
              "  'Name ID': 'recGaRQGjV5qN3QBN',\n",
              "  'Proposition': 'Accident',\n",
              "  'TYPE': 'vocabulaire',\n",
              "  'Thématique': 'Vaccination',\n",
              "  'UID': '30579682',\n",
              "  'VOCABULAIRE': 'Général',\n",
              "  'idx': 'A',\n",
              "  'idx_cor': 'A'},\n",
              " 'id': 'recGaRQGjV5qN3QBN'}"
            ]
          },
          "metadata": {},
          "execution_count": 33
        }
      ]
    },
    {
      "cell_type": "code",
      "metadata": {
        "id": "9yIqVmuF5sLc"
      },
      "source": [
        "def airtable_table_get(uri, params, headers):\n",
        "  airtable_records = []\n",
        "  run = True\n",
        "  while run is True:\n",
        "    response = requests.get(uri, params=params, headers=headers)\n",
        "    airtable_response = response.json()\n",
        "    airtable_records += (airtable_response['records'])\n",
        "    if 'offset' in airtable_response:\n",
        "      run = True\n",
        "      params = (('offset', airtable_response['offset']),)\n",
        "    else:\n",
        "      run = False\n",
        "  return airtable_records"
      ],
      "execution_count": null,
      "outputs": []
    },
    {
      "cell_type": "markdown",
      "metadata": {
        "id": "Td15VBcoLa2f"
      },
      "source": [
        "# Table Corpus"
      ]
    },
    {
      "cell_type": "code",
      "metadata": {
        "id": "7Vt-ZR-AJlzP"
      },
      "source": [
        "\n",
        "url = \"https://api.airtable.com/v0/\" + base_id + \"/\" + table_name\n"
      ],
      "execution_count": null,
      "outputs": []
    },
    {
      "cell_type": "markdown",
      "metadata": {
        "id": "ViCvTpxuBHoz"
      },
      "source": [
        "### On lit tous les enregistrements, puis on met dans un dataframe"
      ]
    },
    {
      "cell_type": "markdown",
      "source": [
        "# Nouvelle section"
      ],
      "metadata": {
        "id": "Nkp_Aq7hvdlt"
      }
    },
    {
      "cell_type": "code",
      "metadata": {
        "id": "l8xZ5LY6MLFl"
      },
      "source": [
        "airtable_records = airtable_table_get(url, params, headers)\n",
        "\n",
        "airtable_rows = [] \n",
        "airtable_index = []\n",
        "for record in airtable_records:\n",
        "  airtable_rows.append(record['fields'])\n",
        "  airtable_index.append(record['id'])\n",
        "df = pd.DataFrame(airtable_rows, index=airtable_index)\n",
        "df = df [['Proposition','UID', 'Name ID', 'DEPENDANCE', 'idx', 'idx_cor','Statut','Thématique']]\n",
        "df.sort_values(by=['Proposition'], ascending=True, inplace=True)"
      ],
      "execution_count": null,
      "outputs": []
    },
    {
      "cell_type": "code",
      "source": [
        "df.head(10)"
      ],
      "metadata": {
        "colab": {
          "base_uri": "https://localhost:8080/",
          "height": 363
        },
        "id": "6mXBIWjy1qNA",
        "outputId": "157f2898-0e0d-48e6-ec4a-7aa85789b3c5"
      },
      "execution_count": null,
      "outputs": [
        {
          "output_type": "execute_result",
          "data": {
            "text/html": [
              "\n",
              "  <div id=\"df-22447ca0-0f23-457d-8f2b-09b219e4cba2\">\n",
              "    <div class=\"colab-df-container\">\n",
              "      <div>\n",
              "<style scoped>\n",
              "    .dataframe tbody tr th:only-of-type {\n",
              "        vertical-align: middle;\n",
              "    }\n",
              "\n",
              "    .dataframe tbody tr th {\n",
              "        vertical-align: top;\n",
              "    }\n",
              "\n",
              "    .dataframe thead th {\n",
              "        text-align: right;\n",
              "    }\n",
              "</style>\n",
              "<table border=\"1\" class=\"dataframe\">\n",
              "  <thead>\n",
              "    <tr style=\"text-align: right;\">\n",
              "      <th></th>\n",
              "      <th>Proposition</th>\n",
              "      <th>UID</th>\n",
              "      <th>Name ID</th>\n",
              "      <th>DEPENDANCE</th>\n",
              "      <th>idx</th>\n",
              "      <th>idx_cor</th>\n",
              "      <th>Statut</th>\n",
              "      <th>Thématique</th>\n",
              "    </tr>\n",
              "  </thead>\n",
              "  <tbody>\n",
              "    <tr>\n",
              "      <th>recKbPHqDTXNPwYK0</th>\n",
              "      <td>A jeun</td>\n",
              "      <td>f397cda1</td>\n",
              "      <td>recKbPHqDTXNPwYK0</td>\n",
              "      <td>NaN</td>\n",
              "      <td>J</td>\n",
              "      <td>J</td>\n",
              "      <td>NaN</td>\n",
              "      <td>Vaccination</td>\n",
              "    </tr>\n",
              "    <tr>\n",
              "      <th>rec1qTnfWxjhx6SBl</th>\n",
              "      <td>AME - Aide médicale d'État</td>\n",
              "      <td>f49563a9</td>\n",
              "      <td>rec1qTnfWxjhx6SBl</td>\n",
              "      <td>NaN</td>\n",
              "      <td>A</td>\n",
              "      <td>A</td>\n",
              "      <td>NaN</td>\n",
              "      <td>Vaccination</td>\n",
              "    </tr>\n",
              "    <tr>\n",
              "      <th>rec0HgtD22F7TWM3W</th>\n",
              "      <td>Abcès</td>\n",
              "      <td>6e65dde7</td>\n",
              "      <td>rec0HgtD22F7TWM3W</td>\n",
              "      <td>NaN</td>\n",
              "      <td>A</td>\n",
              "      <td>A</td>\n",
              "      <td>NaN</td>\n",
              "      <td>Médecine générale</td>\n",
              "    </tr>\n",
              "    <tr>\n",
              "      <th>recGaRQGjV5qN3QBN</th>\n",
              "      <td>Accident</td>\n",
              "      <td>30579682</td>\n",
              "      <td>recGaRQGjV5qN3QBN</td>\n",
              "      <td>NaN</td>\n",
              "      <td>A</td>\n",
              "      <td>A</td>\n",
              "      <td>NaN</td>\n",
              "      <td>Vaccination</td>\n",
              "    </tr>\n",
              "    <tr>\n",
              "      <th>rec3MxDq67MC982ng</th>\n",
              "      <td>Accident cérébral</td>\n",
              "      <td>6f214e4c</td>\n",
              "      <td>rec3MxDq67MC982ng</td>\n",
              "      <td>[recGaRQGjV5qN3QBN]</td>\n",
              "      <td>A</td>\n",
              "      <td>A</td>\n",
              "      <td>NaN</td>\n",
              "      <td>Vaccination</td>\n",
              "    </tr>\n",
              "    <tr>\n",
              "      <th>reciexfGbNKvXzQg8</th>\n",
              "      <td>Alcool</td>\n",
              "      <td>NaN</td>\n",
              "      <td>reciexfGbNKvXzQg8</td>\n",
              "      <td>NaN</td>\n",
              "      <td>A</td>\n",
              "      <td>A</td>\n",
              "      <td>NaN</td>\n",
              "      <td>Médecine générale</td>\n",
              "    </tr>\n",
              "    <tr>\n",
              "      <th>recfY4uKkgK8Jp8GO</th>\n",
              "      <td>Allergie</td>\n",
              "      <td>8b195cf4</td>\n",
              "      <td>recfY4uKkgK8Jp8GO</td>\n",
              "      <td>NaN</td>\n",
              "      <td>A</td>\n",
              "      <td>A</td>\n",
              "      <td>NaN</td>\n",
              "      <td>Vaccination</td>\n",
              "    </tr>\n",
              "    <tr>\n",
              "      <th>recSKSrXVLhDfMq6w</th>\n",
              "      <td>Allergie alimentaire</td>\n",
              "      <td>f754eebf</td>\n",
              "      <td>recSKSrXVLhDfMq6w</td>\n",
              "      <td>[recfY4uKkgK8Jp8GO]</td>\n",
              "      <td>A</td>\n",
              "      <td>A</td>\n",
              "      <td>NaN</td>\n",
              "      <td>Vaccination</td>\n",
              "    </tr>\n",
              "    <tr>\n",
              "      <th>rectthHdPchXi1zr9</th>\n",
              "      <td>Allergie médicamenteuse</td>\n",
              "      <td>7256c169</td>\n",
              "      <td>rectthHdPchXi1zr9</td>\n",
              "      <td>[recfY4uKkgK8Jp8GO, recOivQOmeragygVr]</td>\n",
              "      <td>A</td>\n",
              "      <td>A</td>\n",
              "      <td>NaN</td>\n",
              "      <td>Vaccination</td>\n",
              "    </tr>\n",
              "    <tr>\n",
              "      <th>recHNzXfvWWm0Lwp8</th>\n",
              "      <td>Allergie à un médicament</td>\n",
              "      <td>316fa7ab</td>\n",
              "      <td>recHNzXfvWWm0Lwp8</td>\n",
              "      <td>[recfY4uKkgK8Jp8GO, recOivQOmeragygVr]</td>\n",
              "      <td>A</td>\n",
              "      <td>A</td>\n",
              "      <td>NaN</td>\n",
              "      <td>Vaccination</td>\n",
              "    </tr>\n",
              "  </tbody>\n",
              "</table>\n",
              "</div>\n",
              "      <button class=\"colab-df-convert\" onclick=\"convertToInteractive('df-22447ca0-0f23-457d-8f2b-09b219e4cba2')\"\n",
              "              title=\"Convert this dataframe to an interactive table.\"\n",
              "              style=\"display:none;\">\n",
              "        \n",
              "  <svg xmlns=\"http://www.w3.org/2000/svg\" height=\"24px\"viewBox=\"0 0 24 24\"\n",
              "       width=\"24px\">\n",
              "    <path d=\"M0 0h24v24H0V0z\" fill=\"none\"/>\n",
              "    <path d=\"M18.56 5.44l.94 2.06.94-2.06 2.06-.94-2.06-.94-.94-2.06-.94 2.06-2.06.94zm-11 1L8.5 8.5l.94-2.06 2.06-.94-2.06-.94L8.5 2.5l-.94 2.06-2.06.94zm10 10l.94 2.06.94-2.06 2.06-.94-2.06-.94-.94-2.06-.94 2.06-2.06.94z\"/><path d=\"M17.41 7.96l-1.37-1.37c-.4-.4-.92-.59-1.43-.59-.52 0-1.04.2-1.43.59L10.3 9.45l-7.72 7.72c-.78.78-.78 2.05 0 2.83L4 21.41c.39.39.9.59 1.41.59.51 0 1.02-.2 1.41-.59l7.78-7.78 2.81-2.81c.8-.78.8-2.07 0-2.86zM5.41 20L4 18.59l7.72-7.72 1.47 1.35L5.41 20z\"/>\n",
              "  </svg>\n",
              "      </button>\n",
              "      \n",
              "  <style>\n",
              "    .colab-df-container {\n",
              "      display:flex;\n",
              "      flex-wrap:wrap;\n",
              "      gap: 12px;\n",
              "    }\n",
              "\n",
              "    .colab-df-convert {\n",
              "      background-color: #E8F0FE;\n",
              "      border: none;\n",
              "      border-radius: 50%;\n",
              "      cursor: pointer;\n",
              "      display: none;\n",
              "      fill: #1967D2;\n",
              "      height: 32px;\n",
              "      padding: 0 0 0 0;\n",
              "      width: 32px;\n",
              "    }\n",
              "\n",
              "    .colab-df-convert:hover {\n",
              "      background-color: #E2EBFA;\n",
              "      box-shadow: 0px 1px 2px rgba(60, 64, 67, 0.3), 0px 1px 3px 1px rgba(60, 64, 67, 0.15);\n",
              "      fill: #174EA6;\n",
              "    }\n",
              "\n",
              "    [theme=dark] .colab-df-convert {\n",
              "      background-color: #3B4455;\n",
              "      fill: #D2E3FC;\n",
              "    }\n",
              "\n",
              "    [theme=dark] .colab-df-convert:hover {\n",
              "      background-color: #434B5C;\n",
              "      box-shadow: 0px 1px 3px 1px rgba(0, 0, 0, 0.15);\n",
              "      filter: drop-shadow(0px 1px 2px rgba(0, 0, 0, 0.3));\n",
              "      fill: #FFFFFF;\n",
              "    }\n",
              "  </style>\n",
              "\n",
              "      <script>\n",
              "        const buttonEl =\n",
              "          document.querySelector('#df-22447ca0-0f23-457d-8f2b-09b219e4cba2 button.colab-df-convert');\n",
              "        buttonEl.style.display =\n",
              "          google.colab.kernel.accessAllowed ? 'block' : 'none';\n",
              "\n",
              "        async function convertToInteractive(key) {\n",
              "          const element = document.querySelector('#df-22447ca0-0f23-457d-8f2b-09b219e4cba2');\n",
              "          const dataTable =\n",
              "            await google.colab.kernel.invokeFunction('convertToInteractive',\n",
              "                                                     [key], {});\n",
              "          if (!dataTable) return;\n",
              "\n",
              "          const docLinkHtml = 'Like what you see? Visit the ' +\n",
              "            '<a target=\"_blank\" href=https://colab.research.google.com/notebooks/data_table.ipynb>data table notebook</a>'\n",
              "            + ' to learn more about interactive tables.';\n",
              "          element.innerHTML = '';\n",
              "          dataTable['output_type'] = 'display_data';\n",
              "          await google.colab.output.renderOutput(dataTable, element);\n",
              "          const docLink = document.createElement('div');\n",
              "          docLink.innerHTML = docLinkHtml;\n",
              "          element.appendChild(docLink);\n",
              "        }\n",
              "      </script>\n",
              "    </div>\n",
              "  </div>\n",
              "  "
            ],
            "text/plain": [
              "                                  Proposition  ...         Thématique\n",
              "recKbPHqDTXNPwYK0                      A jeun  ...        Vaccination\n",
              "rec1qTnfWxjhx6SBl  AME - Aide médicale d'État  ...        Vaccination\n",
              "rec0HgtD22F7TWM3W                       Abcès  ...  Médecine générale\n",
              "recGaRQGjV5qN3QBN                    Accident  ...        Vaccination\n",
              "rec3MxDq67MC982ng           Accident cérébral  ...        Vaccination\n",
              "reciexfGbNKvXzQg8                      Alcool  ...  Médecine générale\n",
              "recfY4uKkgK8Jp8GO                    Allergie  ...        Vaccination\n",
              "recSKSrXVLhDfMq6w        Allergie alimentaire  ...        Vaccination\n",
              "rectthHdPchXi1zr9     Allergie médicamenteuse  ...        Vaccination\n",
              "recHNzXfvWWm0Lwp8    Allergie à un médicament  ...        Vaccination\n",
              "\n",
              "[10 rows x 8 columns]"
            ]
          },
          "metadata": {},
          "execution_count": 53
        }
      ]
    },
    {
      "cell_type": "code",
      "source": [
        "def lookup_uid (uid):\n",
        "  try:\n",
        "    record = df_cc_fr.loc[df_cc_fr[\"uid\"]==uid][\"index\"].item()\n",
        "  except Exception as e:\n",
        "    list_no_uid.append(uid)\n",
        "    return uid\n",
        "  if record is not None:\n",
        "    return record"
      ],
      "metadata": {
        "id": "BxowEm56s5S7"
      },
      "execution_count": null,
      "outputs": []
    },
    {
      "cell_type": "code",
      "source": [
        "x = df_cc_fr.loc[df_cc_fr[\"uid\"]==\"72f0e8db\"][\"index\"].item()"
      ],
      "metadata": {
        "id": "Up-l6grOtVx0"
      },
      "execution_count": null,
      "outputs": []
    },
    {
      "cell_type": "code",
      "source": [
        "list_no_uid = [] # uid non présents côté central = mots à créer\n",
        "df['UID'] = df['UID'].apply(lambda x: make_unique_id() if pd.isna(x) else x)\n",
        "df.idx_cor = df['UID'].apply(lambda x: lookup_uid(x))"
      ],
      "metadata": {
        "id": "ezaiOPYlx9Mg"
      },
      "execution_count": null,
      "outputs": []
    },
    {
      "cell_type": "markdown",
      "source": [
        "convert the dataframe to a dictionary of dictionaries."
      ],
      "metadata": {
        "id": "ki6AHtiKT7L6"
      }
    },
    {
      "cell_type": "code",
      "source": [
        "df.tail()"
      ],
      "metadata": {
        "colab": {
          "base_uri": "https://localhost:8080/",
          "height": 206
        },
        "id": "Np075CkxXZNq",
        "outputId": "74f61a36-bead-4913-e5d2-1fd294c90fe7"
      },
      "execution_count": null,
      "outputs": [
        {
          "output_type": "execute_result",
          "data": {
            "text/html": [
              "\n",
              "  <div id=\"df-c6325ba4-794c-4b44-8943-a1e2fcc92c87\">\n",
              "    <div class=\"colab-df-container\">\n",
              "      <div>\n",
              "<style scoped>\n",
              "    .dataframe tbody tr th:only-of-type {\n",
              "        vertical-align: middle;\n",
              "    }\n",
              "\n",
              "    .dataframe tbody tr th {\n",
              "        vertical-align: top;\n",
              "    }\n",
              "\n",
              "    .dataframe thead th {\n",
              "        text-align: right;\n",
              "    }\n",
              "</style>\n",
              "<table border=\"1\" class=\"dataframe\">\n",
              "  <thead>\n",
              "    <tr style=\"text-align: right;\">\n",
              "      <th></th>\n",
              "      <th>Proposition</th>\n",
              "      <th>UID</th>\n",
              "      <th>Name ID</th>\n",
              "      <th>DEPENDANCE</th>\n",
              "      <th>idx</th>\n",
              "      <th>idx_cor</th>\n",
              "      <th>Statut</th>\n",
              "      <th>Thématique</th>\n",
              "    </tr>\n",
              "  </thead>\n",
              "  <tbody>\n",
              "    <tr>\n",
              "      <th>recia1L6nICYg6LJ8</th>\n",
              "      <td>Zona</td>\n",
              "      <td>d3dba8e4</td>\n",
              "      <td>recia1L6nICYg6LJ8</td>\n",
              "      <td>NaN</td>\n",
              "      <td>NaN</td>\n",
              "      <td>Z</td>\n",
              "      <td>NaN</td>\n",
              "      <td>Vaccination</td>\n",
              "    </tr>\n",
              "    <tr>\n",
              "      <th>recVvIHdNWf80zvsG</th>\n",
              "      <td>À quelle moment de la journée vous prenez le m...</td>\n",
              "      <td>0f86d1ef</td>\n",
              "      <td>recVvIHdNWf80zvsG</td>\n",
              "      <td>[recOivQOmeragygVr]</td>\n",
              "      <td>M</td>\n",
              "      <td>0f86d1ef</td>\n",
              "      <td>Ramona</td>\n",
              "      <td>Médecine générale</td>\n",
              "    </tr>\n",
              "    <tr>\n",
              "      <th>recWp0rajm2qKcJuF</th>\n",
              "      <td>Êtes vous vacciné (e) ?</td>\n",
              "      <td>c5df267a</td>\n",
              "      <td>recWp0rajm2qKcJuF</td>\n",
              "      <td>NaN</td>\n",
              "      <td>NaN</td>\n",
              "      <td>Ê</td>\n",
              "      <td>NaN</td>\n",
              "      <td>Médecine générale</td>\n",
              "    </tr>\n",
              "    <tr>\n",
              "      <th>recBY5NXGM8UtBcaX</th>\n",
              "      <td>Êtes-vous enceinte ?</td>\n",
              "      <td>7768882c</td>\n",
              "      <td>recBY5NXGM8UtBcaX</td>\n",
              "      <td>NaN</td>\n",
              "      <td>NaN</td>\n",
              "      <td>Ê</td>\n",
              "      <td>NaN</td>\n",
              "      <td>Médecine générale</td>\n",
              "    </tr>\n",
              "    <tr>\n",
              "      <th>reczy8Os5Hc3qZ1yA</th>\n",
              "      <td>Œdème</td>\n",
              "      <td>72f0e8db</td>\n",
              "      <td>reczy8Os5Hc3qZ1yA</td>\n",
              "      <td>NaN</td>\n",
              "      <td>NaN</td>\n",
              "      <td>Œ</td>\n",
              "      <td>NaN</td>\n",
              "      <td>Médecine générale</td>\n",
              "    </tr>\n",
              "  </tbody>\n",
              "</table>\n",
              "</div>\n",
              "      <button class=\"colab-df-convert\" onclick=\"convertToInteractive('df-c6325ba4-794c-4b44-8943-a1e2fcc92c87')\"\n",
              "              title=\"Convert this dataframe to an interactive table.\"\n",
              "              style=\"display:none;\">\n",
              "        \n",
              "  <svg xmlns=\"http://www.w3.org/2000/svg\" height=\"24px\"viewBox=\"0 0 24 24\"\n",
              "       width=\"24px\">\n",
              "    <path d=\"M0 0h24v24H0V0z\" fill=\"none\"/>\n",
              "    <path d=\"M18.56 5.44l.94 2.06.94-2.06 2.06-.94-2.06-.94-.94-2.06-.94 2.06-2.06.94zm-11 1L8.5 8.5l.94-2.06 2.06-.94-2.06-.94L8.5 2.5l-.94 2.06-2.06.94zm10 10l.94 2.06.94-2.06 2.06-.94-2.06-.94-.94-2.06-.94 2.06-2.06.94z\"/><path d=\"M17.41 7.96l-1.37-1.37c-.4-.4-.92-.59-1.43-.59-.52 0-1.04.2-1.43.59L10.3 9.45l-7.72 7.72c-.78.78-.78 2.05 0 2.83L4 21.41c.39.39.9.59 1.41.59.51 0 1.02-.2 1.41-.59l7.78-7.78 2.81-2.81c.8-.78.8-2.07 0-2.86zM5.41 20L4 18.59l7.72-7.72 1.47 1.35L5.41 20z\"/>\n",
              "  </svg>\n",
              "      </button>\n",
              "      \n",
              "  <style>\n",
              "    .colab-df-container {\n",
              "      display:flex;\n",
              "      flex-wrap:wrap;\n",
              "      gap: 12px;\n",
              "    }\n",
              "\n",
              "    .colab-df-convert {\n",
              "      background-color: #E8F0FE;\n",
              "      border: none;\n",
              "      border-radius: 50%;\n",
              "      cursor: pointer;\n",
              "      display: none;\n",
              "      fill: #1967D2;\n",
              "      height: 32px;\n",
              "      padding: 0 0 0 0;\n",
              "      width: 32px;\n",
              "    }\n",
              "\n",
              "    .colab-df-convert:hover {\n",
              "      background-color: #E2EBFA;\n",
              "      box-shadow: 0px 1px 2px rgba(60, 64, 67, 0.3), 0px 1px 3px 1px rgba(60, 64, 67, 0.15);\n",
              "      fill: #174EA6;\n",
              "    }\n",
              "\n",
              "    [theme=dark] .colab-df-convert {\n",
              "      background-color: #3B4455;\n",
              "      fill: #D2E3FC;\n",
              "    }\n",
              "\n",
              "    [theme=dark] .colab-df-convert:hover {\n",
              "      background-color: #434B5C;\n",
              "      box-shadow: 0px 1px 3px 1px rgba(0, 0, 0, 0.15);\n",
              "      filter: drop-shadow(0px 1px 2px rgba(0, 0, 0, 0.3));\n",
              "      fill: #FFFFFF;\n",
              "    }\n",
              "  </style>\n",
              "\n",
              "      <script>\n",
              "        const buttonEl =\n",
              "          document.querySelector('#df-c6325ba4-794c-4b44-8943-a1e2fcc92c87 button.colab-df-convert');\n",
              "        buttonEl.style.display =\n",
              "          google.colab.kernel.accessAllowed ? 'block' : 'none';\n",
              "\n",
              "        async function convertToInteractive(key) {\n",
              "          const element = document.querySelector('#df-c6325ba4-794c-4b44-8943-a1e2fcc92c87');\n",
              "          const dataTable =\n",
              "            await google.colab.kernel.invokeFunction('convertToInteractive',\n",
              "                                                     [key], {});\n",
              "          if (!dataTable) return;\n",
              "\n",
              "          const docLinkHtml = 'Like what you see? Visit the ' +\n",
              "            '<a target=\"_blank\" href=https://colab.research.google.com/notebooks/data_table.ipynb>data table notebook</a>'\n",
              "            + ' to learn more about interactive tables.';\n",
              "          element.innerHTML = '';\n",
              "          dataTable['output_type'] = 'display_data';\n",
              "          await google.colab.output.renderOutput(dataTable, element);\n",
              "          const docLink = document.createElement('div');\n",
              "          docLink.innerHTML = docLinkHtml;\n",
              "          element.appendChild(docLink);\n",
              "        }\n",
              "      </script>\n",
              "    </div>\n",
              "  </div>\n",
              "  "
            ],
            "text/plain": [
              "                                                         Proposition  ...         Thématique\n",
              "recia1L6nICYg6LJ8                                               Zona  ...        Vaccination\n",
              "recVvIHdNWf80zvsG  À quelle moment de la journée vous prenez le m...  ...  Médecine générale\n",
              "recWp0rajm2qKcJuF                            Êtes vous vacciné (e) ?  ...  Médecine générale\n",
              "recBY5NXGM8UtBcaX                               Êtes-vous enceinte ?  ...  Médecine générale\n",
              "reczy8Os5Hc3qZ1yA                                              Œdème  ...  Médecine générale\n",
              "\n",
              "[5 rows x 8 columns]"
            ]
          },
          "metadata": {},
          "execution_count": 29
        }
      ]
    },
    {
      "cell_type": "code",
      "source": [
        "dict_records = df.tail().to_dict(orient=\"index\")"
      ],
      "metadata": {
        "id": "oyRHDXzvTHjA"
      },
      "execution_count": null,
      "outputs": []
    },
    {
      "cell_type": "code",
      "source": [
        "for record_id, upload_data in dict_records.items():\n",
        "  record_url = url + \"/\" + record_id\n",
        "  upload_dict = {\"records\" : [{\"fields\" : upload_data}]}\n",
        "  upload_json = json.dumps(upload_dict)\n",
        "  requests.post(url, data=upload_json, headers=headers)"
      ],
      "metadata": {
        "id": "5XBfgW3PUrdN"
      },
      "execution_count": null,
      "outputs": []
    },
    {
      "cell_type": "code",
      "source": [
        "headers"
      ],
      "metadata": {
        "colab": {
          "base_uri": "https://localhost:8080/"
        },
        "id": "mbWEXLZUcxSM",
        "outputId": "326a70ec-87e8-456c-c5ff-50757bd4f8cd"
      },
      "execution_count": null,
      "outputs": [
        {
          "output_type": "execute_result",
          "data": {
            "text/plain": [
              "{'Authorization': 'Bearer keyrI98TIqu6mbFcf',\n",
              " 'Content-Type': 'application/json'}"
            ]
          },
          "metadata": {},
          "execution_count": 55
        }
      ]
    },
    {
      "cell_type": "code",
      "source": [
        "requests.patch(url, data=upload_json, headers=headers)"
      ],
      "metadata": {
        "colab": {
          "base_uri": "https://localhost:8080/"
        },
        "id": "o8n3oC8sXz_q",
        "outputId": "59ca8181-c67e-413c-9303-4a95a1bb0cb3"
      },
      "execution_count": null,
      "outputs": [
        {
          "output_type": "execute_result",
          "data": {
            "text/plain": [
              "<Response [422]>"
            ]
          },
          "metadata": {},
          "execution_count": 67
        }
      ]
    },
    {
      "cell_type": "code",
      "source": [
        "upload_json='{\"records\": [{\"fields\": {\"Proposition\": \"OEDEME\", \"id\": \"reczy8Os5Hc3qZ1yA\"}}]}'"
      ],
      "metadata": {
        "id": "4z1Tka3Het97"
      },
      "execution_count": null,
      "outputs": []
    },
    {
      "cell_type": "code",
      "source": [
        "requests.post(record_url, data=upload_json, headers=headers)"
      ],
      "metadata": {
        "colab": {
          "base_uri": "https://localhost:8080/"
        },
        "id": "kz8cAEx3WRM6",
        "outputId": "d7947213-1e29-4af2-ed81-713ad4be7262"
      },
      "execution_count": null,
      "outputs": [
        {
          "output_type": "execute_result",
          "data": {
            "text/plain": [
              "<Response [404]>"
            ]
          },
          "metadata": {},
          "execution_count": 69
        }
      ]
    },
    {
      "cell_type": "code",
      "metadata": {
        "id": "ZDtjJZDO-REI"
      },
      "source": [
        "def fmt_table(wb, nom_onglet):\n",
        "  # onglet\n",
        "  ws = wb.worksheet(nom_onglet)\n",
        "\n",
        "  # Format de la partie gauche\n",
        "  fmt = cellFormat(\n",
        "      backgroundColor=color(0.91, 0.96, 0.93),\n",
        "      textFormat=textFormat(bold=False, foregroundColor=color(0,0,0), fontSize='10'),\n",
        "      horizontalAlignment='LEFT'\n",
        "      )\n",
        "  format_cell_range(ws, 'A:', fmt)\n",
        "\n",
        "  # format de l'entete\n",
        "  fmt = cellFormat(\n",
        "      backgroundColor=color(0.7725,0.8431,0.7922),\n",
        "      textFormat=textFormat(bold=True, foregroundColor=color(0,0,0), fontSize='10'),\n",
        "      horizontalAlignment='LEFT'\n",
        "      )\n",
        "  format_cell_range(ws, '1', fmt)\n",
        "  \n",
        "  # format de l'auto wrap\n",
        "  fmt = cellFormat(\n",
        "      wrapStrategy='WRAP'\n",
        "      )\n",
        "  format_cell_range(ws, 'B:C', fmt)\n",
        "\n",
        "  # on gèle l'entete et les colonnes de gauche\n",
        "  set_frozen(ws, rows=1, cols=1)\n",
        "  set_column_width(ws, 'A:C', 500)\n"
      ],
      "execution_count": null,
      "outputs": []
    },
    {
      "cell_type": "code",
      "metadata": {
        "id": "CsC901Jt9y3L"
      },
      "source": [
        "nom_onglet = 'Liste'\n",
        "# si l'onglet existe déjà\n",
        "try:\n",
        "  ws = wb.worksheet(nom_onglet)\n",
        "  wb.del_worksheet(ws)\n",
        "except:\n",
        "  print (\"Onglet inexistant !\")\n",
        "\n",
        "wb.add_worksheet(nom_onglet, 1, 1)\n",
        "export_sheet = wb.worksheet(nom_onglet)\n",
        "set_with_dataframe(export_sheet, df)\n",
        "fmt_table(wb,nom_onglet)\n"
      ],
      "execution_count": null,
      "outputs": []
    },
    {
      "cell_type": "code",
      "metadata": {
        "id": "UKh-k1rvN46E"
      },
      "source": [
        "table_name = 'Structure'\n",
        "url = \"https://api.airtable.com/v0/\" + base_id + \"/\" + table_name"
      ],
      "execution_count": null,
      "outputs": []
    },
    {
      "cell_type": "code",
      "metadata": {
        "id": "TEUOFK-KVDV5",
        "colab": {
          "base_uri": "https://localhost:8080/",
          "height": 297
        },
        "outputId": "78664522-8f30-4092-f0c9-622ba77be86c"
      },
      "source": [
        "df"
      ],
      "execution_count": null,
      "outputs": [
        {
          "output_type": "execute_result",
          "data": {
            "text/html": [
              "<div>\n",
              "<style scoped>\n",
              "    .dataframe tbody tr th:only-of-type {\n",
              "        vertical-align: middle;\n",
              "    }\n",
              "\n",
              "    .dataframe tbody tr th {\n",
              "        vertical-align: top;\n",
              "    }\n",
              "\n",
              "    .dataframe thead th {\n",
              "        text-align: right;\n",
              "    }\n",
              "</style>\n",
              "<table border=\"1\" class=\"dataframe\">\n",
              "  <thead>\n",
              "    <tr style=\"text-align: right;\">\n",
              "      <th></th>\n",
              "      <th>Name</th>\n",
              "      <th>Situation de départ</th>\n",
              "      <th>Notes</th>\n",
              "    </tr>\n",
              "  </thead>\n",
              "  <tbody>\n",
              "    <tr>\n",
              "      <th>recnI80hvydv71fs4</th>\n",
              "      <td>0.Conception</td>\n",
              "      <td>Plus on possède, plus on est soi-même possédé....</td>\n",
              "      <td>Trouver le plaisir d’écrire. Partir d’idées, d...</td>\n",
              "    </tr>\n",
              "    <tr>\n",
              "      <th>recI2pgkNq2iP52rm</th>\n",
              "      <td>1.Situation initiale</td>\n",
              "      <td>Un jour d'été où il pleut et fait un temps abo...</td>\n",
              "      <td>Une vengeance d'une femme éconduite lors d'un ...</td>\n",
              "    </tr>\n",
              "    <tr>\n",
              "      <th>recb2DqhB9GvfI12n</th>\n",
              "      <td>2.Personnage</td>\n",
              "      <td>Un homme (marié ?) qui a donné rendez-vous à u...</td>\n",
              "      <td>Un Dom Juan sûr de son charme et imbu de sa pe...</td>\n",
              "    </tr>\n",
              "    <tr>\n",
              "      <th>recNLdU01JpCnvknJ</th>\n",
              "      <td>3.Acte déclencheur</td>\n",
              "      <td>La femme lui propose un jeu. Elle est dans le ...</td>\n",
              "      <td>NaN</td>\n",
              "    </tr>\n",
              "    <tr>\n",
              "      <th>recRxZVhpSPD6oQXx</th>\n",
              "      <td>4.Réaction</td>\n",
              "      <td>L'homme est d'abord tenté de partir car il est...</td>\n",
              "      <td>NaN</td>\n",
              "    </tr>\n",
              "    <tr>\n",
              "      <th>recRr06fOM4hGGaLY</th>\n",
              "      <td>5.Péripéties</td>\n",
              "      <td>Pendant la visite (ennuyeuse), l'homme tente d...</td>\n",
              "      <td>NaN</td>\n",
              "    </tr>\n",
              "    <tr>\n",
              "      <th>recvWnAYn9VNySVlB</th>\n",
              "      <td>6.Chute</td>\n",
              "      <td>Un spectacle où une partie du public est appel...</td>\n",
              "      <td>NaN</td>\n",
              "    </tr>\n",
              "    <tr>\n",
              "      <th>recDmZtMMNmiy7R0M</th>\n",
              "      <td>Récit</td>\n",
              "      <td>NaN</td>\n",
              "      <td>NaN</td>\n",
              "    </tr>\n",
              "  </tbody>\n",
              "</table>\n",
              "</div>"
            ],
            "text/plain": [
              "                                   Name  ...                                              Notes\n",
              "recnI80hvydv71fs4          0.Conception  ...  Trouver le plaisir d’écrire. Partir d’idées, d...\n",
              "recI2pgkNq2iP52rm  1.Situation initiale  ...  Une vengeance d'une femme éconduite lors d'un ...\n",
              "recb2DqhB9GvfI12n          2.Personnage  ...  Un Dom Juan sûr de son charme et imbu de sa pe...\n",
              "recNLdU01JpCnvknJ    3.Acte déclencheur  ...                                                NaN\n",
              "recRxZVhpSPD6oQXx            4.Réaction  ...                                                NaN\n",
              "recRr06fOM4hGGaLY          5.Péripéties  ...                                                NaN\n",
              "recvWnAYn9VNySVlB               6.Chute  ...                                                NaN\n",
              "recDmZtMMNmiy7R0M                 Récit  ...                                                NaN\n",
              "\n",
              "[8 rows x 3 columns]"
            ]
          },
          "metadata": {},
          "execution_count": 11
        }
      ]
    },
    {
      "cell_type": "code",
      "metadata": {
        "id": "TISNw9MItvH6"
      },
      "source": [],
      "execution_count": null,
      "outputs": []
    }
  ]
}