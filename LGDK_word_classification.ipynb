{
  "nbformat": 4,
  "nbformat_minor": 0,
  "metadata": {
    "colab": {
      "name": "LGDK-word_classification.ipynb",
      "provenance": [],
      "collapsed_sections": [],
      "authorship_tag": "ABX9TyN3Ueu/2xLDGXHYXC6mhF1o",
      "include_colab_link": true
    },
    "kernelspec": {
      "name": "python3",
      "display_name": "Python 3"
    },
    "language_info": {
      "name": "python"
    }
  },
  "cells": [
    {
      "cell_type": "markdown",
      "metadata": {
        "id": "view-in-github",
        "colab_type": "text"
      },
      "source": [
        "<a href=\"https://colab.research.google.com/github/gretiere545/langdeck/blob/main/LGDK_word_classification.ipynb\" target=\"_parent\"><img src=\"https://colab.research.google.com/assets/colab-badge.svg\" alt=\"Open In Colab\"/></a>"
      ]
    },
    {
      "cell_type": "markdown",
      "source": [
        "# Classification des mots"
      ],
      "metadata": {
        "id": "O5Jj20UOsw3l"
      }
    },
    {
      "cell_type": "code",
      "metadata": {
        "colab": {
          "base_uri": "https://localhost:8080/"
        },
        "id": "_5CoZ3ORv3Bh",
        "outputId": "00e1cd84-3a74-4f85-d9e6-fd9cd1d1565c"
      },
      "source": [
        "#!/usr/bin/env python\n",
        "# -*- coding: utf8 -*-\n",
        "import json\n",
        "# Ce bout de code pour pouvoir downloader des fichiers sur le drive\n",
        "from google.colab import drive\n",
        "drive.mount('/content/drive')\n",
        "%cd /content/drive/MyDrive/Trad-Union/Corpus/ASAMLA\n",
        "from google.colab import files\n",
        "# Pandas\n",
        "import pandas as pd\n",
        "import numpy as np\n",
        "\n",
        "# Airtable API\n",
        "!pip install airtable-python-wrapper\n",
        "from airtable import Airtable\n",
        "\n",
        "import uuid\n",
        "\n",
        "!export PYTHONIOENCODING=utf8"
      ],
      "execution_count": 97,
      "outputs": [
        {
          "output_type": "stream",
          "name": "stdout",
          "text": [
            "Drive already mounted at /content/drive; to attempt to forcibly remount, call drive.mount(\"/content/drive\", force_remount=True).\n",
            "/content/drive/MyDrive/Trad-Union/Corpus/ASAMLA\n",
            "Looking in indexes: https://pypi.org/simple, https://us-python.pkg.dev/colab-wheels/public/simple/\n",
            "Requirement already satisfied: airtable-python-wrapper in /usr/local/lib/python3.7/dist-packages (0.15.3)\n",
            "Requirement already satisfied: requests>=2 in /usr/local/lib/python3.7/dist-packages (from airtable-python-wrapper) (2.23.0)\n",
            "Requirement already satisfied: idna<3,>=2.5 in /usr/local/lib/python3.7/dist-packages (from requests>=2->airtable-python-wrapper) (2.10)\n",
            "Requirement already satisfied: urllib3!=1.25.0,!=1.25.1,<1.26,>=1.21.1 in /usr/local/lib/python3.7/dist-packages (from requests>=2->airtable-python-wrapper) (1.24.3)\n",
            "Requirement already satisfied: chardet<4,>=3.0.2 in /usr/local/lib/python3.7/dist-packages (from requests>=2->airtable-python-wrapper) (3.0.4)\n",
            "Requirement already satisfied: certifi>=2017.4.17 in /usr/local/lib/python3.7/dist-packages (from requests>=2->airtable-python-wrapper) (2022.6.15)\n"
          ]
        }
      ]
    },
    {
      "cell_type": "code",
      "source": [
        "# sauvegarde du fichier de paramétrage\n",
        "'''\n",
        "with open(cfg, 'w') as f:\n",
        "    json.dump(vk_lang, f)  \n",
        "'''"
      ],
      "metadata": {
        "colab": {
          "base_uri": "https://localhost:8080/",
          "height": 36
        },
        "id": "WxxoGcBGt6Yt",
        "outputId": "6a69a406-96f9-4053-f6ea-1ef805888cb0"
      },
      "execution_count": null,
      "outputs": [
        {
          "output_type": "execute_result",
          "data": {
            "text/plain": [
              "\"\\nwith open(cfg, 'w') as f:\\n    json.dump(vk_lang, f)  \\n\""
            ],
            "application/vnd.google.colaboratory.intrinsic+json": {
              "type": "string"
            }
          },
          "metadata": {},
          "execution_count": 4
        }
      ]
    },
    {
      "cell_type": "code",
      "source": [
        "cfg = 'med_vac_synthese.json'\n",
        "vk_lang=[]\n",
        "try:\n",
        "  with open(cfg) as f:\n",
        "      vk_lang = json.load(f)\n",
        "except BaseException as e:\n",
        "  print(e)\n"
      ],
      "metadata": {
        "id": "TVvPcInktFTm"
      },
      "execution_count": null,
      "outputs": []
    },
    {
      "cell_type": "markdown",
      "source": [
        "Accès à un élément"
      ],
      "metadata": {
        "id": "KLToeOhq8ZQc"
      }
    },
    {
      "cell_type": "code",
      "source": [
        "(k,v) = (\"trigramme\",\"rus\")\n",
        "list(filter(lambda x : x[k]==v, vk_lang))"
      ],
      "metadata": {
        "id": "09hTSyO-8chK"
      },
      "execution_count": null,
      "outputs": []
    },
    {
      "cell_type": "markdown",
      "source": [
        "Modifier un élément"
      ],
      "metadata": {
        "id": "DCEG4-v9_8bq"
      }
    },
    {
      "cell_type": "code",
      "source": [
        "(k,v) = (\"trigramme\",\"arm\")\n",
        "r = list(filter(lambda x : x[k]==v, vk_lang))[0]\n",
        "r[\"update\"] = \"true\"\n"
      ],
      "metadata": {
        "id": "MPPwHxcW__-k"
      },
      "execution_count": null,
      "outputs": []
    },
    {
      "cell_type": "markdown",
      "source": [
        "API Google"
      ],
      "metadata": {
        "id": "cRFcuS6bvINl"
      }
    },
    {
      "cell_type": "code",
      "source": [
        "api_key_gmail = \"keysgpJWq3aWwqSZe\""
      ],
      "metadata": {
        "id": "GZQgX0vlvJ60"
      },
      "execution_count": null,
      "outputs": []
    },
    {
      "cell_type": "markdown",
      "source": [
        "API Airtable"
      ],
      "metadata": {
        "id": "TvlPXYWGu6J8"
      }
    },
    {
      "cell_type": "code",
      "source": [
        "(api_key, base_id, table_name) = (\"keyrI98TIqu6mbFcf\",\"appawT3gg7cJhPYv0\",\"Corpus\")\n",
        "headers = {\"Authorization\": \"Bearer \" + api_key,\"Content-Type\" : \"application/json\"}"
      ],
      "metadata": {
        "id": "6aiabK-mF7bg"
      },
      "execution_count": null,
      "outputs": []
    },
    {
      "cell_type": "markdown",
      "source": [
        "Ouverture d'une table Airtable"
      ],
      "metadata": {
        "id": "PxZnrOBgvTGu"
      }
    },
    {
      "cell_type": "code",
      "source": [
        "airtable = Airtable(base_id, table_name, api_key)"
      ],
      "metadata": {
        "id": "BOO7U6QMIUQU"
      },
      "execution_count": null,
      "outputs": []
    },
    {
      "cell_type": "code",
      "source": [
        "vk_air_corpus = airtable.get_all(view='Admin',sort='Proposition')\n",
        "df_air_corpus = pd.DataFrame.from_records((r['fields'] for r in vk_air_corpus))"
      ],
      "metadata": {
        "id": "TgzlauQQvMCF"
      },
      "execution_count": null,
      "outputs": []
    },
    {
      "cell_type": "markdown",
      "source": [
        "Recherche d'un mot dans la base Corpus"
      ],
      "metadata": {
        "id": "stIlz_H5v_Iu"
      }
    },
    {
      "cell_type": "code",
      "source": [
        "vk_air_corpus[1]"
      ],
      "metadata": {
        "id": "WUGzsw3FzT4u"
      },
      "execution_count": null,
      "outputs": []
    },
    {
      "cell_type": "code",
      "source": [
        "(k,v) = (\"Proposition\",\"Vue\")\n",
        "found = list(filter(lambda x:v.lower() in x[\"fields\"][k].lower(),vk_air_corpus))"
      ],
      "metadata": {
        "id": "4Q2HQYObyf23"
      },
      "execution_count": 89,
      "outputs": []
    },
    {
      "cell_type": "code",
      "source": [
        "df_air_corpus.loc[df_air_corpus[k].map(lambda x:x.lower()).str.contains(v.lower())]"
      ],
      "metadata": {
        "colab": {
          "base_uri": "https://localhost:8080/",
          "height": 160
        },
        "id": "2JKhMIc8SmrI",
        "outputId": "0f911da5-12a2-49a6-c10d-d84be335a3c4"
      },
      "execution_count": 91,
      "outputs": [
        {
          "output_type": "execute_result",
          "data": {
            "text/plain": [
              "Empty DataFrame\n",
              "Columns: [Proposition, CATEGRAM, DEPENDANCE, idx_cor, TYPE, UID, Thématique, MedGen, Variations, Séquence, Fiche, Ordre, ams, tig, pol, Maitre, Tildation, Pivot, pivot_en, lastModified, Name ID, tur, rou, hun, AppendToCorpus, eng, rus, ukr, alb, geo, arm, dar, pst, prs, esp, Updates, Phrase Assoc, Définition, Corpus copy, DOMAINE, Exp Assoc]\n",
              "Index: []\n",
              "\n",
              "[0 rows x 41 columns]"
            ],
            "text/html": [
              "\n",
              "  <div id=\"df-674d2696-4a52-4aaa-b0c6-d1335ee19bd2\">\n",
              "    <div class=\"colab-df-container\">\n",
              "      <div>\n",
              "<style scoped>\n",
              "    .dataframe tbody tr th:only-of-type {\n",
              "        vertical-align: middle;\n",
              "    }\n",
              "\n",
              "    .dataframe tbody tr th {\n",
              "        vertical-align: top;\n",
              "    }\n",
              "\n",
              "    .dataframe thead th {\n",
              "        text-align: right;\n",
              "    }\n",
              "</style>\n",
              "<table border=\"1\" class=\"dataframe\">\n",
              "  <thead>\n",
              "    <tr style=\"text-align: right;\">\n",
              "      <th></th>\n",
              "      <th>Proposition</th>\n",
              "      <th>CATEGRAM</th>\n",
              "      <th>DEPENDANCE</th>\n",
              "      <th>idx_cor</th>\n",
              "      <th>TYPE</th>\n",
              "      <th>UID</th>\n",
              "      <th>Thématique</th>\n",
              "      <th>MedGen</th>\n",
              "      <th>Variations</th>\n",
              "      <th>Séquence</th>\n",
              "      <th>...</th>\n",
              "      <th>dar</th>\n",
              "      <th>pst</th>\n",
              "      <th>prs</th>\n",
              "      <th>esp</th>\n",
              "      <th>Updates</th>\n",
              "      <th>Phrase Assoc</th>\n",
              "      <th>Définition</th>\n",
              "      <th>Corpus copy</th>\n",
              "      <th>DOMAINE</th>\n",
              "      <th>Exp Assoc</th>\n",
              "    </tr>\n",
              "  </thead>\n",
              "  <tbody>\n",
              "  </tbody>\n",
              "</table>\n",
              "<p>0 rows × 41 columns</p>\n",
              "</div>\n",
              "      <button class=\"colab-df-convert\" onclick=\"convertToInteractive('df-674d2696-4a52-4aaa-b0c6-d1335ee19bd2')\"\n",
              "              title=\"Convert this dataframe to an interactive table.\"\n",
              "              style=\"display:none;\">\n",
              "        \n",
              "  <svg xmlns=\"http://www.w3.org/2000/svg\" height=\"24px\"viewBox=\"0 0 24 24\"\n",
              "       width=\"24px\">\n",
              "    <path d=\"M0 0h24v24H0V0z\" fill=\"none\"/>\n",
              "    <path d=\"M18.56 5.44l.94 2.06.94-2.06 2.06-.94-2.06-.94-.94-2.06-.94 2.06-2.06.94zm-11 1L8.5 8.5l.94-2.06 2.06-.94-2.06-.94L8.5 2.5l-.94 2.06-2.06.94zm10 10l.94 2.06.94-2.06 2.06-.94-2.06-.94-.94-2.06-.94 2.06-2.06.94z\"/><path d=\"M17.41 7.96l-1.37-1.37c-.4-.4-.92-.59-1.43-.59-.52 0-1.04.2-1.43.59L10.3 9.45l-7.72 7.72c-.78.78-.78 2.05 0 2.83L4 21.41c.39.39.9.59 1.41.59.51 0 1.02-.2 1.41-.59l7.78-7.78 2.81-2.81c.8-.78.8-2.07 0-2.86zM5.41 20L4 18.59l7.72-7.72 1.47 1.35L5.41 20z\"/>\n",
              "  </svg>\n",
              "      </button>\n",
              "      \n",
              "  <style>\n",
              "    .colab-df-container {\n",
              "      display:flex;\n",
              "      flex-wrap:wrap;\n",
              "      gap: 12px;\n",
              "    }\n",
              "\n",
              "    .colab-df-convert {\n",
              "      background-color: #E8F0FE;\n",
              "      border: none;\n",
              "      border-radius: 50%;\n",
              "      cursor: pointer;\n",
              "      display: none;\n",
              "      fill: #1967D2;\n",
              "      height: 32px;\n",
              "      padding: 0 0 0 0;\n",
              "      width: 32px;\n",
              "    }\n",
              "\n",
              "    .colab-df-convert:hover {\n",
              "      background-color: #E2EBFA;\n",
              "      box-shadow: 0px 1px 2px rgba(60, 64, 67, 0.3), 0px 1px 3px 1px rgba(60, 64, 67, 0.15);\n",
              "      fill: #174EA6;\n",
              "    }\n",
              "\n",
              "    [theme=dark] .colab-df-convert {\n",
              "      background-color: #3B4455;\n",
              "      fill: #D2E3FC;\n",
              "    }\n",
              "\n",
              "    [theme=dark] .colab-df-convert:hover {\n",
              "      background-color: #434B5C;\n",
              "      box-shadow: 0px 1px 3px 1px rgba(0, 0, 0, 0.15);\n",
              "      filter: drop-shadow(0px 1px 2px rgba(0, 0, 0, 0.3));\n",
              "      fill: #FFFFFF;\n",
              "    }\n",
              "  </style>\n",
              "\n",
              "      <script>\n",
              "        const buttonEl =\n",
              "          document.querySelector('#df-674d2696-4a52-4aaa-b0c6-d1335ee19bd2 button.colab-df-convert');\n",
              "        buttonEl.style.display =\n",
              "          google.colab.kernel.accessAllowed ? 'block' : 'none';\n",
              "\n",
              "        async function convertToInteractive(key) {\n",
              "          const element = document.querySelector('#df-674d2696-4a52-4aaa-b0c6-d1335ee19bd2');\n",
              "          const dataTable =\n",
              "            await google.colab.kernel.invokeFunction('convertToInteractive',\n",
              "                                                     [key], {});\n",
              "          if (!dataTable) return;\n",
              "\n",
              "          const docLinkHtml = 'Like what you see? Visit the ' +\n",
              "            '<a target=\"_blank\" href=https://colab.research.google.com/notebooks/data_table.ipynb>data table notebook</a>'\n",
              "            + ' to learn more about interactive tables.';\n",
              "          element.innerHTML = '';\n",
              "          dataTable['output_type'] = 'display_data';\n",
              "          await google.colab.output.renderOutput(dataTable, element);\n",
              "          const docLink = document.createElement('div');\n",
              "          docLink.innerHTML = docLinkHtml;\n",
              "          element.appendChild(docLink);\n",
              "        }\n",
              "      </script>\n",
              "    </div>\n",
              "  </div>\n",
              "  "
            ]
          },
          "metadata": {},
          "execution_count": 91
        }
      ]
    },
    {
      "cell_type": "code",
      "source": [
        "aDict = {}\n",
        "aDict[k] = v\n",
        "aDict[\"idx_cor\"] = v[0].upper()\n",
        "aDict[\"UID\"] = str(uuid.uuid4())[:8]\n",
        "airtable.insert(aDict)"
      ],
      "metadata": {
        "colab": {
          "base_uri": "https://localhost:8080/"
        },
        "id": "_KQVcT2FSmoO",
        "outputId": "6121070b-feb0-438c-de8b-dcb50affadee"
      },
      "execution_count": 96,
      "outputs": [
        {
          "output_type": "execute_result",
          "data": {
            "text/plain": [
              "{'createdTime': '2022-06-18T15:06:10.000Z',\n",
              " 'fields': {'Name ID': 'recKBwNDXEp6HJEr6',\n",
              "  'Proposition': 'Vue',\n",
              "  'idx_cor': 'V',\n",
              "  'lastModified': '2022-06-18T15:06:10.000Z'},\n",
              " 'id': 'recKBwNDXEp6HJEr6'}"
            ]
          },
          "metadata": {},
          "execution_count": 96
        }
      ]
    },
    {
      "cell_type": "code",
      "source": [
        "new = [\"Rétine\",\"Menton\",\"Regardez droit devant vous!\",\"Lunettes\",\"J’ai cassé mes lunettes\",\"Opticien\"]"
      ],
      "metadata": {
        "id": "alxEUEWlwTEu"
      },
      "execution_count": 98,
      "outputs": []
    },
    {
      "cell_type": "code",
      "source": [
        "new_list=[]\n",
        "for v in new:\n",
        "  (k,v) = (\"Proposition\", v)\n",
        "  found = list(filter(lambda x:v.lower() in x[\"fields\"][k].lower(),vk_air_corpus))\n",
        "  new_list.append(found)"
      ],
      "metadata": {
        "id": "QjkouXkPZOOb"
      },
      "execution_count": 102,
      "outputs": []
    },
    {
      "cell_type": "code",
      "source": [
        "new_list"
      ],
      "metadata": {
        "colab": {
          "base_uri": "https://localhost:8080/"
        },
        "id": "BmVU-JoAZVzf",
        "outputId": "ed86fd77-b008-42d7-d256-4ce973440773"
      },
      "execution_count": 103,
      "outputs": [
        {
          "output_type": "execute_result",
          "data": {
            "text/plain": [
              "[[],\n",
              " [],\n",
              " [],\n",
              " [{'createdTime': '2021-12-13T16:26:28.000Z',\n",
              "   'fields': {'CATEGRAM': ['nf'],\n",
              "    'Maitre': 'Lunettes',\n",
              "    'Name ID': 'reckNoiMPnVxZKFxh',\n",
              "    'Ordre': 1,\n",
              "    'Pivot': 'Lunettes',\n",
              "    'Proposition': 'Lunettes',\n",
              "    'TYPE': 'vocabulaire',\n",
              "    'Thématique': ['Médecine générale'],\n",
              "    'Tildation': 'Lunettes',\n",
              "    'UID': '982a2b1e',\n",
              "    'ams': 'أمراض',\n",
              "    'idx_cor': 'L',\n",
              "    'lastModified': '2022-05-14T12:54:55.000Z',\n",
              "    'pivot_en': 'Lunettes',\n",
              "    'pol': 'Okulary',\n",
              "    'tig': 'ናይ ኣይኒ መነሰር'},\n",
              "   'id': 'reckNoiMPnVxZKFxh'}],\n",
              " [],\n",
              " []]"
            ]
          },
          "metadata": {},
          "execution_count": 103
        }
      ]
    },
    {
      "cell_type": "code",
      "source": [
        "new = [\"Rétine\",\"Menton\",\"Regardez droit devant vous!\",\"J’ai cassé mes lunettes\",\"Opticien\"]"
      ],
      "metadata": {
        "id": "Osa8uRVKaAmW"
      },
      "execution_count": 104,
      "outputs": []
    },
    {
      "cell_type": "code",
      "source": [
        "for v in new:\n",
        "  aDict = {}\n",
        "  aDict[k] = v\n",
        "  aDict[\"idx_cor\"] = v[0].upper()\n",
        "  aDict[\"UID\"] = str(uuid.uuid4())[:8]\n",
        "  aDict[\"AppendToCorpus\"] = True\n",
        "  airtable.insert(aDict)"
      ],
      "metadata": {
        "id": "Lam2SN3KaxsG"
      },
      "execution_count": 106,
      "outputs": []
    },
    {
      "cell_type": "code",
      "source": [
        ""
      ],
      "metadata": {
        "id": "8mdz0pcAa_aQ"
      },
      "execution_count": null,
      "outputs": []
    }
  ]
}