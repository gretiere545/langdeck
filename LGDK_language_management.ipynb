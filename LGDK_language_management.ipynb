{
  "nbformat": 4,
  "nbformat_minor": 0,
  "metadata": {
    "colab": {
      "name": "LGDK-language_management.ipynb",
      "provenance": [],
      "collapsed_sections": [],
      "toc_visible": true,
      "authorship_tag": "ABX9TyMnr0l59Qdwa79fDeR4RH2T",
      "include_colab_link": true
    },
    "kernelspec": {
      "name": "python3",
      "display_name": "Python 3"
    },
    "language_info": {
      "name": "python"
    }
  },
  "cells": [
    {
      "cell_type": "markdown",
      "metadata": {
        "id": "view-in-github",
        "colab_type": "text"
      },
      "source": [
        "<a href=\"https://colab.research.google.com/github/gretiere545/langdeck/blob/main/LGDK_language_management.ipynb\" target=\"_parent\"><img src=\"https://colab.research.google.com/assets/colab-badge.svg\" alt=\"Open In Colab\"/></a>"
      ]
    },
    {
      "cell_type": "markdown",
      "metadata": {
        "id": "FB29HktrvvBJ"
      },
      "source": [
        "# Corpus Airtable API"
      ]
    },
    {
      "cell_type": "code",
      "metadata": {
        "colab": {
          "base_uri": "https://localhost:8080/"
        },
        "id": "_5CoZ3ORv3Bh",
        "outputId": "362d87ab-fb4f-4a07-8f1b-3d4931f4c295"
      },
      "source": [
        "#!/usr/bin/env python\n",
        "# -*- coding: utf8 -*-\n",
        "import json\n",
        "# Ce bout de code pour pouvoir downloader des fichiers sur le drive\n",
        "from google.colab import drive\n",
        "drive.mount('/content/drive')\n",
        "%cd /content/drive/MyDrive/Trad-Union/Corpus/ASAMLA\n",
        "from google.colab import files\n",
        "!export PYTHONIOENCODING=utf8"
      ],
      "execution_count": 5,
      "outputs": [
        {
          "output_type": "stream",
          "name": "stdout",
          "text": [
            "Drive already mounted at /content/drive; to attempt to forcibly remount, call drive.mount(\"/content/drive\", force_remount=True).\n",
            "/content/drive/MyDrive/Trad-Union/Corpus/ASAMLA\n"
          ]
        }
      ]
    },
    {
      "cell_type": "markdown",
      "metadata": {
        "id": "OoQvIFW_zGec"
      },
      "source": [
        ""
      ]
    },
    {
      "cell_type": "code",
      "source": [
        "def get_cc_config(f):\n",
        "  vk = []\n",
        "  try:\n",
        "    with open(f) as vk_f:\n",
        "        vk = json.load(vk_f)\n",
        "  except BaseException as e:\n",
        "    print(e)\n",
        "  return vk\n",
        "\n",
        "def set_cc_config (vk, f):\n",
        "  # sauvegarde du fichier de paramétrage\n",
        "  with open(f, 'w') as fp:\n",
        "      json.dump(vk, fp)  "
      ],
      "metadata": {
        "id": "HkCiMByNk1Me"
      },
      "execution_count": 6,
      "outputs": []
    },
    {
      "cell_type": "code",
      "source": [
        "# Config Langues\n",
        "config_languages = 'med_vac_synthese.json'\n",
        "vk_languages = get_cc_config(config_languages)"
      ],
      "metadata": {
        "id": "4fUMcMSwlDPi"
      },
      "execution_count": 59,
      "outputs": []
    },
    {
      "cell_type": "markdown",
      "source": [
        "Accès à un élément"
      ],
      "metadata": {
        "id": "KLToeOhq8ZQc"
      }
    },
    {
      "cell_type": "code",
      "source": [
        "(k,v) = (\"trigramme\",\"rus\")\n",
        "list(filter(lambda x : x[k]==v, vk_languages))"
      ],
      "metadata": {
        "id": "09hTSyO-8chK"
      },
      "execution_count": null,
      "outputs": []
    },
    {
      "cell_type": "markdown",
      "source": [
        "Modifier un élément"
      ],
      "metadata": {
        "id": "DCEG4-v9_8bq"
      }
    },
    {
      "cell_type": "code",
      "source": [
        "(k,v) = (\"trigramme\",\"arm\")\n",
        "r = list(filter(lambda x : x[k]==v, vk_languages))[0]\n",
        "r[\"update\"] = \"true\"\n",
        "set_cc_config (vk_languages, config_languages)"
      ],
      "metadata": {
        "id": "MPPwHxcW__-k"
      },
      "execution_count": 51,
      "outputs": []
    },
    {
      "cell_type": "markdown",
      "source": [
        "Ajout d'une langue"
      ],
      "metadata": {
        "id": "8kIP7b45FDzl"
      }
    },
    {
      "cell_type": "code",
      "source": [
        "d = {'alphabet': 'AaBbCcDdEeFfGgHhIiJjKkLlMmNnOoPpQqRrSsTtUuVvWwXxYyZz',\n",
        " 'credits': 'Mariama Jalo',\n",
        " 'font-family': 'NotoSerif-Regular',\n",
        " 'font-family-bold': 'NotoSerif-Bold',\n",
        " 'font-path': '/usr/share/fonts/truetype/noto/NotoSerif-Regular.ttf',\n",
        " 'glossary-subtitle': '',\n",
        " 'idx': 23,\n",
        " 'language': 'Portuguais',\n",
        " 'meta': {'credits-fr': '',\n",
        "  'credits-tr': '',\n",
        "  'subtitle-fr': '',\n",
        "  'subtitle-tr': '',\n",
        "  'title-fr': '',\n",
        "  'title-tr': ''},\n",
        " 'text-direction': 'ltr',\n",
        " 'trigramme': 'por',\n",
        " 'unicode_substition': [],\n",
        " 'update': 'true',\n",
        " 'uri': '',\n",
        " 'wals_code': 'por'}"
      ],
      "metadata": {
        "id": "sUOK0w3pCAh0"
      },
      "execution_count": 68,
      "outputs": []
    },
    {
      "cell_type": "code",
      "source": [
        "vk_languages.append(d)\n",
        "set_cc_config (vk_languages, config_languages)"
      ],
      "metadata": {
        "id": "OesYhX1GdsYC"
      },
      "execution_count": 69,
      "outputs": []
    },
    {
      "cell_type": "code",
      "source": [
        ""
      ],
      "metadata": {
        "id": "6aiabK-mF7bg"
      },
      "execution_count": 72,
      "outputs": []
    },
    {
      "cell_type": "code",
      "source": [
        ""
      ],
      "metadata": {
        "id": "BOO7U6QMIUQU"
      },
      "execution_count": null,
      "outputs": []
    }
  ]
}