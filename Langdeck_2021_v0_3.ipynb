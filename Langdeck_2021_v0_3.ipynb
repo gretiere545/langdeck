{
  "nbformat": 4,
  "nbformat_minor": 0,
  "metadata": {
    "colab": {
      "name": "Langdeck-2021-v0.3.ipynb",
      "provenance": [],
      "collapsed_sections": [],
      "authorship_tag": "ABX9TyMVZh+NUIdNLbRo76GXah0e",
      "include_colab_link": true
    },
    "kernelspec": {
      "name": "python3",
      "display_name": "Python 3"
    }
  },
  "cells": [
    {
      "cell_type": "markdown",
      "metadata": {
        "id": "view-in-github",
        "colab_type": "text"
      },
      "source": [
        "<a href=\"https://colab.research.google.com/github/gretiere545/langdeck/blob/main/Langdeck_2021_v0_3.ipynb\" target=\"_parent\"><img src=\"https://colab.research.google.com/assets/colab-badge.svg\" alt=\"Open In Colab\"/></a>"
      ]
    },
    {
      "cell_type": "markdown",
      "metadata": {
        "id": "7hYnuf3Jt0Yo"
      },
      "source": [
        "# Polyglot - Cards"
      ]
    },
    {
      "cell_type": "markdown",
      "metadata": {
        "id": "dVqIhY8x5wRW"
      },
      "source": [
        "Ce programme a pour objectif de créer une base spécifique pour l'app \n",
        "\n",
        "---\n",
        "\n",
        "---\n",
        "\n",
        "\n",
        "\n",
        "Polyglot-Cards (vérification linguistique)"
      ]
    },
    {
      "cell_type": "markdown",
      "metadata": {
        "id": "zFxAnYDGztH5"
      },
      "source": [
        "## Intégration des documents google drive dans pandas"
      ]
    },
    {
      "cell_type": "code",
      "metadata": {
        "id": "4uK1_4dH3jI_",
        "colab": {
          "base_uri": "https://localhost:8080/"
        },
        "outputId": "e29d5bd6-86f6-47a0-a5a1-57b76c559e74"
      },
      "source": [
        "import pandas as pd\n",
        "import numpy as np\n",
        "import textwrap\n",
        "pd.set_option(\"display.width\",1000)\n",
        "# Ce bout de code pour pouvoir downloader des fichiers sur le drive\n",
        "from google.colab import drive\n",
        "drive.mount('/content/drive')\n",
        "# Ce bout de code pour pouvoir downloader des google sheets dans des dataframes\n",
        "from google.colab import auth\n",
        "auth.authenticate_user()\n",
        "import gspread\n",
        "from gspread_dataframe import get_as_dataframe, set_with_dataframe\n",
        "from oauth2client.client import GoogleCredentials\n",
        "gc = gspread.authorize(GoogleCredentials.get_application_default())"
      ],
      "execution_count": 209,
      "outputs": [
        {
          "output_type": "stream",
          "name": "stdout",
          "text": [
            "Drive already mounted at /content/drive; to attempt to forcibly remount, call drive.mount(\"/content/drive\", force_remount=True).\n"
          ]
        }
      ]
    },
    {
      "cell_type": "markdown",
      "metadata": {
        "id": "2qu3x8F4HMC1"
      },
      "source": [
        "## Fonctions"
      ]
    },
    {
      "cell_type": "code",
      "metadata": {
        "id": "UEEA2Kz1jWdk"
      },
      "source": [
        "## cette fonction calcule le nombre de lignes nécessaires pour afficher le texte dans un espace réduit\n",
        "## elle détermine le template SVG adéquat\n",
        "# vk_label : {'topic','description','family','language_full'}\n",
        "def set_svg_corpus(vk_label, template, mode):\n",
        "  dedented_text1 = textwrap.dedent(vk_label[1]).strip()\n",
        "  word_list1 = textwrap.fill(dedented_text1, width=30)\n",
        "  split_word_list1 = word_list1.split(\"\\n\")\n",
        "  lg1 = len(split_word_list1)\n",
        "  print (vk_label)\n",
        "  # ex : svgcard_r_double_1\n",
        "  svg_template = \"svgcard_\" + mode + \"_double_\" + str(lg1)\n",
        "  # ex : card_bgcolor_v_ctry\n",
        "  bg_var = \"card_bgcolor_\" + mode + \"_\" + template + \"_\" + vk_label[2]\n",
        "\n",
        "  bg_color = df_param.loc[df_param['parameter']==bg_var].value.values[0].split(\";\")\n",
        "  bg_color[0] = bg_color[0] + \"'\"\n",
        "  bg_color[1] = \"'\" +bg_color[1]\n",
        "  \n",
        "  if lg1==1:\n",
        "    xr = df_param_svg.loc[df_param_svg['parameter']==svg_template].value.values[0]\n",
        "    xr = xr.replace('__PARAM2__',vk_label[2].upper())            \n",
        "    xr = xr.replace('__PARAM3__',vk_label[3])  \n",
        "    xr = xr.replace('__PARAM4__',vk_label[1])                 \n",
        "  else:\n",
        "    xr = df_param_svg.loc[df_param_svg['parameter']==svg_template].value.values[0]\n",
        "    xr = xr.replace('__PARAM1__',split_word_list1[0])\n",
        "    xr = xr.replace('__PARAM2__',split_word_list1[1])   \n",
        "  # couleur de fond\n",
        "  xr = xr.replace('__PARAM0__', bg_color[0].replace(\"\\'\",'\"'))   \n",
        "  xr = xr.replace('__PARAM1__', bg_color[1].replace(\"\\'\",'\"'))               \n",
        "  return (xr)"
      ],
      "execution_count": 210,
      "outputs": []
    },
    {
      "cell_type": "code",
      "metadata": {
        "id": "mQLJ6FOMF7jl"
      },
      "source": [
        "## cette fonction calcule le nombre de lignes nécessaires pour afficher le texte dans un espace réduit\n",
        "## elle détermine le template SVG adéquat\n",
        "def set_svg_corpus_thumbnail(vk_label, template, mode):\n",
        "  dedented_text1 = textwrap.dedent(vk_label[1]).strip()\n",
        "  word_list1 = textwrap.fill(dedented_text1, width=30)\n",
        "  split_word_list1 = word_list1.split(\"\\n\")\n",
        "  lg1 = len(split_word_list1)\n",
        "\n",
        "  # ex : svgcard_r_double_1\n",
        "  svg_template = \"svgcard_\" + mode + \"_double_\" + str(lg1)\n",
        "  # ex : card_bgcolor_v_ctry\n",
        "  bg_var = \"card_bgcolor_\" + mode + \"_\" + template + \"_\" + vk_label[2]\n",
        "\n",
        "  bg_color = df_param.loc[df_param['parameter']==bg_var].value.values[0].split(\";\")\n",
        "  bg_color[0] = bg_color[0] + \"'\"\n",
        "  bg_color[1] = \"'\" +bg_color[1]\n",
        "  \n",
        "  if lg1==1:\n",
        "    xr = df_param_svg.loc[df_param_svg['parameter']==svg_template].value.values[0]\n",
        "    xr = xr.replace('__PARAM2__',vk_label[0])            \n",
        "    xr = xr.replace('__PARAM3__',vk_label[1])           \n",
        "  else:\n",
        "    xr = df_param_svg.loc[df_param_svg['parameter']==svg_template].value.values[0]\n",
        "    xr = xr.replace('__PARAM1__',split_word_list1[0])\n",
        "    xr = xr.replace('__PARAM2__',split_word_list1[1])   \n",
        "  xr = xr.replace('__PARAM0__', bg_color[0].replace(\"\\'\",'\"'))   \n",
        "  xr = xr.replace('__PARAM1__', bg_color[1].replace(\"\\'\",'\"'))               \n",
        "  return (xr)"
      ],
      "execution_count": 211,
      "outputs": []
    },
    {
      "cell_type": "code",
      "metadata": {
        "id": "B4MPJyB-fF5p"
      },
      "source": [
        "## cette fonction calcule le nombre de lignes nécessaires pour afficher le texte dans un espace réduit\n",
        "## elle détermine le template SVG adéquat\n",
        "def set_svg_univ(label, template, mode):\n",
        "  dedented_text1 = textwrap.dedent(label).strip()\n",
        "  word_list1 = textwrap.fill(dedented_text1, width=30)\n",
        "  split_word_list1 = word_list1.split(\"\\n\")\n",
        "  lg1 = len(split_word_list1)\n",
        "\n",
        "  # ex : svgcard_v_1\n",
        "  svg_template = \"svgcard_\" + mode + \"_1\" #+ str(lg1)\n",
        "  # ex : card_bgcolor_v_ctry\n",
        "  bg_var = \"card_bgcolor_\" + mode + \"_\" + template\n",
        "\n",
        "  bg_color = df_param.loc[df_param['parameter']==bg_var].value.values[0]\n",
        "\n",
        "  if lg1==1:\n",
        "    xr = df_param_svg.loc[df_param_svg['parameter']==svg_template].value.values[0]\n",
        "    xr = xr.replace('__PARAM1__',label)            \n",
        "  else:\n",
        "    xr = df_param_svg.loc[df_param_svg['parameter']==svg_template].value.values[0]\n",
        "    xr = xr.replace('__PARAM1__',split_word_list1[0])\n",
        "    xr = xr.replace('__PARAM1__',split_word_list1[1])   \n",
        "  xr = xr.replace('__PARAM0__', bg_color)             \n",
        "  return (xr)"
      ],
      "execution_count": 212,
      "outputs": []
    },
    {
      "cell_type": "markdown",
      "metadata": {
        "id": "0w4qq8Lm0DLH"
      },
      "source": [
        "# Chargement du workbook **central** et des tables qui nous intéressent dans des dataframes\n",
        "\n",
        "*   t_cont\n",
        "*   t_ctry\n",
        "*   t_lang\n",
        "*   t_rel_ctry_lang\n",
        "*   t_corp\n",
        "\n"
      ]
    },
    {
      "cell_type": "code",
      "metadata": {
        "id": "9LK_pLPPx_OY"
      },
      "source": [
        "# Chargement de la gg sheet au format JSON puis dans un dataframe\n",
        "# base centrale\n",
        "sheet_base_central = 'https://docs.google.com/spreadsheets/d/1bkL0bK2yh6Ea_BQaFIJ_yAvbTXw8NOFtlTZJSZK_5FY'\n",
        "# base langdeck\n",
        "# sheet_base_langdeck = 'https://docs.google.com/spreadsheets/d/1E5bscxsFsVSa-M04IzTlELICf0qzINvR2rFogK9vTwc'\n",
        "sheet_base_langdeck = 'https://docs.google.com/spreadsheets/d/1iJLt3qAKq576eNirMwcsdRltg7nerwa9N70dA0vraa8'\n",
        "wb = gc.open_by_url(sheet_base_central)\n",
        "wb_dest = gc.open_by_url(sheet_base_langdeck)\n",
        "\n",
        "# construction des tables techniques\n",
        "#---- params\n",
        "t_param = wb.worksheet('t_param')\n",
        "data_t_param = t_param.get_all_values()\n",
        "df_param = pd.DataFrame(data_t_param[1:], columns=data_t_param[0])\n",
        "df_param['value']=\" '\" + df_param['value'].map(str) + \"'\"\n",
        "\n",
        "#---- params svg\n",
        "t_param_svg = wb.worksheet('t_param_svg')\n",
        "data_t_param_svg = t_param_svg.get_all_values()\n",
        "df_param_svg = pd.DataFrame(data_t_param_svg[1:], columns=data_t_param_svg[0])\n",
        "\n",
        "#---- expressions /!\\ A  VIRER !!!\n",
        "t_param_exp = wb.worksheet('t_expr')\n",
        "data_t_param_exp = t_param_exp.get_all_values()\n",
        "df_expr = pd.DataFrame(data_t_param_exp[1:], columns=data_t_param_exp[0])\n",
        "\n",
        "#---- onboarding \n",
        "t_onbg = wb.worksheet('t_onbg')\n",
        "data_t_onbg = t_onbg.get_all_values()\n",
        "df_onbg = pd.DataFrame(data_t_onbg[1:], columns=data_t_onbg[0])"
      ],
      "execution_count": 213,
      "outputs": []
    },
    {
      "cell_type": "markdown",
      "metadata": {
        "id": "KaTmHl3CPiqq"
      },
      "source": [
        "## t_cont"
      ]
    },
    {
      "cell_type": "code",
      "metadata": {
        "id": "BjqX9_VOVBB-"
      },
      "source": [
        "# construction de la table t_cont\n",
        "#---- continents\n",
        "t_cont = wb.worksheet('t_cont')\n",
        "data_t_cont = t_cont.get_all_values()\n",
        "df_cont = pd.DataFrame(data_t_cont[1:], columns=data_t_cont[0])\n",
        "\n",
        "# recto\n",
        "df_cont['svg_cont'] = df_cont[['name_fr']].apply(lambda x:set_svg_univ(x[0],\"cont\",\"r\",), axis=1)\n"
      ],
      "execution_count": 214,
      "outputs": []
    },
    {
      "cell_type": "markdown",
      "metadata": {
        "id": "df1OvgPAPjAa"
      },
      "source": [
        "## t_corp_mini"
      ]
    },
    {
      "cell_type": "code",
      "metadata": {
        "id": "M9Ud-xgrPegJ"
      },
      "source": [
        "# construction de la table t_corp_mini\n",
        "#---- mini corpus 10 expressions\n",
        "t_corp_mini = wb.worksheet('t_corp_mini')\n",
        "data_t_corp_mini = t_corp_mini.get_all_values()\n",
        "df_corp_mini = pd.DataFrame(data_t_corp_mini[1:], columns=data_t_corp_mini[0])\n",
        "\n",
        "#df_corp_mini = pd.merge(df_corp_mini,df_expr,on='id',how='left')\n",
        "#df_corp_mini = df_corp_mini[['wals_code','id','exp','x_exp','pronunciation']]\n",
        "# allègement : suppression des photos svg\n",
        "#df_corp_mini['svg_code'] = df_corp_mini[['x_exp','exp']].apply(lambda x:set_svg_corpus_ml(x[0]), axis=1)"
      ],
      "execution_count": 215,
      "outputs": []
    },
    {
      "cell_type": "markdown",
      "metadata": {
        "id": "VxyqJ9jlPmx6"
      },
      "source": [
        "## t_ctry"
      ]
    },
    {
      "cell_type": "code",
      "metadata": {
        "id": "A_2vD0fMPZ1w"
      },
      "source": [
        "# construction de la table t_ctry\n",
        "#---- pays\n",
        "t_ctry = wb.worksheet('t_ctry')\n",
        "data_t_ctry = t_ctry.get_all_values()\n",
        "df_ctry = pd.DataFrame(data_t_ctry[1:], columns=data_t_ctry[0])\n",
        "# Filtres actifs sur les données qui nous intéressent\n",
        "df_ctry = df_ctry.loc[df_ctry.actif==\"TRUE\"]\n",
        "df_ctry.rename({'region': 'ctry_region'}, axis=1, inplace=True)\n",
        "# on récupère les données de t_cont pour t_ctry (pour faire une relation sur le nom et pas sur le code)\n",
        "df_ctry = pd.merge(df_ctry ,df_cont, left_on=['region_code'], right_on = ['region_code'], how = 'left')\n",
        "df_cont.drop(\"region_code\", axis=1, inplace=True)\n",
        "\n",
        "df_ctry.rename({'key_id_y': 'region'}, axis=1, inplace=True)\n",
        "df_ctry.drop(\"key_id_x\", axis=1, inplace=True)\n",
        "df_ctry.drop(\"image\", axis=1, inplace=True)\n",
        "df_ctry.drop(\"country_code\", axis=1, inplace=True)\n",
        "df_ctry.drop(\"region_code\", axis=1, inplace=True)\n",
        "df_ctry.drop(\"sub_region_code\", axis=1, inplace=True)\n",
        "df_ctry.drop(\"intermediate_region_code\", axis=1, inplace=True)\n",
        "df_ctry.drop(\"name_fr_y\", axis=1, inplace=True)\n",
        "df_ctry.drop(\"time_create\", axis=1, inplace=True)\n",
        "df_ctry.drop(\"time_update\", axis=1, inplace=True)\n",
        "\t\n",
        "df_ctry.rename({'name_fr_x': 'name_fr'}, axis=1, inplace=True)\n",
        "#--- on remplace les drapeaux taille M par XS\n",
        "df_ctry['flag_icon'] = df_ctry['flag_icon'].replace({\"flags\": \"flags_100px\"}, regex=True)\n",
        "#--- colonne OSM\n",
        "df_ctry['level'] = df_ctry['level'].replace({\",\": \"/\"}, regex=True)\n",
        "# recto\n",
        "df_ctry['svg_ctry'] = df_ctry[['name_fr','alpha-2_code']].apply(lambda x:set_svg_univ(x[0],\"ctry\",\"r\",), axis=1)\n",
        "# verso\n",
        "#df_ctry['svg_ctry_verso'] = df_ctry[['name_fr','alpha-2_code']].apply(lambda x:set_svg_univ(x[0],\"ctry\",\"v\",), axis=1)\n",
        "# état\n",
        "#df_ctry['update_state'] = df_ctry['update_state'].apply(lambda x:\"Files_Files_/verified-icon-png-50.png\" if x==\"TRUE\" else \"\")\n",
        "# allègement : suppression des photos\n",
        "df_ctry.drop(\"photo\", axis=1, inplace=True)\n",
        "df_ctry.drop(\"map_lang\", axis=1, inplace=True)\n",
        "# suppression champs en doublon\n",
        "df_ctry.drop(\"ctry_region\", axis=1, inplace=True)\n",
        "df_ctry.drop(\"svg_cont\", axis=1, inplace=True)"
      ],
      "execution_count": 216,
      "outputs": []
    },
    {
      "cell_type": "markdown",
      "metadata": {
        "id": "h5XVXWz-Zj9k"
      },
      "source": [
        "## t_lang"
      ]
    },
    {
      "cell_type": "code",
      "metadata": {
        "id": "CaUDs2lIZjEt"
      },
      "source": [
        "# construction de la table t_lang\n",
        "#---- langues\n",
        "t_lang = wb.worksheet('t_lang')\n",
        "data_t_lang = t_lang.get_all_values()\n",
        "df_lang = pd.DataFrame(data_t_lang[1:], columns=data_t_lang[0])\n",
        "df_lang = df_lang.loc[df_lang[\"active\"]==\"TRUE\"]\n",
        "#df_lang.drop(\"wals_code\", axis=1, inplace=True)\n",
        "df_lang.drop(\"iso_code\", axis=1, inplace=True)\n",
        "#df_lang.drop(\"glotto_code\", axis=1, inplace=True)\n",
        "df_lang.drop(\"latitude\", axis=1, inplace=True)\n",
        "df_lang.drop(\"longitude\", axis=1, inplace=True)\n",
        "df_lang.drop(\"macroarea\", axis=1, inplace=True)\n",
        "df_lang.drop(\"countrycodes\", axis=1, inplace=True)\n",
        "df_lang.drop(\"time_create\", axis=1, inplace=True)\n",
        "df_lang.drop(\"time_update\", axis=1, inplace=True)\n",
        "df_lang.drop(\"map\", axis=1, inplace=True)\n",
        "df_lang['svg_lang'] = df_lang[['lang_name_fr']].apply(lambda x:set_svg_univ(x[0],\"lang\",\"r\",), axis=1)\n",
        "#df_lang['svg_lang_verso'] = df_lang[['lang_name_fr']].apply(lambda x:set_svg_univ(x[0],\"lang\",\"v\",), axis=1)"
      ],
      "execution_count": 217,
      "outputs": []
    },
    {
      "cell_type": "markdown",
      "metadata": {
        "id": "_dAiyO-EgDJj"
      },
      "source": [
        "## t_rel_ctry_lang"
      ]
    },
    {
      "cell_type": "code",
      "metadata": {
        "id": "Lf0rV-lAgHbH"
      },
      "source": [
        "# construction de la table t_rel_ctry_lang\n",
        "#---- relations pays x langues\n",
        "t_rel_ctry_lang = wb.worksheet('t_rel_ctry_lang')\n",
        "data_t_rel_ctry_lang = t_rel_ctry_lang.get_all_values()\n",
        "df_rel_ctry_lang = pd.DataFrame(data_t_rel_ctry_lang[1:], columns=data_t_rel_ctry_lang[0])\n",
        "df_rel_ctry_lang = df_rel_ctry_lang.loc[df_rel_ctry_lang[\"active\"]==\"TRUE\"]\n",
        "df_rel_ctry_lang.drop(\"key_id\", axis=1, inplace=True)\n",
        "#df_rel_ctry_lang.drop(\"rank\", axis=1, inplace=True)\n",
        "#df_rel_ctry_lang.drop(\"speakers\", axis=1, inplace=True)\n",
        "#df_rel_ctry_lang.drop(\"comment\", axis=1, inplace=True)\n",
        "#df_rel_ctry_lang.drop(\"hello_sample\", axis=1, inplace=True)\n",
        "df_rel_ctry_lang = pd.merge(df_rel_ctry_lang, df_lang[['key_id', 'name_native']], left_on='wals_code', right_on='key_id', how='left')\n",
        "# allègement : suppression des SVG\n",
        "#df_rel_ctry_lang['svg_ctry_lang'] = df_rel_ctry_lang[['language','country','validate_state']].apply(lambda x:set_svg_ctry_lang(x[0],x[1],x[2]), axis=1)\n",
        "df_rel_ctry_lang.drop(\"country_flag\", axis=1, inplace=True)\n",
        "df_rel_ctry_lang.drop(\"attachment\", axis=1, inplace=True)"
      ],
      "execution_count": 218,
      "outputs": []
    },
    {
      "cell_type": "code",
      "metadata": {
        "id": "JSqkT322VHF-"
      },
      "source": [
        "# construction de la table t_family\n",
        "#---- familles de langues\n",
        "t_family = wb.worksheet('lang_fam')\n",
        "data_t_family = t_family.get_all_values()\n",
        "df_family = pd.DataFrame(data_t_family[1:], columns=data_t_family[0])\n",
        "\n",
        "# construction de la table t_genus\n",
        "#---- genres de langues\n",
        "t_genus = wb.worksheet('lang_gen')\n",
        "data_t_genus = t_genus.get_all_values()\n",
        "df_genus = pd.DataFrame(data_t_genus[1:], columns=data_t_genus[0])\n",
        "\n",
        "# allègement : suppression des SVG\n",
        "#df_family['svg_family'] = df_family[['family_fr']].apply(lambda x:set_svg_univ(x[0],\"family\",\"r\",), axis=1)\n",
        "#df_genus['svg_genus'] = df_genus[['genus_fr']].apply(lambda x:set_svg_univ(x[0],\"genus\",\"r\",), axis=1)\n",
        "\n",
        "# on fait une jointure avec la table df_lang pour ne garder que les enregistrements actifs\n",
        "df_genus = pd.merge (df_genus, df_lang[['genus','active']], on='genus', how='inner')\n",
        "df_genus.drop_duplicates(keep='first', inplace=True)\n",
        "df_family = pd.merge (df_family, df_lang[['family','active']], on='family', how='inner')\n",
        "df_family.drop_duplicates(keep='first', inplace=True)\n",
        "df_family.drop('active', axis=1, inplace=True)\n",
        "df_genus.drop('active', axis=1, inplace=True)"
      ],
      "execution_count": 219,
      "outputs": []
    },
    {
      "cell_type": "code",
      "metadata": {
        "id": "TCicyVbxllKr"
      },
      "source": [
        "# on complète pour avoir un index composé pour la recherche de la même expression dans des langues proches (genus like)\n",
        "df_corp_mini = pd.merge(df_corp_mini, df_lang[['genus','wals_code']], on='wals_code',how='inner')\n",
        "df_corp_mini['exp_genus'] = df_corp_mini[['exp','genus']].apply(lambda x:x[0].strip()+x[1].strip(), axis=1)"
      ],
      "execution_count": 220,
      "outputs": []
    },
    {
      "cell_type": "markdown",
      "metadata": {
        "id": "sRJDaxVN3aZP"
      },
      "source": [
        "## t_corp_idx"
      ]
    },
    {
      "cell_type": "code",
      "metadata": {
        "id": "ejBc9lBy2FSQ"
      },
      "source": [
        "# construction de la table t_corp_idx\n",
        "#---- index des corpus\n",
        "t_corp_idx = wb.worksheet('t_corp_idx')\n",
        "temp = t_corp_idx.get_all_values()\n",
        "df_corp_idx = pd.DataFrame(temp[1:], columns=temp[0])\n",
        "# Filtres actifs sur les données qui nous intéressent\n",
        "df_corp_idx = df_corp_idx.loc[df_corp_idx.active==\"TRUE\"]\n",
        "#key_id\tlanguage\tlanguage_full\tlevel\tfamily\ttopic\tactive\tdescription\tdescription_detailed\tdescription_detailed_fr\tcover\tcover_alt\tflag_icon\tcorpus_url"
      ],
      "execution_count": 221,
      "outputs": []
    },
    {
      "cell_type": "code",
      "metadata": {
        "colab": {
          "base_uri": "https://localhost:8080/",
          "height": 487
        },
        "id": "Xu0lZFrkMZWW",
        "outputId": "bf7df44b-39e3-4909-ea69-aed812a2f72f"
      },
      "source": [
        "df_corp_idx"
      ],
      "execution_count": 222,
      "outputs": [
        {
          "output_type": "execute_result",
          "data": {
            "text/html": [
              "<div>\n",
              "<style scoped>\n",
              "    .dataframe tbody tr th:only-of-type {\n",
              "        vertical-align: middle;\n",
              "    }\n",
              "\n",
              "    .dataframe tbody tr th {\n",
              "        vertical-align: top;\n",
              "    }\n",
              "\n",
              "    .dataframe thead th {\n",
              "        text-align: right;\n",
              "    }\n",
              "</style>\n",
              "<table border=\"1\" class=\"dataframe\">\n",
              "  <thead>\n",
              "    <tr style=\"text-align: right;\">\n",
              "      <th></th>\n",
              "      <th>key_id</th>\n",
              "      <th>language</th>\n",
              "      <th>language_full</th>\n",
              "      <th>level</th>\n",
              "      <th>volume</th>\n",
              "      <th>family</th>\n",
              "      <th>topic</th>\n",
              "      <th>active</th>\n",
              "      <th>description</th>\n",
              "      <th>description_detailed</th>\n",
              "      <th>description_detailed_fr</th>\n",
              "      <th>cover</th>\n",
              "      <th>cover_alt</th>\n",
              "      <th>flag_icon</th>\n",
              "      <th>corpus_url</th>\n",
              "      <th>corpus_sheet</th>\n",
              "    </tr>\n",
              "  </thead>\n",
              "  <tbody>\n",
              "    <tr>\n",
              "      <th>16</th>\n",
              "      <td>eng-med-vac-002</td>\n",
              "      <td>eng</td>\n",
              "      <td>Anglais</td>\n",
              "      <td>1</td>\n",
              "      <td>1</td>\n",
              "      <td>med</td>\n",
              "      <td>Médical</td>\n",
              "      <td>TRUE</td>\n",
              "      <td>Anglais Médical Vaccination</td>\n",
              "      <td>Lexique médical français-anglais</td>\n",
              "      <td>Lexique médical français-anglais</td>\n",
              "      <td>Files_Files_/corpus/t_expo_Images/med-vac-eng-...</td>\n",
              "      <td>Files_Files_/corpus/t_expo_Images/med-vac-eng-...</td>\n",
              "      <td></td>\n",
              "      <td>https://docs.google.com/spreadsheets/d/1L8YB1a...</td>\n",
              "      <td>med_vac_synthese</td>\n",
              "    </tr>\n",
              "    <tr>\n",
              "      <th>17</th>\n",
              "      <td>rus-med-vac-003</td>\n",
              "      <td>rus</td>\n",
              "      <td>Russe</td>\n",
              "      <td>1</td>\n",
              "      <td>1</td>\n",
              "      <td>med</td>\n",
              "      <td>Médical</td>\n",
              "      <td>TRUE</td>\n",
              "      <td>Russe Médical Vaccination</td>\n",
              "      <td>Lexique médical français-russe</td>\n",
              "      <td>Lexique médical français-russe</td>\n",
              "      <td>Files_Files_/corpus/t_expo_Images/med-fra-rus.png</td>\n",
              "      <td>Files_Files_/corpus/t_expo_Images/med-fra-rus.png</td>\n",
              "      <td></td>\n",
              "      <td>https://docs.google.com/spreadsheets/d/1L8YB1a...</td>\n",
              "      <td>med_vac_synthese</td>\n",
              "    </tr>\n",
              "    <tr>\n",
              "      <th>18</th>\n",
              "      <td>tur-med-vac-004</td>\n",
              "      <td>tur</td>\n",
              "      <td>Turc</td>\n",
              "      <td>1</td>\n",
              "      <td>1</td>\n",
              "      <td>med</td>\n",
              "      <td>Médical</td>\n",
              "      <td>TRUE</td>\n",
              "      <td>Turc Médical Vaccination</td>\n",
              "      <td>Lexique médical français-turc</td>\n",
              "      <td>Lexique médical français-turc</td>\n",
              "      <td>Files_Files_/corpus/t_expo_Images/med-vac-tur-...</td>\n",
              "      <td>Files_Files_/corpus/t_expo_Images/med-vac-tur-...</td>\n",
              "      <td></td>\n",
              "      <td>https://docs.google.com/spreadsheets/d/1L8YB1a...</td>\n",
              "      <td>med_vac_synthese</td>\n",
              "    </tr>\n",
              "    <tr>\n",
              "      <th>19</th>\n",
              "      <td>ams-med-vac-005</td>\n",
              "      <td>ams</td>\n",
              "      <td>Arabe</td>\n",
              "      <td>1</td>\n",
              "      <td>1</td>\n",
              "      <td>med</td>\n",
              "      <td>Médical</td>\n",
              "      <td>TRUE</td>\n",
              "      <td>Arabe Médical Vaccination</td>\n",
              "      <td>Lexique médical français-arabe</td>\n",
              "      <td>Lexique médical français-arabe</td>\n",
              "      <td>Files_Files_/corpus/t_expo_Images/med-vac-ams-...</td>\n",
              "      <td>Files_Files_/corpus/t_expo_Images/med-vac-ams-...</td>\n",
              "      <td></td>\n",
              "      <td>https://docs.google.com/spreadsheets/d/1L8YB1a...</td>\n",
              "      <td>med_vac_synthese</td>\n",
              "    </tr>\n",
              "    <tr>\n",
              "      <th>20</th>\n",
              "      <td>tig-med-vac-006</td>\n",
              "      <td>tig</td>\n",
              "      <td>Tigrinia</td>\n",
              "      <td>1</td>\n",
              "      <td>1</td>\n",
              "      <td>med</td>\n",
              "      <td>Médical</td>\n",
              "      <td>TRUE</td>\n",
              "      <td>Tigrinya Médical Vaccination</td>\n",
              "      <td>Lexique médical français-tigrinya</td>\n",
              "      <td>Lexique médical français-tigrinya</td>\n",
              "      <td>Files_Files_/corpus/t_expo_Images/med-vac-tig-...</td>\n",
              "      <td>Files_Files_/corpus/t_expo_Images/med-vac-tig-...</td>\n",
              "      <td></td>\n",
              "      <td>https://docs.google.com/spreadsheets/d/1L8YB1a...</td>\n",
              "      <td>med_vac_synthese</td>\n",
              "    </tr>\n",
              "  </tbody>\n",
              "</table>\n",
              "</div>"
            ],
            "text/plain": [
              "             key_id  ...      corpus_sheet\n",
              "16  eng-med-vac-002  ...  med_vac_synthese\n",
              "17  rus-med-vac-003  ...  med_vac_synthese\n",
              "18  tur-med-vac-004  ...  med_vac_synthese\n",
              "19  ams-med-vac-005  ...  med_vac_synthese\n",
              "20  tig-med-vac-006  ...  med_vac_synthese\n",
              "\n",
              "[5 rows x 16 columns]"
            ]
          },
          "metadata": {},
          "execution_count": 222
        }
      ]
    },
    {
      "cell_type": "code",
      "metadata": {
        "id": "K_rlTs1hEhm5",
        "colab": {
          "base_uri": "https://localhost:8080/"
        },
        "outputId": "affe0d00-fb6a-4924-c376-cc2a1b791081"
      },
      "source": [
        "df_corp_idx['cover_alt'] = df_corp_idx[['topic','description','family','language_full']].apply(lambda x:set_svg_corpus([x[0],x[1],x[2],x[3]],\"corpus\",\"r\"), axis=1)"
      ],
      "execution_count": 223,
      "outputs": [
        {
          "output_type": "stream",
          "name": "stdout",
          "text": [
            "['Médical', 'Anglais Médical Vaccination', 'med', 'Anglais']\n",
            "['Médical', 'Russe Médical Vaccination', 'med', 'Russe']\n",
            "['Médical', 'Turc Médical Vaccination', 'med', 'Turc']\n",
            "['Médical', 'Arabe Médical Vaccination', 'med', 'Arabe']\n",
            "['Médical', 'Tigrinya Médical Vaccination', 'med', 'Tigrinia']\n"
          ]
        }
      ]
    },
    {
      "cell_type": "markdown",
      "metadata": {
        "id": "z108shF039vd"
      },
      "source": [
        "# Import dans LangDeck"
      ]
    },
    {
      "cell_type": "code",
      "metadata": {
        "id": "P3JqHNxE9WqO"
      },
      "source": [
        "ws = wb_dest.worksheet(\"t_param\")\n",
        "wb_dest.del_worksheet(ws)\n",
        "wb_dest.add_worksheet(\"t_param\",1,1)\n",
        "# sauvegarde du dataframe dans la table t_param de la feuille gsheet\n",
        "export_sheet = wb_dest.worksheet('t_param')\n",
        "set_with_dataframe(export_sheet, df_param)\n",
        "\n",
        "# sauvegarde du dataframe dans la table t_param_svg de la feuille gsheet\n",
        "ws = wb_dest.worksheet(\"t_param_svg\")\n",
        "wb_dest.del_worksheet(ws)\n",
        "wb_dest.add_worksheet(\"t_param_svg\",1,1)\n",
        "# sauvegarde du dataframe dans la table t_param de la feuille gsheet\n",
        "export_sheet = wb_dest.worksheet('t_param_svg')\n",
        "set_with_dataframe(export_sheet, df_param_svg)"
      ],
      "execution_count": 224,
      "outputs": []
    },
    {
      "cell_type": "code",
      "metadata": {
        "id": "5792JwiBR9Q1"
      },
      "source": [
        "try:\n",
        "  ws = wb_dest.worksheet(\"t_corp_mini\")\n",
        "  wb_dest.del_worksheet(ws)\n",
        "except Exception as e:  \n",
        "  print (e)\n",
        "wb_dest.add_worksheet(\"t_corp_mini\",1,1)\n",
        "# sauvegarde du dataframe dans la table t_corp_mini de la feuille gsheet\n",
        "export_sheet = wb_dest.worksheet('t_corp_mini')\n",
        "set_with_dataframe(export_sheet, df_corp_mini)\n",
        "\n",
        "\n",
        "try:\n",
        "  ws = wb_dest.worksheet(\"t_corp_mini_2\")\n",
        "  wb_dest.del_worksheet(ws)\n",
        "except Exception as e:  \n",
        "  print (e)\n",
        "wb_dest.add_worksheet(\"t_corp_mini_2\",1,1)\n",
        "# sauvegarde du dataframe dans la table t_corp_mini de la feuille gsheet\n",
        "export_sheet = wb_dest.worksheet('t_corp_mini_2')\n",
        "set_with_dataframe(export_sheet, df_corp_mini)\n",
        "\n"
      ],
      "execution_count": 225,
      "outputs": []
    },
    {
      "cell_type": "code",
      "metadata": {
        "id": "p05gNK02gZns"
      },
      "source": [
        "try:\n",
        "  ws = wb_dest.worksheet(\"t_cont\")\n",
        "  wb_dest.del_worksheet(ws)\n",
        "except Exception as e:  \n",
        "  print (e)  \n",
        "wb_dest.add_worksheet(\"t_cont\",1,1)\n",
        "# sauvegarde du dataframe dans la table t_cont de la feuille gsheet\n",
        "export_sheet = wb_dest.worksheet('t_cont')\n",
        "set_with_dataframe(export_sheet, df_cont)"
      ],
      "execution_count": 226,
      "outputs": []
    },
    {
      "cell_type": "code",
      "metadata": {
        "id": "fiW3oc-7uYkk"
      },
      "source": [
        "ws = wb_dest.worksheet(\"t_ctry\")\n",
        "wb_dest.del_worksheet(ws)\n",
        "wb_dest.add_worksheet(\"t_ctry\",1,1)\n",
        "# sauvegarde du dataframe dans la table t_ctry de la feuille gsheet\n",
        "export_sheet = wb_dest.worksheet('t_ctry')\n",
        "set_with_dataframe(export_sheet, df_ctry)"
      ],
      "execution_count": 227,
      "outputs": []
    },
    {
      "cell_type": "code",
      "metadata": {
        "id": "Ck12XoWKomag"
      },
      "source": [
        "ws = wb_dest.worksheet(\"t_lang\")\n",
        "wb_dest.del_worksheet(ws)\n",
        "wb_dest.add_worksheet(\"t_lang\",1,1)\n",
        "# sauvegarde du dataframe dans la table t_lang de la feuille gsheet\n",
        "export_sheet = wb_dest.worksheet('t_lang')\n",
        "set_with_dataframe(export_sheet, df_lang)"
      ],
      "execution_count": 228,
      "outputs": []
    },
    {
      "cell_type": "code",
      "metadata": {
        "id": "8U-dCAvKuiRn"
      },
      "source": [
        "ws = wb_dest.worksheet(\"t_rel_ctry_lang\")\n",
        "wb_dest.del_worksheet(ws)\n",
        "wb_dest.add_worksheet(\"t_rel_ctry_lang\",1,1)\n",
        "# sauvegarde du dataframe dans la table t_rel_ctry_lang de la feuille gsheet\n",
        "export_sheet = wb_dest.worksheet('t_rel_ctry_lang')\n",
        "set_with_dataframe(export_sheet, df_rel_ctry_lang)"
      ],
      "execution_count": 229,
      "outputs": []
    },
    {
      "cell_type": "code",
      "metadata": {
        "id": "5d1nMuC_daux"
      },
      "source": [
        "ws = wb_dest.worksheet(\"t_corp_idx\")\n",
        "wb_dest.del_worksheet(ws)\n",
        "wb_dest.add_worksheet(\"t_corp_idx\",1,1)\n",
        "# sauvegarde du dataframe dans la table t_corp_idx de la feuille gsheet\n",
        "export_sheet = wb_dest.worksheet('t_corp_idx')\n",
        "set_with_dataframe(export_sheet, df_corp_idx)"
      ],
      "execution_count": 230,
      "outputs": []
    },
    {
      "cell_type": "code",
      "metadata": {
        "id": "nPzVTXgAWDBq"
      },
      "source": [
        "ws = wb_dest.worksheet(\"t_family\")\n",
        "wb_dest.del_worksheet(ws)\n",
        "wb_dest.add_worksheet(\"t_family\",1,1)\n",
        "# sauvegarde du dataframe dans la table t_family de la feuille gsheet\n",
        "export_sheet = wb_dest.worksheet('t_family')\n",
        "set_with_dataframe(export_sheet, df_family)\n",
        "\n",
        "ws = wb_dest.worksheet(\"t_genus\")\n",
        "wb_dest.del_worksheet(ws)\n",
        "wb_dest.add_worksheet(\"t_genus\",1,1)\n",
        "# sauvegarde du dataframe dans la table t_genus de la feuille gsheet\n",
        "export_sheet = wb_dest.worksheet('t_genus')\n",
        "set_with_dataframe(export_sheet, df_genus)"
      ],
      "execution_count": 231,
      "outputs": []
    },
    {
      "cell_type": "code",
      "metadata": {
        "id": "6dBMUEnA0Bf5"
      },
      "source": [
        "ws = wb_dest.worksheet(\"t_onbg\")\n",
        "wb_dest.del_worksheet(ws)\n",
        "wb_dest.add_worksheet(\"t_onbg\",1,1)\n",
        "# sauvegarde du dataframe dans la table t_onbg de la feuille gsheet\n",
        "export_sheet = wb_dest.worksheet('t_onbg')\n",
        "set_with_dataframe(export_sheet, df_onbg)"
      ],
      "execution_count": 232,
      "outputs": []
    },
    {
      "cell_type": "markdown",
      "metadata": {
        "id": "bvgLwxdIUR12"
      },
      "source": [
        "# Synchronisation des corpus"
      ]
    },
    {
      "cell_type": "code",
      "metadata": {
        "id": "ylAmdaaRUVwI"
      },
      "source": [
        "sheet_base_corpidx = 'https://docs.google.com/spreadsheets/d/18A3ZKHybHmAxUq1XFZJBf9ip8LmXDBB1yWH9X-P3EgM'\n",
        "wb_dest_corpidx = gc.open_by_url(sheet_base_corpidx)\n",
        "# Corpora Central (somme des corpus en Central\n",
        "cc_id = 'https://docs.google.com/spreadsheets/d/18NM9Zn5Od2PbWWSQYHX38nZ_Op6_5mUhoRX3X2NRds0'\n",
        "wb_cc = gc.open_by_url(cc_id)\n",
        "t_cc = wb_cc.worksheet('t_corpus')\n",
        "data_t_cc = t_cc.get_all_values()\n",
        "df_t_cc = pd.DataFrame(data_t_cc[1:], columns=data_t_cc[0])"
      ],
      "execution_count": 233,
      "outputs": []
    },
    {
      "cell_type": "markdown",
      "metadata": {
        "id": "hGQ3nSbTd_TE"
      },
      "source": [
        "# SYNCHRO DES CORPUS"
      ]
    },
    {
      "cell_type": "code",
      "metadata": {
        "id": "NFhuZnV5dBTj"
      },
      "source": [
        "df_test = df_corp_idx.copy()"
      ],
      "execution_count": 250,
      "outputs": []
    },
    {
      "cell_type": "code",
      "metadata": {
        "colab": {
          "base_uri": "https://localhost:8080/",
          "height": 487
        },
        "id": "TE6nWor_CyMG",
        "outputId": "3fa3382a-2c7c-4371-d4e7-3d79ec716b80"
      },
      "source": [
        "df_test"
      ],
      "execution_count": 251,
      "outputs": [
        {
          "output_type": "execute_result",
          "data": {
            "text/html": [
              "<div>\n",
              "<style scoped>\n",
              "    .dataframe tbody tr th:only-of-type {\n",
              "        vertical-align: middle;\n",
              "    }\n",
              "\n",
              "    .dataframe tbody tr th {\n",
              "        vertical-align: top;\n",
              "    }\n",
              "\n",
              "    .dataframe thead th {\n",
              "        text-align: right;\n",
              "    }\n",
              "</style>\n",
              "<table border=\"1\" class=\"dataframe\">\n",
              "  <thead>\n",
              "    <tr style=\"text-align: right;\">\n",
              "      <th></th>\n",
              "      <th>key_id</th>\n",
              "      <th>language</th>\n",
              "      <th>language_full</th>\n",
              "      <th>level</th>\n",
              "      <th>volume</th>\n",
              "      <th>family</th>\n",
              "      <th>topic</th>\n",
              "      <th>active</th>\n",
              "      <th>description</th>\n",
              "      <th>description_detailed</th>\n",
              "      <th>description_detailed_fr</th>\n",
              "      <th>cover</th>\n",
              "      <th>cover_alt</th>\n",
              "      <th>flag_icon</th>\n",
              "      <th>corpus_url</th>\n",
              "      <th>corpus_sheet</th>\n",
              "    </tr>\n",
              "  </thead>\n",
              "  <tbody>\n",
              "    <tr>\n",
              "      <th>16</th>\n",
              "      <td>eng-med-vac-002</td>\n",
              "      <td>eng</td>\n",
              "      <td>Anglais</td>\n",
              "      <td>1</td>\n",
              "      <td>1</td>\n",
              "      <td>med</td>\n",
              "      <td>Médical</td>\n",
              "      <td>TRUE</td>\n",
              "      <td>Anglais Médical Vaccination</td>\n",
              "      <td>Lexique médical français-anglais</td>\n",
              "      <td>Lexique médical français-anglais</td>\n",
              "      <td>Files_Files_/corpus/t_expo_Images/med-vac-eng-...</td>\n",
              "      <td>data:image/svg+xml;utf8,&lt;svg xmlns=\"http://www...</td>\n",
              "      <td></td>\n",
              "      <td>https://docs.google.com/spreadsheets/d/1L8YB1a...</td>\n",
              "      <td>med_vac_synthese</td>\n",
              "    </tr>\n",
              "    <tr>\n",
              "      <th>17</th>\n",
              "      <td>rus-med-vac-003</td>\n",
              "      <td>rus</td>\n",
              "      <td>Russe</td>\n",
              "      <td>1</td>\n",
              "      <td>1</td>\n",
              "      <td>med</td>\n",
              "      <td>Médical</td>\n",
              "      <td>TRUE</td>\n",
              "      <td>Russe Médical Vaccination</td>\n",
              "      <td>Lexique médical français-russe</td>\n",
              "      <td>Lexique médical français-russe</td>\n",
              "      <td>Files_Files_/corpus/t_expo_Images/med-fra-rus.png</td>\n",
              "      <td>data:image/svg+xml;utf8,&lt;svg xmlns=\"http://www...</td>\n",
              "      <td></td>\n",
              "      <td>https://docs.google.com/spreadsheets/d/1L8YB1a...</td>\n",
              "      <td>med_vac_synthese</td>\n",
              "    </tr>\n",
              "    <tr>\n",
              "      <th>18</th>\n",
              "      <td>tur-med-vac-004</td>\n",
              "      <td>tur</td>\n",
              "      <td>Turc</td>\n",
              "      <td>1</td>\n",
              "      <td>1</td>\n",
              "      <td>med</td>\n",
              "      <td>Médical</td>\n",
              "      <td>TRUE</td>\n",
              "      <td>Turc Médical Vaccination</td>\n",
              "      <td>Lexique médical français-turc</td>\n",
              "      <td>Lexique médical français-turc</td>\n",
              "      <td>Files_Files_/corpus/t_expo_Images/med-vac-tur-...</td>\n",
              "      <td>data:image/svg+xml;utf8,&lt;svg xmlns=\"http://www...</td>\n",
              "      <td></td>\n",
              "      <td>https://docs.google.com/spreadsheets/d/1L8YB1a...</td>\n",
              "      <td>med_vac_synthese</td>\n",
              "    </tr>\n",
              "    <tr>\n",
              "      <th>19</th>\n",
              "      <td>ams-med-vac-005</td>\n",
              "      <td>ams</td>\n",
              "      <td>Arabe</td>\n",
              "      <td>1</td>\n",
              "      <td>1</td>\n",
              "      <td>med</td>\n",
              "      <td>Médical</td>\n",
              "      <td>TRUE</td>\n",
              "      <td>Arabe Médical Vaccination</td>\n",
              "      <td>Lexique médical français-arabe</td>\n",
              "      <td>Lexique médical français-arabe</td>\n",
              "      <td>Files_Files_/corpus/t_expo_Images/med-vac-ams-...</td>\n",
              "      <td>data:image/svg+xml;utf8,&lt;svg xmlns=\"http://www...</td>\n",
              "      <td></td>\n",
              "      <td>https://docs.google.com/spreadsheets/d/1L8YB1a...</td>\n",
              "      <td>med_vac_synthese</td>\n",
              "    </tr>\n",
              "    <tr>\n",
              "      <th>20</th>\n",
              "      <td>tig-med-vac-006</td>\n",
              "      <td>tig</td>\n",
              "      <td>Tigrinia</td>\n",
              "      <td>1</td>\n",
              "      <td>1</td>\n",
              "      <td>med</td>\n",
              "      <td>Médical</td>\n",
              "      <td>TRUE</td>\n",
              "      <td>Tigrinya Médical Vaccination</td>\n",
              "      <td>Lexique médical français-tigrinya</td>\n",
              "      <td>Lexique médical français-tigrinya</td>\n",
              "      <td>Files_Files_/corpus/t_expo_Images/med-vac-tig-...</td>\n",
              "      <td>data:image/svg+xml;utf8,&lt;svg xmlns=\"http://www...</td>\n",
              "      <td></td>\n",
              "      <td>https://docs.google.com/spreadsheets/d/1L8YB1a...</td>\n",
              "      <td>med_vac_synthese</td>\n",
              "    </tr>\n",
              "  </tbody>\n",
              "</table>\n",
              "</div>"
            ],
            "text/plain": [
              "             key_id  ...      corpus_sheet\n",
              "16  eng-med-vac-002  ...  med_vac_synthese\n",
              "17  rus-med-vac-003  ...  med_vac_synthese\n",
              "18  tur-med-vac-004  ...  med_vac_synthese\n",
              "19  ams-med-vac-005  ...  med_vac_synthese\n",
              "20  tig-med-vac-006  ...  med_vac_synthese\n",
              "\n",
              "[5 rows x 16 columns]"
            ]
          },
          "metadata": {},
          "execution_count": 251
        }
      ]
    },
    {
      "cell_type": "markdown",
      "metadata": {
        "id": "hI4tKvTDxie0"
      },
      "source": [
        "## nouveau corpus central"
      ]
    },
    {
      "cell_type": "code",
      "metadata": {
        "id": "3EbqPjSFw1cz"
      },
      "source": [
        "wb_lex = gc.open_by_url(cc_id)\n",
        "t_lex = wb_lex.worksheet('corpus_lex')\n",
        "data_t_lex = t_lex.get_all_values()\n",
        "df_t_lex = pd.DataFrame(data_t_lex[1:], columns=data_t_lex[0])"
      ],
      "execution_count": 252,
      "outputs": []
    },
    {
      "cell_type": "markdown",
      "metadata": {
        "id": "xcOAbi01wu4s"
      },
      "source": [
        "## corpus central base"
      ]
    },
    {
      "cell_type": "code",
      "metadata": {
        "id": "oCvLAZa8iXGL"
      },
      "source": [
        "vac_url = \"https://docs.google.com/spreadsheets/d/1L8YB1aXHUJwUE9AE6xyn_xMHalinGR335Q7lntwbu1U\""
      ],
      "execution_count": 253,
      "outputs": []
    },
    {
      "cell_type": "code",
      "metadata": {
        "colab": {
          "base_uri": "https://localhost:8080/"
        },
        "id": "ovEWHqieBWJ9",
        "outputId": "f58792a7-d228-4465-f5a3-e77287502bfb"
      },
      "source": [
        "vk_lex = []\n",
        "wb_vac = gc.open_by_url(vac_url)\n",
        "for index, row in df_test.iterrows():\n",
        "  corpus_url = row['corpus_sheet']\n",
        "  corpus_lang = row['language']\n",
        "  print(corpus_url)\n",
        "  t_vac = wb_vac.worksheet(corpus_url)\n",
        "  data_t_vac = t_vac.get_all_values()\n",
        "  df_t_vac = pd.DataFrame(data_t_vac[1:],  columns=data_t_vac[0])  \n",
        "  df_t_vac = df_t_vac[['uid','expression','index',corpus_lang]]\n",
        "  df_t_vac.rename ({corpus_lang: 'expression_b', 'expression': 'expression_a'}, axis=1, inplace=True)\n",
        "  df_t_vac.insert(0, 'corpus_id', row['key_id'])\n",
        "  df_t_vac.insert(0, 'key_id', '')  \n",
        "  df_t_vac['key_id']=df_t_vac[['corpus_id','uid']].apply(lambda x:x[0]+\"--\"+x[1], axis=1)\n",
        "  vk_lex.append(df_t_vac)\n",
        "\n",
        "df_lex = pd.concat(vk_lex)"
      ],
      "execution_count": 254,
      "outputs": [
        {
          "output_type": "stream",
          "name": "stdout",
          "text": [
            "med_vac_synthese\n",
            "med_vac_synthese\n",
            "med_vac_synthese\n",
            "med_vac_synthese\n",
            "med_vac_synthese\n"
          ]
        }
      ]
    },
    {
      "cell_type": "code",
      "metadata": {
        "colab": {
          "base_uri": "https://localhost:8080/",
          "height": 424
        },
        "id": "O1QsDwC7Cjt7",
        "outputId": "7b39cbc6-db2c-40de-d936-3768fe37a2a4"
      },
      "source": [
        "df_lex"
      ],
      "execution_count": 255,
      "outputs": [
        {
          "output_type": "execute_result",
          "data": {
            "text/html": [
              "<div>\n",
              "<style scoped>\n",
              "    .dataframe tbody tr th:only-of-type {\n",
              "        vertical-align: middle;\n",
              "    }\n",
              "\n",
              "    .dataframe tbody tr th {\n",
              "        vertical-align: top;\n",
              "    }\n",
              "\n",
              "    .dataframe thead th {\n",
              "        text-align: right;\n",
              "    }\n",
              "</style>\n",
              "<table border=\"1\" class=\"dataframe\">\n",
              "  <thead>\n",
              "    <tr style=\"text-align: right;\">\n",
              "      <th></th>\n",
              "      <th>key_id</th>\n",
              "      <th>corpus_id</th>\n",
              "      <th>uid</th>\n",
              "      <th>expression_a</th>\n",
              "      <th>index</th>\n",
              "      <th>expression_b</th>\n",
              "    </tr>\n",
              "  </thead>\n",
              "  <tbody>\n",
              "    <tr>\n",
              "      <th>0</th>\n",
              "      <td>eng-med-vac-002--f397cda1</td>\n",
              "      <td>eng-med-vac-002</td>\n",
              "      <td>f397cda1</td>\n",
              "      <td>A jeun</td>\n",
              "      <td>A</td>\n",
              "      <td>With an empty stomach</td>\n",
              "    </tr>\n",
              "    <tr>\n",
              "      <th>1</th>\n",
              "      <td>eng-med-vac-002--95c4a863</td>\n",
              "      <td>eng-med-vac-002</td>\n",
              "      <td>95c4a863</td>\n",
              "      <td>Accès fébrile concomitant chez un autre membre...</td>\n",
              "      <td>A</td>\n",
              "      <td>Concomitant febrile attack in an other family ...</td>\n",
              "    </tr>\n",
              "    <tr>\n",
              "      <th>2</th>\n",
              "      <td>eng-med-vac-002--30579682</td>\n",
              "      <td>eng-med-vac-002</td>\n",
              "      <td>30579682</td>\n",
              "      <td>Accident</td>\n",
              "      <td>A</td>\n",
              "      <td>Accident</td>\n",
              "    </tr>\n",
              "    <tr>\n",
              "      <th>3</th>\n",
              "      <td>eng-med-vac-002--6f214e4c</td>\n",
              "      <td>eng-med-vac-002</td>\n",
              "      <td>6f214e4c</td>\n",
              "      <td>Accident cérébral</td>\n",
              "      <td>A</td>\n",
              "      <td>Brain accident</td>\n",
              "    </tr>\n",
              "    <tr>\n",
              "      <th>4</th>\n",
              "      <td>eng-med-vac-002--8b195cf4</td>\n",
              "      <td>eng-med-vac-002</td>\n",
              "      <td>8b195cf4</td>\n",
              "      <td>Allergie</td>\n",
              "      <td>A</td>\n",
              "      <td>Allergy</td>\n",
              "    </tr>\n",
              "    <tr>\n",
              "      <th>...</th>\n",
              "      <td>...</td>\n",
              "      <td>...</td>\n",
              "      <td>...</td>\n",
              "      <td>...</td>\n",
              "      <td>...</td>\n",
              "      <td>...</td>\n",
              "    </tr>\n",
              "    <tr>\n",
              "      <th>167</th>\n",
              "      <td>tig-med-vac-006--fee1214e</td>\n",
              "      <td>tig-med-vac-006</td>\n",
              "      <td>fee1214e</td>\n",
              "      <td>Vitamines</td>\n",
              "      <td>V</td>\n",
              "      <td>ቢታሚን</td>\n",
              "    </tr>\n",
              "    <tr>\n",
              "      <th>168</th>\n",
              "      <td>tig-med-vac-006--39cba202</td>\n",
              "      <td>tig-med-vac-006</td>\n",
              "      <td>39cba202</td>\n",
              "      <td>Vomissements</td>\n",
              "      <td>V</td>\n",
              "      <td>ተምላስ</td>\n",
              "    </tr>\n",
              "    <tr>\n",
              "      <th>169</th>\n",
              "      <td>tig-med-vac-006--80aac977</td>\n",
              "      <td>tig-med-vac-006</td>\n",
              "      <td>80aac977</td>\n",
              "      <td>Vos vaccinations sont-elles à jour ?</td>\n",
              "      <td>V</td>\n",
              "      <td>ክታበት'ኪ ሰሪሕልኪ'ዶ ?</td>\n",
              "    </tr>\n",
              "    <tr>\n",
              "      <th>170</th>\n",
              "      <td>tig-med-vac-006--36e66161</td>\n",
              "      <td>tig-med-vac-006</td>\n",
              "      <td>36e66161</td>\n",
              "      <td>Y a-t-il des cas contagieux à l'école ?</td>\n",
              "      <td>Y</td>\n",
              "      <td>አብ ትምህርቲ ዲዩ ለጊብካ ?</td>\n",
              "    </tr>\n",
              "    <tr>\n",
              "      <th>171</th>\n",
              "      <td>tig-med-vac-006--d3dba8e4</td>\n",
              "      <td>tig-med-vac-006</td>\n",
              "      <td>d3dba8e4</td>\n",
              "      <td>Zona</td>\n",
              "      <td>Z</td>\n",
              "      <td>ዞና ዝብሃል ሕማም ኣብ ቖርበት ማለት ብደገ ዝቖስል ብርቱዕ ቓንዛ ዘለዎ ...</td>\n",
              "    </tr>\n",
              "  </tbody>\n",
              "</table>\n",
              "<p>860 rows × 6 columns</p>\n",
              "</div>"
            ],
            "text/plain": [
              "                        key_id  ...                                       expression_b\n",
              "0    eng-med-vac-002--f397cda1  ...                              With an empty stomach\n",
              "1    eng-med-vac-002--95c4a863  ...  Concomitant febrile attack in an other family ...\n",
              "2    eng-med-vac-002--30579682  ...                                           Accident\n",
              "3    eng-med-vac-002--6f214e4c  ...                                     Brain accident\n",
              "4    eng-med-vac-002--8b195cf4  ...                                            Allergy\n",
              "..                         ...  ...                                                ...\n",
              "167  tig-med-vac-006--fee1214e  ...                                               ቢታሚን\n",
              "168  tig-med-vac-006--39cba202  ...                                               ተምላስ\n",
              "169  tig-med-vac-006--80aac977  ...                                   ክታበት'ኪ ሰሪሕልኪ'ዶ ?\n",
              "170  tig-med-vac-006--36e66161  ...                                 አብ ትምህርቲ ዲዩ ለጊብካ ?\n",
              "171  tig-med-vac-006--d3dba8e4  ...  ዞና ዝብሃል ሕማም ኣብ ቖርበት ማለት ብደገ ዝቖስል ብርቱዕ ቓንዛ ዘለዎ ...\n",
              "\n",
              "[860 rows x 6 columns]"
            ]
          },
          "metadata": {},
          "execution_count": 255
        }
      ]
    },
    {
      "cell_type": "code",
      "metadata": {
        "colab": {
          "base_uri": "https://localhost:8080/",
          "height": 81
        },
        "id": "Ik5eibtqxrbx",
        "outputId": "ba232a1a-c2ff-4786-a5f2-ed790bf75761"
      },
      "source": [
        "df_t_lex"
      ],
      "execution_count": 175,
      "outputs": [
        {
          "output_type": "execute_result",
          "data": {
            "text/html": [
              "<div>\n",
              "<style scoped>\n",
              "    .dataframe tbody tr th:only-of-type {\n",
              "        vertical-align: middle;\n",
              "    }\n",
              "\n",
              "    .dataframe tbody tr th {\n",
              "        vertical-align: top;\n",
              "    }\n",
              "\n",
              "    .dataframe thead th {\n",
              "        text-align: right;\n",
              "    }\n",
              "</style>\n",
              "<table border=\"1\" class=\"dataframe\">\n",
              "  <thead>\n",
              "    <tr style=\"text-align: right;\">\n",
              "      <th></th>\n",
              "      <th>key_id</th>\n",
              "      <th>corpus_id</th>\n",
              "      <th>lex_id</th>\n",
              "      <th>expression_a</th>\n",
              "      <th>index</th>\n",
              "      <th>expression_b</th>\n",
              "    </tr>\n",
              "  </thead>\n",
              "  <tbody>\n",
              "    <tr>\n",
              "      <th>0</th>\n",
              "      <td>eng-med-vac-002--f397cda1</td>\n",
              "      <td>eng-med-vac-002</td>\n",
              "      <td>f397cda1</td>\n",
              "      <td>A jeun</td>\n",
              "      <td>A</td>\n",
              "      <td>With an empty stomach</td>\n",
              "    </tr>\n",
              "  </tbody>\n",
              "</table>\n",
              "</div>"
            ],
            "text/plain": [
              "                      key_id        corpus_id  ... index           expression_b\n",
              "0  eng-med-vac-002--f397cda1  eng-med-vac-002  ...     A  With an empty stomach\n",
              "\n",
              "[1 rows x 6 columns]"
            ]
          },
          "metadata": {},
          "execution_count": 175
        }
      ]
    },
    {
      "cell_type": "markdown",
      "metadata": {
        "id": "W2qnlDptAMui"
      },
      "source": [
        "While it's clear that you don't care about writes making it back to the original frame (since you are overwriting the reference to it), unfortunately this pattern cannot be differentiated from the first chained assignment example. Hence the (false positive) warning. The potential for false positives is addressed in the docs on indexing, if you'd like to read further. You can safely disable this new warning with the following assignment.\n",
        "\n",
        "[How to deal with SettingWithCopyWarning in Pandas](https://stackoverflow.com/questions/20625582/how-to-deal-with-settingwithcopywarning-in-pandas)\n",
        "\n",
        "\n",
        "```\n",
        "import pandas as pd\n",
        "pd.options.mode.chained_assignment = None  # default='warn'\n",
        "```\n",
        "\n"
      ]
    },
    {
      "cell_type": "code",
      "metadata": {
        "id": "nGhmRL2__D_q"
      },
      "source": [
        "pd.options.mode.chained_assignment = None "
      ],
      "execution_count": 191,
      "outputs": []
    },
    {
      "cell_type": "code",
      "metadata": {
        "colab": {
          "base_uri": "https://localhost:8080/",
          "height": 860
        },
        "id": "ajyQ7kOjd-v9",
        "outputId": "4c04de71-97da-4bff-c9b1-f94becc6757d"
      },
      "source": [
        "df_t_vac"
      ],
      "execution_count": 160,
      "outputs": [
        {
          "output_type": "execute_result",
          "data": {
            "text/html": [
              "<div>\n",
              "<style scoped>\n",
              "    .dataframe tbody tr th:only-of-type {\n",
              "        vertical-align: middle;\n",
              "    }\n",
              "\n",
              "    .dataframe tbody tr th {\n",
              "        vertical-align: top;\n",
              "    }\n",
              "\n",
              "    .dataframe thead th {\n",
              "        text-align: right;\n",
              "    }\n",
              "</style>\n",
              "<table border=\"1\" class=\"dataframe\">\n",
              "  <thead>\n",
              "    <tr style=\"text-align: right;\">\n",
              "      <th></th>\n",
              "      <th>uid</th>\n",
              "      <th>expression</th>\n",
              "      <th>glossaire</th>\n",
              "      <th>état</th>\n",
              "      <th>date</th>\n",
              "      <th>commentaires</th>\n",
              "      <th>index</th>\n",
              "      <th>ams</th>\n",
              "      <th>eng</th>\n",
              "      <th>tur</th>\n",
              "      <th>rus</th>\n",
              "      <th>ukr</th>\n",
              "      <th>rou</th>\n",
              "      <th>hun</th>\n",
              "      <th>tig</th>\n",
              "      <th>alb</th>\n",
              "      <th>geo</th>\n",
              "      <th>arm</th>\n",
              "      <th>dar</th>\n",
              "      <th>pst</th>\n",
              "      <th>prs</th>\n",
              "      <th>aze</th>\n",
              "      <th>esp</th>\n",
              "      <th>amh</th>\n",
              "      <th>all</th>\n",
              "    </tr>\n",
              "  </thead>\n",
              "  <tbody>\n",
              "    <tr>\n",
              "      <th>0</th>\n",
              "      <td>f397cda1</td>\n",
              "      <td>A jeun</td>\n",
              "      <td>TRUE</td>\n",
              "      <td>validé</td>\n",
              "      <td>07/06/2021</td>\n",
              "      <td></td>\n",
              "      <td>A</td>\n",
              "      <td>صائم</td>\n",
              "      <td>With an empty stomach</td>\n",
              "      <td>Aç karnına</td>\n",
              "      <td>Натощак</td>\n",
              "      <td>Натщесерце</td>\n",
              "      <td>Pe stomacul gol</td>\n",
              "      <td>Éhgyomorra</td>\n",
              "      <td>አብ ጥራሕ ከብድኻ(ኺ)</td>\n",
              "      <td>Me stomak te zbrazet</td>\n",
              "      <td>უზმოზე</td>\n",
              "      <td>Սոված փորին</td>\n",
              "      <td>گرسنه</td>\n",
              "      <td></td>\n",
              "      <td></td>\n",
              "      <td></td>\n",
              "      <td>En ayunas</td>\n",
              "      <td></td>\n",
              "      <td></td>\n",
              "    </tr>\n",
              "    <tr>\n",
              "      <th>1</th>\n",
              "      <td>95c4a863</td>\n",
              "      <td>Accès fébrile concomitant chez un autre membre...</td>\n",
              "      <td>FALSE</td>\n",
              "      <td>supprimé</td>\n",
              "      <td>07/06/2021</td>\n",
              "      <td></td>\n",
              "      <td>A</td>\n",
              "      <td>نوبة حمى مزامنة عند فرد اخر من الأسرة</td>\n",
              "      <td>Concomitant febrile attack in an other family ...</td>\n",
              "      <td></td>\n",
              "      <td>Сопровождающий жар у другого члена семьи ?</td>\n",
              "      <td>Супроводжуючий жар у іншого члена сім'ї ?</td>\n",
              "      <td>Mai are cineva temperatură în familie ?</td>\n",
              "      <td>Lázas valaki a családban ?</td>\n",
              "      <td>ኣብ ፋሚሊ ሓደ ዓይነት ጸገም ዶ ኣሎኩም</td>\n",
              "      <td>Sulm shoqërues i etheve në një pjesëtar tjetër...</td>\n",
              "      <td>ოჯახის წევრები თუ არიან ამით დაავადებული</td>\n",
              "      <td>Ուղեկցող ջերմություն տան անդամներից մեկի մոտ</td>\n",
              "      <td>حمله تب دار در یکی دیگر از اعضای خانواده؟</td>\n",
              "      <td></td>\n",
              "      <td></td>\n",
              "      <td></td>\n",
              "      <td>Acceso febril concomitante en otro miembro de ...</td>\n",
              "      <td></td>\n",
              "      <td></td>\n",
              "    </tr>\n",
              "    <tr>\n",
              "      <th>2</th>\n",
              "      <td>30579682</td>\n",
              "      <td>Accident</td>\n",
              "      <td>TRUE</td>\n",
              "      <td>validé</td>\n",
              "      <td>07/06/2021</td>\n",
              "      <td></td>\n",
              "      <td>A</td>\n",
              "      <td>حادث</td>\n",
              "      <td>Accident</td>\n",
              "      <td>Kaza</td>\n",
              "      <td>Несчастный случай</td>\n",
              "      <td>Нещасний випадок</td>\n",
              "      <td>Accident</td>\n",
              "      <td>Baleset</td>\n",
              "      <td>ሐደጋ</td>\n",
              "      <td>Aksident</td>\n",
              "      <td>უბედური შემთხვევა</td>\n",
              "      <td>Վթար</td>\n",
              "      <td>تصادف</td>\n",
              "      <td></td>\n",
              "      <td></td>\n",
              "      <td></td>\n",
              "      <td>Accidente</td>\n",
              "      <td></td>\n",
              "      <td></td>\n",
              "    </tr>\n",
              "    <tr>\n",
              "      <th>3</th>\n",
              "      <td>6f214e4c</td>\n",
              "      <td>Accident cérébral</td>\n",
              "      <td>TRUE</td>\n",
              "      <td>validé</td>\n",
              "      <td>07/06/2021</td>\n",
              "      <td></td>\n",
              "      <td>A</td>\n",
              "      <td>سكتتة دماغية</td>\n",
              "      <td>Brain accident</td>\n",
              "      <td>Beyin problemi</td>\n",
              "      <td>Мозговая травма</td>\n",
              "      <td>Мозкова травма</td>\n",
              "      <td>Accident vascular cerebral</td>\n",
              "      <td>Agyvérzés</td>\n",
              "      <td>ናይ ሐንጎል ሐደጋ</td>\n",
              "      <td>Aksident i trurit</td>\n",
              "      <td>ტვინში სისხლის ჩაქცევა</td>\n",
              "      <td>Կաթված</td>\n",
              "      <td>تصادف مغزی</td>\n",
              "      <td></td>\n",
              "      <td></td>\n",
              "      <td></td>\n",
              "      <td>Accidente cerebral</td>\n",
              "      <td></td>\n",
              "      <td></td>\n",
              "    </tr>\n",
              "    <tr>\n",
              "      <th>4</th>\n",
              "      <td>8b195cf4</td>\n",
              "      <td>Allergie</td>\n",
              "      <td>TRUE</td>\n",
              "      <td>validé</td>\n",
              "      <td>07/06/2021</td>\n",
              "      <td></td>\n",
              "      <td>A</td>\n",
              "      <td>حساسية</td>\n",
              "      <td>Allergy</td>\n",
              "      <td>Alerji</td>\n",
              "      <td>Аллергия</td>\n",
              "      <td>Алергія</td>\n",
              "      <td>Alergie</td>\n",
              "      <td>Allergia</td>\n",
              "      <td>ሓሳስያ</td>\n",
              "      <td>Alergji</td>\n",
              "      <td>ალერგია</td>\n",
              "      <td>Ալերգիա</td>\n",
              "      <td>حساسیت</td>\n",
              "      <td></td>\n",
              "      <td></td>\n",
              "      <td></td>\n",
              "      <td>Alergia</td>\n",
              "      <td></td>\n",
              "      <td></td>\n",
              "    </tr>\n",
              "    <tr>\n",
              "      <th>...</th>\n",
              "      <td>...</td>\n",
              "      <td>...</td>\n",
              "      <td>...</td>\n",
              "      <td>...</td>\n",
              "      <td>...</td>\n",
              "      <td>...</td>\n",
              "      <td>...</td>\n",
              "      <td>...</td>\n",
              "      <td>...</td>\n",
              "      <td>...</td>\n",
              "      <td>...</td>\n",
              "      <td>...</td>\n",
              "      <td>...</td>\n",
              "      <td>...</td>\n",
              "      <td>...</td>\n",
              "      <td>...</td>\n",
              "      <td>...</td>\n",
              "      <td>...</td>\n",
              "      <td>...</td>\n",
              "      <td>...</td>\n",
              "      <td>...</td>\n",
              "      <td>...</td>\n",
              "      <td>...</td>\n",
              "      <td>...</td>\n",
              "      <td>...</td>\n",
              "    </tr>\n",
              "    <tr>\n",
              "      <th>167</th>\n",
              "      <td>fee1214e</td>\n",
              "      <td>Vitamines</td>\n",
              "      <td>TRUE</td>\n",
              "      <td>validé</td>\n",
              "      <td>07/06/2021</td>\n",
              "      <td></td>\n",
              "      <td>V</td>\n",
              "      <td>فيتامينات</td>\n",
              "      <td>Vitamins</td>\n",
              "      <td>Vitamin</td>\n",
              "      <td>Витамины</td>\n",
              "      <td>Вітаміни</td>\n",
              "      <td>Vitamine</td>\n",
              "      <td>Vitaminok</td>\n",
              "      <td>ቢታሚን</td>\n",
              "      <td>Vitamina</td>\n",
              "      <td>ვიტამინები</td>\n",
              "      <td>վիտամիններ</td>\n",
              "      <td>ویتامین ها</td>\n",
              "      <td></td>\n",
              "      <td></td>\n",
              "      <td></td>\n",
              "      <td>Vitaminas</td>\n",
              "      <td></td>\n",
              "      <td></td>\n",
              "    </tr>\n",
              "    <tr>\n",
              "      <th>168</th>\n",
              "      <td>39cba202</td>\n",
              "      <td>Vomissements</td>\n",
              "      <td>FALSE</td>\n",
              "      <td>validé</td>\n",
              "      <td>07/06/2021</td>\n",
              "      <td></td>\n",
              "      <td>V</td>\n",
              "      <td>التقيؤ</td>\n",
              "      <td>Vomiting</td>\n",
              "      <td>Kusma</td>\n",
              "      <td>Рвота</td>\n",
              "      <td>Блювота</td>\n",
              "      <td>Vomă/Vărsături</td>\n",
              "      <td>Hányás</td>\n",
              "      <td>ተምላስ</td>\n",
              "      <td>Të vjella</td>\n",
              "      <td>ღებინება</td>\n",
              "      <td>փսխում</td>\n",
              "      <td>استفراغ</td>\n",
              "      <td></td>\n",
              "      <td></td>\n",
              "      <td></td>\n",
              "      <td>Vómito</td>\n",
              "      <td></td>\n",
              "      <td></td>\n",
              "    </tr>\n",
              "    <tr>\n",
              "      <th>169</th>\n",
              "      <td>80aac977</td>\n",
              "      <td>Vos vaccinations sont-elles à jour ?</td>\n",
              "      <td>FALSE</td>\n",
              "      <td>validé</td>\n",
              "      <td>07/06/2021</td>\n",
              "      <td></td>\n",
              "      <td>V</td>\n",
              "      <td>هل تطعيماتك مستكملة؟</td>\n",
              "      <td>Are your vaccinations up to date ?</td>\n",
              "      <td>Aşılarınız Güncelmidir ?</td>\n",
              "      <td>Сделаны ли все ваши прививки ?</td>\n",
              "      <td>Чи зроблено всi ваші щеплення ?</td>\n",
              "      <td>Sunteți la zi cu vaccinurile ?</td>\n",
              "      <td>Aktualizálták / Frissitették a védőoltásokat ?</td>\n",
              "      <td>ክታበት'ኪ ሰሪሕልኪ'ዶ ?</td>\n",
              "      <td>A janë vaksinat tuaja të rregullta deri tani ?</td>\n",
              "      <td>თუ გაქვთ ყველა აცრა გაკეთებული ?</td>\n",
              "      <td>Ձեր պատվաստումները ժամկետի մե՞ջ են</td>\n",
              "      <td>آیا واکسیناسیون شما به روز است</td>\n",
              "      <td></td>\n",
              "      <td></td>\n",
              "      <td></td>\n",
              "      <td>¿Fueron actualizadas sus vacunas ?</td>\n",
              "      <td></td>\n",
              "      <td></td>\n",
              "    </tr>\n",
              "    <tr>\n",
              "      <th>170</th>\n",
              "      <td>36e66161</td>\n",
              "      <td>Y a-t-il des cas contagieux à l'école ?</td>\n",
              "      <td>FALSE</td>\n",
              "      <td>validé</td>\n",
              "      <td>07/06/2021</td>\n",
              "      <td></td>\n",
              "      <td>Y</td>\n",
              "      <td>هل توجد حالات معدية في المدرسة؟</td>\n",
              "      <td>Are there contagious cases at school ?</td>\n",
              "      <td>Okulda blaşıcı durum varmı ?</td>\n",
              "      <td>Бывают ли в школе заразные случаи ?</td>\n",
              "      <td>Чи бувають у школі заразні випадки ?</td>\n",
              "      <td>La sșcoală sunt cazuri de infecție contagioasă ?</td>\n",
              "      <td>Ragályos betegek vannak az iskolában ?</td>\n",
              "      <td>አብ ትምህርቲ ዲዩ ለጊብካ ?</td>\n",
              "      <td>A ka raste ngjitëse në shkollë ?</td>\n",
              "      <td>თუ არის ავადმყოფობის შემთხვევა სკოლაში ?</td>\n",
              "      <td>Վարակիչ դեպքեր կա՞ն դպրոցում</td>\n",
              "      <td>آیا موارد مسری در مدرسه وجود دارد؟</td>\n",
              "      <td></td>\n",
              "      <td></td>\n",
              "      <td></td>\n",
              "      <td>¿Tienen casos contagiosos en la escuela ?</td>\n",
              "      <td></td>\n",
              "      <td></td>\n",
              "    </tr>\n",
              "    <tr>\n",
              "      <th>171</th>\n",
              "      <td>d3dba8e4</td>\n",
              "      <td>Zona</td>\n",
              "      <td>TRUE</td>\n",
              "      <td>validé</td>\n",
              "      <td>07/06/2021</td>\n",
              "      <td></td>\n",
              "      <td>Z</td>\n",
              "      <td>مرض الحزام الناري أو الهريس النطاقي</td>\n",
              "      <td>Shingles</td>\n",
              "      <td>Zona hastalığı</td>\n",
              "      <td>Опоясывающий лишай</td>\n",
              "      <td>Оперізуючий лишай</td>\n",
              "      <td>Zona zoster / Herpes zoster</td>\n",
              "      <td>Övsömör - Herpes Zoster</td>\n",
              "      <td>ዞና ዝብሃል ሕማም ኣብ ቖርበት ማለት ብደገ ዝቖስል ብርቱዕ ቓንዛ ዘለዎ ...</td>\n",
              "      <td>Zona</td>\n",
              "      <td>ჰერპეს-სიმპლექსის ვირუსი</td>\n",
              "      <td>շինգլեր</td>\n",
              "      <td>زونا</td>\n",
              "      <td></td>\n",
              "      <td></td>\n",
              "      <td></td>\n",
              "      <td>Zona</td>\n",
              "      <td></td>\n",
              "      <td></td>\n",
              "    </tr>\n",
              "  </tbody>\n",
              "</table>\n",
              "<p>172 rows × 25 columns</p>\n",
              "</div>"
            ],
            "text/plain": [
              "          uid                                         expression  ... amh all\n",
              "0    f397cda1                                             A jeun  ...        \n",
              "1    95c4a863  Accès fébrile concomitant chez un autre membre...  ...        \n",
              "2    30579682                                           Accident  ...        \n",
              "3    6f214e4c                                  Accident cérébral  ...        \n",
              "4    8b195cf4                                           Allergie  ...        \n",
              "..        ...                                                ...  ...  ..  ..\n",
              "167  fee1214e                                          Vitamines  ...        \n",
              "168  39cba202                                       Vomissements  ...        \n",
              "169  80aac977               Vos vaccinations sont-elles à jour ?  ...        \n",
              "170  36e66161            Y a-t-il des cas contagieux à l'école ?  ...        \n",
              "171  d3dba8e4                                               Zona  ...        \n",
              "\n",
              "[172 rows x 25 columns]"
            ]
          },
          "metadata": {},
          "execution_count": 160
        }
      ]
    },
    {
      "cell_type": "markdown",
      "metadata": {
        "id": "8rLxnHc_CfQb"
      },
      "source": [
        "## Regroupement des Corpus de Central"
      ]
    },
    {
      "cell_type": "code",
      "metadata": {
        "id": "n3r-8u2NjPm8"
      },
      "source": [
        "# Somme des corpus en Central\n",
        "# base Corpus LangDeck\n",
        "sheet_base_corpidx = 'https://docs.google.com/spreadsheets/d/18A3ZKHybHmAxUq1XFZJBf9ip8LmXDBB1yWH9X-P3EgM'\n",
        "wb_dest_corpidx = gc.open_by_url(sheet_base_corpidx)\n",
        "# Corpora Central (somme des corpus en Central\n",
        "cc_id = 'https://docs.google.com/spreadsheets/d/18NM9Zn5Od2PbWWSQYHX38nZ_Op6_5mUhoRX3X2NRds0'\n",
        "wb_cc = gc.open_by_url(cc_id)\n",
        "t_cc = wb_cc.worksheet('t_corpus')\n",
        "data_t_cc = t_cc.get_all_values()\n",
        "df_t_cc = pd.DataFrame(data_t_cc[1:], columns=data_t_cc[0])\n",
        "# allègement : suppression des svg\n",
        "#df_t_cc['pict_1'] = df_t_cc[['origin','translation']].apply(lambda x:set_svg_corpus_ml(x[0]), axis=1)\n",
        "df_t_cc.drop(\"pict_1\", axis=1, inplace=True)\n",
        "df_t_cc.drop(\"pict_2\", axis=1, inplace=True)"
      ],
      "execution_count": 25,
      "outputs": []
    },
    {
      "cell_type": "code",
      "metadata": {
        "colab": {
          "base_uri": "https://localhost:8080/",
          "height": 597
        },
        "id": "QN_2XTXtz1LE",
        "outputId": "8bb94c0d-be9f-4bfe-fdfa-756f8ae6fbb1"
      },
      "source": [
        "df_t_cc"
      ],
      "execution_count": 26,
      "outputs": [
        {
          "output_type": "execute_result",
          "data": {
            "text/html": [
              "<div>\n",
              "<style scoped>\n",
              "    .dataframe tbody tr th:only-of-type {\n",
              "        vertical-align: middle;\n",
              "    }\n",
              "\n",
              "    .dataframe tbody tr th {\n",
              "        vertical-align: top;\n",
              "    }\n",
              "\n",
              "    .dataframe thead th {\n",
              "        text-align: right;\n",
              "    }\n",
              "</style>\n",
              "<table border=\"1\" class=\"dataframe\">\n",
              "  <thead>\n",
              "    <tr style=\"text-align: right;\">\n",
              "      <th></th>\n",
              "      <th>key_id</th>\n",
              "      <th>chapter_id</th>\n",
              "      <th>paragraph_id</th>\n",
              "      <th>chapter</th>\n",
              "      <th>paragraph</th>\n",
              "      <th>sentence_unit</th>\n",
              "      <th>origin</th>\n",
              "      <th>translation</th>\n",
              "      <th>phonetic</th>\n",
              "      <th>audio_1</th>\n",
              "      <th>audio_2</th>\n",
              "      <th>state</th>\n",
              "      <th>language</th>\n",
              "      <th>topic</th>\n",
              "      <th>corpus_name</th>\n",
              "      <th>corpus_id</th>\n",
              "    </tr>\n",
              "  </thead>\n",
              "  <tbody>\n",
              "    <tr>\n",
              "      <th>0</th>\n",
              "      <td>tur-soc-1-001-2</td>\n",
              "      <td></td>\n",
              "      <td></td>\n",
              "      <td></td>\n",
              "      <td></td>\n",
              "      <td>tur-soc-1-001-2</td>\n",
              "      <td>abduction</td>\n",
              "      <td>insan kaçırma</td>\n",
              "      <td></td>\n",
              "      <td></td>\n",
              "      <td></td>\n",
              "      <td>à valider</td>\n",
              "      <td>#N/A</td>\n",
              "      <td>#N/A</td>\n",
              "      <td>#N/A</td>\n",
              "      <td>tur-soc-1-001</td>\n",
              "    </tr>\n",
              "    <tr>\n",
              "      <th>1</th>\n",
              "      <td>tur-soc-1-001-3</td>\n",
              "      <td></td>\n",
              "      <td></td>\n",
              "      <td></td>\n",
              "      <td></td>\n",
              "      <td>tur-soc-1-001-3</td>\n",
              "      <td>abolition of the death penalty</td>\n",
              "      <td>ölüm cezasının kaldırılması</td>\n",
              "      <td></td>\n",
              "      <td></td>\n",
              "      <td></td>\n",
              "      <td>à valider</td>\n",
              "      <td>#N/A</td>\n",
              "      <td>#N/A</td>\n",
              "      <td>#N/A</td>\n",
              "      <td>tur-soc-1-001</td>\n",
              "    </tr>\n",
              "    <tr>\n",
              "      <th>2</th>\n",
              "      <td>tur-soc-1-001-4</td>\n",
              "      <td></td>\n",
              "      <td></td>\n",
              "      <td></td>\n",
              "      <td></td>\n",
              "      <td>tur-soc-1-001-4</td>\n",
              "      <td>absence of a public hearing</td>\n",
              "      <td>duruşmanın alenî yapılmaması</td>\n",
              "      <td></td>\n",
              "      <td></td>\n",
              "      <td></td>\n",
              "      <td>à valider</td>\n",
              "      <td>#N/A</td>\n",
              "      <td>#N/A</td>\n",
              "      <td>#N/A</td>\n",
              "      <td>tur-soc-1-001</td>\n",
              "    </tr>\n",
              "    <tr>\n",
              "      <th>3</th>\n",
              "      <td>tur-soc-1-001-5</td>\n",
              "      <td></td>\n",
              "      <td></td>\n",
              "      <td></td>\n",
              "      <td></td>\n",
              "      <td>tur-soc-1-001-5</td>\n",
              "      <td>absence of intention to pursue petition</td>\n",
              "      <td>davayı takip etme niyetinin yokluğu</td>\n",
              "      <td></td>\n",
              "      <td></td>\n",
              "      <td></td>\n",
              "      <td>à valider</td>\n",
              "      <td>#N/A</td>\n",
              "      <td>#N/A</td>\n",
              "      <td>#N/A</td>\n",
              "      <td>tur-soc-1-001</td>\n",
              "    </tr>\n",
              "    <tr>\n",
              "      <th>4</th>\n",
              "      <td>tur-soc-1-001-6</td>\n",
              "      <td></td>\n",
              "      <td></td>\n",
              "      <td></td>\n",
              "      <td></td>\n",
              "      <td>tur-soc-1-001-6</td>\n",
              "      <td>absence of right to compensation</td>\n",
              "      <td>zararı tazmin hakkının olmaması</td>\n",
              "      <td></td>\n",
              "      <td></td>\n",
              "      <td></td>\n",
              "      <td>validé</td>\n",
              "      <td>#N/A</td>\n",
              "      <td>#N/A</td>\n",
              "      <td>#N/A</td>\n",
              "      <td>tur-soc-1-001</td>\n",
              "    </tr>\n",
              "    <tr>\n",
              "      <th>...</th>\n",
              "      <td>...</td>\n",
              "      <td>...</td>\n",
              "      <td>...</td>\n",
              "      <td>...</td>\n",
              "      <td>...</td>\n",
              "      <td>...</td>\n",
              "      <td>...</td>\n",
              "      <td>...</td>\n",
              "      <td>...</td>\n",
              "      <td>...</td>\n",
              "      <td>...</td>\n",
              "      <td>...</td>\n",
              "      <td>...</td>\n",
              "      <td>...</td>\n",
              "      <td>...</td>\n",
              "      <td>...</td>\n",
              "    </tr>\n",
              "    <tr>\n",
              "      <th>1208</th>\n",
              "      <td>tig-med-vac-006-1209</td>\n",
              "      <td>1</td>\n",
              "      <td>1</td>\n",
              "      <td>Vaccination</td>\n",
              "      <td>V</td>\n",
              "      <td>tig-med-vac-006-1209</td>\n",
              "      <td>Vitamines</td>\n",
              "      <td>ቢታሚን</td>\n",
              "      <td></td>\n",
              "      <td></td>\n",
              "      <td></td>\n",
              "      <td></td>\n",
              "      <td>Tigrinia</td>\n",
              "      <td>Médical</td>\n",
              "      <td>Tigrinya Médical Vaccination</td>\n",
              "      <td>tig-med-vac-006</td>\n",
              "    </tr>\n",
              "    <tr>\n",
              "      <th>1209</th>\n",
              "      <td>tig-med-vac-006-1210</td>\n",
              "      <td>1</td>\n",
              "      <td>1</td>\n",
              "      <td>Vaccination</td>\n",
              "      <td>V</td>\n",
              "      <td>tig-med-vac-006-1210</td>\n",
              "      <td>Vomissements</td>\n",
              "      <td></td>\n",
              "      <td></td>\n",
              "      <td></td>\n",
              "      <td></td>\n",
              "      <td></td>\n",
              "      <td>Tigrinia</td>\n",
              "      <td>Médical</td>\n",
              "      <td>Tigrinya Médical Vaccination</td>\n",
              "      <td>tig-med-vac-006</td>\n",
              "    </tr>\n",
              "    <tr>\n",
              "      <th>1210</th>\n",
              "      <td>tig-med-vac-006-1211</td>\n",
              "      <td>1</td>\n",
              "      <td>1</td>\n",
              "      <td>Vaccination</td>\n",
              "      <td>V</td>\n",
              "      <td>tig-med-vac-006-1211</td>\n",
              "      <td>Vos vaccinations sont-elles à jour ?</td>\n",
              "      <td>ክታበት'ኪ ሰሪሕልኪ'ዶ?</td>\n",
              "      <td></td>\n",
              "      <td></td>\n",
              "      <td></td>\n",
              "      <td></td>\n",
              "      <td>Tigrinia</td>\n",
              "      <td>Médical</td>\n",
              "      <td>Tigrinya Médical Vaccination</td>\n",
              "      <td>tig-med-vac-006</td>\n",
              "    </tr>\n",
              "    <tr>\n",
              "      <th>1211</th>\n",
              "      <td>tig-med-vac-006-1212</td>\n",
              "      <td>1</td>\n",
              "      <td>1</td>\n",
              "      <td>Vaccination</td>\n",
              "      <td>Y</td>\n",
              "      <td>tig-med-vac-006-1212</td>\n",
              "      <td>Y a-t-il des cas contagieux à l'école ?</td>\n",
              "      <td>አብ ትምህርቲ ዲዩ ለጊብካ?</td>\n",
              "      <td></td>\n",
              "      <td></td>\n",
              "      <td></td>\n",
              "      <td></td>\n",
              "      <td>Tigrinia</td>\n",
              "      <td>Médical</td>\n",
              "      <td>Tigrinya Médical Vaccination</td>\n",
              "      <td>tig-med-vac-006</td>\n",
              "    </tr>\n",
              "    <tr>\n",
              "      <th>1212</th>\n",
              "      <td>tig-med-vac-006-1213</td>\n",
              "      <td>1</td>\n",
              "      <td>1</td>\n",
              "      <td>Vaccination</td>\n",
              "      <td>Z</td>\n",
              "      <td>tig-med-vac-006-1213</td>\n",
              "      <td>Zona</td>\n",
              "      <td></td>\n",
              "      <td></td>\n",
              "      <td></td>\n",
              "      <td></td>\n",
              "      <td></td>\n",
              "      <td>Tigrinia</td>\n",
              "      <td>Médical</td>\n",
              "      <td>Tigrinya Médical Vaccination</td>\n",
              "      <td>tig-med-vac-006</td>\n",
              "    </tr>\n",
              "  </tbody>\n",
              "</table>\n",
              "<p>1213 rows × 16 columns</p>\n",
              "</div>"
            ],
            "text/plain": [
              "                    key_id  ...        corpus_id\n",
              "0          tur-soc-1-001-2  ...    tur-soc-1-001\n",
              "1          tur-soc-1-001-3  ...    tur-soc-1-001\n",
              "2          tur-soc-1-001-4  ...    tur-soc-1-001\n",
              "3          tur-soc-1-001-5  ...    tur-soc-1-001\n",
              "4          tur-soc-1-001-6  ...    tur-soc-1-001\n",
              "...                    ...  ...              ...\n",
              "1208  tig-med-vac-006-1209  ...  tig-med-vac-006\n",
              "1209  tig-med-vac-006-1210  ...  tig-med-vac-006\n",
              "1210  tig-med-vac-006-1211  ...  tig-med-vac-006\n",
              "1211  tig-med-vac-006-1212  ...  tig-med-vac-006\n",
              "1212  tig-med-vac-006-1213  ...  tig-med-vac-006\n",
              "\n",
              "[1213 rows x 16 columns]"
            ]
          },
          "metadata": {},
          "execution_count": 26
        }
      ]
    },
    {
      "cell_type": "code",
      "metadata": {
        "id": "UVOm2z_gM5Fj"
      },
      "source": [
        "def f_sentence_unit_origin(subkey,key):\n",
        "  s=\"\"\n",
        "  if subkey==key:\n",
        "    vk=df_t_cc.loc[df_t_cc[\"sentence_unit\"]==subkey]\n",
        "    if len(vk)>1:\n",
        "      i=0\n",
        "      while i < len(vk):\n",
        "        s = s + vk[\"origin\"].iloc[i] + '\\n'\n",
        "        i+=1\n",
        "    else:\n",
        "      s = vk[\"origin\"].iloc[0]\n",
        "  return s\n",
        "\n",
        "def f_sentence_unit_translation(subkey,key):\n",
        "  s=\"\"\n",
        "  if subkey==key:\n",
        "    vk=df_t_cc.loc[df_t_cc[\"sentence_unit\"]==subkey]\n",
        "    if len(vk)>1:\n",
        "      i=0\n",
        "      while i < len(vk):\n",
        "        s = s + vk[\"translation\"].iloc[i] + '\\n'\n",
        "        i+=1\n",
        "    else:\n",
        "      s = vk[\"translation\"].iloc[0]\n",
        "  return s"
      ],
      "execution_count": null,
      "outputs": []
    },
    {
      "cell_type": "code",
      "metadata": {
        "id": "eYrar6TiL5PG"
      },
      "source": [
        "df_t_cc[\"origin\"]=df_t_cc[['sentence_unit','key_id']].apply(lambda x:f_sentence_unit_origin(x[0],x[1]), axis=1)\n",
        "df_t_cc[\"translation\"]=df_t_cc[['sentence_unit','key_id']].apply(lambda x:f_sentence_unit_translation(x[0],x[1]), axis=1)\n"
      ],
      "execution_count": null,
      "outputs": []
    },
    {
      "cell_type": "code",
      "metadata": {
        "id": "0S7RTNq8Qolf"
      },
      "source": [
        "df_t_cc[\"origin\"].replace('', np.nan, inplace=True)\n",
        "df_t_cc.dropna(subset=['origin'], inplace=True)\n"
      ],
      "execution_count": null,
      "outputs": []
    },
    {
      "cell_type": "code",
      "metadata": {
        "id": "t3P-MA08Z2ZK"
      },
      "source": [
        "# export vers langdeck\n",
        "ws = wb_dest_corpidx.worksheet(\"t_corpus_all\")\n",
        "wb_dest_corpidx.del_worksheet(ws)\n",
        "wb_dest_corpidx.add_worksheet(\"t_corpus_all\",1,1)\n",
        "\n",
        "export_sheet = wb_dest_corpidx.worksheet('t_corpus_all')\n",
        "set_with_dataframe(export_sheet, df_t_cc)\n"
      ],
      "execution_count": null,
      "outputs": []
    },
    {
      "cell_type": "markdown",
      "metadata": {
        "id": "fLqTobPmlbme"
      },
      "source": [
        "# FIN"
      ]
    },
    {
      "cell_type": "markdown",
      "metadata": {
        "id": "AknODy7PwKZo"
      },
      "source": [
        "## Test Zone"
      ]
    },
    {
      "cell_type": "code",
      "metadata": {
        "id": "i4GigH82NvYb"
      },
      "source": [
        "## cette fonction calcule le nombre de lignes nécessaires pour afficher le texte dans un espace réduit\n",
        "## elle détermine le template SVG adéquat\n",
        "def set_svg_ctry_lang(x1,x2,x3):\n",
        "  dedented_text1 = textwrap.dedent(x1).strip()\n",
        "  word_list1 = textwrap.fill(dedented_text1, width=30)\n",
        "  split_word_list1 = word_list1.split(\"\\n\")\n",
        "  lg1 = len(split_word_list1)\n",
        "  validate_state = x3\n",
        "\n",
        "  if validate_state == \"TRUE\":\n",
        "    template = \"card_ctry_lang_svg_chk\"\n",
        "  else:\n",
        "    template = \"card_ctry_lang_svg\"\n",
        "\n",
        "  if lg1==1:\n",
        "    xr = df_param_svg.loc[df_param_svg['parameter']==template].value.values[0]\n",
        "    xr = xr.replace('__CTRY__',x2)   \n",
        "    xr = xr.replace('__LANG__',x1)            \n",
        "  else:\n",
        "    xr = df_param_svg.loc[df_param_svg['parameter']==template].value.values[0]\n",
        "    xr = xr.replace('__CTRY__',split_word_list1[0])\n",
        "    xr = xr.replace('__CTRY__',split_word_list1[1]) \n",
        "    xr = xr.replace('__LANG__',x2)            \n",
        "  return (xr)"
      ],
      "execution_count": null,
      "outputs": []
    },
    {
      "cell_type": "code",
      "metadata": {
        "id": "arEohIq-KLA5"
      },
      "source": [
        "## cette fonction calcule le nombre de lignes nécessaires pour afficher le texte dans un espace réduit\n",
        "## elle détermine le template SVG adéquat\n",
        "def set_svg_corpus_ml(x1):\n",
        "  xr = \"void\"\n",
        "  dedented_text1 = textwrap.dedent(x1).strip()\n",
        "  word_list1 = textwrap.fill(dedented_text1, width=25)\n",
        "  split_word_list1 = word_list1.split(\"\\n\")\n",
        "  lg1 = len(split_word_list1)\n",
        "  if lg1==1:\n",
        "    xr = df_param_svg.loc[df_param_svg['parameter']==\"card_corpus_line_svg_1_line\"].value.values[0]\n",
        "    xr = xr.replace('__ORIGIN__',x1)    \n",
        "  elif lg1==2:\n",
        "    xr = df_param_svg.loc[df_param_svg['parameter']==\"card_corpus_line_svg_2_lines\"].value.values[0]\n",
        "    xr = xr.replace('__ORIGIN__',split_word_list1[0])\n",
        "    xr = xr.replace('__ORIGIN2__',split_word_list1[1])   \n",
        "  elif lg1==3:\n",
        "    xr = df_param_svg.loc[df_param_svg['parameter']==\"card_corpus_line_svg_3_lines\"].value.values[0]\n",
        "    xr = xr.replace('__ORIGIN__',split_word_list1[0])\n",
        "    xr = xr.replace('__ORIGIN2__',split_word_list1[1]) \n",
        "    xr = xr.replace('__ORIGIN3__',split_word_list1[2])         \n",
        "  else:\n",
        "    xr = df_param_svg.loc[df_param_svg['parameter']==\"card_corpus_line_svg_4_lines\"].value.values[0]\n",
        "    xr = xr.replace('__ORIGIN__',split_word_list1[0])\n",
        "    xr = xr.replace('__ORIGIN2__',split_word_list1[1])\n",
        "    xr = xr.replace('__ORIGIN3__',split_word_list1[2])   \n",
        "    xr = xr.replace('__ORIGIN4__',split_word_list1[3])            \n",
        "  return (xr)\n"
      ],
      "execution_count": null,
      "outputs": []
    },
    {
      "cell_type": "code",
      "metadata": {
        "id": "C-qr-N-TEPnz"
      },
      "source": [
        "## cette fonction calcule le nombre de lignes nécessaires pour afficher le texte dans un espace réduit\n",
        "## elle détermine le template SVG adéquat\n",
        "def set_svg_corp_idx (x1,x2):\n",
        "  dedented_text1 = textwrap.dedent(x1).strip()\n",
        "  word_list1 = textwrap.fill(dedented_text1, width=30)\n",
        "  split_word_list1 = word_list1.split(\"\\n\")\n",
        "  lg1 = len(split_word_list1)\n",
        "\n",
        "  if lg1==1:\n",
        "    xr = df_param_svg.loc[df_param_svg['parameter']==\"card_ctry_lang_svg\"].value.values[0]\n",
        "    xr = xr.replace('__CTRY__',x2)   \n",
        "    xr = xr.replace('__LANG__',x1)            \n",
        "  else:\n",
        "    xr = df_param_svg.loc[df_param_svg['parameter']==\"card_ctry_lang_svg\"].value.values[0]\n",
        "    xr = xr.replace('__CTRY__',split_word_list1[0])\n",
        "    xr = xr.replace('__CTRY__',split_word_list1[1]) \n",
        "    xr = xr.replace('__LANG__',x2)            \n",
        "  return (xr)"
      ],
      "execution_count": null,
      "outputs": []
    }
  ]
}